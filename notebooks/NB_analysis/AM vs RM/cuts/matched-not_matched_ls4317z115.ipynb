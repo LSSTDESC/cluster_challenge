{
 "cells": [
  {
   "cell_type": "code",
   "execution_count": 1,
   "id": "7c5f2831-cb43-44a0-9e37-cbb5e1153521",
   "metadata": {},
   "outputs": [],
   "source": [
    "import matplotlib.pyplot as plt\n",
    "import numpy as np\n",
    "from astropy.table import Table, hstack, vstack\n",
    "from clevar.catalog import ClCatalog\n",
    "from numpy.ma import masked\n",
    "import sys\n",
    "from clevar.match import output_matched_catalog"
   ]
  },
  {
   "cell_type": "code",
   "execution_count": 2,
   "id": "a6e69ed8-2f02-4e51-be0a-338e4e5bf571",
   "metadata": {},
   "outputs": [],
   "source": [
    "path = '/sps/lsst/groups/clusters/amico_validation_project/catalogs/matching_cats/amico_redmapper/'\n",
    "c1 = ClCatalog.read(path+'c1_p_ls4317z115.fits', 'c1', full = True)\n",
    "c2 = ClCatalog.read(path+'c2_p_ls4317z115.fits', 'c2', full = True)"
   ]
  },
  {
   "cell_type": "code",
   "execution_count": 3,
   "id": "ab0ff7ff-86a8-445f-a7cd-185bb8a8efcf",
   "metadata": {},
   "outputs": [
    {
     "name": "stderr",
     "output_type": "stream",
     "text": [
      "/sps/lsst/users/namourou/conda_clone_210223/descv1.1/clevar/clevar/catalog.py:267: UserWarning: id column missing, additional one is being created.\n",
      "  warnings.warn(\n"
     ]
    }
   ],
   "source": [
    "c_merged_12 = ClCatalog.read(path+'output_catalog_' + 'p' + '_ls4317z115.fits', 'merged',  full=True)"
   ]
  },
  {
   "cell_type": "code",
   "execution_count": 4,
   "id": "2ef96923-ad1e-4bea-a21e-f6d43f149883",
   "metadata": {
    "collapsed": true,
    "jupyter": {
     "outputs_hidden": true
    },
    "tags": []
   },
   "outputs": [
    {
     "data": {
      "text/html": [
       "<b>merged</b><br></b><b>tags:</b> id(id)<br><b>Radius unit:</b> None<br><div><i>ClData length=3429</i>\n",
       "<table id=\"table140422338349424\" class=\"table-striped table-bordered table-condensed\">\n",
       "<thead><tr><th>id</th><th>cat1_id</th><th>cat1_ra</th><th>cat1_dec</th><th>cat1_z</th><th>cat1_mass</th><th>cat1_mt_self</th><th>cat1_mt_other</th><th>cat1_mt_multi_self</th><th>cat1_mt_multi_other</th><th>cat1_mt_cross</th><th>cat2_id</th><th>cat2_ra</th><th>cat2_dec</th><th>cat2_z</th><th>cat2_mass</th><th>cat2_z_true</th><th>cat2_log_mass</th><th>cat2_mt_self</th><th>cat2_mt_other</th><th>cat2_mt_multi_self</th><th>cat2_mt_multi_other</th><th>cat2_mt_cross</th><th>mt_self</th><th>mt_other</th><th>mt_multi_self</th><th>mt_multi_other</th></tr></thead>\n",
       "<thead><tr><th>str4</th><th>bytes11</th><th>float64</th><th>float64</th><th>float32</th><th>float64</th><th>bytes5</th><th>bytes5</th><th>bytes9</th><th>bytes9</th><th>bytes5</th><th>bytes11</th><th>float64</th><th>float64</th><th>float32</th><th>float32</th><th>float32</th><th>float64</th><th>bytes6</th><th>bytes6</th><th>bytes20</th><th>bytes20</th><th>bytes6</th><th>object</th><th>object</th><th>object</th><th>object</th></tr></thead>\n",
       "<tr><td>0</td><td>1</td><td>50.113525</td><td>-40.03647</td><td>0.44</td><td>75.694496</td><td>416</td><td>416</td><td>416</td><td>416</td><td>416</td><td>416</td><td>50.0986812400157</td><td>-40.041193422095496</td><td>0.43517646</td><td>56.905266</td><td>0.4322221</td><td>1.7551524639129639</td><td>1</td><td>1</td><td>1</td><td>1</td><td>1</td><td>None</td><td>None</td><td>[]</td><td>[]</td></tr>\n",
       "<tr><td>1</td><td>2</td><td>50.642569</td><td>-41.402661</td><td>0.2</td><td>62.659902</td><td>449</td><td>449</td><td>449</td><td>449</td><td>449</td><td>449</td><td>50.642098246561304</td><td>-41.40092456771352</td><td>0.19257621</td><td>54.03733</td><td>0.19309519</td><td>1.7326939105987549</td><td>2</td><td>2</td><td>2</td><td>2</td><td>2</td><td>None</td><td>None</td><td>[]</td><td>[]</td></tr>\n",
       "<tr><td>2</td><td>3</td><td>50.421896</td><td>-39.587457</td><td>0.39</td><td>48.460455</td><td>1575</td><td>1575</td><td>1575</td><td>1575</td><td>1575</td><td>1575</td><td>50.42203362588924</td><td>-39.587746579168694</td><td>0.39265478</td><td>33.488884</td><td>0.38855246</td><td>1.5249006748199463</td><td>3</td><td>3</td><td>3</td><td>3</td><td>3</td><td>None</td><td>None</td><td>[]</td><td>[]</td></tr>\n",
       "<tr><td>3</td><td>4</td><td>50.603551</td><td>-39.582656</td><td>1.1</td><td>118.29114</td><td>79</td><td>79</td><td>79</td><td>79</td><td>79</td><td>79</td><td>50.601945314584675</td><td>-39.584667514262556</td><td>1.0827233</td><td>81.099655</td><td>1.0862333</td><td>1.9090189933776855</td><td>4</td><td>4</td><td>4</td><td>4</td><td>4</td><td>None</td><td>None</td><td>[]</td><td>[]</td></tr>\n",
       "<tr><td>4</td><td>5</td><td>50.577077</td><td>-40.162645</td><td>0.59</td><td>72.90131</td><td>471</td><td>471</td><td>471</td><td>471</td><td>471</td><td>471</td><td>50.57622204392435</td><td>-40.161587068873025</td><td>0.585211</td><td>60.45968</td><td>0.5825961</td><td>1.7814658880233765</td><td>5</td><td>5</td><td>5</td><td>5</td><td>5</td><td>None</td><td>None</td><td>[]</td><td>[]</td></tr>\n",
       "<tr><td>5</td><td>6</td><td>51.048368</td><td>-41.281951</td><td>0.79</td><td>79.642977</td><td>781</td><td>781</td><td>781</td><td>781</td><td>781</td><td>781</td><td>51.04846444718309</td><td>-41.26482347006931</td><td>0.7745975</td><td>41.63504</td><td>0.7753187</td><td>1.6194590330123901</td><td>6</td><td>6</td><td>6</td><td>6</td><td>6</td><td>None</td><td>None</td><td>[]</td><td>[]</td></tr>\n",
       "<tr><td>6</td><td>9</td><td>51.576131</td><td>-40.01887</td><td>0.61</td><td>55.388537</td><td>1704</td><td>1704</td><td>1704</td><td>1704</td><td>1704</td><td>1704</td><td>51.57638580775331</td><td>-40.02086515625286</td><td>0.58940583</td><td>34.724533</td><td>0.59494084</td><td>1.540636420249939</td><td>9</td><td>9</td><td>9</td><td>9</td><td>9</td><td>None</td><td>None</td><td>[]</td><td>[]</td></tr>\n",
       "<tr><td>7</td><td>12</td><td>49.882404</td><td>-40.265199</td><td>0.89</td><td>59.43957</td><td>2201</td><td>2201</td><td>2201</td><td>2201</td><td>2201</td><td>2201</td><td>49.88170004866599</td><td>-40.266493288402934</td><td>0.8908192</td><td>28.6378</td><td>0.88413906</td><td>1.456939697265625</td><td>12</td><td>12</td><td>12</td><td>12</td><td>12</td><td>None</td><td>None</td><td>[]</td><td>[]</td></tr>\n",
       "<tr><td>8</td><td>13</td><td>51.069455</td><td>-40.426866</td><td>1.09</td><td>74.24193</td><td>711</td><td>711</td><td>711</td><td>711</td><td>711</td><td>711</td><td>51.06929307120477</td><td>-40.426299269554804</td><td>1.0812957</td><td>39.621384</td><td>1.0850095</td><td>1.59792959690094</td><td>13</td><td>13</td><td>13</td><td>13</td><td>13</td><td>None</td><td>None</td><td>[]</td><td>[]</td></tr>\n",
       "<tr><td>9</td><td>16</td><td>49.910711</td><td>-40.070373</td><td>0.89</td><td>92.702849</td><td>4177</td><td>4177</td><td>4177</td><td>4177</td><td>4177</td><td>4177</td><td>49.91717865985591</td><td>-40.067020843382885</td><td>0.89819145</td><td>21.300158</td><td>0.8834939</td><td>1.3283828496932983</td><td>16</td><td>16</td><td>16</td><td>16</td><td>16</td><td>None</td><td>None</td><td>[]</td><td>[]</td></tr>\n",
       "<tr><td>...</td><td>...</td><td>...</td><td>...</td><td>...</td><td>...</td><td>...</td><td>...</td><td>...</td><td>...</td><td>...</td><td>...</td><td>...</td><td>...</td><td>...</td><td>...</td><td>...</td><td>...</td><td>...</td><td>...</td><td>...</td><td>...</td><td>...</td><td>...</td><td>...</td><td>...</td><td>...</td></tr>\n",
       "<tr><td>3419</td><td>134811</td><td>75.079588</td><td>-39.330131</td><td>0.74</td><td>46.223353</td><td>2211</td><td>2211</td><td>2211</td><td>2211</td><td>2211</td><td>2211</td><td>75.0824507379352</td><td>-39.32857956757527</td><td>0.73747635</td><td>27.386892</td><td>0.72917527</td><td>1.4375427961349487</td><td>134811</td><td>134811</td><td>134811</td><td>134811</td><td>134811</td><td>None</td><td>None</td><td>[]</td><td>[]</td></tr>\n",
       "<tr><td>3420</td><td>134813</td><td>74.777571</td><td>-39.811187</td><td>0.88</td><td>57.130411</td><td>4684</td><td>4684</td><td>4684</td><td>4684</td><td>4684</td><td>4684</td><td>74.77325783207749</td><td>-39.80974636869724</td><td>0.86307335</td><td>24.244368</td><td>0.88008094</td><td>1.384610891342163</td><td>134813</td><td>134813</td><td>134813</td><td>134813</td><td>134813</td><td>None</td><td>None</td><td>[]</td><td>[]</td></tr>\n",
       "<tr><td>3421</td><td>134820</td><td>75.437504</td><td>-39.01787</td><td>0.99</td><td>65.870913</td><td>2275</td><td>2275</td><td>2275</td><td>2275</td><td>2275</td><td>2275</td><td>75.43914996381734</td><td>-39.01652507549297</td><td>0.9856477</td><td>30.285337</td><td>0.9902504</td><td>1.4812324047088623</td><td>134820</td><td>134820</td><td>134820</td><td>134820</td><td>134820</td><td>None</td><td>None</td><td>[]</td><td>[]</td></tr>\n",
       "<tr><td>3422</td><td>134821</td><td>73.667454</td><td>-38.503403</td><td>0.8</td><td>46.005625</td><td>3205</td><td>3205</td><td>3205</td><td>3205</td><td>3205</td><td>3205</td><td>73.66521498936663</td><td>-38.50575481525923</td><td>0.7827977</td><td>18.493242</td><td>0.78839844</td><td>1.2670130729675293</td><td>134821</td><td>134821</td><td>134821</td><td>134821</td><td>134821</td><td>None</td><td>None</td><td>[]</td><td>[]</td></tr>\n",
       "<tr><td>3423</td><td>134823</td><td>74.066144</td><td>-39.11562</td><td>0.94</td><td>47.882173</td><td>6057</td><td>6057</td><td>6057</td><td>6057</td><td>6057</td><td>6057</td><td>74.06204245131018</td><td>-39.111102161283895</td><td>0.92509675</td><td>17.364374</td><td>0.9307898</td><td>1.2396591901779175</td><td>134823</td><td>134823</td><td>134823</td><td>134823</td><td>134823</td><td>None</td><td>None</td><td>[]</td><td>[]</td></tr>\n",
       "<tr><td>3424</td><td>134832</td><td>74.447711</td><td>-37.691455</td><td>0.91</td><td>47.999241</td><td>3258</td><td>3258</td><td>3258</td><td>3258</td><td>3258</td><td>3258</td><td>74.44796430202346</td><td>-37.69206869496481</td><td>0.9111245</td><td>24.335897</td><td>0.91397405</td><td>1.3862473964691162</td><td>134832</td><td>134832</td><td>134832</td><td>134832</td><td>134832</td><td>None</td><td>None</td><td>[]</td><td>[]</td></tr>\n",
       "<tr><td>3425</td><td>134840</td><td>74.706175</td><td>-39.881322</td><td>1.02</td><td>51.903912</td><td>4209</td><td>4209</td><td>4209</td><td>4209</td><td>4209</td><td>4209</td><td>74.71014908235054</td><td>-39.885062251521056</td><td>1.0113223</td><td>18.386457</td><td>1.0204653</td><td>1.2644981145858765</td><td>134840</td><td>134840</td><td>134840</td><td>134840</td><td>134840</td><td>None</td><td>None</td><td>[]</td><td>[]</td></tr>\n",
       "<tr><td>3426</td><td>134860</td><td>74.212269</td><td>-39.606088</td><td>0.85</td><td>51.935451</td><td>2927</td><td>2927</td><td>2927</td><td>2927</td><td>2927</td><td>2927</td><td>74.21228882406832</td><td>-39.60814576741155</td><td>0.84405094</td><td>26.258024</td><td>0.8409395</td><td>1.4192620515823364</td><td>134860</td><td>134860</td><td>134860</td><td>134860</td><td>134860</td><td>None</td><td>None</td><td>[]</td><td>[]</td></tr>\n",
       "<tr><td>3427</td><td>134871</td><td>74.258962</td><td>-37.47119</td><td>1.05</td><td>69.736107</td><td>662</td><td>662</td><td>662</td><td>662</td><td>662</td><td>662</td><td>74.26325644313484</td><td>-37.469511583297596</td><td>1.0368147</td><td>46.348824</td><td>1.0285165</td><td>1.6660387516021729</td><td>134871</td><td>134871</td><td>134871</td><td>134871</td><td>134871</td><td>None</td><td>None</td><td>[]</td><td>[]</td></tr>\n",
       "<tr><td>3428</td><td>135010</td><td>74.011621</td><td>-38.625392</td><td>1.04</td><td>44.459843</td><td>1639</td><td>1639</td><td>1639</td><td>1639</td><td>1639</td><td>1639</td><td>74.01172714811952</td><td>-38.622847583634574</td><td>1.0332834</td><td>29.995493</td><td>1.0184431</td><td>1.4770560264587402</td><td>135010</td><td>135010</td><td>135010</td><td>135010</td><td>135010</td><td>None</td><td>None</td><td>[]</td><td>[]</td></tr>\n",
       "</table></div>"
      ],
      "text/plain": [
       "<clevar.catalog.ClCatalog at 0x7fb714e31090>"
      ]
     },
     "execution_count": 4,
     "metadata": {},
     "output_type": "execute_result"
    }
   ],
   "source": [
    "c_merged_12"
   ]
  },
  {
   "cell_type": "code",
   "execution_count": 5,
   "id": "f1cb298b-a8f9-403b-b47b-61af69a7af75",
   "metadata": {},
   "outputs": [
    {
     "name": "stdout",
     "output_type": "stream",
     "text": [
      "0.1\n",
      "0.2\n",
      "0.3\n",
      "0.4\n",
      "0.5\n",
      "0.6\n",
      "0.7\n",
      "0.8\n",
      "0.9\n",
      "1.0\n",
      "c1 ok\n"
     ]
    }
   ],
   "source": [
    "c1_nm = []\n",
    "c1_nm_mass = []\n",
    "c1_nm_ra = []\n",
    "c1_nm_dec = []\n",
    "c1_nm_z = []\n",
    "per = [.1,.2,.3,.4,.5,.6,.7,.8,.9,1.0]\n",
    "per_l = []\n",
    "for i, id in enumerate(c1['id']):\n",
    "    percent = round(i/len(c1['id']),2)\n",
    "    if percent in per and percent not in per_l:\n",
    "        print(round(i/len(c1['id']),2))\n",
    "        per_l.append(percent)\n",
    "    if id not in c_merged_12['cat2_mt_cross']:\n",
    "        cdt = c1[c1['id']==id]\n",
    "        c1_nm.append(id)\n",
    "        c1_nm_mass.append(cdt['mass'])\n",
    "        c1_nm_ra.append(cdt['ra'])\n",
    "        c1_nm_dec.append(cdt['dec'])\n",
    "        c1_nm_z.append(cdt['z'])\n",
    "print('c1 ok')"
   ]
  },
  {
   "cell_type": "code",
   "execution_count": 6,
   "id": "adceb74d-9fa6-4598-a836-8c1ad5d522fb",
   "metadata": {
    "jupyter": {
     "source_hidden": true
    },
    "tags": []
   },
   "outputs": [],
   "source": [
    "c1_nm_massl = []\n",
    "c1_nm_ral = []\n",
    "c1_nm_decl = []\n",
    "c1_nm_zl = []\n",
    "for i in range(len(c1_nm_z)):\n",
    "    c1_nm_massl.append(c1_nm_mass[i][0])\n",
    "    c1_nm_ral.append(c1_nm_ra[i][0])\n",
    "    c1_nm_decl.append(c1_nm_dec[i][0])\n",
    "    c1_nm_zl.append(c1_nm_z[i][0])"
   ]
  },
  {
   "cell_type": "code",
   "execution_count": 7,
   "id": "4247d1f2-7a4c-4859-9e69-043c0c088550",
   "metadata": {
    "tags": []
   },
   "outputs": [
    {
     "name": "stdout",
     "output_type": "stream",
     "text": [
      "0.1\n",
      "0.2\n",
      "0.3\n",
      "0.4\n",
      "0.5\n",
      "0.6\n",
      "0.7\n",
      "0.8\n",
      "0.9\n",
      "1.0\n",
      "c2 ok\n"
     ]
    }
   ],
   "source": [
    "c2_nm = []\n",
    "c2_nm_mass = []\n",
    "c2_nm_ra = []\n",
    "c2_nm_dec = []\n",
    "c2_nm_z = []\n",
    "per = [.1,.2,.3,.4,.5,.6,.7,.8,.9,1.0]\n",
    "per_l = []\n",
    "for i, id in enumerate(c2['id']):\n",
    "    percent = round(i/len(c2['id']),2)\n",
    "    if percent in per and percent not in per_l:\n",
    "        print(round(i/len(c2['id']),2))\n",
    "        per_l.append(percent)\n",
    "    if id not in c_merged_12['cat1_mt_cross']:\n",
    "        cdt = c2[c2['id']==id]\n",
    "        c2_nm.append(id)\n",
    "        c2_nm_mass.append(cdt['mass'])\n",
    "        c2_nm_ra.append(cdt['ra'])\n",
    "        c2_nm_dec.append(cdt['dec'])\n",
    "        c2_nm_z.append(cdt['z'])\n",
    "print('c2 ok')"
   ]
  },
  {
   "cell_type": "code",
   "execution_count": null,
   "id": "4a9f639f-8342-4def-b9b3-fb8e02b037b4",
   "metadata": {
    "jupyter": {
     "source_hidden": true
    },
    "tags": []
   },
   "outputs": [],
   "source": [
    "c2_nm_massl = []\n",
    "c2_nm_ral = []\n",
    "c2_nm_decl = []\n",
    "c2_nm_zl = []\n",
    "for i in range(len(c2_nm_z)):\n",
    "    c2_nm_massl.append(c2_nm_mass[i][0])\n",
    "    c2_nm_ral.append(c2_nm_ra[i][0])\n",
    "    c2_nm_decl.append(c2_nm_dec[i][0])\n",
    "    c2_nm_zl.append(c2_nm_z[i][0])"
   ]
  },
  {
   "cell_type": "code",
   "execution_count": 9,
   "id": "e6bb9f13-39cf-4519-ac66-26032dde3608",
   "metadata": {},
   "outputs": [
    {
     "data": {
      "text/html": [
       "<div><i>Table length=2</i>\n",
       "<table id=\"table140422323698800\" class=\"table-striped table-bordered table-condensed\">\n",
       "<thead><tr><th>cat_name</th><th>total</th><th>cross_matched</th><th>not_matched</th></tr></thead>\n",
       "<thead><tr><th>str9</th><th>int64</th><th>str9</th><th>str9</th></tr></thead>\n",
       "<tr><td>AMICO</td><td>5605</td><td>3429(61%)</td><td>2176(38%)</td></tr>\n",
       "<tr><td>RedMapper</td><td>5679</td><td>3429(60%)</td><td>2250(39%)</td></tr>\n",
       "</table></div>"
      ],
      "text/plain": [
       "<Table length=2>\n",
       " cat_name total cross_matched not_matched\n",
       "   str9   int64      str9         str9   \n",
       "--------- ----- ------------- -----------\n",
       "    AMICO  5605     3429(61%)   2176(38%)\n",
       "RedMapper  5679     3429(60%)   2250(39%)"
      ]
     },
     "metadata": {},
     "output_type": "display_data"
    }
   ],
   "source": [
    "frac = Table({'cat_name' : ['AMICO', 'RedMapper'], 'total' : [len(c1), len(c2)],\n",
    "        'cross_matched' : [str(len(c_merged_12['cat1_mt_cross'])) + '(' + str(int(len(c_merged_12['cat1_mt_cross'])/len(c1)*100)) + '%)', str(len(c_merged_12['cat2_mt_cross'])) + '(' + str(int(len(c_merged_12['cat2_mt_cross'])/len(c2)*100)) + '%)'],\n",
    "        'not_matched' : [str(len(c1_nm)) + '(' + str(int(len(c1_nm)/len(c1)*100)) +'%)' , str(len(c2_nm)) + '(' + str(int(len(c2_nm)/len(c2)*100)) +'%)']})\n",
    "display(frac)"
   ]
  }
 ],
 "metadata": {
  "kernelspec": {
   "display_name": "desc",
   "language": "python",
   "name": "desc"
  },
  "language_info": {
   "codemirror_mode": {
    "name": "ipython",
    "version": 3
   },
   "file_extension": ".py",
   "mimetype": "text/x-python",
   "name": "python",
   "nbconvert_exporter": "python",
   "pygments_lexer": "ipython3",
   "version": "3.10.8"
  }
 },
 "nbformat": 4,
 "nbformat_minor": 5
}
