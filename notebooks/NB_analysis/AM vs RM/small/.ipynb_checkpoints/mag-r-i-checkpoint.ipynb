{
 "cells": [
  {
   "cell_type": "code",
   "execution_count": 1,
   "id": "7c5f2831-cb43-44a0-9e37-cbb5e1153521",
   "metadata": {},
   "outputs": [],
   "source": [
    "import numpy as np\n",
    "import matplotlib.pyplot as plt\n",
    "from astropy.table import Table\n",
    "from astropy.io import fits\n",
    "from scipy.optimize import curve_fit\n",
    "from clevar.match import output_matched_catalog\n",
    "from clevar.catalog import ClCatalog"
   ]
  },
  {
   "cell_type": "code",
   "execution_count": 2,
   "id": "1541c94c-611d-4939-8f87-c101ca0f255b",
   "metadata": {},
   "outputs": [],
   "source": [
    "inpath = \"/sps/lsst/groups/clusters/amico_validation_project/catalogs/\"\n",
    "rm_inpath = '/sps/lsst/users/tguillem/DESC/desc_april_2022/cluster_challenge/clevar_catalogs/redmapper/full_pmem_small/cosmoDC2_v1.1.4_redmapper_v0.8.1/'"
   ]
  },
  {
   "cell_type": "code",
   "execution_count": 13,
   "id": "24efe1fb-3566-48f5-bc45-81417d433faa",
   "metadata": {},
   "outputs": [],
   "source": [
    "am_path = inpath+'amico_cats/new_amico_map_associations_cut/Catalog.fits'\n",
    "rm_path = rm_inpath + 'Catalog.fits'\n",
    "rm_path_mb = rm_inpath + 'Catalog_members.fits'"
   ]
  },
  {
   "cell_type": "code",
   "execution_count": 14,
   "id": "1ff0c8a8-632c-405e-bcfc-1fc5c32cc1ea",
   "metadata": {},
   "outputs": [],
   "source": [
    "am = Table.read(am_path)\n",
    "rm = Table.read(rm_path)\n",
    "rm_mb = Table.read(rm_path_mb)"
   ]
  },
  {
   "cell_type": "code",
   "execution_count": 15,
   "id": "92b589a3-e6ef-461d-9aca-58c7a6982cd2",
   "metadata": {},
   "outputs": [
    {
     "data": {
      "text/html": [
       "<div><i>Table length=5852</i>\n",
       "<table id=\"table140075642161088\" class=\"table-striped table-bordered table-condensed\">\n",
       "<thead><tr><th>id</th><th>ra</th><th>dec</th><th>z</th><th>mass</th><th>z_true</th><th>log_mass</th></tr></thead>\n",
       "<thead><tr><th>int32</th><th>float64</th><th>float64</th><th>float32</th><th>float32</th><th>float32</th><th>float64</th></tr></thead>\n",
       "<tr><td>26</td><td>67.04118044229672</td><td>-36.65553761954279</td><td>0.9107078</td><td>140.76186</td><td>0.90100455</td><td>2.148484945297241</td></tr>\n",
       "<tr><td>54</td><td>68.58519520148329</td><td>-37.06286568615487</td><td>0.54123485</td><td>117.284454</td><td>0.5372703</td><td>2.0692405700683594</td></tr>\n",
       "<tr><td>93</td><td>66.52163526817355</td><td>-40.49730464002901</td><td>0.5698791</td><td>106.65174</td><td>0.57118505</td><td>2.027967929840088</td></tr>\n",
       "<tr><td>98</td><td>64.25941267918058</td><td>-34.47274791810462</td><td>0.315754</td><td>104.317726</td><td>0.32086432</td><td>2.0183582305908203</td></tr>\n",
       "<tr><td>113</td><td>63.75410748565172</td><td>-34.54380191569124</td><td>0.4213185</td><td>102.05999</td><td>0.41989592</td><td>2.0088555812835693</td></tr>\n",
       "<tr><td>115</td><td>64.1372095102839</td><td>-34.69241881139706</td><td>0.56447726</td><td>90.03907</td><td>0.566998</td><td>1.9544310569763184</td></tr>\n",
       "<tr><td>137</td><td>67.80839610127185</td><td>-36.94773176218435</td><td>0.6999187</td><td>95.69867</td><td>0.69295466</td><td>1.9809058904647827</td></tr>\n",
       "<tr><td>211</td><td>65.13958203133247</td><td>-37.308310355463625</td><td>0.78099364</td><td>75.485825</td><td>0.78915185</td><td>1.8778654336929321</td></tr>\n",
       "<tr><td>223</td><td>66.73154921872963</td><td>-40.35328887737074</td><td>0.8703075</td><td>73.41115</td><td>0.87859684</td><td>1.8657619953155518</td></tr>\n",
       "<tr><td>269</td><td>66.39448282703236</td><td>-35.612944984080265</td><td>0.73375773</td><td>76.84352</td><td>0.73995215</td><td>1.8856072425842285</td></tr>\n",
       "<tr><td>...</td><td>...</td><td>...</td><td>...</td><td>...</td><td>...</td><td>...</td></tr>\n",
       "<tr><td>54661</td><td>67.00848522630604</td><td>-43.0207285186689</td><td>1.1218235</td><td>5.587534</td><td>1.1223664</td><td>0.7472201585769653</td></tr>\n",
       "<tr><td>6928</td><td>69.22764351097051</td><td>-43.14491193522159</td><td>1.135227</td><td>17.501669</td><td>1.1684425</td><td>1.243079423904419</td></tr>\n",
       "<tr><td>80120</td><td>67.00723430126932</td><td>-43.27554747232148</td><td>1.0759304</td><td>5.2519245</td><td>0.59944874</td><td>0.7203184962272644</td></tr>\n",
       "<tr><td>102685</td><td>66.85570633288506</td><td>-44.03042316570369</td><td>0.8520077</td><td>5.2824345</td><td>0.9288003</td><td>0.7228341102600098</td></tr>\n",
       "<tr><td>27511</td><td>69.22754543520179</td><td>-43.75642157983322</td><td>1.1456813</td><td>17.669474</td><td>0.962661</td><td>1.2472236156463623</td></tr>\n",
       "<tr><td>92281</td><td>68.3919977668037</td><td>-45.51589136986307</td><td>0.5941974</td><td>5.572279</td><td>0.59066343</td><td>0.7460328340530396</td></tr>\n",
       "<tr><td>88669</td><td>68.97659374968845</td><td>-43.46226537592641</td><td>1.1347386</td><td>6.5180874</td><td>1.2043793</td><td>0.8141201734542847</td></tr>\n",
       "<tr><td>21720</td><td>67.80686586780557</td><td>-45.04968907693027</td><td>1.133446</td><td>10.81999</td><td>1.1316372</td><td>1.034226894378662</td></tr>\n",
       "<tr><td>29100</td><td>66.93469285125511</td><td>-45.3464905749836</td><td>1.1359326</td><td>5.3739643</td><td>1.1941854</td><td>0.7302947640419006</td></tr>\n",
       "<tr><td>37112</td><td>69.36171381510071</td><td>-44.138625691755685</td><td>1.1475015</td><td>5.3587093</td><td>1.1517015</td><td>0.729060173034668</td></tr>\n",
       "</table></div>"
      ],
      "text/plain": [
       "<Table length=5852>\n",
       "  id           ra                dec         ...   z_true        log_mass     \n",
       "int32       float64            float64       ...  float32        float64      \n",
       "------ ----------------- ------------------- ... ---------- ------------------\n",
       "    26 67.04118044229672  -36.65553761954279 ... 0.90100455  2.148484945297241\n",
       "    54 68.58519520148329  -37.06286568615487 ...  0.5372703 2.0692405700683594\n",
       "    93 66.52163526817355  -40.49730464002901 ... 0.57118505  2.027967929840088\n",
       "    98 64.25941267918058  -34.47274791810462 ... 0.32086432 2.0183582305908203\n",
       "   113 63.75410748565172  -34.54380191569124 ... 0.41989592 2.0088555812835693\n",
       "   115  64.1372095102839  -34.69241881139706 ...   0.566998 1.9544310569763184\n",
       "   137 67.80839610127185  -36.94773176218435 ... 0.69295466 1.9809058904647827\n",
       "   211 65.13958203133247 -37.308310355463625 ... 0.78915185 1.8778654336929321\n",
       "   223 66.73154921872963  -40.35328887737074 ... 0.87859684 1.8657619953155518\n",
       "   269 66.39448282703236 -35.612944984080265 ... 0.73995215 1.8856072425842285\n",
       "   ...               ...                 ... ...        ...                ...\n",
       " 54661 67.00848522630604   -43.0207285186689 ...  1.1223664 0.7472201585769653\n",
       "  6928 69.22764351097051  -43.14491193522159 ...  1.1684425  1.243079423904419\n",
       " 80120 67.00723430126932  -43.27554747232148 ... 0.59944874 0.7203184962272644\n",
       "102685 66.85570633288506  -44.03042316570369 ...  0.9288003 0.7228341102600098\n",
       " 27511 69.22754543520179  -43.75642157983322 ...   0.962661 1.2472236156463623\n",
       " 92281  68.3919977668037  -45.51589136986307 ... 0.59066343 0.7460328340530396\n",
       " 88669 68.97659374968845  -43.46226537592641 ...  1.2043793 0.8141201734542847\n",
       " 21720 67.80686586780557  -45.04968907693027 ...  1.1316372  1.034226894378662\n",
       " 29100 66.93469285125511   -45.3464905749836 ...  1.1941854 0.7302947640419006\n",
       " 37112 69.36171381510071 -44.138625691755685 ...  1.1517015  0.729060173034668"
      ]
     },
     "execution_count": 15,
     "metadata": {},
     "output_type": "execute_result"
    }
   ],
   "source": [
    "rm"
   ]
  },
  {
   "cell_type": "code",
   "execution_count": 19,
   "id": "24460f71-7093-47f3-9be3-0c003d32e980",
   "metadata": {},
   "outputs": [],
   "source": [
    "z_l = []\n",
    "for id in rm['id']:\n",
    "    n = len(rm_mb[rm_mb['id_cluster']==id])\n",
    "    for i in range(n):\n",
    "        z_l.append(rm[rm['id']==id]['z'])\n"
   ]
  },
  {
   "cell_type": "code",
   "execution_count": 42,
   "id": "091e88bd-cb14-4e61-bc83-8009b8dd531f",
   "metadata": {},
   "outputs": [],
   "source": [
    "z_ll=[]\n",
    "for i in range(len(z_l)):\n",
    "    z_ll.append(z_l[i][0])"
   ]
  },
  {
   "cell_type": "code",
   "execution_count": 48,
   "id": "e97854be-cab9-424b-98b5-49a4345eaea5",
   "metadata": {},
   "outputs": [],
   "source": [
    "rm_mb['z'] = z_ll    "
   ]
  },
  {
   "cell_type": "code",
   "execution_count": 49,
   "id": "07ce2897-c650-404e-8751-97081c80be45",
   "metadata": {},
   "outputs": [
    {
     "data": {
      "text/html": [
       "<div><i>Table length=113048</i>\n",
       "<table id=\"table140075642167952\" class=\"table-striped table-bordered table-condensed\">\n",
       "<thead><tr><th>id</th><th>id_cluster</th><th>ra</th><th>dec</th><th>pmem</th><th>mag_r</th><th>mag_i</th><th>mag_z</th><th>z</th></tr></thead>\n",
       "<thead><tr><th>int64</th><th>int32</th><th>float64</th><th>float64</th><th>float32</th><th>float32</th><th>float32</th><th>float32</th><th>float32</th></tr></thead>\n",
       "<tr><td>8064212696</td><td>26</td><td>67.04118044229672</td><td>-36.65553761954279</td><td>0.99921656</td><td>21.258728</td><td>20.214851</td><td>19.428509</td><td>0.9107078</td></tr>\n",
       "<tr><td>8064240727</td><td>26</td><td>67.03971963378734</td><td>-36.65522571193022</td><td>0.99659103</td><td>23.312243</td><td>22.278286</td><td>21.518162</td><td>0.9107078</td></tr>\n",
       "<tr><td>8064212769</td><td>26</td><td>67.0415493650172</td><td>-36.65687792864976</td><td>0.9989721</td><td>22.716715</td><td>21.634148</td><td>20.81336</td><td>0.9107078</td></tr>\n",
       "<tr><td>8064240664</td><td>26</td><td>67.04093102342418</td><td>-36.65698236318693</td><td>0.99861884</td><td>23.124426</td><td>22.082472</td><td>21.257294</td><td>0.9107078</td></tr>\n",
       "<tr><td>8064240703</td><td>26</td><td>67.0412281651421</td><td>-36.65717961161655</td><td>0.99695486</td><td>23.376398</td><td>22.281954</td><td>21.472717</td><td>0.9107078</td></tr>\n",
       "<tr><td>8064240699</td><td>26</td><td>67.03983980902925</td><td>-36.65398719537674</td><td>0.9703774</td><td>23.295563</td><td>22.234524</td><td>21.610706</td><td>0.9107078</td></tr>\n",
       "<tr><td>8064240721</td><td>26</td><td>67.04364312566005</td><td>-36.655242414144816</td><td>0.9978006</td><td>23.18554</td><td>22.158426</td><td>21.370802</td><td>0.9107078</td></tr>\n",
       "<tr><td>8064240717</td><td>26</td><td>67.03912052150015</td><td>-36.65679793512189</td><td>0.9394761</td><td>23.624811</td><td>22.641552</td><td>21.84039</td><td>0.9107078</td></tr>\n",
       "<tr><td>8064240657</td><td>26</td><td>67.04217981617906</td><td>-36.65324525966428</td><td>0.969031</td><td>23.6376</td><td>22.695902</td><td>21.918003</td><td>0.9107078</td></tr>\n",
       "<tr><td>8064240685</td><td>26</td><td>67.03909391552301</td><td>-36.65792803957036</td><td>0.92922765</td><td>23.527134</td><td>22.45902</td><td>21.66244</td><td>0.9107078</td></tr>\n",
       "<tr><td>...</td><td>...</td><td>...</td><td>...</td><td>...</td><td>...</td><td>...</td><td>...</td><td>...</td></tr>\n",
       "<tr><td>11315864535</td><td>37112</td><td>69.3606759059655</td><td>-44.130026182863</td><td>0.4594454</td><td>24.803526</td><td>23.746464</td><td>22.866943</td><td>1.1475015</td></tr>\n",
       "<tr><td>11315864528</td><td>37112</td><td>69.35887460566508</td><td>-44.131327734745184</td><td>0.54029006</td><td>24.68345</td><td>23.533846</td><td>22.767246</td><td>1.1475015</td></tr>\n",
       "<tr><td>11314427782</td><td>37112</td><td>69.3553254269613</td><td>-44.14283181368505</td><td>0.0131255975</td><td>24.362993</td><td>23.362516</td><td>22.529758</td><td>1.1475015</td></tr>\n",
       "<tr><td>11315864542</td><td>37112</td><td>69.35991766846506</td><td>-44.14852709265156</td><td>0.5981003</td><td>25.072903</td><td>23.794538</td><td>22.948252</td><td>1.1475015</td></tr>\n",
       "<tr><td>11314449410</td><td>37112</td><td>69.35428601640453</td><td>-44.139279435460935</td><td>0.1052949</td><td>25.471937</td><td>24.438433</td><td>23.658201</td><td>1.1475015</td></tr>\n",
       "<tr><td>11315864514</td><td>37112</td><td>69.35307461834833</td><td>-44.133747271521905</td><td>0.08085848</td><td>25.895262</td><td>24.817776</td><td>23.983395</td><td>1.1475015</td></tr>\n",
       "<tr><td>11315864541</td><td>37112</td><td>69.34671670180377</td><td>-44.13408104727835</td><td>0.61213785</td><td>24.030684</td><td>22.915493</td><td>22.092003</td><td>1.1475015</td></tr>\n",
       "<tr><td>11314227206</td><td>37112</td><td>69.35535184846981</td><td>-44.12317891315989</td><td>0.026453394</td><td>25.118256</td><td>24.039377</td><td>23.311039</td><td>1.1475015</td></tr>\n",
       "<tr><td>11315864516</td><td>37112</td><td>69.34479566877773</td><td>-44.13348704203978</td><td>0.41491345</td><td>24.828232</td><td>23.639242</td><td>22.782293</td><td>1.1475015</td></tr>\n",
       "<tr><td>11316228638</td><td>37112</td><td>69.35848227008692</td><td>-44.11414534938658</td><td>0.057859626</td><td>25.62035</td><td>24.22802</td><td>23.397057</td><td>1.1475015</td></tr>\n",
       "</table></div>"
      ],
      "text/plain": [
       "<Table length=113048>\n",
       "     id     id_cluster         ra        ...   mag_i     mag_z       z    \n",
       "   int64      int32         float64      ...  float32   float32   float32 \n",
       "----------- ---------- ----------------- ... --------- --------- ---------\n",
       " 8064212696         26 67.04118044229672 ... 20.214851 19.428509 0.9107078\n",
       " 8064240727         26 67.03971963378734 ... 22.278286 21.518162 0.9107078\n",
       " 8064212769         26  67.0415493650172 ... 21.634148  20.81336 0.9107078\n",
       " 8064240664         26 67.04093102342418 ... 22.082472 21.257294 0.9107078\n",
       " 8064240703         26  67.0412281651421 ... 22.281954 21.472717 0.9107078\n",
       " 8064240699         26 67.03983980902925 ... 22.234524 21.610706 0.9107078\n",
       " 8064240721         26 67.04364312566005 ... 22.158426 21.370802 0.9107078\n",
       " 8064240717         26 67.03912052150015 ... 22.641552  21.84039 0.9107078\n",
       " 8064240657         26 67.04217981617906 ... 22.695902 21.918003 0.9107078\n",
       " 8064240685         26 67.03909391552301 ...  22.45902  21.66244 0.9107078\n",
       "        ...        ...               ... ...       ...       ...       ...\n",
       "11315864535      37112  69.3606759059655 ... 23.746464 22.866943 1.1475015\n",
       "11315864528      37112 69.35887460566508 ... 23.533846 22.767246 1.1475015\n",
       "11314427782      37112  69.3553254269613 ... 23.362516 22.529758 1.1475015\n",
       "11315864542      37112 69.35991766846506 ... 23.794538 22.948252 1.1475015\n",
       "11314449410      37112 69.35428601640453 ... 24.438433 23.658201 1.1475015\n",
       "11315864514      37112 69.35307461834833 ... 24.817776 23.983395 1.1475015\n",
       "11315864541      37112 69.34671670180377 ... 22.915493 22.092003 1.1475015\n",
       "11314227206      37112 69.35535184846981 ... 24.039377 23.311039 1.1475015\n",
       "11315864516      37112 69.34479566877773 ... 23.639242 22.782293 1.1475015\n",
       "11316228638      37112 69.35848227008692 ...  24.22802 23.397057 1.1475015"
      ]
     },
     "execution_count": 49,
     "metadata": {},
     "output_type": "execute_result"
    }
   ],
   "source": [
    "rm_mb"
   ]
  },
  {
   "cell_type": "code",
   "execution_count": 97,
   "id": "191e017b-b474-406f-a8b4-25f684f62074",
   "metadata": {},
   "outputs": [],
   "source": [
    "z_min, z_max = 1, 1.15"
   ]
  },
  {
   "cell_type": "code",
   "execution_count": 98,
   "id": "e2801d62-5572-46c4-b8ff-d4965f7f3254",
   "metadata": {},
   "outputs": [],
   "source": [
    "delt = rm_mb[(rm_mb['z']>z_min)*(rm_mb['z']<z_max)]['mag_r'] - rm_mb[(rm_mb['z']>z_min)*(rm_mb['z']<z_max)]['mag_i']"
   ]
  },
  {
   "cell_type": "code",
   "execution_count": 99,
   "id": "0c44da56-b8da-4d76-9154-82cf1632f922",
   "metadata": {},
   "outputs": [
    {
     "data": {
      "image/png": "[encoded data removed]",
      "text/plain": [
       "<Figure size 700x500 with 2 Axes>"
      ]
     },
     "metadata": {},
     "output_type": "display_data"
    }
   ],
   "source": [
    "plt.figure(figsize = (7,5))\n",
    "plt.hist2d(rm_mb[(rm_mb['z']>z_min)*(rm_mb['z']<z_max)]['mag_i'], delt, bins = 50, vmin=0)\n",
    "plt.colorbar()\n",
    "plt.ylim([0,1.3])\n",
    "plt.xlim([19,25])\n",
    "plt.xlabel('mag$_i$')\n",
    "plt.ylabel('mag$_r$ - mag$_i$')\n",
    "plt.title('RM ' + str(z_min) + '<z<' + str(z_max))\n",
    "plt.show()"
   ]
  },
  {
   "cell_type": "code",
   "execution_count": null,
   "id": "68321887-de19-448e-9b87-91b41ab22f4f",
   "metadata": {},
   "outputs": [],
   "source": []
  },
  {
   "cell_type": "code",
   "execution_count": null,
   "id": "75decdd9-206f-405c-b181-d072655585bd",
   "metadata": {},
   "outputs": [],
   "source": []
  }
 ],
 "metadata": {
  "kernelspec": {
   "display_name": "desc",
   "language": "python",
   "name": "desc"
  },
  "language_info": {
   "codemirror_mode": {
    "name": "ipython",
    "version": 3
   },
   "file_extension": ".py",
   "mimetype": "text/x-python",
   "name": "python",
   "nbconvert_exporter": "python",
   "pygments_lexer": "ipython3",
   "version": "3.10.8"
  }
 },
 "nbformat": 4,
 "nbformat_minor": 5
}
