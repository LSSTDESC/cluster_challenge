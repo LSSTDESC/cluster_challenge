{
 "cells": [
  {
   "cell_type": "code",
   "execution_count": 2,
   "id": "7c5f2831-cb43-44a0-9e37-cbb5e1153521",
   "metadata": {},
   "outputs": [],
   "source": [
    "import matplotlib.pyplot as plt\n",
    "import numpy as np\n",
    "from astropy.table import Table, hstack, vstack\n",
    "from clevar.catalog import ClCatalog\n",
    "from numpy.ma import masked\n",
    "import sys\n",
    "from clevar.match import output_matched_catalog"
   ]
  },
  {
   "cell_type": "code",
   "execution_count": 3,
   "id": "f2aa6cce-8f26-4f06-bb3f-ec07eb970b3f",
   "metadata": {},
   "outputs": [],
   "source": [
    "#rm_cdc = '/sps/lsst/groups/clusters/amico_validation_project/catalogs/matching_cats/redmapper_cosmoDC2/'\n",
    "#am_cdc = '/sps/lsst/groups/clusters/amico_validation_project/catalogs/matching_cats/amico_cosmoDC2/'\n",
    "am_rm = '/sps/lsst/groups/clusters/amico_validation_project/catalogs/matching_cats/amico_redmapper/'\n",
    "#rm_cdc_info = Table.read(rm_cdc + 'match_info_p.fits')\n",
    "#am_cdc_info = Table.read(am_cdc + 'match_info_p.fits')\n",
    "am_rm_info = Table.read(am_rm  + 'match_info_p.fits')"
   ]
  },
  {
   "cell_type": "code",
   "execution_count": 4,
   "id": "3b933885-1ba2-46c1-8f88-4cd451f6981a",
   "metadata": {},
   "outputs": [
    {
     "data": {
      "text/html": [
       "<div><i>Table length=2</i>\n",
       "<table id=\"table139908454493360\" class=\"table-striped table-bordered table-condensed\">\n",
       "<thead><tr><th>id</th><th>total</th><th>unique (self)</th><th>unique (other)</th><th>multiple (self)</th><th>multiple (other)</th><th>cross</th></tr></thead>\n",
       "<thead><tr><th>bytes2</th><th>int64</th><th>int64</th><th>int64</th><th>int64</th><th>int64</th><th>int64</th></tr></thead>\n",
       "<tr><td>c1</td><td>135916</td><td>124477</td><td>124483</td><td>127182</td><td>127182</td><td>124369</td></tr>\n",
       "<tr><td>c2</td><td>697593</td><td>124483</td><td>124477</td><td>250836</td><td>250836</td><td>124369</td></tr>\n",
       "</table></div>"
      ],
      "text/plain": [
       "<Table length=2>\n",
       "  id   total  unique (self) ... multiple (self) multiple (other) cross \n",
       "bytes2 int64      int64     ...      int64           int64       int64 \n",
       "------ ------ ------------- ... --------------- ---------------- ------\n",
       "    c1 135916        124477 ...          127182           127182 124369\n",
       "    c2 697593        124483 ...          250836           250836 124369"
      ]
     },
     "metadata": {},
     "output_type": "display_data"
    },
    {
     "data": {
      "text/html": [
       "<div><i>Table length=2</i>\n",
       "<table id=\"table139908454496192\" class=\"table-striped table-bordered table-condensed\">\n",
       "<thead><tr><th>id</th><th>total</th><th>unique (self)</th><th>unique (other)</th><th>multiple (self)</th><th>multiple (other)</th><th>cross</th></tr></thead>\n",
       "<thead><tr><th>bytes2</th><th>int64</th><th>int64</th><th>int64</th><th>int64</th><th>int64</th><th>int64</th></tr></thead>\n",
       "<tr><td>c1</td><td>135916</td><td>38944</td><td>38944</td><td>49095</td><td>49095</td><td>38915</td></tr>\n",
       "<tr><td>c2</td><td>45081</td><td>38944</td><td>38944</td><td>39718</td><td>39718</td><td>38915</td></tr>\n",
       "</table></div>"
      ],
      "text/plain": [
       "<Table length=2>\n",
       "  id   total  unique (self) ... multiple (self) multiple (other) cross\n",
       "bytes2 int64      int64     ...      int64           int64       int64\n",
       "------ ------ ------------- ... --------------- ---------------- -----\n",
       "    c1 135916         38944 ...           49095            49095 38915\n",
       "    c2  45081         38944 ...           39718            39718 38915"
      ]
     },
     "metadata": {},
     "output_type": "display_data"
    },
    {
     "data": {
      "text/html": [
       "<div><i>Table length=2</i>\n",
       "<table id=\"table139910431258368\" class=\"table-striped table-bordered table-condensed\">\n",
       "<thead><tr><th>id</th><th>total</th><th>unique (self)</th><th>unique (other)</th><th>multiple (self)</th><th>multiple (other)</th><th>cross</th></tr></thead>\n",
       "<thead><tr><th>bytes2</th><th>int64</th><th>int64</th><th>int64</th><th>int64</th><th>int64</th><th>int64</th></tr></thead>\n",
       "<tr><td>c1</td><td>45081</td><td>44480</td><td>44480</td><td>44558</td><td>44558</td><td>44480</td></tr>\n",
       "<tr><td>c2</td><td>697593</td><td>44480</td><td>44480</td><td>108801</td><td>108801</td><td>44480</td></tr>\n",
       "</table></div>"
      ],
      "text/plain": [
       "<Table length=2>\n",
       "  id   total  unique (self) ... multiple (self) multiple (other) cross\n",
       "bytes2 int64      int64     ...      int64           int64       int64\n",
       "------ ------ ------------- ... --------------- ---------------- -----\n",
       "    c1  45081         44480 ...           44558            44558 44480\n",
       "    c2 697593         44480 ...          108801           108801 44480"
      ]
     },
     "metadata": {},
     "output_type": "display_data"
    }
   ],
   "source": [
    "#display(am_cdc_info)\n",
    "display(am_rm_info)\n",
    "#display(rm_cdc_info) "
   ]
  }
 ],
 "metadata": {
  "kernelspec": {
   "display_name": "desc",
   "language": "python",
   "name": "desc"
  },
  "language_info": {
   "codemirror_mode": {
    "name": "ipython",
    "version": 3
   },
   "file_extension": ".py",
   "mimetype": "text/x-python",
   "name": "python",
   "nbconvert_exporter": "python",
   "pygments_lexer": "ipython3",
   "version": "3.10.9"
  }
 },
 "nbformat": 4,
 "nbformat_minor": 5
}
