{
 "cells": [
  {
   "cell_type": "code",
   "execution_count": 1,
   "id": "7c5f2831-cb43-44a0-9e37-cbb5e1153521",
   "metadata": {},
   "outputs": [],
   "source": [
    "import matplotlib.pyplot as plt\n",
    "import numpy as np\n",
    "from astropy.table import Table, hstack, vstack\n",
    "from clevar.catalog import ClCatalog\n",
    "from numpy.ma import masked\n",
    "import sys\n",
    "from clevar.match import output_matched_catalog"
   ]
  },
  {
   "cell_type": "code",
   "execution_count": 2,
   "id": "a6e69ed8-2f02-4e51-be0a-338e4e5bf571",
   "metadata": {},
   "outputs": [],
   "source": [
    "path = '/sps/lsst/groups/clusters/amico_validation_project/catalogs/matching_cats/amico_redmapper/mag_y/'\n",
    "c1 = ClCatalog.read(path+'c1_p_ls4512z115.fits', 'c1', full = True)\n",
    "c2 = ClCatalog.read(path+'c2_p_ls4512z115.fits', 'c2', full = True)"
   ]
  },
  {
   "cell_type": "code",
   "execution_count": 16,
   "id": "94533617-a9c3-47e4-9baa-4e5ced2e2c70",
   "metadata": {},
   "outputs": [],
   "source": [
    "c1 = Table.read('/sps/lsst/groups/clusters/amico_validation_project/catalogs/AMICO/amico_cats/amico_map_associations_flxzb_mag/mag_y/Catalog_ls45z115.fits')\n",
    "c2 = Table.read('/sps/lsst/groups/clusters/amico_validation_project/catalogs/RedMapper/Catalog_ls12.fits')"
   ]
  },
  {
   "cell_type": "code",
   "execution_count": 3,
   "id": "28b88715-987b-4bfd-9cc3-cba337f2a077",
   "metadata": {},
   "outputs": [],
   "source": [
    "output_matched_catalog(path+'c1_p_ls4512z115.fits', path+'c2_p_ls4512z115.fits',path+'output_catalog_' + 'p_ls4512z115' +'.fits', c1, c2, matching_type='cross', overwrite=True)"
   ]
  },
  {
   "cell_type": "code",
   "execution_count": 7,
   "id": "ab0ff7ff-86a8-445f-a7cd-185bb8a8efcf",
   "metadata": {},
   "outputs": [],
   "source": [
    "c_merged_12 = ClCatalog.read(path+'output_catalog_' + 'p_ls4512z115' + '.fits', 'merged',  full=True)"
   ]
  },
  {
   "cell_type": "code",
   "execution_count": 8,
   "id": "2ef96923-ad1e-4bea-a21e-f6d43f149883",
   "metadata": {
    "collapsed": true,
    "jupyter": {
     "outputs_hidden": true
    },
    "tags": []
   },
   "outputs": [
    {
     "data": {
      "text/html": [
       "<b>merged</b><br></b><b>tags:</b> id(id)<br><b>Radius unit:</b> None<br><div><i>ClData length=5501</i>\n",
       "<table id=\"table140702657137152\" class=\"table-striped table-bordered table-condensed\">\n",
       "<thead><tr><th>id</th><th>cat1_id</th><th>cat1_ra</th><th>cat1_dec</th><th>cat1_z</th><th>cat1_mass</th><th>cat1_mt_self</th><th>cat1_mt_other</th><th>cat1_mt_multi_self</th><th>cat1_mt_multi_other</th><th>cat1_mt_cross</th><th>cat2_id</th><th>cat2_ra</th><th>cat2_dec</th><th>cat2_z</th><th>cat2_mass</th><th>cat2_z_true</th><th>cat2_log_mass</th><th>cat2_mt_self</th><th>cat2_mt_other</th><th>cat2_mt_multi_self</th><th>cat2_mt_multi_other</th><th>cat2_mt_cross</th><th>mt_self</th><th>mt_other</th><th>mt_multi_self</th><th>mt_multi_other</th></tr></thead>\n",
       "<thead><tr><th>str4</th><th>bytes11</th><th>float64</th><th>float64</th><th>float32</th><th>float64</th><th>bytes5</th><th>bytes5</th><th>bytes14</th><th>bytes14</th><th>bytes5</th><th>bytes11</th><th>float64</th><th>float64</th><th>float32</th><th>float32</th><th>float32</th><th>float64</th><th>bytes6</th><th>bytes6</th><th>bytes20</th><th>bytes20</th><th>bytes6</th><th>object</th><th>object</th><th>object</th><th>object</th></tr></thead>\n",
       "<tr><td>0</td><td>1</td><td>50.603551</td><td>-39.582656</td><td>1.1</td><td>142.18232</td><td>79</td><td>79</td><td>79</td><td>79</td><td>79</td><td>79</td><td>50.601945314584675</td><td>-39.584667514262556</td><td>1.0827233</td><td>81.099655</td><td>1.0862333</td><td>1.9090189933776855</td><td>1</td><td>1</td><td>1</td><td>1</td><td>1</td><td>None</td><td>None</td><td>[]</td><td>[]</td></tr>\n",
       "<tr><td>1</td><td>2</td><td>50.113525</td><td>-40.03647</td><td>0.44</td><td>88.436957</td><td>416</td><td>416</td><td>416</td><td>416</td><td>416</td><td>416</td><td>50.0986812400157</td><td>-40.041193422095496</td><td>0.43517646</td><td>56.905266</td><td>0.4322221</td><td>1.7551524639129639</td><td>2</td><td>2</td><td>2</td><td>2</td><td>2</td><td>None</td><td>None</td><td>[]</td><td>[]</td></tr>\n",
       "<tr><td>2</td><td>3</td><td>50.642569</td><td>-41.397661</td><td>0.2</td><td>71.745564</td><td>449</td><td>449</td><td>449</td><td>449</td><td>449</td><td>449</td><td>50.642098246561304</td><td>-41.40092456771352</td><td>0.19257621</td><td>54.03733</td><td>0.19309519</td><td>1.7326939105987549</td><td>3</td><td>3</td><td>3</td><td>3</td><td>3</td><td>None</td><td>None</td><td>[]</td><td>[]</td></tr>\n",
       "<tr><td>3</td><td>4</td><td>50.421896</td><td>-39.587457</td><td>0.39</td><td>54.827034</td><td>1575</td><td>1575</td><td>1575</td><td>1575</td><td>1575</td><td>1575</td><td>50.42203362588924</td><td>-39.587746579168694</td><td>0.39265478</td><td>33.488884</td><td>0.38855246</td><td>1.5249006748199463</td><td>4</td><td>4</td><td>4</td><td>4</td><td>4</td><td>None</td><td>None</td><td>[]</td><td>[]</td></tr>\n",
       "<tr><td>4</td><td>5</td><td>51.069455</td><td>-40.426866</td><td>1.09</td><td>102.87221</td><td>711</td><td>711</td><td>711</td><td>711</td><td>711</td><td>711</td><td>51.06929307120477</td><td>-40.426299269554804</td><td>1.0812957</td><td>39.621384</td><td>1.0850095</td><td>1.59792959690094</td><td>5</td><td>5</td><td>5</td><td>5</td><td>5</td><td>None</td><td>None</td><td>[]</td><td>[]</td></tr>\n",
       "<tr><td>5</td><td>7</td><td>51.048368</td><td>-41.281951</td><td>0.79</td><td>97.209474</td><td>781</td><td>781</td><td>781</td><td>781</td><td>781</td><td>781</td><td>51.04846444718309</td><td>-41.26482347006931</td><td>0.7745975</td><td>41.63504</td><td>0.7753187</td><td>1.6194590330123901</td><td>7</td><td>7</td><td>7</td><td>7</td><td>7</td><td>None</td><td>None</td><td>[]</td><td>[]</td></tr>\n",
       "<tr><td>6</td><td>8</td><td>50.577077</td><td>-40.162645</td><td>0.59</td><td>77.867676</td><td>471</td><td>471</td><td>471</td><td>471</td><td>471</td><td>471</td><td>50.57622204392435</td><td>-40.161587068873025</td><td>0.585211</td><td>60.45968</td><td>0.5825961</td><td>1.7814658880233765</td><td>8</td><td>8</td><td>8</td><td>8</td><td>8</td><td>None</td><td>None</td><td>[]</td><td>[]</td></tr>\n",
       "<tr><td>7</td><td>9</td><td>49.910711</td><td>-40.070373</td><td>0.89</td><td>112.85888</td><td>4177</td><td>4177</td><td>4177</td><td>4177</td><td>4177</td><td>4177</td><td>49.91717865985591</td><td>-40.067020843382885</td><td>0.89819145</td><td>21.300158</td><td>0.8834939</td><td>1.3283828496932983</td><td>9</td><td>9</td><td>9</td><td>9</td><td>9</td><td>None</td><td>None</td><td>[]</td><td>[]</td></tr>\n",
       "<tr><td>8</td><td>10</td><td>51.576131</td><td>-40.01887</td><td>0.6</td><td>63.297607</td><td>1704</td><td>1704</td><td>1704</td><td>1704</td><td>1704</td><td>1704</td><td>51.57638580775331</td><td>-40.02086515625286</td><td>0.58940583</td><td>34.724533</td><td>0.59494084</td><td>1.540636420249939</td><td>10</td><td>10</td><td>10</td><td>10</td><td>10</td><td>None</td><td>None</td><td>[]</td><td>[]</td></tr>\n",
       "<tr><td>9</td><td>11</td><td>51.232186</td><td>-39.511131</td><td>0.91</td><td>84.623504</td><td>1208</td><td>1208</td><td>1208</td><td>1208</td><td>1208</td><td>1208</td><td>51.233174044070644</td><td>-39.51174277424179</td><td>0.8941833</td><td>35.01438</td><td>0.9052709</td><td>1.5442464351654053</td><td>11</td><td>11</td><td>11</td><td>11</td><td>11</td><td>None</td><td>None</td><td>[]</td><td>[]</td></tr>\n",
       "<tr><td>...</td><td>...</td><td>...</td><td>...</td><td>...</td><td>...</td><td>...</td><td>...</td><td>...</td><td>...</td><td>...</td><td>...</td><td>...</td><td>...</td><td>...</td><td>...</td><td>...</td><td>...</td><td>...</td><td>...</td><td>...</td><td>...</td><td>...</td><td>...</td><td>...</td><td>...</td><td>...</td></tr>\n",
       "<tr><td>5491</td><td>163847</td><td>75.279939</td><td>-38.128966</td><td>0.73</td><td>45.08155</td><td>5617</td><td>5617</td><td>5617</td><td>5617</td><td>5617</td><td>5617</td><td>75.27935079012273</td><td>-38.12788063491721</td><td>0.73471767</td><td>14.969343</td><td>0.72614926</td><td>1.17520272731781</td><td>163847</td><td>163847</td><td>163847</td><td>163847</td><td>163847</td><td>None</td><td>None</td><td>[]</td><td>[]</td></tr>\n",
       "<tr><td>5492</td><td>163854</td><td>74.889059</td><td>-38.745881</td><td>1.05</td><td>58.856045</td><td>4142</td><td>4142</td><td>4142</td><td>4142</td><td>4142</td><td>4142</td><td>74.91229925425506</td><td>-38.744283893940164</td><td>1.0504893</td><td>15.9609165</td><td>0.93731326</td><td>1.203057885169983</td><td>163854</td><td>163854</td><td>163854</td><td>163854</td><td>163854</td><td>None</td><td>None</td><td>[]</td><td>[]</td></tr>\n",
       "<tr><td>5493</td><td>163863</td><td>74.212269</td><td>-39.606088</td><td>0.85</td><td>59.932117</td><td>2927</td><td>2927</td><td>2927</td><td>2927</td><td>2927</td><td>2927</td><td>74.21228882406832</td><td>-39.60814576741155</td><td>0.84405094</td><td>26.258024</td><td>0.8409395</td><td>1.4192620515823364</td><td>163863</td><td>163863</td><td>163863</td><td>163863</td><td>163863</td><td>None</td><td>None</td><td>[]</td><td>[]</td></tr>\n",
       "<tr><td>5494</td><td>163868</td><td>74.011656</td><td>-38.620392</td><td>1.04</td><td>65.606165</td><td>1639</td><td>1639</td><td>1639</td><td>1639</td><td>1639</td><td>1639</td><td>74.01172714811952</td><td>-38.622847583634574</td><td>1.0332834</td><td>29.995493</td><td>1.0184431</td><td>1.4770560264587402</td><td>163868</td><td>163868</td><td>163868</td><td>163868</td><td>163868</td><td>None</td><td>None</td><td>[]</td><td>[]</td></tr>\n",
       "<tr><td>5495</td><td>163871</td><td>74.957752</td><td>-38.450639</td><td>1.03</td><td>57.1978</td><td>5646</td><td>5646</td><td>5646</td><td>5646</td><td>5646</td><td>5646</td><td>74.95907316825016</td><td>-38.45218601826125</td><td>1.0259455</td><td>14.359144</td><td>1.023072</td><td>1.1571285724639893</td><td>163871</td><td>163871</td><td>163871</td><td>163871</td><td>163871</td><td>None</td><td>None</td><td>[]</td><td>[]</td></tr>\n",
       "<tr><td>5496</td><td>163873</td><td>74.295421</td><td>-37.911266</td><td>0.88</td><td>48.906567</td><td>5087</td><td>5087</td><td>5087</td><td>5087</td><td>5087</td><td>5087</td><td>74.29752514387503</td><td>-37.910958467925624</td><td>0.86457324</td><td>18.233908</td><td>0.8652919</td><td>1.2608797550201416</td><td>163873</td><td>163873</td><td>163873</td><td>163873</td><td>163873</td><td>None</td><td>None</td><td>[]</td><td>[]</td></tr>\n",
       "<tr><td>5497</td><td>163884</td><td>73.587699</td><td>-38.247785</td><td>1.03</td><td>55.745944</td><td>7058</td><td>7058</td><td>7058</td><td>7058</td><td>7058</td><td>7058</td><td>73.58111590583626</td><td>-38.251947161372875</td><td>1.0112749</td><td>13.718435</td><td>1.031544</td><td>1.1373045444488525</td><td>163884</td><td>163884</td><td>163884</td><td>163884</td><td>163884</td><td>None</td><td>None</td><td>[]</td><td>[]</td></tr>\n",
       "<tr><td>5498</td><td>163895</td><td>73.963966</td><td>-38.165169</td><td>1.05</td><td>65.988167</td><td>7725</td><td>7725</td><td>7725</td><td>7725</td><td>7725</td><td>7725</td><td>73.96470425607133</td><td>-38.163249100181346</td><td>1.0422455</td><td>17.761003</td><td>1.0360808</td><td>1.2494674921035767</td><td>163895</td><td>163895</td><td>163895</td><td>163895</td><td>163895</td><td>None</td><td>None</td><td>[]</td><td>[]</td></tr>\n",
       "<tr><td>5499</td><td>163922</td><td>75.737958</td><td>-38.525094</td><td>0.94</td><td>60.887539</td><td>8200</td><td>8200</td><td>8200</td><td>8200</td><td>8200</td><td>8200</td><td>75.74118977666282</td><td>-38.52672380266609</td><td>0.9258913</td><td>15.304953</td><td>0.93759555</td><td>1.184831976890564</td><td>163922</td><td>163922</td><td>163922</td><td>163922</td><td>163922</td><td>None</td><td>None</td><td>[]</td><td>[]</td></tr>\n",
       "<tr><td>5500</td><td>163956</td><td>74.230317</td><td>-38.351127</td><td>0.73</td><td>45.520765</td><td>8176</td><td>8176</td><td>8176</td><td>8176</td><td>8176</td><td>8176</td><td>74.2612918339383</td><td>-38.32184776551066</td><td>0.83039945</td><td>13.459101</td><td>0.82061434</td><td>1.1290160417556763</td><td>163956</td><td>163956</td><td>163956</td><td>163956</td><td>163956</td><td>None</td><td>None</td><td>[]</td><td>[]</td></tr>\n",
       "</table></div>"
      ],
      "text/plain": [
       "<clevar.catalog.ClCatalog at 0x7ff7e3ec9e10>"
      ]
     },
     "execution_count": 8,
     "metadata": {},
     "output_type": "execute_result"
    }
   ],
   "source": [
    "c_merged_12"
   ]
  },
  {
   "cell_type": "code",
   "execution_count": 24,
   "id": "0404c491-db00-4a2c-a48e-b28794bebe2f",
   "metadata": {
    "tags": []
   },
   "outputs": [],
   "source": [
    "c_merged_12['cat2_mt_cross'] =  c_merged_12['cat2_mt_cross'].astype(int)"
   ]
  },
  {
   "cell_type": "code",
   "execution_count": 25,
   "id": "f1cb298b-a8f9-403b-b47b-61af69a7af75",
   "metadata": {},
   "outputs": [
    {
     "name": "stdout",
     "output_type": "stream",
     "text": [
      "0.1\n",
      "0.2\n",
      "0.3\n",
      "0.4\n",
      "0.5\n",
      "0.6\n",
      "0.7\n",
      "0.8\n",
      "0.9\n",
      "1.0\n",
      "c1 ok\n"
     ]
    }
   ],
   "source": [
    "c1_nm = []\n",
    "c1_nm_mass = []\n",
    "c1_nm_ra = []\n",
    "c1_nm_dec = []\n",
    "c1_nm_z = []\n",
    "per = [.1,.2,.3,.4,.5,.6,.7,.8,.9,1.0]\n",
    "per_l = []\n",
    "for i, id in enumerate(c1['id']):\n",
    "    percent = round(i/len(c1['id']),2)\n",
    "    if percent in per and percent not in per_l:\n",
    "        print(round(i/len(c1['id']),2))\n",
    "        per_l.append(percent)\n",
    "    if id not in c_merged_12['cat2_mt_cross']:\n",
    "        cdt = c1[c1['id']==id]\n",
    "        c1_nm.append(id)\n",
    "        c1_nm_mass.append(cdt['mass'])\n",
    "        c1_nm_ra.append(cdt['ra'])\n",
    "        c1_nm_dec.append(cdt['dec'])\n",
    "        c1_nm_z.append(cdt['z'])\n",
    "print('c1 ok')"
   ]
  },
  {
   "cell_type": "code",
   "execution_count": 6,
   "id": "adceb74d-9fa6-4598-a836-8c1ad5d522fb",
   "metadata": {
    "jupyter": {
     "source_hidden": true
    },
    "tags": []
   },
   "outputs": [],
   "source": [
    "c1_nm_massl = []\n",
    "c1_nm_ral = []\n",
    "c1_nm_decl = []\n",
    "c1_nm_zl = []\n",
    "for i in range(len(c1_nm_z)):\n",
    "    c1_nm_massl.append(c1_nm_mass[i][0])\n",
    "    c1_nm_ral.append(c1_nm_ra[i][0])\n",
    "    c1_nm_decl.append(c1_nm_dec[i][0])\n",
    "    c1_nm_zl.append(c1_nm_z[i][0])"
   ]
  },
  {
   "cell_type": "code",
   "execution_count": 19,
   "id": "4247d1f2-7a4c-4859-9e69-043c0c088550",
   "metadata": {
    "tags": []
   },
   "outputs": [
    {
     "name": "stdout",
     "output_type": "stream",
     "text": [
      "0.1\n",
      "0.2\n",
      "0.3\n",
      "0.4\n",
      "0.5\n",
      "0.6\n",
      "0.7\n",
      "0.8\n",
      "0.9\n",
      "1.0\n",
      "c2 ok\n"
     ]
    }
   ],
   "source": [
    "c2_nm = []\n",
    "c2_nm_mass = []\n",
    "c2_nm_ra = []\n",
    "c2_nm_dec = []\n",
    "c2_nm_z = []\n",
    "per = [.1,.2,.3,.4,.5,.6,.7,.8,.9,1.0]\n",
    "per_l = []\n",
    "for i, id in enumerate(c2['id']):\n",
    "    percent = round(i/len(c2['id']),2)\n",
    "    if percent in per and percent not in per_l:\n",
    "        print(round(i/len(c2['id']),2))\n",
    "        per_l.append(percent)\n",
    "    if id not in c_merged_12['cat1_mt_cross']:\n",
    "        cdt = c2[c2['id']==id]\n",
    "        c2_nm.append(id)\n",
    "        c2_nm_mass.append(cdt['mass'])\n",
    "        c2_nm_ra.append(cdt['ra'])\n",
    "        c2_nm_dec.append(cdt['dec'])\n",
    "        c2_nm_z.append(cdt['z'])\n",
    "print('c2 ok')"
   ]
  },
  {
   "cell_type": "code",
   "execution_count": null,
   "id": "4a9f639f-8342-4def-b9b3-fb8e02b037b4",
   "metadata": {
    "jupyter": {
     "source_hidden": true
    },
    "tags": []
   },
   "outputs": [],
   "source": [
    "c2_nm_massl = []\n",
    "c2_nm_ral = []\n",
    "c2_nm_decl = []\n",
    "c2_nm_zl = []\n",
    "for i in range(len(c2_nm_z)):\n",
    "    c2_nm_massl.append(c2_nm_mass[i][0])\n",
    "    c2_nm_ral.append(c2_nm_ra[i][0])\n",
    "    c2_nm_decl.append(c2_nm_dec[i][0])\n",
    "    c2_nm_zl.append(c2_nm_z[i][0])"
   ]
  },
  {
   "cell_type": "code",
   "execution_count": 26,
   "id": "e6bb9f13-39cf-4519-ac66-26032dde3608",
   "metadata": {},
   "outputs": [
    {
     "data": {
      "text/html": [
       "<div><i>Table length=2</i>\n",
       "<table id=\"table140701795722592\" class=\"table-striped table-bordered table-condensed\">\n",
       "<thead><tr><th>cat_name</th><th>total</th><th>cross_matched</th><th>not_matched</th></tr></thead>\n",
       "<thead><tr><th>str9</th><th>int64</th><th>str9</th><th>str9</th></tr></thead>\n",
       "<tr><td>AMICO</td><td>10274</td><td>5501(53%)</td><td>4773(46%)</td></tr>\n",
       "<tr><td>RedMapper</td><td>10255</td><td>5501(53%)</td><td>4754(46%)</td></tr>\n",
       "</table></div>"
      ],
      "text/plain": [
       "<Table length=2>\n",
       " cat_name total cross_matched not_matched\n",
       "   str9   int64      str9         str9   \n",
       "--------- ----- ------------- -----------\n",
       "    AMICO 10274     5501(53%)   4773(46%)\n",
       "RedMapper 10255     5501(53%)   4754(46%)"
      ]
     },
     "metadata": {},
     "output_type": "display_data"
    }
   ],
   "source": [
    "frac = Table({'cat_name' : ['AMICO', 'RedMapper'], 'total' : [len(c1), len(c2)],\n",
    "        'cross_matched' : [str(len(c_merged_12['cat1_mt_cross'])) + '(' + str(int(len(c_merged_12['cat1_mt_cross'])/len(c1)*100)) + '%)', str(len(c_merged_12['cat2_mt_cross'])) + '(' + str(int(len(c_merged_12['cat2_mt_cross'])/len(c2)*100)) + '%)'],\n",
    "        'not_matched' : [str(len(c1_nm)) + '(' + str(int(len(c1_nm)/len(c1)*100)) +'%)' , str(len(c2_nm)) + '(' + str(int(len(c2_nm)/len(c2)*100)) +'%)']})\n",
    "display(frac)"
   ]
  }
 ],
 "metadata": {
  "kernelspec": {
   "display_name": "desc",
   "language": "python",
   "name": "desc"
  },
  "language_info": {
   "codemirror_mode": {
    "name": "ipython",
    "version": 3
   },
   "file_extension": ".py",
   "mimetype": "text/x-python",
   "name": "python",
   "nbconvert_exporter": "python",
   "pygments_lexer": "ipython3",
   "version": "3.10.9"
  }
 },
 "nbformat": 4,
 "nbformat_minor": 5
}
