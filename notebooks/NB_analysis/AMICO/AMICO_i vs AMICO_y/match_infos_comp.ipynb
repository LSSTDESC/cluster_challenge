{
 "cells": [
  {
   "cell_type": "code",
   "execution_count": 25,
   "id": "3e62947c-cb21-4cc8-9537-6859246059dd",
   "metadata": {},
   "outputs": [],
   "source": [
    "import numpy as np\n",
    "import matplotlib.pyplot as plt\n",
    "from astropy.table import Table\n",
    "from astropy.io import fits\n",
    "from scipy.optimize import curve_fit\n",
    "from clevar.match import output_matched_catalog\n",
    "from clevar.catalog import ClCatalog"
   ]
  },
  {
   "cell_type": "code",
   "execution_count": 26,
   "id": "1d8ad55d-577b-47a3-adeb-319609f8dd53",
   "metadata": {},
   "outputs": [],
   "source": [
    "iinpath = \"/sps/lsst/groups/clusters/amico_validation_project/catalogs/matching_cats/amico_cosmoDC2/mag_i/\"\n",
    "yinpath = \"/sps/lsst/groups/clusters/amico_validation_project/catalogs/matching_cats/amico_cosmoDC2/mag_y/\""
   ]
  },
  {
   "cell_type": "code",
   "execution_count": 27,
   "id": "ef5608dd-af25-4e39-8908-edff82f9b3e2",
   "metadata": {},
   "outputs": [],
   "source": [
    "p1 = Table.read(iinpath + 'match_info_p.fits')\n",
    "p2 = Table.read(yinpath + 'match_info_p.fits')"
   ]
  },
  {
   "cell_type": "code",
   "execution_count": 42,
   "id": "4a18d981-7464-443c-bc0e-7f9ad7ff5ea2",
   "metadata": {},
   "outputs": [],
   "source": [
    "per1 = (p1['cross']/p1['total']*100).astype(int)\n",
    "per2 = (p2['cross']/p2['total']*100).astype(int)\n",
    "nm1 = p1['total']-p1['cross']\n",
    "nm2 = p2['total']-p2['cross']"
   ]
  },
  {
   "cell_type": "code",
   "execution_count": 39,
   "id": "d8636858-4bfd-41f1-9086-39f32522c85e",
   "metadata": {},
   "outputs": [
    {
     "data": {
      "text/html": [
       "&lt;Column name=&apos;cross&apos; dtype=&apos;int64&apos; length=2&gt;\n",
       "<table>\n",
       "<tr><td>91</td></tr>\n",
       "<tr><td>17</td></tr>\n",
       "</table>"
      ],
      "text/plain": [
       "<Column name='cross' dtype='int64' length=2>\n",
       "91\n",
       "17"
      ]
     },
     "execution_count": 39,
     "metadata": {},
     "output_type": "execute_result"
    }
   ],
   "source": [
    "per11"
   ]
  },
  {
   "cell_type": "code",
   "execution_count": 47,
   "id": "21ce0f4a-c80c-4881-b057-edcf5026469d",
   "metadata": {},
   "outputs": [
    {
     "data": {
      "text/html": [
       "<div><i>Table length=2</i>\n",
       "<table id=\"table140550730810752\" class=\"table-striped table-bordered table-condensed\">\n",
       "<thead><tr><th>cat_name</th><th>total</th><th>cross_matched</th><th>not_matched</th></tr></thead>\n",
       "<thead><tr><th>str9</th><th>int64</th><th>str11</th><th>str11</th></tr></thead>\n",
       "<tr><td>p-AMICO_i</td><td>135916</td><td>124373(91%)</td><td>11543(8%)</td></tr>\n",
       "<tr><td>cosmoDC2</td><td>697593</td><td>124373(17%)</td><td>573220(82%)</td></tr>\n",
       "</table></div>"
      ],
      "text/plain": [
       "<Table length=2>\n",
       " cat_name total  cross_matched not_matched\n",
       "   str9   int64      str11        str11   \n",
       "--------- ------ ------------- -----------\n",
       "p-AMICO_i 135916   124373(91%)   11543(8%)\n",
       " cosmoDC2 697593   124373(17%) 573220(82%)"
      ]
     },
     "metadata": {},
     "output_type": "display_data"
    },
    {
     "data": {
      "text/html": [
       "<div><i>Table length=2</i>\n",
       "<table id=\"table140550730811904\" class=\"table-striped table-bordered table-condensed\">\n",
       "<thead><tr><th>cat_name</th><th>total</th><th>cross_matched</th><th>not_matched</th></tr></thead>\n",
       "<thead><tr><th>str9</th><th>int64</th><th>str11</th><th>str11</th></tr></thead>\n",
       "<tr><td>p-AMICO_y</td><td>165149</td><td>148709(90%)</td><td>16440(9%)</td></tr>\n",
       "<tr><td>cosmoDC2</td><td>697593</td><td>148709(21%)</td><td>548884(78%)</td></tr>\n",
       "</table></div>"
      ],
      "text/plain": [
       "<Table length=2>\n",
       " cat_name total  cross_matched not_matched\n",
       "   str9   int64      str11        str11   \n",
       "--------- ------ ------------- -----------\n",
       "p-AMICO_y 165149   148709(90%)   16440(9%)\n",
       " cosmoDC2 697593   148709(21%) 548884(78%)"
      ]
     },
     "metadata": {},
     "output_type": "display_data"
    }
   ],
   "source": [
    "frac1 = Table({'cat_name' : ['p-AMICO_i', 'cosmoDC2'], 'total' : [p1['total'][0], p1['total'][1]],\n",
    "        'cross_matched' : [str(p1['cross'][0]) + '(' + str(per1[0]) + '%)', str(p1['cross'][1]) + '(' + str(per1[1]) + '%)'],\n",
    "        'not_matched' : [str(nm1[0]) + '(' + str(int(nm1[0]/p1['total'][0]*100)) +'%)' , str(nm1[1]) + '(' + str(int(nm1[1]/p1['total'][1]*100)) +'%)']})\n",
    "frac2 = Table({'cat_name' : ['p-AMICO_y', 'cosmoDC2'], 'total' : [p2['total'][0], p2['total'][1]],\n",
    "        'cross_matched' : [str(p2['cross'][0]) + '(' + str(per2[0]) + '%)', str(p2['cross'][1]) + '(' + str(per2[1]) + '%)'],\n",
    "        'not_matched' : [str(nm2[0]) + '(' + str(int(nm2[0]/p2['total'][0]*100)) +'%)' , str(nm2[1]) + '(' + str(int(nm2[1]/p2['total'][1]*100)) +'%)']})\n",
    "display(frac1, frac2)"
   ]
  },
  {
   "cell_type": "code",
   "execution_count": null,
   "id": "8b52d5e0-e96d-4283-9f52-86ef11510bd7",
   "metadata": {},
   "outputs": [],
   "source": []
  },
  {
   "cell_type": "code",
   "execution_count": 31,
   "id": "8acd5d18-55e9-4533-a164-712a4762689d",
   "metadata": {},
   "outputs": [],
   "source": [
    "m1 = Table.read(iinpath + '0.0/match_info_mb.fits')\n",
    "m1a = Table.read(iinpath + '0.05/match_info_mb.fits')\n",
    "m1b = Table.read(iinpath + '0.1/match_info_mb.fits')\n",
    "m1c = Table.read(iinpath + '0.2/match_info_mb.fits')\n",
    "m2 = Table.read(yinpath + '0.0/match_info_mb.fits')"
   ]
  },
  {
   "cell_type": "code",
   "execution_count": 48,
   "id": "6b10cf8c-8b0b-4c73-9f6e-a5bf5030c043",
   "metadata": {},
   "outputs": [],
   "source": [
    "per1 = (m1['cross']/m1['total']*100).astype(int)\n",
    "per1a = (m1a['cross']/m1a['total']*100).astype(int)\n",
    "per1b = (m1b['cross']/m1b['total']*100).astype(int)\n",
    "per1c = (m1c['cross']/m1c['total']*100).astype(int)\n",
    "per2 = (m2['cross']/m2['total']*100).astype(int)\n",
    "nm1 = m1['total']-m1['cross']\n",
    "nm1a = m1a['total']-m1a['cross']\n",
    "nm1b = m1b['total']-m1b['cross']\n",
    "nm1c = m1c['total']-m1c['cross']\n",
    "nm2 = m2['total']-m2['cross']"
   ]
  },
  {
   "cell_type": "code",
   "execution_count": 52,
   "id": "b1dfe8e8-f8cf-4bd1-9e52-32026d313050",
   "metadata": {},
   "outputs": [
    {
     "data": {
      "text/html": [
       "<div><i>Table length=2</i>\n",
       "<table id=\"table140550693129376\" class=\"table-striped table-bordered table-condensed\">\n",
       "<thead><tr><th>cat_name</th><th>total</th><th>cross_matched</th><th>not_matched</th></tr></thead>\n",
       "<thead><tr><th>str10</th><th>int64</th><th>str11</th><th>str11</th></tr></thead>\n",
       "<tr><td>mb-AMICO_i</td><td>135916</td><td>128598(94%)</td><td>7318(5%)</td></tr>\n",
       "<tr><td>cosmoDC2</td><td>697593</td><td>128598(18%)</td><td>568995(81%)</td></tr>\n",
       "</table></div>"
      ],
      "text/plain": [
       "<Table length=2>\n",
       " cat_name  total  cross_matched not_matched\n",
       "  str10    int64      str11        str11   \n",
       "---------- ------ ------------- -----------\n",
       "mb-AMICO_i 135916   128598(94%)    7318(5%)\n",
       "  cosmoDC2 697593   128598(18%) 568995(81%)"
      ]
     },
     "metadata": {},
     "output_type": "display_data"
    },
    {
     "data": {
      "text/html": [
       "<div><i>Table length=2</i>\n",
       "<table id=\"table140550693132832\" class=\"table-striped table-bordered table-condensed\">\n",
       "<thead><tr><th>cat_name</th><th>total</th><th>cross_matched</th><th>not_matched</th></tr></thead>\n",
       "<thead><tr><th>str10</th><th>int64</th><th>str10</th><th>str11</th></tr></thead>\n",
       "<tr><td>mb-AMICO_i</td><td>135916</td><td>88679(65%)</td><td>47237(34%)</td></tr>\n",
       "<tr><td>cosmoDC2</td><td>697593</td><td>88679(12%)</td><td>608914(87%)</td></tr>\n",
       "</table></div>"
      ],
      "text/plain": [
       "<Table length=2>\n",
       " cat_name  total  cross_matched not_matched\n",
       "  str10    int64      str10        str11   \n",
       "---------- ------ ------------- -----------\n",
       "mb-AMICO_i 135916    88679(65%)  47237(34%)\n",
       "  cosmoDC2 697593    88679(12%) 608914(87%)"
      ]
     },
     "metadata": {},
     "output_type": "display_data"
    },
    {
     "data": {
      "text/html": [
       "<div><i>Table length=2</i>\n",
       "<table id=\"table140550693129040\" class=\"table-striped table-bordered table-condensed\">\n",
       "<thead><tr><th>cat_name</th><th>total</th><th>cross_matched</th><th>not_matched</th></tr></thead>\n",
       "<thead><tr><th>str10</th><th>int64</th><th>str10</th><th>str11</th></tr></thead>\n",
       "<tr><td>mb-AMICO_i</td><td>135916</td><td>67877(49%)</td><td>68039(50%)</td></tr>\n",
       "<tr><td>cosmoDC2</td><td>697593</td><td>67877(9%)</td><td>629716(90%)</td></tr>\n",
       "</table></div>"
      ],
      "text/plain": [
       "<Table length=2>\n",
       " cat_name  total  cross_matched not_matched\n",
       "  str10    int64      str10        str11   \n",
       "---------- ------ ------------- -----------\n",
       "mb-AMICO_i 135916    67877(49%)  68039(50%)\n",
       "  cosmoDC2 697593     67877(9%) 629716(90%)"
      ]
     },
     "metadata": {},
     "output_type": "display_data"
    },
    {
     "data": {
      "text/html": [
       "<div><i>Table length=2</i>\n",
       "<table id=\"table140550896757024\" class=\"table-striped table-bordered table-condensed\">\n",
       "<thead><tr><th>cat_name</th><th>total</th><th>cross_matched</th><th>not_matched</th></tr></thead>\n",
       "<thead><tr><th>str10</th><th>int64</th><th>str10</th><th>str11</th></tr></thead>\n",
       "<tr><td>mb-AMICO_i</td><td>135916</td><td>23161(17%)</td><td>112755(82%)</td></tr>\n",
       "<tr><td>cosmoDC2</td><td>697593</td><td>23161(3%)</td><td>674432(96%)</td></tr>\n",
       "</table></div>"
      ],
      "text/plain": [
       "<Table length=2>\n",
       " cat_name  total  cross_matched not_matched\n",
       "  str10    int64      str10        str11   \n",
       "---------- ------ ------------- -----------\n",
       "mb-AMICO_i 135916    23161(17%) 112755(82%)\n",
       "  cosmoDC2 697593     23161(3%) 674432(96%)"
      ]
     },
     "metadata": {},
     "output_type": "display_data"
    },
    {
     "data": {
      "text/html": [
       "<div><i>Table length=2</i>\n",
       "<table id=\"table140550693127696\" class=\"table-striped table-bordered table-condensed\">\n",
       "<thead><tr><th>cat_name</th><th>total</th><th>cross_matched</th><th>not_matched</th></tr></thead>\n",
       "<thead><tr><th>str10</th><th>int64</th><th>str11</th><th>str11</th></tr></thead>\n",
       "<tr><td>mb-AMICO_y</td><td>165149</td><td>158962(96%)</td><td>6187(3%)</td></tr>\n",
       "<tr><td>cosmoDC2</td><td>697593</td><td>158962(22%)</td><td>538631(77%)</td></tr>\n",
       "</table></div>"
      ],
      "text/plain": [
       "<Table length=2>\n",
       " cat_name  total  cross_matched not_matched\n",
       "  str10    int64      str11        str11   \n",
       "---------- ------ ------------- -----------\n",
       "mb-AMICO_y 165149   158962(96%)    6187(3%)\n",
       "  cosmoDC2 697593   158962(22%) 538631(77%)"
      ]
     },
     "metadata": {},
     "output_type": "display_data"
    }
   ],
   "source": [
    "frac1 = Table({'cat_name' : ['mb-AMICO_i', 'cosmoDC2'], 'total' : [m1['total'][0], m1['total'][1]],\n",
    "        'cross_matched' : [str(m1['cross'][0]) + '(' + str(per1[0]) + '%)', str(m1['cross'][1]) + '(' + str(per1[1]) + '%)'],\n",
    "        'not_matched' : [str(nm1[0]) + '(' + str(int(nm1[0]/m1['total'][0]*100)) +'%)' , str(nm1[1]) + '(' + str(int(nm1[1]/m1['total'][1]*100)) +'%)']})\n",
    "frac1a = Table({'cat_name' : ['mb-AMICO_i', 'cosmoDC2'], 'total' : [m1a['total'][0], m1a['total'][1]],\n",
    "        'cross_matched' : [str(m1a['cross'][0]) + '(' + str(per1a[0]) + '%)', str(m1a['cross'][1]) + '(' + str(per1a[1]) + '%)'],\n",
    "        'not_matched' : [str(nm1a[0]) + '(' + str(int(nm1a[0]/m1a['total'][0]*100)) +'%)' , str(nm1a[1]) + '(' + str(int(nm1a[1]/m1a['total'][1]*100)) +'%)']})\n",
    "frac1b = Table({'cat_name' : ['mb-AMICO_i', 'cosmoDC2'], 'total' : [m1b['total'][0], m1b['total'][1]],\n",
    "        'cross_matched' : [str(m1b['cross'][0]) + '(' + str(per1b[0]) + '%)', str(m1b['cross'][1]) + '(' + str(per1b[1]) + '%)'],\n",
    "        'not_matched' : [str(nm1b[0]) + '(' + str(int(nm1b[0]/m1b['total'][0]*100)) +'%)' , str(nm1b[1]) + '(' + str(int(nm1b[1]/m1b['total'][1]*100)) +'%)']})\n",
    "frac1c = Table({'cat_name' : ['mb-AMICO_i', 'cosmoDC2'], 'total' : [m1c['total'][0], m1c['total'][1]],\n",
    "        'cross_matched' : [str(m1c['cross'][0]) + '(' + str(per1c[0]) + '%)', str(m1c['cross'][1]) + '(' + str(per1c[1]) + '%)'],\n",
    "        'not_matched' : [str(nm1c[0]) + '(' + str(int(nm1c[0]/m1c['total'][0]*100)) +'%)' , str(nm1c[1]) + '(' + str(int(nm1c[1]/m1c['total'][1]*100)) +'%)']})\n",
    "frac2 = Table({'cat_name' : ['mb-AMICO_y', 'cosmoDC2'], 'total' : [m2['total'][0], m2['total'][1]],\n",
    "        'cross_matched' : [str(m2['cross'][0]) + '(' + str(per2[0]) + '%)', str(m2['cross'][1]) + '(' + str(per2[1]) + '%)'],\n",
    "        'not_matched' : [str(nm2[0]) + '(' + str(int(nm2[0]/m2['total'][0]*100)) +'%)' , str(nm2[1]) + '(' + str(int(nm2[1]/m2['total'][1]*100)) +'%)']})\n",
    "display(frac1,frac1a,frac1b,frac1c, frac2)"
   ]
  },
  {
   "cell_type": "code",
   "execution_count": 29,
   "id": "a8bf6797-e4f7-4e40-93a8-1b7ef16e4e99",
   "metadata": {},
   "outputs": [
    {
     "data": {
      "text/html": [
       "<div><i>Table length=2</i>\n",
       "<table id=\"table140550730808048\" class=\"table-striped table-bordered table-condensed\">\n",
       "<thead><tr><th>id</th><th>total</th><th>unique (self)</th><th>unique (other)</th><th>multiple (self)</th><th>multiple (other)</th><th>cross</th></tr></thead>\n",
       "<thead><tr><th>bytes2</th><th>int64</th><th>int64</th><th>int64</th><th>int64</th><th>int64</th><th>int64</th></tr></thead>\n",
       "<tr><td>c1</td><td>135916</td><td>124477</td><td>124480</td><td>127182</td><td>127182</td><td>124373</td></tr>\n",
       "<tr><td>c2</td><td>697593</td><td>124480</td><td>124477</td><td>250836</td><td>250836</td><td>124373</td></tr>\n",
       "</table></div>"
      ],
      "text/plain": [
       "<Table length=2>\n",
       "  id   total  unique (self) ... multiple (self) multiple (other) cross \n",
       "bytes2 int64      int64     ...      int64           int64       int64 \n",
       "------ ------ ------------- ... --------------- ---------------- ------\n",
       "    c1 135916        124477 ...          127182           127182 124373\n",
       "    c2 697593        124480 ...          250836           250836 124373"
      ]
     },
     "metadata": {},
     "output_type": "display_data"
    },
    {
     "data": {
      "text/html": [
       "<div><i>Table length=2</i>\n",
       "<table id=\"table140550732499792\" class=\"table-striped table-bordered table-condensed\">\n",
       "<thead><tr><th>id</th><th>total</th><th>unique (self)</th><th>unique (other)</th><th>multiple (self)</th><th>multiple (other)</th><th>cross</th></tr></thead>\n",
       "<thead><tr><th>bytes2</th><th>int64</th><th>int64</th><th>int64</th><th>int64</th><th>int64</th><th>int64</th></tr></thead>\n",
       "<tr><td>c1</td><td>165149</td><td>148864</td><td>148867</td><td>152921</td><td>152921</td><td>148709</td></tr>\n",
       "<tr><td>c2</td><td>697593</td><td>148867</td><td>148864</td><td>290969</td><td>290969</td><td>148709</td></tr>\n",
       "</table></div>"
      ],
      "text/plain": [
       "<Table length=2>\n",
       "  id   total  unique (self) ... multiple (self) multiple (other) cross \n",
       "bytes2 int64      int64     ...      int64           int64       int64 \n",
       "------ ------ ------------- ... --------------- ---------------- ------\n",
       "    c1 165149        148864 ...          152921           152921 148709\n",
       "    c2 697593        148867 ...          290969           290969 148709"
      ]
     },
     "metadata": {},
     "output_type": "display_data"
    }
   ],
   "source": [
    "display(p1, p2)"
   ]
  },
  {
   "cell_type": "code",
   "execution_count": 32,
   "id": "d82d4971-5455-4142-8fa1-41ee6dd74b2f",
   "metadata": {},
   "outputs": [
    {
     "data": {
      "text/html": [
       "<div><i>Table length=2</i>\n",
       "<table id=\"table140550730817952\" class=\"table-striped table-bordered table-condensed\">\n",
       "<thead><tr><th>id</th><th>total</th><th>unique (self)</th><th>unique (other)</th><th>multiple (self)</th><th>multiple (other)</th><th>cross</th></tr></thead>\n",
       "<thead><tr><th>bytes2</th><th>int64</th><th>int64</th><th>int64</th><th>int64</th><th>int64</th><th>int64</th></tr></thead>\n",
       "<tr><td>c1</td><td>135916</td><td>128745</td><td>129858</td><td>133650</td><td>133650</td><td>128598</td></tr>\n",
       "<tr><td>c2</td><td>697593</td><td>129858</td><td>128745</td><td>272009</td><td>272009</td><td>128598</td></tr>\n",
       "</table></div>"
      ],
      "text/plain": [
       "<Table length=2>\n",
       "  id   total  unique (self) ... multiple (self) multiple (other) cross \n",
       "bytes2 int64      int64     ...      int64           int64       int64 \n",
       "------ ------ ------------- ... --------------- ---------------- ------\n",
       "    c1 135916        128745 ...          133650           133650 128598\n",
       "    c2 697593        129858 ...          272009           272009 128598"
      ]
     },
     "metadata": {},
     "output_type": "display_data"
    },
    {
     "data": {
      "text/html": [
       "<div><i>Table length=2</i>\n",
       "<table id=\"table140550730973488\" class=\"table-striped table-bordered table-condensed\">\n",
       "<thead><tr><th>id</th><th>total</th><th>unique (self)</th><th>unique (other)</th><th>multiple (self)</th><th>multiple (other)</th><th>cross</th></tr></thead>\n",
       "<thead><tr><th>bytes2</th><th>int64</th><th>int64</th><th>int64</th><th>int64</th><th>int64</th><th>int64</th></tr></thead>\n",
       "<tr><td>c1</td><td>135916</td><td>88967</td><td>124730</td><td>111863</td><td>126459</td><td>88679</td></tr>\n",
       "<tr><td>c2</td><td>697593</td><td>124730</td><td>88967</td><td>206251</td><td>192715</td><td>88679</td></tr>\n",
       "</table></div>"
      ],
      "text/plain": [
       "<Table length=2>\n",
       "  id   total  unique (self) ... multiple (self) multiple (other) cross\n",
       "bytes2 int64      int64     ...      int64           int64       int64\n",
       "------ ------ ------------- ... --------------- ---------------- -----\n",
       "    c1 135916         88967 ...          111863           126459 88679\n",
       "    c2 697593        124730 ...          206251           192715 88679"
      ]
     },
     "metadata": {},
     "output_type": "display_data"
    },
    {
     "data": {
      "text/html": [
       "<div><i>Table length=2</i>\n",
       "<table id=\"table140550730811952\" class=\"table-striped table-bordered table-condensed\">\n",
       "<thead><tr><th>id</th><th>total</th><th>unique (self)</th><th>unique (other)</th><th>multiple (self)</th><th>multiple (other)</th><th>cross</th></tr></thead>\n",
       "<thead><tr><th>bytes2</th><th>int64</th><th>int64</th><th>int64</th><th>int64</th><th>int64</th><th>int64</th></tr></thead>\n",
       "<tr><td>c1</td><td>135916</td><td>68153</td><td>108935</td><td>99623</td><td>111769</td><td>67877</td></tr>\n",
       "<tr><td>c2</td><td>697593</td><td>108935</td><td>68153</td><td>143218</td><td>148090</td><td>67877</td></tr>\n",
       "</table></div>"
      ],
      "text/plain": [
       "<Table length=2>\n",
       "  id   total  unique (self) ... multiple (self) multiple (other) cross\n",
       "bytes2 int64      int64     ...      int64           int64       int64\n",
       "------ ------ ------------- ... --------------- ---------------- -----\n",
       "    c1 135916         68153 ...           99623           111769 67877\n",
       "    c2 697593        108935 ...          143218           148090 67877"
      ]
     },
     "metadata": {},
     "output_type": "display_data"
    },
    {
     "data": {
      "text/html": [
       "<div><i>Table length=2</i>\n",
       "<table id=\"table140550730816944\" class=\"table-striped table-bordered table-condensed\">\n",
       "<thead><tr><th>id</th><th>total</th><th>unique (self)</th><th>unique (other)</th><th>multiple (self)</th><th>multiple (other)</th><th>cross</th></tr></thead>\n",
       "<thead><tr><th>bytes2</th><th>int64</th><th>int64</th><th>int64</th><th>int64</th><th>int64</th><th>int64</th></tr></thead>\n",
       "<tr><td>c1</td><td>135916</td><td>23283</td><td>58045</td><td>82786</td><td>63764</td><td>23161</td></tr>\n",
       "<tr><td>c2</td><td>697593</td><td>58045</td><td>23283</td><td>62986</td><td>100492</td><td>23161</td></tr>\n",
       "</table></div>"
      ],
      "text/plain": [
       "<Table length=2>\n",
       "  id   total  unique (self) ... multiple (self) multiple (other) cross\n",
       "bytes2 int64      int64     ...      int64           int64       int64\n",
       "------ ------ ------------- ... --------------- ---------------- -----\n",
       "    c1 135916         23283 ...           82786            63764 23161\n",
       "    c2 697593         58045 ...           62986           100492 23161"
      ]
     },
     "metadata": {},
     "output_type": "display_data"
    },
    {
     "data": {
      "text/html": [
       "<div><i>Table length=2</i>\n",
       "<table id=\"table140550730818000\" class=\"table-striped table-bordered table-condensed\">\n",
       "<thead><tr><th>id</th><th>total</th><th>unique (self)</th><th>unique (other)</th><th>multiple (self)</th><th>multiple (other)</th><th>cross</th></tr></thead>\n",
       "<thead><tr><th>bytes2</th><th>int64</th><th>int64</th><th>int64</th><th>int64</th><th>int64</th><th>int64</th></tr></thead>\n",
       "<tr><td>c1</td><td>165149</td><td>159261</td><td>161211</td><td>164192</td><td>164192</td><td>158962</td></tr>\n",
       "<tr><td>c2</td><td>697593</td><td>161211</td><td>159261</td><td>350976</td><td>350976</td><td>158962</td></tr>\n",
       "</table></div>"
      ],
      "text/plain": [
       "<Table length=2>\n",
       "  id   total  unique (self) ... multiple (self) multiple (other) cross \n",
       "bytes2 int64      int64     ...      int64           int64       int64 \n",
       "------ ------ ------------- ... --------------- ---------------- ------\n",
       "    c1 165149        159261 ...          164192           164192 158962\n",
       "    c2 697593        161211 ...          350976           350976 158962"
      ]
     },
     "metadata": {},
     "output_type": "display_data"
    }
   ],
   "source": [
    "display(m1, m1a, m1b,m1c,m2)"
   ]
  }
 ],
 "metadata": {
  "kernelspec": {
   "display_name": "desc",
   "language": "python",
   "name": "desc"
  },
  "language_info": {
   "codemirror_mode": {
    "name": "ipython",
    "version": 3
   },
   "file_extension": ".py",
   "mimetype": "text/x-python",
   "name": "python",
   "nbconvert_exporter": "python",
   "pygments_lexer": "ipython3",
   "version": "3.10.9"
  }
 },
 "nbformat": 4,
 "nbformat_minor": 5
}
