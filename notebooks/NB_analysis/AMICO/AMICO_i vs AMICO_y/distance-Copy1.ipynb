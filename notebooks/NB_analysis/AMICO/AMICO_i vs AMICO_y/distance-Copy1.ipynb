{
 "cells": [
  {
   "cell_type": "code",
   "execution_count": 1,
   "id": "7c5f2831-cb43-44a0-9e37-cbb5e1153521",
   "metadata": {
    "tags": []
   },
   "outputs": [],
   "source": [
    "import matplotlib.pyplot as plt\n",
    "import numpy as np\n",
    "from astropy.table import Table, hstack, vstack\n",
    "from clevar.catalog import ClCatalog\n",
    "from numpy.ma import masked\n",
    "import sys\n",
    "from clevar.match import output_matched_catalog\n",
    "from clevar.match_metrics import recovery"
   ]
  },
  {
   "cell_type": "code",
   "execution_count": null,
   "id": "4af58ebb-238f-4550-9926-88ccdbecf408",
   "metadata": {},
   "outputs": [],
   "source": [
    "import pandas as pd\n",
    "ClCatalog.read('/sps/lsst/groups/clusters/amico_validation_project/catalogs/AMICO/amico_cats/amico_map_associations_flxzb_mag/mag_i/Catalog_members.fits', 'c1',full=True)"
   ]
  },
  {
   "cell_type": "code",
   "execution_count": 5,
   "id": "91725101-1fa4-4109-8472-73d1834d8535",
   "metadata": {},
   "outputs": [
    {
     "data": {
      "text/html": [
       "<div>\n",
       "<style scoped>\n",
       "    .dataframe tbody tr th:only-of-type {\n",
       "        vertical-align: middle;\n",
       "    }\n",
       "\n",
       "    .dataframe tbody tr th {\n",
       "        vertical-align: top;\n",
       "    }\n",
       "\n",
       "    .dataframe thead th {\n",
       "        text-align: right;\n",
       "    }\n",
       "</style>\n",
       "<table border=\"1\" class=\"dataframe\">\n",
       "  <thead>\n",
       "    <tr style=\"text-align: right;\">\n",
       "      <th></th>\n",
       "      <th>tile</th>\n",
       "      <th>ra_center</th>\n",
       "      <th>dec_center</th>\n",
       "      <th>ra_min</th>\n",
       "      <th>dec_min</th>\n",
       "      <th>ra_max</th>\n",
       "      <th>dec_max</th>\n",
       "      <th>list_of_neighbour_tiles</th>\n",
       "    </tr>\n",
       "  </thead>\n",
       "  <tbody>\n",
       "    <tr>\n",
       "      <th>0</th>\n",
       "      <td>10066</td>\n",
       "      <td>50.638997</td>\n",
       "      <td>-40.244862</td>\n",
       "      <td>49.216301</td>\n",
       "      <td>-41.805161</td>\n",
       "      <td>52.061693</td>\n",
       "      <td>-38.684562</td>\n",
       "      <td>10066,10067,10193,10194,10321,9810,9937,9938</td>\n",
       "    </tr>\n",
       "    <tr>\n",
       "      <th>1</th>\n",
       "      <td>10067</td>\n",
       "      <td>53.451373</td>\n",
       "      <td>-40.249001</td>\n",
       "      <td>52.033020</td>\n",
       "      <td>-41.810426</td>\n",
       "      <td>54.869726</td>\n",
       "      <td>-38.687576</td>\n",
       "      <td>10067,10066,10068,10194,10195,10322,9811,9938,...</td>\n",
       "    </tr>\n",
       "    <tr>\n",
       "      <th>2</th>\n",
       "      <td>10068</td>\n",
       "      <td>56.262048</td>\n",
       "      <td>-40.260136</td>\n",
       "      <td>54.853973</td>\n",
       "      <td>-41.829644</td>\n",
       "      <td>57.670122</td>\n",
       "      <td>-38.690628</td>\n",
       "      <td>10068,10067,10069,10195,10196,10323,9812,9939,...</td>\n",
       "    </tr>\n",
       "    <tr>\n",
       "      <th>3</th>\n",
       "      <td>10069</td>\n",
       "      <td>59.032461</td>\n",
       "      <td>-40.251091</td>\n",
       "      <td>57.587608</td>\n",
       "      <td>-41.818663</td>\n",
       "      <td>60.477315</td>\n",
       "      <td>-38.683520</td>\n",
       "      <td>10069,10068,10070,10196,10197,10324,9813,9940,...</td>\n",
       "    </tr>\n",
       "    <tr>\n",
       "      <th>4</th>\n",
       "      <td>10070</td>\n",
       "      <td>61.843052</td>\n",
       "      <td>-40.240029</td>\n",
       "      <td>60.406108</td>\n",
       "      <td>-41.803828</td>\n",
       "      <td>63.279995</td>\n",
       "      <td>-38.676231</td>\n",
       "      <td>10070,10069,10071,10197,10198,10325,9814,9941,...</td>\n",
       "    </tr>\n",
       "    <tr>\n",
       "      <th>...</th>\n",
       "      <td>...</td>\n",
       "      <td>...</td>\n",
       "      <td>...</td>\n",
       "      <td>...</td>\n",
       "      <td>...</td>\n",
       "      <td>...</td>\n",
       "      <td>...</td>\n",
       "      <td>...</td>\n",
       "    </tr>\n",
       "    <tr>\n",
       "      <th>126</th>\n",
       "      <td>9942</td>\n",
       "      <td>63.287111</td>\n",
       "      <td>-38.541397</td>\n",
       "      <td>61.877807</td>\n",
       "      <td>-40.220881</td>\n",
       "      <td>64.696416</td>\n",
       "      <td>-36.861912</td>\n",
       "      <td>9942,10070,10071,9686,9814,9815,9941,9943</td>\n",
       "    </tr>\n",
       "    <tr>\n",
       "      <th>127</th>\n",
       "      <td>9943</td>\n",
       "      <td>66.089285</td>\n",
       "      <td>-38.695610</td>\n",
       "      <td>64.684080</td>\n",
       "      <td>-40.227196</td>\n",
       "      <td>67.494490</td>\n",
       "      <td>-37.164025</td>\n",
       "      <td>9943,10071,10072,10199,9687,9815,9816,9942,9944</td>\n",
       "    </tr>\n",
       "    <tr>\n",
       "      <th>128</th>\n",
       "      <td>9944</td>\n",
       "      <td>68.899500</td>\n",
       "      <td>-38.680058</td>\n",
       "      <td>67.475030</td>\n",
       "      <td>-40.223403</td>\n",
       "      <td>70.323969</td>\n",
       "      <td>-37.136713</td>\n",
       "      <td>9944,10072,10073,10200,9688,9816,9817,9943,9945</td>\n",
       "    </tr>\n",
       "    <tr>\n",
       "      <th>129</th>\n",
       "      <td>9945</td>\n",
       "      <td>71.707499</td>\n",
       "      <td>-38.750840</td>\n",
       "      <td>70.280184</td>\n",
       "      <td>-40.335040</td>\n",
       "      <td>73.134813</td>\n",
       "      <td>-37.166640</td>\n",
       "      <td>9945,10073,10074,10201,9689,9817,9818,9944,9946</td>\n",
       "    </tr>\n",
       "    <tr>\n",
       "      <th>130</th>\n",
       "      <td>9946</td>\n",
       "      <td>74.515492</td>\n",
       "      <td>-38.711110</td>\n",
       "      <td>73.058112</td>\n",
       "      <td>-40.263973</td>\n",
       "      <td>75.972873</td>\n",
       "      <td>-37.158246</td>\n",
       "      <td>9946,10074,10202,9690,9818,9945</td>\n",
       "    </tr>\n",
       "  </tbody>\n",
       "</table>\n",
       "<p>131 rows × 8 columns</p>\n",
       "</div>"
      ],
      "text/plain": [
       "      tile  ra_center  dec_center     ra_min    dec_min     ra_max    dec_max  \\\n",
       "0    10066  50.638997  -40.244862  49.216301 -41.805161  52.061693 -38.684562   \n",
       "1    10067  53.451373  -40.249001  52.033020 -41.810426  54.869726 -38.687576   \n",
       "2    10068  56.262048  -40.260136  54.853973 -41.829644  57.670122 -38.690628   \n",
       "3    10069  59.032461  -40.251091  57.587608 -41.818663  60.477315 -38.683520   \n",
       "4    10070  61.843052  -40.240029  60.406108 -41.803828  63.279995 -38.676231   \n",
       "..     ...        ...         ...        ...        ...        ...        ...   \n",
       "126   9942  63.287111  -38.541397  61.877807 -40.220881  64.696416 -36.861912   \n",
       "127   9943  66.089285  -38.695610  64.684080 -40.227196  67.494490 -37.164025   \n",
       "128   9944  68.899500  -38.680058  67.475030 -40.223403  70.323969 -37.136713   \n",
       "129   9945  71.707499  -38.750840  70.280184 -40.335040  73.134813 -37.166640   \n",
       "130   9946  74.515492  -38.711110  73.058112 -40.263973  75.972873 -37.158246   \n",
       "\n",
       "                               list_of_neighbour_tiles  \n",
       "0         10066,10067,10193,10194,10321,9810,9937,9938  \n",
       "1    10067,10066,10068,10194,10195,10322,9811,9938,...  \n",
       "2    10068,10067,10069,10195,10196,10323,9812,9939,...  \n",
       "3    10069,10068,10070,10196,10197,10324,9813,9940,...  \n",
       "4    10070,10069,10071,10197,10198,10325,9814,9941,...  \n",
       "..                                                 ...  \n",
       "126          9942,10070,10071,9686,9814,9815,9941,9943  \n",
       "127    9943,10071,10072,10199,9687,9815,9816,9942,9944  \n",
       "128    9944,10072,10073,10200,9688,9816,9817,9943,9945  \n",
       "129    9945,10073,10074,10201,9689,9817,9818,9944,9946  \n",
       "130                    9946,10074,10202,9690,9818,9945  \n",
       "\n",
       "[131 rows x 8 columns]"
      ]
     },
     "execution_count": 5,
     "metadata": {},
     "output_type": "execute_result"
    }
   ],
   "source": [
    "df"
   ]
  },
  {
   "cell_type": "code",
   "execution_count": 14,
   "id": "3244bf79-fe6d-43f3-b725-4ebe7c603d6b",
   "metadata": {},
   "outputs": [
    {
     "data": {
      "text/plain": [
       "array([[10066, 50.63899695706186, -40.2448615016331, ...,\n",
       "        52.06169257732261, -38.68456190832117,\n",
       "        '10066,10067,10193,10194,10321,9810,9937,9938'],\n",
       "       [10067, 53.451373190610525, -40.2490007970094, ...,\n",
       "        54.86972640704586, -38.68757580743026,\n",
       "        '10067,10066,10068,10194,10195,10322,9811,9938,9939'],\n",
       "       [10068, 56.262047743746976, -40.26013602409857, ...,\n",
       "        57.67012208817371, -38.690628252190166,\n",
       "        '10068,10067,10069,10195,10196,10323,9812,9939,9940'],\n",
       "       ...,\n",
       "       [9944, 68.89949966434988, -38.68005827933827, ...,\n",
       "        70.32396926339756, -37.13671305953056,\n",
       "        '9944,10072,10073,10200,9688,9816,9817,9943,9945'],\n",
       "       [9945, 71.70749851675518, -38.750840358633056, ...,\n",
       "        73.13481279391256, -37.16664044457313,\n",
       "        '9945,10073,10074,10201,9689,9817,9818,9944,9946'],\n",
       "       [9946, 74.5154924008457, -38.71110962899139, ...,\n",
       "        75.97287254648704, -37.1582463761312,\n",
       "        '9946,10074,10202,9690,9818,9945']], dtype=object)"
      ]
     },
     "execution_count": 14,
     "metadata": {},
     "output_type": "execute_result"
    }
   ],
   "source": [
    "np.array(df)"
   ]
  },
  {
   "cell_type": "code",
   "execution_count": 39,
   "id": "66c62b74-c831-4e0d-ab44-3e3b87c4cb29",
   "metadata": {},
   "outputs": [],
   "source": [
    "t_df = Table(np.array(df))"
   ]
  },
  {
   "cell_type": "code",
   "execution_count": 40,
   "id": "d9d0dd76-4873-4d94-b78a-b96f243943b2",
   "metadata": {},
   "outputs": [
    {
     "data": {
      "text/html": [
       "<div><i>Table length=131</i>\n",
       "<table id=\"table139921678720672\" class=\"table-striped table-bordered table-condensed\">\n",
       "<thead><tr><th>col0</th><th>col1</th><th>col2</th><th>col3</th><th>col4</th><th>col5</th><th>col6</th><th>col7</th></tr></thead>\n",
       "<thead><tr><th>object</th><th>object</th><th>object</th><th>object</th><th>object</th><th>object</th><th>object</th><th>object</th></tr></thead>\n",
       "<tr><td>10066</td><td>50.63899695706186</td><td>-40.2448615016331</td><td>49.21630133680112</td><td>-41.80516109494504</td><td>52.06169257732261</td><td>-38.68456190832117</td><td>10066,10067,10193,10194,10321,9810,9937,9938</td></tr>\n",
       "<tr><td>10067</td><td>53.451373190610525</td><td>-40.2490007970094</td><td>52.03301997417519</td><td>-41.81042578658853</td><td>54.86972640704586</td><td>-38.68757580743026</td><td>10067,10066,10068,10194,10195,10322,9811,9938,9939</td></tr>\n",
       "<tr><td>10068</td><td>56.262047743746976</td><td>-40.26013602409857</td><td>54.85397339932024</td><td>-41.82964379600697</td><td>57.67012208817371</td><td>-38.690628252190166</td><td>10068,10067,10069,10195,10196,10323,9812,9939,9940</td></tr>\n",
       "<tr><td>10069</td><td>59.03246143231178</td><td>-40.25109148524513</td><td>57.58760778878509</td><td>-41.8186633627292</td><td>60.47731507583847</td><td>-38.68351960776105</td><td>10069,10068,10070,10196,10197,10324,9813,9940,9941</td></tr>\n",
       "<tr><td>10070</td><td>61.84305171412215</td><td>-40.24002937313512</td><td>60.40610840671813</td><td>-41.8038276679632</td><td>63.27999502152616</td><td>-38.67623107830703</td><td>10070,10069,10071,10197,10198,10325,9814,9941,9942</td></tr>\n",
       "<tr><td>10071</td><td>64.68121794072174</td><td>-40.24660035742773</td><td>63.26908689019356</td><td>-41.81619751285344</td><td>66.09334899124991</td><td>-38.67700320200203</td><td>10071,10070,10072,10198,10199,10326,9815,9942,9943</td></tr>\n",
       "<tr><td>10072</td><td>67.49589364552813</td><td>-40.23789509510814</td><td>66.08878718531889</td><td>-41.8017311292613</td><td>68.90300010573735</td><td>-38.67405906095498</td><td>10072,10071,10073,10199,10200,9816,9943,9944</td></tr>\n",
       "<tr><td>10073</td><td>70.3125899154128</td><td>-40.244921403710336</td><td>68.89921495777999</td><td>-41.804737610176986</td><td>71.72596487304561</td><td>-38.68510519724368</td><td>10073,10072,10074,10200,10201,9817,9944,9945</td></tr>\n",
       "<tr><td>10074</td><td>73.1280963237094</td><td>-40.24152803583912</td><td>71.7207446019714</td><td>-41.80629074905239</td><td>74.53544804544741</td><td>-38.67676532262585</td><td>10074,10073,10201,10202,9818,9945,9946</td></tr>\n",
       "<tr><td>10193</td><td>49.222246686701965</td><td>-41.81122744026607</td><td>47.814903654303066</td><td>-43.40394505918847</td><td>50.62958971910087</td><td>-40.21850982134365</td><td>10193,10066,10194,10321,10444,9937</td></tr>\n",
       "<tr><td>...</td><td>...</td><td>...</td><td>...</td><td>...</td><td>...</td><td>...</td><td>...</td></tr>\n",
       "<tr><td>9937</td><td>49.29689320253499</td><td>-38.69703788853319</td><td>47.8099830188354</td><td>-40.22445862061391</td><td>50.78380338623457</td><td>-37.16961715645247</td><td>9937,10066,10193,9681,9810,9938</td></tr>\n",
       "<tr><td>9938</td><td>52.04944726883164</td><td>-38.71444468813522</td><td>50.63029605038266</td><td>-40.25341654128663</td><td>53.46859848728063</td><td>-37.1754728349838</td><td>9938,10066,10067,10194,9682,9810,9811,9937,9939</td></tr>\n",
       "<tr><td>9939</td><td>54.851510861071816</td><td>-38.706025910768815</td><td>53.44533102755685</td><td>-40.23539750362565</td><td>56.25769069458678</td><td>-37.17665431791199</td><td>9939,10067,10068,10195,9683,9811,9812,9938,9940</td></tr>\n",
       "<tr><td>9940</td><td>57.702838088931</td><td>-38.69200768876205</td><td>56.25372534498808</td><td>-40.245786478412725</td><td>59.15195083287392</td><td>-37.13822889911138</td><td>9940,10068,10069,10196,9684,9812,9813,9939,9941</td></tr>\n",
       "<tr><td>9941</td><td>60.45534829308863</td><td>-38.70481671068156</td><td>59.03650275013394</td><td>-40.23401620821869</td><td>61.87419383604332</td><td>-37.17561721314443</td><td>9941,10069,10070,10197,9685,9813,9814,9940,9942</td></tr>\n",
       "<tr><td>9942</td><td>63.28711141201573</td><td>-38.54139668313992</td><td>61.87780680537646</td><td>-40.22088092503383</td><td>64.696416018655</td><td>-36.86191244124601</td><td>9942,10070,10071,9686,9814,9815,9941,9943</td></tr>\n",
       "<tr><td>9943</td><td>66.08928487756747</td><td>-38.69561033224703</td><td>64.68407999787355</td><td>-40.227196158677394</td><td>67.49448975726138</td><td>-37.16402450581667</td><td>9943,10071,10072,10199,9687,9815,9816,9942,9944</td></tr>\n",
       "<tr><td>9944</td><td>68.89949966434988</td><td>-38.68005827933827</td><td>67.47503006530219</td><td>-40.22340349914599</td><td>70.32396926339756</td><td>-37.13671305953056</td><td>9944,10072,10073,10200,9688,9816,9817,9943,9945</td></tr>\n",
       "<tr><td>9945</td><td>71.70749851675518</td><td>-38.750840358633056</td><td>70.28018423959782</td><td>-40.33504027269298</td><td>73.13481279391256</td><td>-37.16664044457313</td><td>9945,10073,10074,10201,9689,9817,9818,9944,9946</td></tr>\n",
       "<tr><td>9946</td><td>74.5154924008457</td><td>-38.71110962899139</td><td>73.05811225520436</td><td>-40.26397288185158</td><td>75.97287254648704</td><td>-37.1582463761312</td><td>9946,10074,10202,9690,9818,9945</td></tr>\n",
       "</table></div>"
      ],
      "text/plain": [
       "<Table length=131>\n",
       " col0         col1        ...                        col7                       \n",
       "object       object       ...                       object                      \n",
       "------ ------------------ ... --------------------------------------------------\n",
       " 10066  50.63899695706186 ...       10066,10067,10193,10194,10321,9810,9937,9938\n",
       " 10067 53.451373190610525 ... 10067,10066,10068,10194,10195,10322,9811,9938,9939\n",
       " 10068 56.262047743746976 ... 10068,10067,10069,10195,10196,10323,9812,9939,9940\n",
       " 10069  59.03246143231178 ... 10069,10068,10070,10196,10197,10324,9813,9940,9941\n",
       " 10070  61.84305171412215 ... 10070,10069,10071,10197,10198,10325,9814,9941,9942\n",
       " 10071  64.68121794072174 ... 10071,10070,10072,10198,10199,10326,9815,9942,9943\n",
       " 10072  67.49589364552813 ...       10072,10071,10073,10199,10200,9816,9943,9944\n",
       " 10073   70.3125899154128 ...       10073,10072,10074,10200,10201,9817,9944,9945\n",
       " 10074   73.1280963237094 ...             10074,10073,10201,10202,9818,9945,9946\n",
       " 10193 49.222246686701965 ...                 10193,10066,10194,10321,10444,9937\n",
       "   ...                ... ...                                                ...\n",
       "  9937  49.29689320253499 ...                    9937,10066,10193,9681,9810,9938\n",
       "  9938  52.04944726883164 ...    9938,10066,10067,10194,9682,9810,9811,9937,9939\n",
       "  9939 54.851510861071816 ...    9939,10067,10068,10195,9683,9811,9812,9938,9940\n",
       "  9940    57.702838088931 ...    9940,10068,10069,10196,9684,9812,9813,9939,9941\n",
       "  9941  60.45534829308863 ...    9941,10069,10070,10197,9685,9813,9814,9940,9942\n",
       "  9942  63.28711141201573 ...          9942,10070,10071,9686,9814,9815,9941,9943\n",
       "  9943  66.08928487756747 ...    9943,10071,10072,10199,9687,9815,9816,9942,9944\n",
       "  9944  68.89949966434988 ...    9944,10072,10073,10200,9688,9816,9817,9943,9945\n",
       "  9945  71.70749851675518 ...    9945,10073,10074,10201,9689,9817,9818,9944,9946\n",
       "  9946   74.5154924008457 ...                    9946,10074,10202,9690,9818,9945"
      ]
     },
     "execution_count": 40,
     "metadata": {},
     "output_type": "execute_result"
    }
   ],
   "source": [
    "t_df"
   ]
  },
  {
   "cell_type": "code",
   "execution_count": 41,
   "id": "8d86cef4-9f9c-4791-bf07-3186676cca7d",
   "metadata": {},
   "outputs": [],
   "source": [
    "t_df['col0'].name = 'tile'\n",
    "t_df['col1'].name = 'ra_center'\n",
    "t_df['col2'].name = 'dec_center'\n",
    "t_df['col3'].name = 'ra_min'\n",
    "t_df['col4'].name = 'dec_min'\n",
    "t_df['col5'].name = 'ra_max'\n",
    "t_df['col6'].name = 'dec_max'\n",
    "t_df['col7'].name = 'list_of_neighbour_tiles'"
   ]
  },
  {
   "cell_type": "code",
   "execution_count": 42,
   "id": "a5c4a785-1e7e-46f7-a4c5-892da4ad5fa0",
   "metadata": {},
   "outputs": [],
   "source": [
    "t_df['tile'] = t_df['tile'].astype(int)\n",
    "t_df['ra_center'] = t_df['ra_center'].astype(float)\n",
    "t_df['dec_center'] = t_df['dec_center'].astype(float)\n",
    "t_df['ra_min'] = t_df['ra_min'].astype(float)\n",
    "t_df['dec_min'] = t_df['dec_min'].astype(float)\n",
    "t_df['ra_max'] = t_df['ra_max'].astype(float)\n",
    "t_df['dec_max'] = t_df['dec_max'].astype(float)\n",
    "t_df['list_of_neighbour_tiles'] = t_df['list_of_neighbour_tiles'].astype(list)"
   ]
  },
  {
   "cell_type": "code",
   "execution_count": 43,
   "id": "29fd7afa-1ed4-41b9-95c9-87843508a1a5",
   "metadata": {},
   "outputs": [],
   "source": [
    "t_df['list_of_neighbour_tiles'] = t_df['list_of_neighbour_tiles'].astype(bytes)"
   ]
  },
  {
   "cell_type": "code",
   "execution_count": 48,
   "id": "ae284448-f94d-4b37-b091-01efecf766d4",
   "metadata": {},
   "outputs": [
    {
     "data": {
      "text/plain": [
       "'10066'"
      ]
     },
     "execution_count": 48,
     "metadata": {},
     "output_type": "execute_result"
    }
   ],
   "source": [
    "t_df['list_of_neighbour_tiles'][0].split(',')[0]"
   ]
  },
  {
   "cell_type": "code",
   "execution_count": 45,
   "id": "2c1989c9-331f-4025-bfc0-87d8882875e6",
   "metadata": {},
   "outputs": [],
   "source": [
    "t_df.write('/sps/lsst/groups/clusters/amico_validation_project/catalogs/CosmoDC2/cosmodc2_neighbours.fits')"
   ]
  },
  {
   "cell_type": "code",
   "execution_count": 54,
   "id": "350917e6-d506-4bb6-a1de-f4be06db3700",
   "metadata": {},
   "outputs": [],
   "source": [
    "tile_l = t_df[t_df['tile']==10066]['list_of_neighbour_tiles'][0].split(',')"
   ]
  },
  {
   "cell_type": "code",
   "execution_count": 55,
   "id": "e72149f4-7283-46ec-8ad2-dbf21beedeee",
   "metadata": {},
   "outputs": [
    {
     "data": {
      "text/plain": [
       "['10066', '10067', '10193', '10194', '10321', '9810', '9937', '9938']"
      ]
     },
     "execution_count": 55,
     "metadata": {},
     "output_type": "execute_result"
    }
   ],
   "source": [
    "tile_l"
   ]
  },
  {
   "cell_type": "code",
   "execution_count": 56,
   "id": "c0a18151-fe16-4239-ad98-0da1e47bdc6e",
   "metadata": {},
   "outputs": [],
   "source": [
    "for i in range(len(tile_l)):\n",
    "    tile_l[i] = int(tile_l[i])"
   ]
  },
  {
   "cell_type": "code",
   "execution_count": 57,
   "id": "baa8fc3d-438e-4c66-9e94-2be95a8eb9ee",
   "metadata": {},
   "outputs": [
    {
     "data": {
      "text/plain": [
       "[10066, 10067, 10193, 10194, 10321, 9810, 9937, 9938]"
      ]
     },
     "execution_count": 57,
     "metadata": {},
     "output_type": "execute_result"
    }
   ],
   "source": [
    "tile_l"
   ]
  },
  {
   "cell_type": "code",
   "execution_count": null,
   "id": "413541ed-5a6d-49a4-8193-dc8f6842bff8",
   "metadata": {},
   "outputs": [],
   "source": [
    "tile_l"
   ]
  },
  {
   "cell_type": "code",
   "execution_count": 16,
   "id": "3429ab3c-9111-41dd-824a-669162596c8a",
   "metadata": {},
   "outputs": [
    {
     "ename": "KeyError",
     "evalue": "'tile'",
     "output_type": "error",
     "traceback": [
      "\u001b[0;31m---------------------------------------------------------------------------\u001b[0m",
      "\u001b[0;31mKeyError\u001b[0m                                  Traceback (most recent call last)",
      "Cell \u001b[0;32mIn [16], line 2\u001b[0m\n\u001b[1;32m      1\u001b[0m new_order \u001b[38;5;241m=\u001b[39m [\u001b[38;5;124m'\u001b[39m\u001b[38;5;124mtile\u001b[39m\u001b[38;5;124m'\u001b[39m, \u001b[38;5;124m'\u001b[39m\u001b[38;5;124mra_center\u001b[39m\u001b[38;5;124m'\u001b[39m, \u001b[38;5;124m'\u001b[39m\u001b[38;5;124mdec_center\u001b[39m\u001b[38;5;124m'\u001b[39m, \u001b[38;5;124m'\u001b[39m\u001b[38;5;124mra_min\u001b[39m\u001b[38;5;124m'\u001b[39m, \u001b[38;5;124m'\u001b[39m\u001b[38;5;124mdec_min\u001b[39m\u001b[38;5;124m'\u001b[39m, \u001b[38;5;124m'\u001b[39m\u001b[38;5;124mra_max\u001b[39m\u001b[38;5;124m'\u001b[39m, \u001b[38;5;124m'\u001b[39m\u001b[38;5;124mdec_max\u001b[39m\u001b[38;5;124m'\u001b[39m, \u001b[38;5;124m'\u001b[39m\u001b[38;5;124mlist_of_neightbour_tiles\u001b[39m\u001b[38;5;124m'\u001b[39m]  \u001b[38;5;66;03m# List or tuple\u001b[39;00m\n\u001b[0;32m----> 2\u001b[0m t_df2 \u001b[38;5;241m=\u001b[39m \u001b[43mt_df\u001b[49m\u001b[43m[\u001b[49m\u001b[43mnew_order\u001b[49m\u001b[43m]\u001b[49m\n",
      "File \u001b[0;32m/sps/lsst/users/namourou/conda_clone_210223/descv1.1/lib/python3.10/site-packages/astropy/table/table.py:1880\u001b[0m, in \u001b[0;36mTable.__getitem__\u001b[0;34m(self, item)\u001b[0m\n\u001b[1;32m   1878\u001b[0m     \u001b[38;5;28;01mreturn\u001b[39;00m \u001b[38;5;28mself\u001b[39m\u001b[38;5;241m.\u001b[39mRow(\u001b[38;5;28mself\u001b[39m, item\u001b[38;5;241m.\u001b[39mitem())\n\u001b[1;32m   1879\u001b[0m \u001b[38;5;28;01melif\u001b[39;00m \u001b[38;5;28mself\u001b[39m\u001b[38;5;241m.\u001b[39m_is_list_or_tuple_of_str(item):\n\u001b[0;32m-> 1880\u001b[0m     out \u001b[38;5;241m=\u001b[39m \u001b[38;5;28mself\u001b[39m\u001b[38;5;241m.\u001b[39m\u001b[38;5;18m__class__\u001b[39m([\u001b[38;5;28mself\u001b[39m[x] \u001b[38;5;28;01mfor\u001b[39;00m x \u001b[38;5;129;01min\u001b[39;00m item],\n\u001b[1;32m   1881\u001b[0m                          copy_indices\u001b[38;5;241m=\u001b[39m\u001b[38;5;28mself\u001b[39m\u001b[38;5;241m.\u001b[39m_copy_indices)\n\u001b[1;32m   1882\u001b[0m     out\u001b[38;5;241m.\u001b[39m_groups \u001b[38;5;241m=\u001b[39m groups\u001b[38;5;241m.\u001b[39mTableGroups(out, indices\u001b[38;5;241m=\u001b[39m\u001b[38;5;28mself\u001b[39m\u001b[38;5;241m.\u001b[39mgroups\u001b[38;5;241m.\u001b[39m_indices,\n\u001b[1;32m   1883\u001b[0m                                      keys\u001b[38;5;241m=\u001b[39m\u001b[38;5;28mself\u001b[39m\u001b[38;5;241m.\u001b[39mgroups\u001b[38;5;241m.\u001b[39m_keys)\n\u001b[1;32m   1884\u001b[0m     out\u001b[38;5;241m.\u001b[39mmeta \u001b[38;5;241m=\u001b[39m \u001b[38;5;28mself\u001b[39m\u001b[38;5;241m.\u001b[39mmeta\u001b[38;5;241m.\u001b[39mcopy()  \u001b[38;5;66;03m# Shallow copy for meta\u001b[39;00m\n",
      "File \u001b[0;32m/sps/lsst/users/namourou/conda_clone_210223/descv1.1/lib/python3.10/site-packages/astropy/table/table.py:1880\u001b[0m, in \u001b[0;36m<listcomp>\u001b[0;34m(.0)\u001b[0m\n\u001b[1;32m   1878\u001b[0m     \u001b[38;5;28;01mreturn\u001b[39;00m \u001b[38;5;28mself\u001b[39m\u001b[38;5;241m.\u001b[39mRow(\u001b[38;5;28mself\u001b[39m, item\u001b[38;5;241m.\u001b[39mitem())\n\u001b[1;32m   1879\u001b[0m \u001b[38;5;28;01melif\u001b[39;00m \u001b[38;5;28mself\u001b[39m\u001b[38;5;241m.\u001b[39m_is_list_or_tuple_of_str(item):\n\u001b[0;32m-> 1880\u001b[0m     out \u001b[38;5;241m=\u001b[39m \u001b[38;5;28mself\u001b[39m\u001b[38;5;241m.\u001b[39m\u001b[38;5;18m__class__\u001b[39m([\u001b[38;5;28;43mself\u001b[39;49m\u001b[43m[\u001b[49m\u001b[43mx\u001b[49m\u001b[43m]\u001b[49m \u001b[38;5;28;01mfor\u001b[39;00m x \u001b[38;5;129;01min\u001b[39;00m item],\n\u001b[1;32m   1881\u001b[0m                          copy_indices\u001b[38;5;241m=\u001b[39m\u001b[38;5;28mself\u001b[39m\u001b[38;5;241m.\u001b[39m_copy_indices)\n\u001b[1;32m   1882\u001b[0m     out\u001b[38;5;241m.\u001b[39m_groups \u001b[38;5;241m=\u001b[39m groups\u001b[38;5;241m.\u001b[39mTableGroups(out, indices\u001b[38;5;241m=\u001b[39m\u001b[38;5;28mself\u001b[39m\u001b[38;5;241m.\u001b[39mgroups\u001b[38;5;241m.\u001b[39m_indices,\n\u001b[1;32m   1883\u001b[0m                                      keys\u001b[38;5;241m=\u001b[39m\u001b[38;5;28mself\u001b[39m\u001b[38;5;241m.\u001b[39mgroups\u001b[38;5;241m.\u001b[39m_keys)\n\u001b[1;32m   1884\u001b[0m     out\u001b[38;5;241m.\u001b[39mmeta \u001b[38;5;241m=\u001b[39m \u001b[38;5;28mself\u001b[39m\u001b[38;5;241m.\u001b[39mmeta\u001b[38;5;241m.\u001b[39mcopy()  \u001b[38;5;66;03m# Shallow copy for meta\u001b[39;00m\n",
      "File \u001b[0;32m/sps/lsst/users/namourou/conda_clone_210223/descv1.1/lib/python3.10/site-packages/astropy/table/table.py:1874\u001b[0m, in \u001b[0;36mTable.__getitem__\u001b[0;34m(self, item)\u001b[0m\n\u001b[1;32m   1872\u001b[0m \u001b[38;5;28;01mdef\u001b[39;00m \u001b[38;5;21m__getitem__\u001b[39m(\u001b[38;5;28mself\u001b[39m, item):\n\u001b[1;32m   1873\u001b[0m     \u001b[38;5;28;01mif\u001b[39;00m \u001b[38;5;28misinstance\u001b[39m(item, \u001b[38;5;28mstr\u001b[39m):\n\u001b[0;32m-> 1874\u001b[0m         \u001b[38;5;28;01mreturn\u001b[39;00m \u001b[38;5;28;43mself\u001b[39;49m\u001b[38;5;241;43m.\u001b[39;49m\u001b[43mcolumns\u001b[49m\u001b[43m[\u001b[49m\u001b[43mitem\u001b[49m\u001b[43m]\u001b[49m\n\u001b[1;32m   1875\u001b[0m     \u001b[38;5;28;01melif\u001b[39;00m \u001b[38;5;28misinstance\u001b[39m(item, (\u001b[38;5;28mint\u001b[39m, np\u001b[38;5;241m.\u001b[39minteger)):\n\u001b[1;32m   1876\u001b[0m         \u001b[38;5;28;01mreturn\u001b[39;00m \u001b[38;5;28mself\u001b[39m\u001b[38;5;241m.\u001b[39mRow(\u001b[38;5;28mself\u001b[39m, item)\n",
      "File \u001b[0;32m/sps/lsst/users/namourou/conda_clone_210223/descv1.1/lib/python3.10/site-packages/astropy/table/table.py:246\u001b[0m, in \u001b[0;36mTableColumns.__getitem__\u001b[0;34m(self, item)\u001b[0m\n\u001b[1;32m    236\u001b[0m \u001b[38;5;124;03m\"\"\"Get items from a TableColumns object.\u001b[39;00m\n\u001b[1;32m    237\u001b[0m \u001b[38;5;124;03m::\u001b[39;00m\n\u001b[1;32m    238\u001b[0m \n\u001b[0;32m   (...)\u001b[0m\n\u001b[1;32m    243\u001b[0m \u001b[38;5;124;03m  tc[1:3] # <TableColumns names=('b', 'c')>\u001b[39;00m\n\u001b[1;32m    244\u001b[0m \u001b[38;5;124;03m\"\"\"\u001b[39;00m\n\u001b[1;32m    245\u001b[0m \u001b[38;5;28;01mif\u001b[39;00m \u001b[38;5;28misinstance\u001b[39m(item, \u001b[38;5;28mstr\u001b[39m):\n\u001b[0;32m--> 246\u001b[0m     \u001b[38;5;28;01mreturn\u001b[39;00m \u001b[43mOrderedDict\u001b[49m\u001b[38;5;241;43m.\u001b[39;49m\u001b[38;5;21;43m__getitem__\u001b[39;49m\u001b[43m(\u001b[49m\u001b[38;5;28;43mself\u001b[39;49m\u001b[43m,\u001b[49m\u001b[43m \u001b[49m\u001b[43mitem\u001b[49m\u001b[43m)\u001b[49m\n\u001b[1;32m    247\u001b[0m \u001b[38;5;28;01melif\u001b[39;00m \u001b[38;5;28misinstance\u001b[39m(item, (\u001b[38;5;28mint\u001b[39m, np\u001b[38;5;241m.\u001b[39minteger)):\n\u001b[1;32m    248\u001b[0m     \u001b[38;5;28;01mreturn\u001b[39;00m \u001b[38;5;28mlist\u001b[39m(\u001b[38;5;28mself\u001b[39m\u001b[38;5;241m.\u001b[39mvalues())[item]\n",
      "\u001b[0;31mKeyError\u001b[0m: 'tile'"
     ]
    }
   ],
   "source": [
    "new_order = ['tile', 'ra_center', 'dec_center', 'ra_min', 'dec_min', 'ra_max', 'dec_max', 'list_of_neightbour_tiles']  # List or tuple\n",
    "t_df2 = t_df[new_order]"
   ]
  },
  {
   "cell_type": "code",
   "execution_count": null,
   "id": "e6e29ca2-456d-4c16-8d9f-4ea0e22c64b0",
   "metadata": {},
   "outputs": [
    {
     "name": "stderr",
     "output_type": "stream",
     "text": [
      "/sps/lsst/users/namourou/conda_clone_210223/descv1.1/clevar/clevar/catalog.py:267: UserWarning: id column missing, additional one is being created.\n",
      "  warnings.warn(\n"
     ]
    }
   ],
   "source": [
    "c_merged_12 = ClCatalog.read(path+'output_catalog_' + 'p' + '.fits', 'merged',  full=True)"
   ]
  },
  {
   "cell_type": "code",
   "execution_count": null,
   "id": "115154fb-9564-4249-8649-3096a2f359f2",
   "metadata": {},
   "outputs": [],
   "source": [
    "delta_ra = c_merged_12['cat1_ra']-c_merged_12['cat2_ra']\n",
    "delta_dec = c_merged_12['cat1_dec']-c_merged_12['cat2_dec']"
   ]
  },
  {
   "cell_type": "code",
   "execution_count": null,
   "id": "2a4448ee-753b-48b1-b62f-0986028fcf7a",
   "metadata": {},
   "outputs": [
    {
     "data": {
      "text/plain": [
       "<matplotlib.legend.Legend at 0x7f0564ef8a90>"
      ]
     },
     "execution_count": 19,
     "metadata": {},
     "output_type": "execute_result"
    },
    {
     "data": {
      "image/png": "[encoded data removed]",
      "text/plain": [
       "<Figure size 640x480 with 1 Axes>"
      ]
     },
     "metadata": {},
     "output_type": "display_data"
    }
   ],
   "source": [
    "plt.hist(delta_ra, bins = np.linspace(-0.075,0.075,50), alpha = .5, label = 'ra')\n",
    "plt.hist(delta_dec, bins = np.linspace(-0.075,0.075,50), alpha = .5, label = 'dec')\n",
    "plt.xlim(-0.1,0.1)\n",
    "plt.xlabel('$\\Delta\\\\theta$')\n",
    "plt.ylabel('Number of matches')\n",
    "plt.title('AMICO-cosmoDC2')\n",
    "plt.legend()"
   ]
  },
  {
   "cell_type": "markdown",
   "id": "8c739154-5fec-4a4f-9d3a-80e97a666ad3",
   "metadata": {},
   "source": [
    "W/ RedMapper"
   ]
  },
  {
   "cell_type": "code",
   "execution_count": null,
   "id": "322d9d9a-2dde-4de0-b171-bf6854f387ff",
   "metadata": {},
   "outputs": [],
   "source": [
    "path = '/sps/lsst/groups/clusters/amico_validation_project/catalogs/matching_cats/amico_redmapper/'\n",
    "c1 = ClCatalog.read(path + 'c1_p.fits', 'c1', full=True)\n",
    "c2 = ClCatalog.read(path + 'c2_p.fits', 'c2', full=True)\n",
    "c_merged_12 = ClCatalog.read(path+'output_catalog_' + 'p' + '.fits', 'merged',  full=True)"
   ]
  },
  {
   "cell_type": "code",
   "execution_count": null,
   "id": "ccd1cd0a-1e2a-46f8-95ff-55638c9556ba",
   "metadata": {},
   "outputs": [],
   "source": [
    "delta_ra = c_merged_12['cat1_ra']-c_merged_12['cat2_ra']\n",
    "delta_dec = c_merged_12['cat1_dec']-c_merged_12['cat2_dec']"
   ]
  },
  {
   "cell_type": "code",
   "execution_count": null,
   "id": "a9f033b8-041c-4ef5-863d-760270b3a8f2",
   "metadata": {},
   "outputs": [
    {
     "data": {
      "text/plain": [
       "<matplotlib.legend.Legend at 0x7f0564efabf0>"
      ]
     },
     "execution_count": 24,
     "metadata": {},
     "output_type": "execute_result"
    },
    {
     "data": {
      "image/png": "[encoded data removed]",
      "text/plain": [
       "<Figure size 640x480 with 1 Axes>"
      ]
     },
     "metadata": {},
     "output_type": "display_data"
    }
   ],
   "source": [
    "plt.hist(delta_ra, bins = np.linspace(-0.075,0.075,50), alpha = .5, label = 'ra')\n",
    "plt.hist(delta_dec, bins = np.linspace(-0.075,0.075,50), alpha = .5, label = 'dec')\n",
    "plt.xlim(-0.1,0.1)\n",
    "plt.xlabel('$\\Delta\\\\theta$')\n",
    "plt.ylabel('Number of matches')\n",
    "plt.title('AMICO-RedMapper')\n",
    "plt.legend()"
   ]
  },
  {
   "cell_type": "code",
   "execution_count": null,
   "id": "19204b63-68b0-4935-9e22-c16c8dd2800a",
   "metadata": {},
   "outputs": [
    {
     "data": {
      "text/plain": [
       "(5.007845, 7675484754208.451, 266.29504, 1896877410332845.2)"
      ]
     },
     "execution_count": 61,
     "metadata": {},
     "output_type": "execute_result"
    }
   ],
   "source": [
    "min(c1['mass']), min(c2['mass']), max(c1['mass']), max(c2['mass'])"
   ]
  },
  {
   "cell_type": "markdown",
   "id": "637fc653-3463-4cf5-9566-e3d531b5110c",
   "metadata": {},
   "source": [
    "rm w/ cdc"
   ]
  },
  {
   "cell_type": "code",
   "execution_count": null,
   "id": "dbcd1848-fe54-4f01-91bd-aab54274c36c",
   "metadata": {},
   "outputs": [],
   "source": [
    "path = '/sps/lsst/groups/clusters/amico_validation_project/catalogs/matching_cats/redmapper_cosmoDC2/'\n",
    "c1 = ClCatalog.read(path + 'c1_p.fits', 'c1', full=True)\n",
    "c2 = ClCatalog.read(path + 'c2_p.fits', 'c2', full=True)\n",
    "c_merged_12 = ClCatalog.read(path+'output_catalog_' + 'p' + '.fits', 'merged',  full=True)"
   ]
  },
  {
   "cell_type": "code",
   "execution_count": null,
   "id": "3ca1d157-3755-4cbe-bdb0-c3c6096c5b1b",
   "metadata": {},
   "outputs": [],
   "source": [
    "delta_ra = c_merged_12['cat1_ra']-c_merged_12['cat2_ra']\n",
    "delta_dec = c_merged_12['cat1_dec']-c_merged_12['cat2_dec']"
   ]
  },
  {
   "cell_type": "code",
   "execution_count": null,
   "id": "300955ad-5638-4280-accb-b9e328da4c1c",
   "metadata": {},
   "outputs": [
    {
     "data": {
      "text/plain": [
       "<matplotlib.legend.Legend at 0x7f0565545fc0>"
      ]
     },
     "execution_count": 27,
     "metadata": {},
     "output_type": "execute_result"
    },
    {
     "data": {
      "image/png": "[encoded data removed]",
      "text/plain": [
       "<Figure size 640x480 with 1 Axes>"
      ]
     },
     "metadata": {},
     "output_type": "display_data"
    }
   ],
   "source": [
    "plt.hist(delta_ra, bins = np.linspace(-0.075,0.075,50), alpha = .5, label = 'ra')\n",
    "plt.hist(delta_dec, bins = np.linspace(-0.075,0.075,50), alpha = .5, label = 'dec')\n",
    "plt.xlim(-0.1,0.1)\n",
    "plt.xlabel('$\\Delta\\\\theta$')\n",
    "plt.ylabel('Number of matches')\n",
    "plt.title('RedMapper-cosmoDC2')\n",
    "plt.legend()"
   ]
  },
  {
   "cell_type": "code",
   "execution_count": null,
   "id": "e8b9718d-27f5-4b4a-9435-958886a6ca40",
   "metadata": {},
   "outputs": [],
   "source": []
  }
 ],
 "metadata": {
  "kernelspec": {
   "display_name": "desc",
   "language": "python",
   "name": "desc"
  },
  "language_info": {
   "codemirror_mode": {
    "name": "ipython",
    "version": 3
   },
   "file_extension": ".py",
   "mimetype": "text/x-python",
   "name": "python",
   "nbconvert_exporter": "python",
   "pygments_lexer": "ipython3",
   "version": "3.10.8"
  }
 },
 "nbformat": 4,
 "nbformat_minor": 5
}
