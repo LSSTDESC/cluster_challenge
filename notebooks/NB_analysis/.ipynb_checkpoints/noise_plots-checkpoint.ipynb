{
 "cells": [
  {
   "cell_type": "markdown",
   "id": "3b0ef301-40eb-4dbf-928a-9d1d72457dee",
   "metadata": {},
   "source": [
    "# Matching amico with cosmoDC2_small"
   ]
  },
  {
   "cell_type": "code",
   "execution_count": 1,
   "id": "f103c5e2-0930-4acb-83ea-a1cd1017e528",
   "metadata": {},
   "outputs": [],
   "source": [
    "import numpy as np\n",
    "import matplotlib.pyplot as plt\n",
    "import matplotlib\n",
    "%matplotlib inline\n",
    "import GCRCatalogs\n",
    "from GCRCatalogs.helpers.tract_catalogs import tract_filter, sample_filter\n",
    "from GCRCatalogs import GCRQuery\n",
    "import numpy as np\n",
    "from matplotlib.patches import Rectangle\n",
    "from astropy.table import Table\n",
    "from astropy.coordinates import SkyCoord\n",
    "from astropy import units as u\n",
    "from astropy.cosmology import FlatLambdaCDM\n",
    "from astropy.io import fits\n",
    "from astropy.io import ascii\n",
    "import sys\n",
    "import os\n",
    "import shutil\n",
    "import pickle\n",
    "import healpy as hp\n",
    "import h5py\n",
    "import pandas as pd\n",
    "\n",
    "###clevar\n",
    "import clevar\n",
    "from clevar import ClCatalog\n",
    "from clevar.match import ProximityMatch\n",
    "from clevar.match_metrics import scaling\n",
    "from clevar.match_metrics import recovery\n",
    "from clevar.match_metrics import distances\n",
    "from clevar.match import get_matched_pairs\n",
    "from clevar.match import output_matched_catalog\n",
    "from clevar.cosmology import AstroPyCosmology\n",
    "cosmo = AstroPyCosmology()"
   ]
  },
  {
   "cell_type": "markdown",
   "id": "9a6f14c3-4d2b-4743-b500-3b503621ad73",
   "metadata": {},
   "source": [
    "### Listing variables names if needed"
   ]
  },
  {
   "cell_type": "code",
   "execution_count": 2,
   "id": "6fe4642a-b1fa-4222-9ac2-3a635c8c127c",
   "metadata": {},
   "outputs": [],
   "source": [
    "#print(cat.list_all_quantities())\n",
    "#print(amico_data.colnames)"
   ]
  },
  {
   "cell_type": "markdown",
   "id": "937c373a-5c25-4e98-99bf-3d6288c0a279",
   "metadata": {},
   "source": [
    "### Loading catalogs and converting them to clevar tables"
   ]
  },
  {
   "cell_type": "code",
   "execution_count": 3,
   "id": "2dffe68e-3980-46ec-823f-61696c018d49",
   "metadata": {},
   "outputs": [],
   "source": [
    "cat = GCRCatalogs.load_catalog(\"cosmoDC2_v1.1.4_small\")\n",
    "cosmodc2_data = cat.get_quantities(['halo_id', 'ra', 'dec', 'redshift', 'halo_mass'], filters=['halo_mass > 1e13', 'is_central'])\n",
    "\n",
    "inpath = '/sps/lsst/users/tguillem/DESC/desc_april_2022/cluster_challenge/clevar_catalogs/amico/map_detections_refined_noBuffer_all.fits'\n",
    "amico_data = Table.read(inpath)['ID', 'Xphys', 'Yphys', 'Zphys','LAMBSTAR', 'SN_NO_CLUSTER', 'SN']"
   ]
  },
  {
   "cell_type": "code",
   "execution_count": 5,
   "id": "417e1f61-a23c-4530-aaab-f5c40a9fa67b",
   "metadata": {},
   "outputs": [
    {
     "name": "stderr",
     "output_type": "stream",
     "text": [
      "/sps/lsst/users/namourou/conda_clone_210223/descv1.1/clevar/clevar/catalog.py:267: UserWarning: id column missing, additional one is being created.\n",
      "  warnings.warn(\n"
     ]
    }
   ],
   "source": [
    "cdc = ClCatalog('Cat_cosmoDC2', ra=cosmodc2_data['ra'], dec=cosmodc2_data['dec'], z=cosmodc2_data['redshift'], mass=cosmodc2_data['halo_mass'])\n",
    "cam = ClCatalog('Cat_amico', ra=amico_data['Xphys'], dec=amico_data['Yphys'], z=amico_data['Zphys'], richness = amico_data['LAMBSTAR'], SN = amico_data['SN'], SN_NO_CLUSTER = amico_data['SN_NO_CLUSTER'])"
   ]
  },
  {
   "cell_type": "code",
   "execution_count": 6,
   "id": "03bdd1da-adfa-4286-8d96-44cb22b36969",
   "metadata": {},
   "outputs": [
    {
     "data": {
      "text/plain": [
       "\"\\nfor c in ('ra', 'dec', 'z'):\\n    cdc[c].info.format = '.2f'\\n    cam[c].info.format = '.2f'\\ndisplay(cdc)\\ndisplay(cam)\\n\""
      ]
     },
     "execution_count": 6,
     "metadata": {},
     "output_type": "execute_result"
    }
   ],
   "source": [
    "# Format for nice display\n",
    "\"\"\"\n",
    "for c in ('ra', 'dec', 'z'):\n",
    "    cdc[c].info.format = '.2f'\n",
    "    cam[c].info.format = '.2f'\n",
    "display(cdc)\n",
    "display(cam)\n",
    "\"\"\""
   ]
  },
  {
   "cell_type": "markdown",
   "id": "503db4e3-3ea3-467a-a758-86b2cab83187",
   "metadata": {},
   "source": [
    "### Configure matching parameters & launch it"
   ]
  },
  {
   "cell_type": "code",
   "execution_count": 7,
   "id": "764a5227-2d4e-4aab-9b7a-5baf09e30c7e",
   "metadata": {},
   "outputs": [],
   "source": [
    "mt = ProximityMatch()\n",
    "match_config = {\n",
    "    'type': 'cross', # options are cross, cat1, cat2\n",
    "    'which_radius': 'max', # Case of radius to be used, can be: cat1, cat2, min, max\n",
    "    'preference': 'angular_proximity', # options are more_massive, angular_proximity or redshift_proximity\n",
    "    'catalog1': {'delta_z':.05,\n",
    "                'match_radius': '1 mpc'\n",
    "                },\n",
    "    'catalog2': {'delta_z':.05,\n",
    "                'match_radius': '1 mpc'\n",
    "                }\n",
    "}"
   ]
  },
  {
   "cell_type": "code",
   "execution_count": 8,
   "id": "9171cd5c-37f4-40d4-8836-16fffdaf11fb",
   "metadata": {},
   "outputs": [],
   "source": [
    "mt.match_from_config(cdc, cam, match_config, cosmo=cosmo)"
   ]
  },
  {
   "cell_type": "markdown",
   "id": "106cb346-97b1-44ae-aa53-5a702707e0b6",
   "metadata": {},
   "source": [
    "### Save results to .fits file"
   ]
  },
  {
   "cell_type": "code",
   "execution_count": 10,
   "id": "f57870d2-00bf-4758-84c4-f70b1c531e06",
   "metadata": {},
   "outputs": [],
   "source": [
    "outpath = '/pbs/home/n/namourou/test_jupyter/cluster_challenge/notebooks/outfiles_1013/'"
   ]
  },
  {
   "cell_type": "code",
   "execution_count": 11,
   "id": "a00daa25-459a-445a-8c20-47f9cb96f6d0",
   "metadata": {},
   "outputs": [],
   "source": [
    "cdc.cross_match()\n",
    "cam.cross_match()\n",
    "cdc.write(outpath + 'cdc.fits', overwrite=True)\n",
    "cam.write(outpath + 'cam.fits', overwrite = True)\n",
    "mt.save_matches(cdc, cam, out_dir=outpath, overwrite=True)"
   ]
  },
  {
   "cell_type": "code",
   "execution_count": null,
   "id": "d6257c52-c009-4c39-8944-1b9338c2df90",
   "metadata": {},
   "outputs": [],
   "source": [
    "output_matched_catalog(outpath + 'cdc.fits', outpath + 'cam.fits',outpath+'output_catalog.fits', cdc1, cam1, matching_type='cross', overwrite=True) # Saves matchings in one file"
   ]
  },
  {
   "cell_type": "code",
   "execution_count": 12,
   "id": "1c81c1cc-29e5-451b-bcc1-7596b9ab86a1",
   "metadata": {},
   "outputs": [
    {
     "name": "stdout",
     "output_type": "stream",
     "text": [
      "Cat_cosmoDC2\n",
      "    * ClEvar used in matching: 0.13.8\n",
      " * Total objects:    61,725\n",
      " * multiple (self):  17,627\n",
      " * multiple (other): 17,627\n",
      " * unique (self):    9,878\n",
      " * unique (other):   9,879\n",
      " * cross:            9,860\n",
      "\n",
      "Cat_amico\n",
      "    * ClEvar used in matching: 0.13.8\n",
      " * Total objects:    11,485\n",
      " * multiple (self):  10,167\n",
      " * multiple (other): 10,167\n",
      " * unique (self):    9,879\n",
      " * unique (other):   9,878\n",
      " * cross:            9,860\n"
     ]
    },
    {
     "data": {
      "text/html": [
       "<b>Cat_cosmoDC2</b><br></b><b>tags:</b> id(id), ra(ra), dec(dec), z(z), mass(mass)<br><b>Radius unit:</b> None<br><div><i>ClData length=61725</i>\n",
       "<table id=\"table139895296883920\" class=\"table-striped table-bordered table-condensed\">\n",
       "<thead><tr><th colspan=10></th><th colspan=3 style='text-align:left; background-color:grey; color:white'>mt_input</th></tr></thread><thead><tr><th>id</th><th>ra</th><th>dec</th><th>z</th><th>mass</th><th>mt_self</th><th>mt_other</th><th>mt_multi_self</th><th>mt_multi_other</th><th>mt_cross</th><th>zmin</th><th>zmax</th><th>ang</th></tr></thead>\n",
       "<thead><tr><th>str5</th><th>float64</th><th>float64</th><th>float64</th><th>float64</th><th>object</th><th>object</th><th>object</th><th>object</th><th>object</th><th>float64</th><th>float64</th><th>float64</th></tr></thead>\n",
       "<tr><td>0</td><td>61.869596337556686</td><td>-40.90712062111757</td><td>0.021333993084020175</td><td>12069313567729.578</td><td>None</td><td>None</td><td>[]</td><td>[]</td><td>None</td><td>-0.029732706570180838</td><td>0.0724006927382212</td><td>0.6435684468251788</td></tr>\n",
       "<tr><td>1</td><td>61.295572557486395</td><td>-39.80574428988245</td><td>0.09395243918657203</td><td>10887561031391.55</td><td>None</td><td>None</td><td>[]</td><td>[]</td><td>None</td><td>0.03925481722724343</td><td>0.14865006114590062</td><td>0.1591986349783974</td></tr>\n",
       "<tr><td>2</td><td>62.961217514835056</td><td>-40.39291946996776</td><td>0.10346959883134677</td><td>33519675397769.016</td><td>None</td><td>None</td><td>[]</td><td>[]</td><td>None</td><td>0.04829611888977942</td><td>0.15864307877291411</td><td>0.14614424369581047</td></tr>\n",
       "<tr><td>3</td><td>62.284364037836404</td><td>-41.07674501853869</td><td>0.14018907525323798</td><td>18629652514614.086</td><td>515</td><td>515</td><td>[&apos;515&apos;]</td><td>[&apos;515&apos;]</td><td>515</td><td>0.08317962149057609</td><td>0.19719852901589988</td><td>0.11244532787963898</td></tr>\n",
       "<tr><td>4</td><td>62.05549212472633</td><td>-41.161071926731644</td><td>0.14304519781057157</td><td>14260490343842.254</td><td>None</td><td>None</td><td>[]</td><td>[]</td><td>None</td><td>0.08589293792004299</td><td>0.20019745770110015</td><td>0.11055303585191585</td></tr>\n",
       "<tr><td>5</td><td>62.10249971222131</td><td>-40.65971574420232</td><td>0.1387209292113325</td><td>15041162560180.283</td><td>None</td><td>None</td><td>[&apos;281&apos;]</td><td>[&apos;281&apos;]</td><td>None</td><td>0.08178488275076587</td><td>0.19565697567189913</td><td>0.11344856845251519</td></tr>\n",
       "<tr><td>6</td><td>61.05606039634485</td><td>-39.972727741545526</td><td>0.18286930814904623</td><td>38307798324642.26</td><td>233</td><td>233</td><td>[&apos;233&apos;]</td><td>[&apos;233&apos;]</td><td>233</td><td>0.12372584274159391</td><td>0.24201277355649853</td><td>0.0903700864344744</td></tr>\n",
       "<tr><td>7</td><td>62.23579865478711</td><td>-39.485977648912574</td><td>0.17966607247124333</td><td>85876300877881.69</td><td>28</td><td>28</td><td>[&apos;28&apos;]</td><td>[&apos;28&apos;]</td><td>28</td><td>0.12068276884768117</td><td>0.2386493760948055</td><td>0.09165948893538191</td></tr>\n",
       "<tr><td>8</td><td>61.97682173294707</td><td>-39.834744453376665</td><td>0.17932797108621878</td><td>13482420368225.354</td><td>None</td><td>None</td><td>[]</td><td>[]</td><td>None</td><td>0.12036157253190785</td><td>0.23829436964052972</td><td>0.09179830488224124</td></tr>\n",
       "<tr><td>9</td><td>61.87050865978772</td><td>-39.738333518447206</td><td>0.16956675299502266</td><td>12909927409577.465</td><td>None</td><td>None</td><td>[]</td><td>[]</td><td>None</td><td>0.11108841534527153</td><td>0.2280450906447738</td><td>0.0960474916536828</td></tr>\n",
       "<tr><td>...</td><td>...</td><td>...</td><td>...</td><td>...</td><td>...</td><td>...</td><td>...</td><td>...</td><td>...</td><td>...</td><td>...</td><td>...</td></tr>\n",
       "<tr><td>61715</td><td>65.6539569318067</td><td>-38.198004613827855</td><td>2.9448140881480476</td><td>12673123503954.93</td><td>None</td><td>None</td><td>[]</td><td>[]</td><td>None</td><td>2.747573383740645</td><td>3.14205479255545</td><td>0.03586403187947072</td></tr>\n",
       "<tr><td>61716</td><td>65.51992934322357</td><td>-38.166024908810094</td><td>2.9704920742260303</td><td>33183986344743.664</td><td>None</td><td>None</td><td>[]</td><td>[]</td><td>None</td><td>2.7719674705147286</td><td>3.169016677937332</td><td>0.03595465465159531</td></tr>\n",
       "<tr><td>61717</td><td>65.96331039935626</td><td>-39.53910531488538</td><td>2.9427338830664005</td><td>11488849216180.283</td><td>None</td><td>None</td><td>[]</td><td>[]</td><td>None</td><td>2.7455971889130804</td><td>3.1398705772197206</td><td>0.03585671757054709</td></tr>\n",
       "<tr><td>61718</td><td>65.73579485925158</td><td>-38.31624572435801</td><td>2.982785276699029</td><td>10793853781814.086</td><td>None</td><td>None</td><td>[]</td><td>[]</td><td>None</td><td>2.7836460128640774</td><td>3.18192454053398</td><td>0.0359982561299385</td></tr>\n",
       "<tr><td>61719</td><td>66.3027308924118</td><td>-39.992636198369446</td><td>3.016990686501547</td><td>11306640675335.21</td><td>None</td><td>None</td><td>[]</td><td>[]</td><td>None</td><td>2.8161411521764697</td><td>3.2178402208266244</td><td>0.03612029355255079</td></tr>\n",
       "<tr><td>61720</td><td>66.79669738490588</td><td>-38.47288373304661</td><td>2.986808071967553</td><td>27014073594952.113</td><td>None</td><td>None</td><td>[]</td><td>[]</td><td>None</td><td>2.7874676683691755</td><td>3.186148475565931</td><td>0.03601255411183738</td></tr>\n",
       "<tr><td>61721</td><td>67.11851093614465</td><td>-38.60460387777027</td><td>3.0031213151530114</td><td>10965650406039.438</td><td>None</td><td>None</td><td>[]</td><td>[]</td><td>None</td><td>2.8029652493953607</td><td>3.203277380910662</td><td>0.0360706848822034</td></tr>\n",
       "<tr><td>61722</td><td>66.43947083074886</td><td>-39.395333071004195</td><td>2.9566527194763035</td><td>10122285159842.254</td><td>None</td><td>None</td><td>[]</td><td>[]</td><td>None</td><td>2.7588200835024885</td><td>3.1544853554501184</td><td>0.03590573613924508</td></tr>\n",
       "<tr><td>61723</td><td>66.96447881516134</td><td>-38.446479077178296</td><td>3.0039423335026214</td><td>11754353089983.1</td><td>None</td><td>None</td><td>[]</td><td>[]</td><td>None</td><td>2.8037452168274903</td><td>3.2041394501777525</td><td>0.03607361680123773</td></tr>\n",
       "<tr><td>61724</td><td>66.259074212235</td><td>-37.98886022728698</td><td>2.9756834755206225</td><td>10106667284912.676</td><td>None</td><td>None</td><td>[]</td><td>[]</td><td>None</td><td>2.7768993017445913</td><td>3.1744676492966537</td><td>0.035973050600709267</td></tr>\n",
       "</table></div>"
      ],
      "text/plain": [
       "<clevar.catalog.ClCatalog at 0x7f3beab5b190>"
      ]
     },
     "metadata": {},
     "output_type": "display_data"
    },
    {
     "data": {
      "text/html": [
       "<b>Cat_amico</b><br></b><b>tags:</b> id(id), ra(ra), dec(dec), z(z)<br><b>Radius unit:</b> None<br><div><i>ClData length=11485</i>\n",
       "<table id=\"table139895296882864\" class=\"table-striped table-bordered table-condensed\">\n",
       "<thead><tr><th colspan=12></th><th colspan=3 style='text-align:left; background-color:grey; color:white'>mt_input</th></tr></thread><thead><tr><th>id</th><th>ra</th><th>dec</th><th>z</th><th>richness</th><th>SN</th><th>SN_NO_CLUSTER</th><th>mt_self</th><th>mt_other</th><th>mt_multi_self</th><th>mt_multi_other</th><th>mt_cross</th><th>zmin</th><th>zmax</th><th>ang</th></tr></thead>\n",
       "<thead><tr><th>str5</th><th>float64</th><th>float64</th><th>float64</th><th>float64</th><th>float64</th><th>float64</th><th>object</th><th>object</th><th>object</th><th>object</th><th>object</th><th>float64</th><th>float64</th><th>float64</th></tr></thead>\n",
       "<tr><td>0</td><td>61.378983</td><td>-39.994438</td><td>0.78999996</td><td>115.96933</td><td>7.4621258</td><td>46.630722</td><td>758</td><td>758</td><td>[&apos;758&apos;]</td><td>[&apos;758&apos;]</td><td>758</td><td>0.700499962</td><td>0.8794999579999999</td><td>0.0371561962785376</td></tr>\n",
       "<tr><td>1</td><td>61.758209</td><td>-39.59544</td><td>0.35999998</td><td>27.27791</td><td>6.8403945</td><td>31.331249</td><td>146</td><td>146</td><td>[&apos;146&apos;]</td><td>[&apos;146&apos;]</td><td>146</td><td>0.291999981</td><td>0.427999979</td><td>0.055219852002666374</td></tr>\n",
       "<tr><td>2</td><td>62.62199</td><td>-40.858124</td><td>0.25</td><td>33.274879</td><td>6.2714334</td><td>24.420267</td><td>62</td><td>62</td><td>[&apos;62&apos;]</td><td>[&apos;62&apos;]</td><td>62</td><td>0.1875</td><td>0.3125</td><td>0.0710414327593546</td></tr>\n",
       "<tr><td>3</td><td>62.198517</td><td>-39.405045</td><td>0.54999995</td><td>22.638201</td><td>5.8959146</td><td>27.017937</td><td>460</td><td>460</td><td>[&apos;338&apos;, &apos;481&apos;, &apos;456&apos;, &apos;460&apos;]</td><td>[&apos;338&apos;, &apos;481&apos;, &apos;456&apos;, &apos;460&apos;]</td><td>460</td><td>0.4724999525</td><td>0.6274999475</td><td>0.0433241523089096</td></tr>\n",
       "<tr><td>4</td><td>61.961666</td><td>-41.425468</td><td>0.63</td><td>23.205885</td><td>5.7495751</td><td>22.496141</td><td>616</td><td>616</td><td>[&apos;291&apos;, &apos;616&apos;, &apos;267&apos;]</td><td>[&apos;616&apos;, &apos;267&apos;, &apos;291&apos;]</td><td>616</td><td>0.5485</td><td>0.7115</td><td>0.04063957032102488</td></tr>\n",
       "<tr><td>5</td><td>62.013664</td><td>-40.785416</td><td>0.74999994</td><td>41.223412</td><td>5.7198601</td><td>28.051762</td><td>784</td><td>784</td><td>[&apos;784&apos;]</td><td>[&apos;784&apos;]</td><td>784</td><td>0.662499943</td><td>0.837499937</td><td>0.0378540833809901</td></tr>\n",
       "<tr><td>6</td><td>61.476517</td><td>-41.169827</td><td>0.36999997</td><td>16.307556</td><td>5.7072597</td><td>23.040657</td><td>168</td><td>168</td><td>[&apos;91&apos;, &apos;168&apos;]</td><td>[&apos;91&apos;, &apos;168&apos;]</td><td>168</td><td>0.3014999715</td><td>0.4384999685</td><td>0.05426428013854508</td></tr>\n",
       "<tr><td>7</td><td>61.914318</td><td>-40.275494</td><td>0.63</td><td>25.189159</td><td>5.6594982</td><td>21.83959</td><td>583</td><td>583</td><td>[&apos;583&apos;, &apos;422&apos;]</td><td>[&apos;583&apos;, &apos;422&apos;]</td><td>583</td><td>0.5485</td><td>0.7115</td><td>0.04063957032102488</td></tr>\n",
       "<tr><td>8</td><td>62.070724</td><td>-39.970333</td><td>0.48999998</td><td>19.568504</td><td>5.6358972</td><td>23.899815</td><td>353</td><td>353</td><td>[&apos;155&apos;, &apos;353&apos;, &apos;165&apos;, &apos;403&apos;]</td><td>[&apos;155&apos;, &apos;165&apos;, &apos;353&apos;, &apos;403&apos;]</td><td>353</td><td>0.415499981</td><td>0.564499979</td><td>0.046002073565366966</td></tr>\n",
       "<tr><td>9</td><td>62.080006</td><td>-40.885323</td><td>0.36999997</td><td>17.840424</td><td>5.5966325</td><td>22.189268</td><td>173</td><td>173</td><td>[&apos;253&apos;, &apos;289&apos;, &apos;246&apos;, &apos;173&apos;, &apos;254&apos;]</td><td>[&apos;253&apos;, &apos;289&apos;, &apos;246&apos;, &apos;173&apos;, &apos;254&apos;]</td><td>173</td><td>0.3014999715</td><td>0.4384999685</td><td>0.05426428013854508</td></tr>\n",
       "<tr><td>...</td><td>...</td><td>...</td><td>...</td><td>...</td><td>...</td><td>...</td><td>...</td><td>...</td><td>...</td><td>...</td><td>...</td><td>...</td><td>...</td><td>...</td></tr>\n",
       "<tr><td>11475</td><td>64.895103</td><td>-38.748386</td><td>0.70999998</td><td>10.013184</td><td>3.0093701</td><td>7.7404146</td><td>23725</td><td>23725</td><td>[&apos;23725&apos;]</td><td>[&apos;23725&apos;]</td><td>23725</td><td>0.6244999809999999</td><td>0.795499979</td><td>0.03865430022779295</td></tr>\n",
       "<tr><td>11476</td><td>66.267952</td><td>-39.099369</td><td>1.0899999</td><td>12.076399</td><td>3.0084972</td><td>8.8719063</td><td>52487</td><td>52487</td><td>[&apos;52487&apos;]</td><td>[&apos;52487&apos;]</td><td>52487</td><td>0.985499905</td><td>1.194499895</td><td>0.03404689678340265</td></tr>\n",
       "<tr><td>11477</td><td>65.565216</td><td>-39.163315</td><td>0.60999995</td><td>6.1617055</td><td>3.0084865</td><td>7.1154366</td><td>23498</td><td>23498</td><td>[&apos;23498&apos;]</td><td>[&apos;23498&apos;]</td><td>23498</td><td>0.5294999524999999</td><td>0.6904999475</td><td>0.04123442983623558</td></tr>\n",
       "<tr><td>11478</td><td>66.759308</td><td>-38.592609</td><td>1.12</td><td>14.436255</td><td>3.0075927</td><td>7.4957919</td><td>24309</td><td>24309</td><td>[&apos;52990&apos;, &apos;24309&apos;]</td><td>[&apos;52990&apos;, &apos;24309&apos;]</td><td>24309</td><td>1.014</td><td>1.2260000000000002</td><td>0.03387399441944843</td></tr>\n",
       "<tr><td>11479</td><td>66.308128</td><td>-37.464298</td><td>1.0999999</td><td>10.698289</td><td>3.0065758</td><td>8.366869</td><td>52311</td><td>52311</td><td>[&apos;52311&apos;]</td><td>[&apos;52311&apos;]</td><td>52311</td><td>0.994999905</td><td>1.204999895</td><td>0.03398726255999668</td></tr>\n",
       "<tr><td>11480</td><td>65.86615</td><td>-37.824276</td><td>1.16</td><td>12.467728</td><td>3.0055287</td><td>6.8241372</td><td>None</td><td>None</td><td>[]</td><td>[]</td><td>None</td><td>1.0519999999999998</td><td>1.268</td><td>0.03367000629121011</td></tr>\n",
       "<tr><td>11481</td><td>66.400528</td><td>-38.469097</td><td>1.01</td><td>8.2484713</td><td>3.0034916</td><td>8.445138</td><td>None</td><td>None</td><td>[]</td><td>[]</td><td>None</td><td>0.9095</td><td>1.1105</td><td>0.03460386225554804</td></tr>\n",
       "<tr><td>11482</td><td>65.942413</td><td>-37.6744</td><td>0.78999996</td><td>7.6869373</td><td>3.0016103</td><td>8.4215565</td><td>24079</td><td>24079</td><td>[&apos;24157&apos;, &apos;24079&apos;]</td><td>[&apos;24157&apos;, &apos;24079&apos;]</td><td>24079</td><td>0.700499962</td><td>0.8794999579999999</td><td>0.0371561962785376</td></tr>\n",
       "<tr><td>11483</td><td>67.097542</td><td>-38.990231</td><td>1.02</td><td>10.634916</td><td>3.0009274</td><td>8.7013321</td><td>24336</td><td>24336</td><td>[&apos;24336&apos;]</td><td>[&apos;24336&apos;]</td><td>24336</td><td>0.919</td><td>1.121</td><td>0.03452586238725011</td></tr>\n",
       "<tr><td>11484</td><td>66.647057</td><td>-38.968204</td><td>1.0599999</td><td>12.969349</td><td>3.0000417</td><td>9.600914</td><td>52381</td><td>52381</td><td>[&apos;52381&apos;, &apos;52400&apos;]</td><td>[&apos;52381&apos;, &apos;52400&apos;]</td><td>52381</td><td>0.956999905</td><td>1.162999895</td><td>0.03423848403643135</td></tr>\n",
       "</table></div>"
      ],
      "text/plain": [
       "<clevar.catalog.ClCatalog at 0x7f3beab5b0a0>"
      ]
     },
     "metadata": {},
     "output_type": "display_data"
    }
   ],
   "source": [
    "mt.load_matches(cdc, cam, out_dir=outpath)\n",
    "display(cdc)\n",
    "display(cam)"
   ]
  },
  {
   "cell_type": "code",
   "execution_count": 13,
   "id": "a208f458-b802-46b1-9d2b-da3d1a8d907c",
   "metadata": {},
   "outputs": [],
   "source": [
    "mt1, mt2 = get_matched_pairs(cdc, cam, 'cross')"
   ]
  },
  {
   "cell_type": "code",
   "execution_count": 14,
   "id": "946d6cb4-62c3-4f54-8ee9-8550c919b2d9",
   "metadata": {},
   "outputs": [
    {
     "data": {
      "text/html": [
       "<b>Cat_cosmoDC2</b><br></b><b>tags:</b> id(id), ra(ra), dec(dec), z(z), mass(mass)<br><b>Radius unit:</b> None<br><div><i>ClData length=9860</i>\n",
       "<table id=\"table139895296884352\" class=\"table-striped table-bordered table-condensed\">\n",
       "<thead><tr><th colspan=10></th><th colspan=3 style='text-align:left; background-color:grey; color:white'>mt_input</th></tr></thread><thead><tr><th>id</th><th>ra</th><th>dec</th><th>z</th><th>mass</th><th>mt_self</th><th>mt_other</th><th>mt_multi_self</th><th>mt_multi_other</th><th>mt_cross</th><th>zmin</th><th>zmax</th><th>ang</th></tr></thead>\n",
       "<thead><tr><th>str5</th><th>float64</th><th>float64</th><th>float64</th><th>float64</th><th>object</th><th>object</th><th>object</th><th>object</th><th>object</th><th>float64</th><th>float64</th><th>float64</th></tr></thead>\n",
       "<tr><td>3</td><td>62.284364037836404</td><td>-41.07674501853869</td><td>0.14018907525323798</td><td>18629652514614.086</td><td>515</td><td>515</td><td>[&apos;515&apos;]</td><td>[&apos;515&apos;]</td><td>515</td><td>0.08317962149057609</td><td>0.19719852901589988</td><td>0.11244532787963898</td></tr>\n",
       "<tr><td>6</td><td>61.05606039634485</td><td>-39.972727741545526</td><td>0.18286930814904623</td><td>38307798324642.26</td><td>233</td><td>233</td><td>[&apos;233&apos;]</td><td>[&apos;233&apos;]</td><td>233</td><td>0.12372584274159391</td><td>0.24201277355649853</td><td>0.0903700864344744</td></tr>\n",
       "<tr><td>7</td><td>62.23579865478711</td><td>-39.485977648912574</td><td>0.17966607247124333</td><td>85876300877881.69</td><td>28</td><td>28</td><td>[&apos;28&apos;]</td><td>[&apos;28&apos;]</td><td>28</td><td>0.12068276884768117</td><td>0.2386493760948055</td><td>0.09165948893538191</td></tr>\n",
       "<tr><td>15</td><td>61.91957721819914</td><td>-40.94873813625475</td><td>0.16805036161275377</td><td>31299964062647.89</td><td>66</td><td>66</td><td>[&apos;66&apos;]</td><td>[&apos;66&apos;]</td><td>66</td><td>0.10964784353211608</td><td>0.22645287969339145</td><td>0.09675238093954058</td></tr>\n",
       "<tr><td>16</td><td>61.33589391866784</td><td>-39.44194714480725</td><td>0.18372913366321675</td><td>25843065270445.07</td><td>87</td><td>87</td><td>[&apos;87&apos;]</td><td>[&apos;87&apos;]</td><td>87</td><td>0.12454267698005592</td><td>0.24291559034637758</td><td>0.09003172480773033</td></tr>\n",
       "<tr><td>18</td><td>61.587737657529864</td><td>-39.50518533830735</td><td>0.16493773858144167</td><td>77396392922501.4</td><td>27</td><td>27</td><td>[&apos;27&apos;]</td><td>[&apos;27&apos;]</td><td>27</td><td>0.10669085165236958</td><td>0.22318462551051377</td><td>0.09824029623768497</td></tr>\n",
       "<tr><td>22</td><td>61.91818758673689</td><td>-38.95224680742813</td><td>0.18811206928400392</td><td>30555723216405.637</td><td>315</td><td>315</td><td>[&apos;315&apos;]</td><td>[&apos;315&apos;]</td><td>315</td><td>0.12870646581980372</td><td>0.24751767274820413</td><td>0.08835559257989083</td></tr>\n",
       "<tr><td>24</td><td>60.81541521105752</td><td>-40.26826239888536</td><td>0.23705091220666552</td><td>12006842068011.268</td><td>617</td><td>617</td><td>[&apos;617&apos;]</td><td>[&apos;617&apos;]</td><td>617</td><td>0.17519836659633226</td><td>0.2989034578169988</td><td>0.07390323209655622</td></tr>\n",
       "<tr><td>25</td><td>62.25137047218813</td><td>-40.75880052298738</td><td>0.23596728304162995</td><td>14374988935571.832</td><td>554</td><td>554</td><td>[&apos;554&apos;]</td><td>[&apos;554&apos;]</td><td>554</td><td>0.17416891888954844</td><td>0.29776564719371146</td><td>0.07415727585869883</td></tr>\n",
       "<tr><td>28</td><td>61.76288946984756</td><td>-40.73795817991272</td><td>0.2394226241364299</td><td>26496227691447.887</td><td>198</td><td>198</td><td>[&apos;198&apos;]</td><td>[&apos;198&apos;]</td><td>198</td><td>0.1774514929296084</td><td>0.3013937553432514</td><td>0.07335540471265097</td></tr>\n",
       "<tr><td>...</td><td>...</td><td>...</td><td>...</td><td>...</td><td>...</td><td>...</td><td>...</td><td>...</td><td>...</td><td>...</td><td>...</td><td>...</td></tr>\n",
       "<tr><td>52830</td><td>64.87799095392191</td><td>-38.48020086170599</td><td>1.248188990978691</td><td>12717361596214.086</td><td>11457</td><td>11457</td><td>[&apos;11457&apos;]</td><td>[&apos;11457&apos;]</td><td>11457</td><td>1.1357795414297565</td><td>1.3605984405276255</td><td>0.033313785399681786</td></tr>\n",
       "<tr><td>52843</td><td>66.12639880020514</td><td>-39.79457617972613</td><td>1.255735626890489</td><td>24167220769171.832</td><td>11273</td><td>11273</td><td>[&apos;11273&apos;]</td><td>[&apos;11273&apos;]</td><td>11273</td><td>1.1429488455459644</td><td>1.3685224082350134</td><td>0.03328862807254457</td></tr>\n",
       "<tr><td>52852</td><td>67.2506025088802</td><td>-38.922317895008185</td><td>1.2400492481722134</td><td>34867636091312.68</td><td>11195</td><td>11195</td><td>[&apos;11195&apos;]</td><td>[&apos;11195&apos;]</td><td>11195</td><td>1.1280467857636027</td><td>1.352051710580824</td><td>0.03334179982002018</td></tr>\n",
       "<tr><td>52962</td><td>65.17678979261049</td><td>-38.32302756963495</td><td>1.271721366155134</td><td>20146758855030.99</td><td>11394</td><td>11394</td><td>[&apos;11394&apos;]</td><td>[&apos;11394&apos;]</td><td>11394</td><td>1.1581352978473773</td><td>1.3853074344628908</td><td>0.03323786557408561</td></tr>\n",
       "<tr><td>52982</td><td>66.09792877777984</td><td>-40.164580421189235</td><td>1.2924254715778623</td><td>44670276887797.19</td><td>11298</td><td>11298</td><td>[&apos;11298&apos;]</td><td>[&apos;11298&apos;]</td><td>11298</td><td>1.177804197998969</td><td>1.4070467451567554</td><td>0.03317704692566435</td></tr>\n",
       "<tr><td>53002</td><td>66.96870885276485</td><td>-39.20798590922328</td><td>1.3387052474410157</td><td>13953425938749.297</td><td>11237</td><td>11237</td><td>[&apos;11237&apos;]</td><td>[&apos;11237&apos;]</td><td>11237</td><td>1.221769985068965</td><td>1.4556405098130665</td><td>0.03305994686932494</td></tr>\n",
       "<tr><td>53014</td><td>65.06629755468518</td><td>-38.28313280426465</td><td>1.3669009103648393</td><td>15465327797723.945</td><td>11451</td><td>11451</td><td>[&apos;11451&apos;]</td><td>[&apos;11451&apos;]</td><td>11451</td><td>1.2485558648465973</td><td>1.4852459558830813</td><td>0.03300047245080599</td></tr>\n",
       "<tr><td>53027</td><td>66.84530563482058</td><td>-38.941558899073755</td><td>1.333337976119776</td><td>11030724884912.676</td><td>11160</td><td>11160</td><td>[&apos;11160&apos;]</td><td>[&apos;11160&apos;]</td><td>11160</td><td>1.2166710773137872</td><td>1.4500048749257646</td><td>0.03307225480133242</td></tr>\n",
       "<tr><td>53092</td><td>66.5497432527399</td><td>-38.640999035156334</td><td>1.3368227254893204</td><td>15145252189025.354</td><td>11145</td><td>11145</td><td>[&apos;11145&apos;]</td><td>[&apos;11145&apos;]</td><td>11145</td><td>1.2199815892148544</td><td>1.4536638617637863</td><td>0.03306422702208223</td></tr>\n",
       "<tr><td>53094</td><td>66.22265722142319</td><td>-38.97196356888387</td><td>1.3398087827365797</td><td>13825916143414.086</td><td>11446</td><td>11446</td><td>[&apos;11446&apos;]</td><td>[&apos;11446&apos;]</td><td>11446</td><td>1.2228183435997506</td><td>1.4567992218734087</td><td>0.03305745620798416</td></tr>\n",
       "</table></div>"
      ],
      "text/plain": [
       "<clevar.catalog.ClCatalog at 0x7f3be979fa30>"
      ]
     },
     "execution_count": 14,
     "metadata": {},
     "output_type": "execute_result"
    }
   ],
   "source": [
    "mt1"
   ]
  }
 ],
 "metadata": {
  "kernelspec": {
   "display_name": "desc",
   "language": "python",
   "name": "desc"
  },
  "language_info": {
   "codemirror_mode": {
    "name": "ipython",
    "version": 3
   },
   "file_extension": ".py",
   "mimetype": "text/x-python",
   "name": "python",
   "nbconvert_exporter": "python",
   "pygments_lexer": "ipython3",
   "version": "3.10.8"
  }
 },
 "nbformat": 4,
 "nbformat_minor": 5
}
