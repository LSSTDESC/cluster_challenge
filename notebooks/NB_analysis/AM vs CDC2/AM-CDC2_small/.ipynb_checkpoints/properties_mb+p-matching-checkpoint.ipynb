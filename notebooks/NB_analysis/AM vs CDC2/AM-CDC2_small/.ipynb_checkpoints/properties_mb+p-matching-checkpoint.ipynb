{
 "cells": [
  {
   "cell_type": "code",
   "execution_count": 1,
   "id": "1d007506-d217-4a4a-8476-857879d985d0",
   "metadata": {},
   "outputs": [],
   "source": [
    "import clevar\n",
    "from clevar.catalog import ClCatalog\n",
    "import numpy as np\n",
    "import matplotlib.pyplot as plt\n",
    "from astropy.table import Table\n",
    "from clevar.match import output_matched_catalog"
   ]
  },
  {
   "cell_type": "code",
   "execution_count": 2,
   "id": "0530f552-a2de-4ceb-95c2-bc653319090b",
   "metadata": {},
   "outputs": [],
   "source": [
    "inpath = \"/sps/lsst/groups/clusters/amico_validation_project/catalogs/amico-flexzboost_cosmoDC2_lstar15_m14/amico_cosmoDC2/\""
   ]
  },
  {
   "cell_type": "code",
   "execution_count": 4,
   "id": "35d036d0-6632-47e3-88e3-530538ac82ed",
   "metadata": {},
   "outputs": [
    {
     "name": "stdout",
     "output_type": "stream",
     "text": [
      "    * ClEvar used in matching: 0.13.8\n",
      "    * ClEvar used in matching: 0.13.8\n"
     ]
    }
   ],
   "source": [
    "c1 = ClCatalog.read_full(inpath + 'c1_mb.fits')\n",
    "c2 = ClCatalog.read_full(inpath + 'c2_mb.fits')"
   ]
  },
  {
   "cell_type": "code",
   "execution_count": 7,
   "id": "1f3741ff-a703-4437-8348-6298fe207fb0",
   "metadata": {},
   "outputs": [
    {
     "ename": "NameError",
     "evalue": "name 'output_matched_catalog' is not defined",
     "output_type": "error",
     "traceback": [
      "\u001b[0;31m---------------------------------------------------------------------------\u001b[0m",
      "\u001b[0;31mNameError\u001b[0m                                 Traceback (most recent call last)",
      "Cell \u001b[0;32mIn [7], line 1\u001b[0m\n\u001b[0;32m----> 1\u001b[0m \u001b[43moutput_matched_catalog\u001b[49m(inpath\u001b[38;5;241m+\u001b[39m\u001b[38;5;124m'\u001b[39m\u001b[38;5;124mc1_mb.fits\u001b[39m\u001b[38;5;124m'\u001b[39m, inpath\u001b[38;5;241m+\u001b[39m\u001b[38;5;124m'\u001b[39m\u001b[38;5;124mc2_mb.fits\u001b[39m\u001b[38;5;124m'\u001b[39m,inpath\u001b[38;5;241m+\u001b[39m\u001b[38;5;124m'\u001b[39m\u001b[38;5;124moutput_catalog_\u001b[39m\u001b[38;5;124m'\u001b[39m \u001b[38;5;241m+\u001b[39m \u001b[38;5;124m'\u001b[39m\u001b[38;5;124mmb\u001b[39m\u001b[38;5;124m'\u001b[39m \u001b[38;5;241m+\u001b[39m\u001b[38;5;124m'\u001b[39m\u001b[38;5;124m.fits\u001b[39m\u001b[38;5;124m'\u001b[39m, c1, c2, matching_type\u001b[38;5;241m=\u001b[39m\u001b[38;5;124m'\u001b[39m\u001b[38;5;124mcross\u001b[39m\u001b[38;5;124m'\u001b[39m, overwrite\u001b[38;5;241m=\u001b[39m\u001b[38;5;28;01mTrue\u001b[39;00m)\n\u001b[1;32m      2\u001b[0m c_merged_12 \u001b[38;5;241m=\u001b[39m ClCatalog\u001b[38;5;241m.\u001b[39mread(inpath\u001b[38;5;241m+\u001b[39m\u001b[38;5;124m'\u001b[39m\u001b[38;5;124moutput_catalog_\u001b[39m\u001b[38;5;124m'\u001b[39m \u001b[38;5;241m+\u001b[39m \u001b[38;5;124m'\u001b[39m\u001b[38;5;124mmb\u001b[39m\u001b[38;5;124m'\u001b[39m \u001b[38;5;241m+\u001b[39m \u001b[38;5;124m'\u001b[39m\u001b[38;5;124m.fits\u001b[39m\u001b[38;5;124m'\u001b[39m, \u001b[38;5;124m'\u001b[39m\u001b[38;5;124mmerged\u001b[39m\u001b[38;5;124m'\u001b[39m,  full\u001b[38;5;241m=\u001b[39m\u001b[38;5;28;01mTrue\u001b[39;00m)\n",
      "\u001b[0;31mNameError\u001b[0m: name 'output_matched_catalog' is not defined"
     ]
    }
   ],
   "source": [
    "output_matched_catalog(inpath+'c1_mb.fits', inpath+'c2_mb.fits',inpath+'output_catalog_' + 'mb' +'.fits', c1, c2, matching_type='cross', overwrite=True)\n",
    "c_merged_12 = ClCatalog.read(inpath+'output_catalog_' + 'mb' + '.fits', 'merged',  full=True)"
   ]
  },
  {
   "cell_type": "code",
   "execution_count": null,
   "id": "cf93754b-d69b-4398-99f8-dbeac132ce9c",
   "metadata": {},
   "outputs": [],
   "source": []
  }
 ],
 "metadata": {
  "kernelspec": {
   "display_name": "desc",
   "language": "python",
   "name": "desc"
  },
  "language_info": {
   "codemirror_mode": {
    "name": "ipython",
    "version": 3
   },
   "file_extension": ".py",
   "mimetype": "text/x-python",
   "name": "python",
   "nbconvert_exporter": "python",
   "pygments_lexer": "ipython3",
   "version": "3.10.8"
  }
 },
 "nbformat": 4,
 "nbformat_minor": 5
}
