{
 "cells": [
  {
   "cell_type": "code",
   "execution_count": 1,
   "id": "1d007506-d217-4a4a-8476-857879d985d0",
   "metadata": {},
   "outputs": [],
   "source": [
    "import clevar\n",
    "from clevar.catalog import ClCatalog\n",
    "import numpy as np\n",
    "import matplotlib.pyplot as plt\n",
    "from astropy.table import Table\n",
    "from clevar.match import output_matched_catalog"
   ]
  },
  {
   "cell_type": "code",
   "execution_count": 2,
   "id": "0530f552-a2de-4ceb-95c2-bc653319090b",
   "metadata": {},
   "outputs": [],
   "source": [
    "inpath = \"/sps/lsst/groups/clusters/amico_validation_project/catalogs/amico-flexzboost_cosmoDC2/amico_cosmoDC2/\""
   ]
  },
  {
   "cell_type": "code",
   "execution_count": 3,
   "id": "35d036d0-6632-47e3-88e3-530538ac82ed",
   "metadata": {},
   "outputs": [
    {
     "name": "stdout",
     "output_type": "stream",
     "text": [
      "    * ClEvar used in matching: 0.13.8\n",
      "    * ClEvar used in matching: 0.13.8\n",
      "    * ClEvar used in matching: 0.13.8\n",
      "    * ClEvar used in matching: 0.13.8\n"
     ]
    }
   ],
   "source": [
    "c1_p = ClCatalog.read_full(inpath + 'c1_p.fits')\n",
    "c2_p = ClCatalog.read_full(inpath + 'c2_p.fits')"
   ]
  },
  {
   "cell_type": "code",
   "execution_count": 9,
   "id": "1f3741ff-a703-4437-8348-6298fe207fb0",
   "metadata": {},
   "outputs": [
    {
     "name": "stderr",
     "output_type": "stream",
     "text": [
      "/sps/lsst/users/namourou/conda_clone_210223/descv1.1/clevar/clevar/catalog.py:267: UserWarning: id column missing, additional one is being created.\n",
      "  warnings.warn(\n"
     ]
    }
   ],
   "source": [
    "output_matched_catalog(inpath+'c1_p.fits', inpath+'c2_p.fits',inpath+'output_catalog_' + 'p' +'.fits', c1_p, c2_p, matching_type='cross', overwrite=True)\n",
    "c_merged_p = ClCatalog.read(inpath+'output_catalog_' + 'p' + '.fits', 'merged',  full=True)"
   ]
  },
  {
   "cell_type": "code",
   "execution_count": 28,
   "id": "34e94369-7e4c-4ab6-b7e6-6ed28f54e980",
   "metadata": {},
   "outputs": [
    {
     "name": "stdout",
     "output_type": "stream",
     "text": [
      " id total unique (self) unique (other) multiple (self) multiple (other) cross\n",
      "--- ----- ------------- -------------- --------------- ---------------- -----\n",
      " c1  6370           773            773             849              849   771\n",
      " c2  1028           773            773             787              787   771\n"
     ]
    }
   ],
   "source": [
    "p_info = Table.read(inpath + 'match_info_p.fits')\n",
    "print(p_info)"
   ]
  }
 ],
 "metadata": {
  "kernelspec": {
   "display_name": "desc",
   "language": "python",
   "name": "desc"
  },
  "language_info": {
   "codemirror_mode": {
    "name": "ipython",
    "version": 3
   },
   "file_extension": ".py",
   "mimetype": "text/x-python",
   "name": "python",
   "nbconvert_exporter": "python",
   "pygments_lexer": "ipython3",
   "version": "3.10.8"
  }
 },
 "nbformat": 4,
 "nbformat_minor": 5
}
