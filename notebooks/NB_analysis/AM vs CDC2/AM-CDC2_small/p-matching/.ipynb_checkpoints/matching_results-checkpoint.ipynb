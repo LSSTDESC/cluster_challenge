{
 "cells": [
  {
   "cell_type": "markdown",
   "id": "f40be0b2-99c5-4ccd-bb35-298478ca5b54",
   "metadata": {
    "tags": []
   },
   "source": [
    "# To begin"
   ]
  },
  {
   "cell_type": "code",
   "execution_count": 1,
   "id": "36741169-7100-4255-810f-08273108c367",
   "metadata": {},
   "outputs": [],
   "source": [
    "import matplotlib.pyplot as plt\n",
    "import numpy as np\n",
    "from astropy.table import Table\n",
    "from clevar.catalog import ClCatalog"
   ]
  },
  {
   "cell_type": "markdown",
   "id": "59b12deb-054a-4e3c-88fe-f3f075026c16",
   "metadata": {
    "tags": []
   },
   "source": [
    "### Loading Matching's results"
   ]
  },
  {
   "cell_type": "code",
   "execution_count": 2,
   "id": "344b954f-d743-47fe-a178-d76c6d58e15f",
   "metadata": {},
   "outputs": [],
   "source": [
    "amico = Table.read('/sps/lsst/groups/clusters/amico_validation_project/catalogs/test_amico-flexzboost_cosmoDC2/amico_cosmoDC2/c1_p.fits')"
   ]
  },
  {
   "cell_type": "code",
   "execution_count": 3,
   "id": "bffa81b9-6c48-4b5e-b7cb-ff2f5c6c3f1b",
   "metadata": {
    "tags": []
   },
   "outputs": [],
   "source": [
    "cdc2 = Table.read('/sps/lsst/groups/clusters/amico_validation_project/catalogs/test_amico-flexzboost_cosmoDC2/amico_cosmoDC2/c2_p.fits')"
   ]
  },
  {
   "cell_type": "code",
   "execution_count": 4,
   "id": "c5d243ff-da50-498c-873c-5b4e403c1eb3",
   "metadata": {},
   "outputs": [
    {
     "data": {
      "text/html": [
       "<div><i>Table length=20509</i>\n",
       "<table id=\"table140382779253632\" class=\"table-striped table-bordered table-condensed\">\n",
       "<thead><tr><th>id</th><th>ra</th><th>dec</th><th>z</th><th>mass</th><th>mt_self</th><th>mt_other</th><th>mt_multi_self</th><th>mt_multi_other</th><th>mt_cross</th></tr></thead>\n",
       "<thead><tr><th>bytes6</th><th>float64</th><th>float64</th><th>float32</th><th>float64</th><th>bytes13</th><th>bytes13</th><th>bytes123</th><th>bytes123</th><th>bytes13</th></tr></thead>\n",
       "<tr><td>1</td><td>61.379151</td><td>-39.997938</td><td>0.76</td><td>151.05119</td><td>935700155279</td><td>935700155279</td><td>935700155279</td><td>935700155279</td><td>935700155279</td></tr>\n",
       "<tr><td>2</td><td>61.751903</td><td>-39.598934</td><td>0.39</td><td>34.635494</td><td>268600155355</td><td>268600155355</td><td>268600155355</td><td>268600155355</td><td>268600155355</td></tr>\n",
       "<tr><td>3</td><td>62.020461</td><td>-40.78391</td><td>0.76</td><td>65.485061</td><td>1617600155279</td><td>1617600155279</td><td>1617600155279</td><td>1617600155279</td><td>1617600155279</td></tr>\n",
       "<tr><td>4</td><td>62.622221</td><td>-40.86162</td><td>0.26</td><td>35.691697</td><td>230000155392</td><td>230000155392</td><td>230000155392</td><td>230000155392</td><td>230000155392</td></tr>\n",
       "<tr><td>5</td><td>61.527245</td><td>-40.393481</td><td>0.74</td><td>49.109488</td><td>1464100155279</td><td>1464100155279</td><td>1464100155279,2041800155272,1813700155279</td><td>1813700155279,2041800155272,1464100155279</td><td>1464100155279</td></tr>\n",
       "<tr><td>6</td><td>62.669286</td><td>-39.811269</td><td>0.38</td><td>22.831824</td><td>449800155355</td><td>449800155355</td><td>449800155355</td><td>449800155355</td><td>449800155355</td></tr>\n",
       "<tr><td>7</td><td>61.321316</td><td>-40.68769</td><td>1.33</td><td>40.708297</td><td>676500155208</td><td>676500155208</td><td>676500155208</td><td>676500155208</td><td>676500155208</td></tr>\n",
       "<tr><td>8</td><td>61.378259</td><td>-41.012951</td><td>0.44</td><td>26.0136</td><td>467800155338</td><td>467800155338</td><td>467800155338</td><td>467800155338</td><td>467800155338</td></tr>\n",
       "<tr><td>9</td><td>61.503286</td><td>-41.168414</td><td>0.38</td><td>24.052439</td><td>562900155355</td><td>562900155355</td><td>562900155355,454100155347,124900155373</td><td>562900155355,454100155347,124900155373</td><td>562900155355</td></tr>\n",
       "<tr><td>10</td><td>60.878596</td><td>-39.859705</td><td>0.68</td><td>37.570579</td><td>1432200155293</td><td>1432200155293</td><td>1432200155293,830400155293,42300155286,401500155300,1525000155293</td><td>1432200155293,830400155293,42300155286,401500155300,1525000155293</td><td>1432200155293</td></tr>\n",
       "<tr><td>...</td><td>...</td><td>...</td><td>...</td><td>...</td><td>...</td><td>...</td><td>...</td><td>...</td><td>...</td></tr>\n",
       "<tr><td>20500</td><td>65.212334</td><td>-38.119664</td><td>1.29</td><td>9.1138835</td><td>--</td><td>--</td><td>--</td><td>--</td><td>--</td></tr>\n",
       "<tr><td>20501</td><td>65.775493</td><td>-38.677568</td><td>0.77</td><td>5.8326684</td><td>251700143279</td><td>251700143279</td><td>251700143279</td><td>251700143279</td><td>251700143279</td></tr>\n",
       "<tr><td>20502</td><td>64.831162</td><td>-38.836225</td><td>0.98</td><td>10.975485</td><td>4182000156224</td><td>4182000156224</td><td>1814000143272,3154500143224,2007000156259,4182000156224,1663400143224,3591200143224,860800143224,2350100143247</td><td>1814000143272,3154500143224,2350100143247,1663400143224,3591200143224,2007000156259,860800143224,4182000156224</td><td>4182000156224</td></tr>\n",
       "<tr><td>20503</td><td>65.193177</td><td>-39.144567</td><td>0.7</td><td>8.3780756</td><td>1559900143286</td><td>1559900143286</td><td>1861300143286,1559900143286</td><td>1861300143286,1559900143286</td><td>1559900143286</td></tr>\n",
       "<tr><td>20504</td><td>66.544196</td><td>-39.71715</td><td>0.64</td><td>5.1407113</td><td>204200157307</td><td>204200157307</td><td>725500157286,204200157307</td><td>725500157286,204200157307</td><td>204200157307</td></tr>\n",
       "<tr><td>20505</td><td>66.11524</td><td>-39.677998</td><td>0.88</td><td>12.540215</td><td>1641500143259</td><td>1641500143259</td><td>219800143241,1641500143259,1023800143259</td><td>219800143241,1641500143259,1023800143259</td><td>1641500143259</td></tr>\n",
       "<tr><td>20506</td><td>67.002132</td><td>-38.939501</td><td>1.21</td><td>14.878861</td><td>2511700143247</td><td>2511700143247</td><td>2511700143247</td><td>2511700143247</td><td>2511700143247</td></tr>\n",
       "<tr><td>20507</td><td>67.014958</td><td>-38.439377</td><td>1.25</td><td>11.203411</td><td>2224600143235</td><td>2224600143235</td><td>2224600143235</td><td>2224600143235</td><td>2224600143235</td></tr>\n",
       "<tr><td>20508</td><td>66.860426</td><td>-38.315486</td><td>1.0</td><td>9.9656023</td><td>1685800143247</td><td>1685800143247</td><td>1685800143247</td><td>1685800143247</td><td>1685800143247</td></tr>\n",
       "<tr><td>20509</td><td>66.02564</td><td>-38.29798</td><td>1.08</td><td>10.925958</td><td>2015700143235</td><td>2015700143235</td><td>3069500143219,2015700143235</td><td>3069500143219,2015700143235</td><td>2015700143235</td></tr>\n",
       "</table></div>"
      ],
      "text/plain": [
       "<Table length=20509>\n",
       "  id       ra    ...    mt_cross  \n",
       "bytes6  float64  ...    bytes13   \n",
       "------ --------- ... -------------\n",
       "     1 61.379151 ...  935700155279\n",
       "     2 61.751903 ...  268600155355\n",
       "     3 62.020461 ... 1617600155279\n",
       "     4 62.622221 ...  230000155392\n",
       "     5 61.527245 ... 1464100155279\n",
       "     6 62.669286 ...  449800155355\n",
       "     7 61.321316 ...  676500155208\n",
       "     8 61.378259 ...  467800155338\n",
       "     9 61.503286 ...  562900155355\n",
       "    10 60.878596 ... 1432200155293\n",
       "   ...       ... ...           ...\n",
       " 20500 65.212334 ...            --\n",
       " 20501 65.775493 ...  251700143279\n",
       " 20502 64.831162 ... 4182000156224\n",
       " 20503 65.193177 ... 1559900143286\n",
       " 20504 66.544196 ...  204200157307\n",
       " 20505  66.11524 ... 1641500143259\n",
       " 20506 67.002132 ... 2511700143247\n",
       " 20507 67.014958 ... 2224600143235\n",
       " 20508 66.860426 ... 1685800143247\n",
       " 20509  66.02564 ... 2015700143235"
      ]
     },
     "execution_count": 4,
     "metadata": {},
     "output_type": "execute_result"
    }
   ],
   "source": [
    "amico"
   ]
  },
  {
   "cell_type": "code",
   "execution_count": 5,
   "id": "3d2806c3-e639-4e1b-8697-d5db865cf5d8",
   "metadata": {},
   "outputs": [],
   "source": [
    "m1 = Table.read('/sps/lsst/groups/clusters/amico_validation_project/catalogs/test_amico-flexzboost_cosmoDC2/amico_cosmoDC2/match1.fits')"
   ]
  },
  {
   "cell_type": "code",
   "execution_count": 6,
   "id": "7e686948-8014-4317-8c6a-a776030946d2",
   "metadata": {
    "tags": []
   },
   "outputs": [
    {
     "data": {
      "text/html": [
       "<div><i>Table length=20509</i>\n",
       "<table id=\"table140380814146384\" class=\"table-striped table-bordered table-condensed\">\n",
       "<thead><tr><th>id</th><th>mt_self</th><th>mt_other</th><th>mt_multi_self</th><th>mt_multi_other</th><th>mt_cross</th></tr></thead>\n",
       "<thead><tr><th>bytes6</th><th>bytes13</th><th>bytes13</th><th>bytes123</th><th>bytes123</th><th>bytes13</th></tr></thead>\n",
       "<tr><td>1</td><td>935700155279</td><td>935700155279</td><td>935700155279</td><td>935700155279</td><td>935700155279</td></tr>\n",
       "<tr><td>2</td><td>268600155355</td><td>268600155355</td><td>268600155355</td><td>268600155355</td><td>268600155355</td></tr>\n",
       "<tr><td>3</td><td>1617600155279</td><td>1617600155279</td><td>1617600155279</td><td>1617600155279</td><td>1617600155279</td></tr>\n",
       "<tr><td>4</td><td>230000155392</td><td>230000155392</td><td>230000155392</td><td>230000155392</td><td>230000155392</td></tr>\n",
       "<tr><td>5</td><td>1464100155279</td><td>1464100155279</td><td>1464100155279,2041800155272,1813700155279</td><td>1813700155279,2041800155272,1464100155279</td><td>1464100155279</td></tr>\n",
       "<tr><td>6</td><td>449800155355</td><td>449800155355</td><td>449800155355</td><td>449800155355</td><td>449800155355</td></tr>\n",
       "<tr><td>7</td><td>676500155208</td><td>676500155208</td><td>676500155208</td><td>676500155208</td><td>676500155208</td></tr>\n",
       "<tr><td>8</td><td>467800155338</td><td>467800155338</td><td>467800155338</td><td>467800155338</td><td>467800155338</td></tr>\n",
       "<tr><td>9</td><td>562900155355</td><td>562900155355</td><td>562900155355,454100155347,124900155373</td><td>562900155355,454100155347,124900155373</td><td>562900155355</td></tr>\n",
       "<tr><td>10</td><td>1432200155293</td><td>1432200155293</td><td>1432200155293,830400155293,42300155286,401500155300,1525000155293</td><td>1432200155293,830400155293,42300155286,401500155300,1525000155293</td><td>1432200155293</td></tr>\n",
       "<tr><td>...</td><td>...</td><td>...</td><td>...</td><td>...</td><td>...</td></tr>\n",
       "<tr><td>20500</td><td>--</td><td>--</td><td>--</td><td>--</td><td>--</td></tr>\n",
       "<tr><td>20501</td><td>251700143279</td><td>251700143279</td><td>251700143279</td><td>251700143279</td><td>251700143279</td></tr>\n",
       "<tr><td>20502</td><td>4182000156224</td><td>4182000156224</td><td>1814000143272,3154500143224,2007000156259,4182000156224,1663400143224,3591200143224,860800143224,2350100143247</td><td>1814000143272,3154500143224,2350100143247,1663400143224,3591200143224,2007000156259,860800143224,4182000156224</td><td>4182000156224</td></tr>\n",
       "<tr><td>20503</td><td>1559900143286</td><td>1559900143286</td><td>1861300143286,1559900143286</td><td>1861300143286,1559900143286</td><td>1559900143286</td></tr>\n",
       "<tr><td>20504</td><td>204200157307</td><td>204200157307</td><td>725500157286,204200157307</td><td>725500157286,204200157307</td><td>204200157307</td></tr>\n",
       "<tr><td>20505</td><td>1641500143259</td><td>1641500143259</td><td>219800143241,1641500143259,1023800143259</td><td>219800143241,1641500143259,1023800143259</td><td>1641500143259</td></tr>\n",
       "<tr><td>20506</td><td>2511700143247</td><td>2511700143247</td><td>2511700143247</td><td>2511700143247</td><td>2511700143247</td></tr>\n",
       "<tr><td>20507</td><td>2224600143235</td><td>2224600143235</td><td>2224600143235</td><td>2224600143235</td><td>2224600143235</td></tr>\n",
       "<tr><td>20508</td><td>1685800143247</td><td>1685800143247</td><td>1685800143247</td><td>1685800143247</td><td>1685800143247</td></tr>\n",
       "<tr><td>20509</td><td>2015700143235</td><td>2015700143235</td><td>3069500143219,2015700143235</td><td>3069500143219,2015700143235</td><td>2015700143235</td></tr>\n",
       "</table></div>"
      ],
      "text/plain": [
       "<Table length=20509>\n",
       "  id      mt_self    ...    mt_cross  \n",
       "bytes6    bytes13    ...    bytes13   \n",
       "------ ------------- ... -------------\n",
       "     1  935700155279 ...  935700155279\n",
       "     2  268600155355 ...  268600155355\n",
       "     3 1617600155279 ... 1617600155279\n",
       "     4  230000155392 ...  230000155392\n",
       "     5 1464100155279 ... 1464100155279\n",
       "     6  449800155355 ...  449800155355\n",
       "     7  676500155208 ...  676500155208\n",
       "     8  467800155338 ...  467800155338\n",
       "     9  562900155355 ...  562900155355\n",
       "    10 1432200155293 ... 1432200155293\n",
       "   ...           ... ...           ...\n",
       " 20500            -- ...            --\n",
       " 20501  251700143279 ...  251700143279\n",
       " 20502 4182000156224 ... 4182000156224\n",
       " 20503 1559900143286 ... 1559900143286\n",
       " 20504  204200157307 ...  204200157307\n",
       " 20505 1641500143259 ... 1641500143259\n",
       " 20506 2511700143247 ... 2511700143247\n",
       " 20507 2224600143235 ... 2224600143235\n",
       " 20508 1685800143247 ... 1685800143247\n",
       " 20509 2015700143235 ... 2015700143235"
      ]
     },
     "execution_count": 6,
     "metadata": {},
     "output_type": "execute_result"
    }
   ],
   "source": [
    "m1"
   ]
  },
  {
   "cell_type": "code",
   "execution_count": 7,
   "id": "fa132b0c-8cf4-42e9-b7ad-c1788f722eb3",
   "metadata": {},
   "outputs": [],
   "source": [
    "total = len(m1['mt_cross'])"
   ]
  },
  {
   "cell_type": "code",
   "execution_count": 8,
   "id": "9982639d-3703-4357-93ae-d4a1e991b309",
   "metadata": {},
   "outputs": [
    {
     "data": {
      "text/plain": [
       "numpy.ma.core.MaskedConstant"
      ]
     },
     "execution_count": 8,
     "metadata": {},
     "output_type": "execute_result"
    }
   ],
   "source": [
    "type(m1['mt_multi_other'][20499])"
   ]
  },
  {
   "cell_type": "code",
   "execution_count": 9,
   "id": "ead13079-41f5-450d-8dab-749fa0423d46",
   "metadata": {},
   "outputs": [],
   "source": [
    "from numpy.ma import masked"
   ]
  },
  {
   "cell_type": "code",
   "execution_count": 10,
   "id": "1fa736a6-2417-4cae-a2bb-f8256953d9a0",
   "metadata": {},
   "outputs": [],
   "source": [
    "#masked = m1['mt_multi_other'][20499]"
   ]
  },
  {
   "cell_type": "code",
   "execution_count": 11,
   "id": "e67f1db7-65e1-49d3-8cb0-44d09766feff",
   "metadata": {},
   "outputs": [],
   "source": [
    "j=0\n",
    "for i in range(len(m1['mt_self'])):\n",
    "    #print(m1['mt_multi_other'][i])\n",
    "    if m1['mt_self'][i] is not masked:\n",
    "        j+=1"
   ]
  },
  {
   "cell_type": "code",
   "execution_count": 12,
   "id": "8b4cbfaa-e7d3-4178-8f34-4e6444e0ce19",
   "metadata": {},
   "outputs": [
    {
     "data": {
      "text/plain": [
       "16726"
      ]
     },
     "execution_count": 12,
     "metadata": {},
     "output_type": "execute_result"
    }
   ],
   "source": [
    "j"
   ]
  },
  {
   "cell_type": "markdown",
   "id": "cb97544c-0f3c-43e5-9b6a-534270a2cbd5",
   "metadata": {
    "tags": []
   },
   "source": [
    "unique (self):    16,726"
   ]
  },
  {
   "cell_type": "code",
   "execution_count": 13,
   "id": "9ce2d760-ff05-4894-92f3-a2a4fcf48d1d",
   "metadata": {},
   "outputs": [
    {
     "name": "stdout",
     "output_type": "stream",
     "text": [
      "16724\n"
     ]
    }
   ],
   "source": [
    "k=0\n",
    "for i in range(len(m1['mt_other'])):\n",
    "    #print(m1['mt_multi_other'][i])\n",
    "    if m1['mt_other'][i] is not masked:\n",
    "        k+=1\n",
    "print(k)"
   ]
  },
  {
   "cell_type": "markdown",
   "id": "ca22f22a-4cd2-4d44-a65c-8a03ec883966",
   "metadata": {},
   "source": [
    "unique (other):   16,724"
   ]
  },
  {
   "cell_type": "code",
   "execution_count": 14,
   "id": "0109ed64-4638-4758-9784-dfbfd758f6ad",
   "metadata": {},
   "outputs": [
    {
     "name": "stdout",
     "output_type": "stream",
     "text": [
      "17677\n"
     ]
    }
   ],
   "source": [
    "l=0\n",
    "for i in range(len(m1['mt_multi_self'])):\n",
    "    #print(m1['mt_multi_other'][i])\n",
    "    if m1['mt_multi_self'][i] is not masked:\n",
    "        l+=1\n",
    "print(l)"
   ]
  },
  {
   "cell_type": "markdown",
   "id": "b901391b-3be4-4599-a7d3-018fd79b3a7d",
   "metadata": {},
   "source": [
    "multiple (self):  17,677\n",
    "multiple (other): 17,677"
   ]
  },
  {
   "cell_type": "code",
   "execution_count": 15,
   "id": "ba139449-a10a-4441-b1d4-6208962454bd",
   "metadata": {},
   "outputs": [
    {
     "name": "stdout",
     "output_type": "stream",
     "text": [
      "17677\n"
     ]
    }
   ],
   "source": [
    "m=0\n",
    "for i in range(len(m1['mt_multi_other'])):\n",
    "    #print(m1['mt_multi_other'][i])\n",
    "    if m1['mt_multi_other'][i] is not masked:\n",
    "        m+=1\n",
    "print(m)"
   ]
  },
  {
   "cell_type": "markdown",
   "id": "b319093f-238a-41e6-aa00-62af875fca32",
   "metadata": {},
   "source": [
    "multiple (other): 17,677"
   ]
  },
  {
   "cell_type": "code",
   "execution_count": 26,
   "id": "882fef78-b5c0-4888-8c64-afbf6d0aa153",
   "metadata": {},
   "outputs": [
    {
     "name": "stdout",
     "output_type": "stream",
     "text": [
      "16703\n"
     ]
    }
   ],
   "source": [
    "n=0\n",
    "for i in range(len(m1['mt_cross'])):\n",
    "    #print(m1['mt_multi_other'][i])\n",
    "    if m1['mt_cross'][i] is not masked:\n",
    "        n+=1\n",
    "print(n)"
   ]
  },
  {
   "cell_type": "markdown",
   "id": "216e0c97-c71a-4bca-8da7-f1e7c8b30697",
   "metadata": {},
   "source": [
    "cross:16,703"
   ]
  },
  {
   "cell_type": "code",
   "execution_count": 19,
   "id": "4a655f6e-323a-475a-acfd-e08c7570d4a9",
   "metadata": {},
   "outputs": [
    {
     "name": "stdout",
     "output_type": "stream",
     "text": [
      "mt_self: 16726 \n",
      "mt_other: 16724 mt_multi_self: 17677 mt_multi_other: 17677 mt_cross 16703\n"
     ]
    }
   ],
   "source": [
    "print('mt_self:', j, '\\nmt_other:', k, 'mt_multi_self:', l, 'mt_multi_other:', m, 'mt_cross', n)"
   ]
  },
  {
   "cell_type": "code",
   "execution_count": 54,
   "id": "b200155d-9f0f-48a8-825e-14242421dad4",
   "metadata": {},
   "outputs": [],
   "source": [
    "def get_info(cat):\n",
    "    j, k, l, m, n = 0, 0, 0, 0, 0\n",
    "    for i in range(len(cat['mt_self'])):\n",
    "        if cat['mt_self'][i] is not masked:\n",
    "            j+=1\n",
    "        if cat['mt_other'][i] is not masked:\n",
    "            k+=1\n",
    "        if cat['mt_multi_self'][i] is not masked:\n",
    "            l+=1\n",
    "        if cat['mt_multi_other'][i] is not masked:\n",
    "            m+=1\n",
    "        if cat['mt_cross'][i] is not masked:\n",
    "            n+=1  \n",
    "    return j, k, l, m, n"
   ]
  },
  {
   "cell_type": "code",
   "execution_count": 58,
   "id": "ae79e5b0-556c-440f-93f2-15846daa22b7",
   "metadata": {},
   "outputs": [],
   "source": [
    "match2 = Table.read('/sps/lsst/groups/clusters/amico_validation_project/catalogs/test_amico-flexzboost_cosmoDC2/amico_cosmoDC2/match2.fits')"
   ]
  },
  {
   "cell_type": "code",
   "execution_count": 60,
   "id": "92da9f60-94bb-48f3-904f-6d37691f1a57",
   "metadata": {},
   "outputs": [
    {
     "name": "stdout",
     "output_type": "stream",
     "text": [
      "Amico infos from p-matching with cosmoDC2_small \n",
      "#c1 \n",
      "total objects 20509 \n",
      "unique (self): 16726 \n",
      "unique (other): 16724 \n",
      "multiple (self): 17677 \n",
      "multiple (other): 17677 \n",
      "cross: 16703\n",
      "\n",
      "cosmoDC2_small infos from p-matching with amico \n",
      "#c2 \n",
      "total objects 61725 \n",
      "unique (self): 16724 \n",
      "unique (other): 16726 \n",
      "multiple (self): 26552 \n",
      "multiple (other): 26552 \n",
      "cross: 16703\n"
     ]
    }
   ],
   "source": [
    "j, k, l, m, n = get_info(m1)\n",
    "print('Amico infos from p-matching with cosmoDC2_small','\\n#c1', '\\ntotal objects', len(m1),'\\nunique (self):', j, '\\nunique (other):', k, '\\nmultiple (self):', l, '\\nmultiple (other):', m, '\\ncross:', n)\n",
    "j2, k2, l2, m2, n2 = get_info(match2)\n",
    "print('\\ncosmoDC2_small infos from p-matching with amico','\\n#c2', '\\ntotal objects', len(match2),'\\nunique (self):', j2, '\\nunique (other):', k2, '\\nmultiple (self):', l2, '\\nmultiple (other):', m2, '\\ncross:', n2)"
   ]
  },
  {
   "cell_type": "code",
   "execution_count": 51,
   "id": "90ffb3ee-9c8e-4ee0-8805-2ff34e9e6e49",
   "metadata": {},
   "outputs": [],
   "source": [
    "amico_mb = Table.read('/sps/lsst/groups/clusters/amico_validation_project/catalogs/test_amico-flexzboost_cosmoDC2/amico_cosmoDC2/c1_mb.fits')\n",
    "cdc2_mb = Table.read('/sps/lsst/groups/clusters/amico_validation_project/catalogs/test_amico-flexzboost_cosmoDC2/amico_cosmoDC2/c2_mb.fits')"
   ]
  },
  {
   "cell_type": "code",
   "execution_count": 52,
   "id": "909b154f-6071-42e7-964c-f4d93f0e74d4",
   "metadata": {},
   "outputs": [
    {
     "name": "stdout",
     "output_type": "stream",
     "text": [
      "Amico infos from mb-matching with cosmoDC2_small \n",
      "#c1 \n",
      "total objects 20509 \n",
      "unique (self): 18358 \n",
      "unique (other): 18545 \n",
      "multiple (self): 19107 \n",
      "multiple (other): 19107 \n",
      "cross: 18332\n",
      "\n",
      "cosmoDC2_small infos from mb-matching with amico \n",
      "#c2 \n",
      "total objects 61725 \n",
      "unique (self): 18545 \n",
      "unique (other): 18358 \n",
      "multiple (self): 36480 \n",
      "multiple (other): 36480 \n",
      "cross: 18332\n"
     ]
    }
   ],
   "source": [
    "j, k, l, m, n = get_info(amico_mb)\n",
    "print('Amico infos from mb-matching with cosmoDC2_small','\\n#c1', '\\ntotal objects', len(amico_mb), '\\nunique (self):', j, '\\nunique (other):', k, '\\nmultiple (self):', l, '\\nmultiple (other):', m, '\\ncross:', n)\n",
    "j2, k2, l2, m2, n2 = get_info(cdc2_mb)\n",
    "print('\\ncosmoDC2_small infos from mb-matching with amico','\\n#c2', '\\ntotal objects', len(cdc2_mb), '\\nunique (self):', j2, '\\nunique (other):', k2, '\\nmultiple (self):', l2, '\\nmultiple (other):', m2, '\\ncross:', n2)"
   ]
  },
  {
   "cell_type": "code",
   "execution_count": 50,
   "id": "15c31acb-aaa0-4a4d-9dee-d8e08f83f0ea",
   "metadata": {},
   "outputs": [
    {
     "data": {
      "text/html": [
       "<div><i>Table length=61725</i>\n",
       "<table id=\"table140380782893504\" class=\"table-striped table-bordered table-condensed\">\n",
       "<thead><tr><th>id</th><th>ra</th><th>dec</th><th>z</th><th>mass</th><th>log_mass</th><th>mt_self</th><th>mt_other</th><th>mt_multi_self</th><th>mt_multi_other</th><th>mt_frac_other</th><th>mt_frac_self</th><th>mt_cross</th></tr></thead>\n",
       "<thead><tr><th>bytes21</th><th>float64</th><th>float64</th><th>float64</th><th>float64</th><th>float64</th><th>bytes5</th><th>bytes5</th><th>bytes149</th><th>bytes149</th><th>float64</th><th>float64</th><th>bytes5</th></tr></thead>\n",
       "<tr><td>400155487</td><td>61.869596337556686</td><td>-40.90712062111757</td><td>0.021333993084020175</td><td>12069313567729.578</td><td>13.081682570658694</td><td>--</td><td>--</td><td>--</td><td>--</td><td>0.0</td><td>0.0</td><td>--</td></tr>\n",
       "<tr><td>37900155453</td><td>61.295572557486395</td><td>-39.80574428988245</td><td>0.09395243918657203</td><td>10887561031391.55</td><td>13.036930602506859</td><td>--</td><td>--</td><td>--</td><td>--</td><td>0.0</td><td>0.0</td><td>--</td></tr>\n",
       "<tr><td>14700155442</td><td>62.961217514835056</td><td>-40.39291946996776</td><td>0.10346959883134677</td><td>33519675397769.016</td><td>13.525299804300712</td><td>4477</td><td>4477</td><td>3743,4477</td><td>3743,4477</td><td>0.0007320985613303117</td><td>0.0625</td><td>4477</td></tr>\n",
       "<tr><td>3300155432</td><td>62.284364037836404</td><td>-41.07674501853869</td><td>0.14018907525323798</td><td>18629652514614.086</td><td>13.270204754392052</td><td>--</td><td>--</td><td>--</td><td>--</td><td>0.0</td><td>0.0</td><td>--</td></tr>\n",
       "<tr><td>19800155432</td><td>62.05549212472633</td><td>-41.161071926731644</td><td>0.14304519781057157</td><td>14260490343842.254</td><td>13.154134458893385</td><td>--</td><td>--</td><td>--</td><td>--</td><td>0.0</td><td>0.0</td><td>--</td></tr>\n",
       "<tr><td>41300155432</td><td>62.10249971222131</td><td>-40.65971574420232</td><td>0.1387209292113325</td><td>15041162560180.283</td><td>13.17728140500287</td><td>--</td><td>--</td><td>--</td><td>--</td><td>0.0</td><td>0.0</td><td>--</td></tr>\n",
       "<tr><td>22500155421</td><td>61.05606039634485</td><td>-39.972727741545526</td><td>0.18286930814904623</td><td>38307798324642.26</td><td>13.58328719236586</td><td>--</td><td>--</td><td>--</td><td>--</td><td>0.0</td><td>0.0</td><td>--</td></tr>\n",
       "<tr><td>35700155421</td><td>62.23579865478711</td><td>-39.485977648912574</td><td>0.17966607247124333</td><td>85876300877881.69</td><td>13.933873328929982</td><td>--</td><td>--</td><td>--</td><td>--</td><td>0.0</td><td>0.0</td><td>--</td></tr>\n",
       "<tr><td>51800155421</td><td>61.97682173294707</td><td>-39.834744453376665</td><td>0.17932797108621878</td><td>13482420368225.354</td><td>13.129767863876392</td><td>--</td><td>--</td><td>--</td><td>--</td><td>0.0</td><td>0.0</td><td>--</td></tr>\n",
       "<tr><td>54800155421</td><td>61.87050865978772</td><td>-39.738333518447206</td><td>0.16956675299502266</td><td>12909927409577.465</td><td>13.110923800306034</td><td>--</td><td>--</td><td>--</td><td>--</td><td>0.0</td><td>0.0</td><td>--</td></tr>\n",
       "<tr><td>...</td><td>...</td><td>...</td><td>...</td><td>...</td><td>...</td><td>...</td><td>...</td><td>...</td><td>...</td><td>...</td><td>...</td><td>...</td></tr>\n",
       "<tr><td>1323400143121</td><td>65.6539569318067</td><td>-38.198004613827855</td><td>2.9448140881480476</td><td>12673123503954.93</td><td>13.10288366723936</td><td>--</td><td>--</td><td>--</td><td>--</td><td>0.0</td><td>0.0</td><td>--</td></tr>\n",
       "<tr><td>2630900143121</td><td>65.51992934322357</td><td>-38.166024908810094</td><td>2.9704920742260303</td><td>33183986344743.664</td><td>13.520928555996203</td><td>--</td><td>--</td><td>--</td><td>--</td><td>0.0</td><td>0.0</td><td>--</td></tr>\n",
       "<tr><td>3825700143121</td><td>65.96331039935626</td><td>-39.53910531488538</td><td>2.9427338830664005</td><td>11488849216180.283</td><td>13.060276529637616</td><td>--</td><td>--</td><td>--</td><td>--</td><td>0.0</td><td>0.0</td><td>--</td></tr>\n",
       "<tr><td>3828900143121</td><td>65.73579485925158</td><td>-38.31624572435801</td><td>2.982785276699029</td><td>10793853781814.086</td><td>13.033176530629195</td><td>--</td><td>--</td><td>--</td><td>--</td><td>0.0</td><td>0.0</td><td>--</td></tr>\n",
       "<tr><td>3935600143121</td><td>66.3027308924118</td><td>-39.992636198369446</td><td>3.016990686501547</td><td>11306640675335.21</td><td>13.053333590524376</td><td>--</td><td>--</td><td>--</td><td>--</td><td>0.0</td><td>0.0</td><td>--</td></tr>\n",
       "<tr><td>4259300143121</td><td>66.79669738490588</td><td>-38.47288373304661</td><td>2.986808071967553</td><td>27014073594952.113</td><td>13.431590078686286</td><td>--</td><td>--</td><td>--</td><td>--</td><td>0.0</td><td>0.0</td><td>--</td></tr>\n",
       "<tr><td>4787200143121</td><td>67.11851093614465</td><td>-38.60460387777027</td><td>3.0031213151530114</td><td>10965650406039.438</td><td>13.040034396102621</td><td>--</td><td>--</td><td>--</td><td>--</td><td>0.0</td><td>0.0</td><td>--</td></tr>\n",
       "<tr><td>4947200143121</td><td>66.43947083074886</td><td>-39.395333071004195</td><td>2.9566527194763035</td><td>10122285159842.254</td><td>13.005278567867208</td><td>--</td><td>--</td><td>--</td><td>--</td><td>0.0</td><td>0.0</td><td>--</td></tr>\n",
       "<tr><td>5034100143121</td><td>66.96447881516134</td><td>-38.446479077178296</td><td>3.0039423335026214</td><td>11754353089983.1</td><td>13.07019873238213</td><td>--</td><td>--</td><td>--</td><td>--</td><td>0.0</td><td>0.0</td><td>--</td></tr>\n",
       "<tr><td>5190600143121</td><td>66.259074212235</td><td>-37.98886022728698</td><td>2.9756834755206225</td><td>10106667284912.676</td><td>13.004607968807058</td><td>--</td><td>--</td><td>--</td><td>--</td><td>0.0</td><td>0.0</td><td>--</td></tr>\n",
       "</table></div>"
      ],
      "text/plain": [
       "<Table length=61725>\n",
       "      id              ra                 dec         ... mt_frac_self mt_cross\n",
       "   bytes21         float64             float64       ...   float64     bytes5 \n",
       "------------- ------------------ ------------------- ... ------------ --------\n",
       "    400155487 61.869596337556686  -40.90712062111757 ...          0.0       --\n",
       "  37900155453 61.295572557486395  -39.80574428988245 ...          0.0       --\n",
       "  14700155442 62.961217514835056  -40.39291946996776 ...       0.0625     4477\n",
       "   3300155432 62.284364037836404  -41.07674501853869 ...          0.0       --\n",
       "  19800155432  62.05549212472633 -41.161071926731644 ...          0.0       --\n",
       "  41300155432  62.10249971222131  -40.65971574420232 ...          0.0       --\n",
       "  22500155421  61.05606039634485 -39.972727741545526 ...          0.0       --\n",
       "  35700155421  62.23579865478711 -39.485977648912574 ...          0.0       --\n",
       "  51800155421  61.97682173294707 -39.834744453376665 ...          0.0       --\n",
       "  54800155421  61.87050865978772 -39.738333518447206 ...          0.0       --\n",
       "          ...                ...                 ... ...          ...      ...\n",
       "1323400143121   65.6539569318067 -38.198004613827855 ...          0.0       --\n",
       "2630900143121  65.51992934322357 -38.166024908810094 ...          0.0       --\n",
       "3825700143121  65.96331039935626  -39.53910531488538 ...          0.0       --\n",
       "3828900143121  65.73579485925158  -38.31624572435801 ...          0.0       --\n",
       "3935600143121   66.3027308924118 -39.992636198369446 ...          0.0       --\n",
       "4259300143121  66.79669738490588  -38.47288373304661 ...          0.0       --\n",
       "4787200143121  67.11851093614465  -38.60460387777027 ...          0.0       --\n",
       "4947200143121  66.43947083074886 -39.395333071004195 ...          0.0       --\n",
       "5034100143121  66.96447881516134 -38.446479077178296 ...          0.0       --\n",
       "5190600143121    66.259074212235  -37.98886022728698 ...          0.0       --"
      ]
     },
     "execution_count": 50,
     "metadata": {},
     "output_type": "execute_result"
    }
   ],
   "source": [
    "cdc2_mb"
   ]
  },
  {
   "cell_type": "code",
   "execution_count": null,
   "id": "4432cd86-cb9b-4bc6-b4ec-c6c5ce8157f1",
   "metadata": {},
   "outputs": [],
   "source": []
  }
 ],
 "metadata": {
  "kernelspec": {
   "display_name": "desc",
   "language": "python",
   "name": "desc"
  },
  "language_info": {
   "codemirror_mode": {
    "name": "ipython",
    "version": 3
   },
   "file_extension": ".py",
   "mimetype": "text/x-python",
   "name": "python",
   "nbconvert_exporter": "python",
   "pygments_lexer": "ipython3",
   "version": "3.10.8"
  }
 },
 "nbformat": 4,
 "nbformat_minor": 5
}
