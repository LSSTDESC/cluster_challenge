{
 "cells": [
  {
   "cell_type": "markdown",
   "id": "3b0ef301-40eb-4dbf-928a-9d1d72457dee",
   "metadata": {
    "tags": []
   },
   "source": [
    "# Matching amico with cosmoDC2_small"
   ]
  },
  {
   "cell_type": "code",
   "execution_count": 52,
   "id": "f103c5e2-0930-4acb-83ea-a1cd1017e528",
   "metadata": {},
   "outputs": [],
   "source": [
    "import numpy as np\n",
    "import matplotlib.pyplot as plt\n",
    "import matplotlib\n",
    "%matplotlib inline\n",
    "import GCRCatalogs\n",
    "import numpy as np\n",
    "from astropy.table import Table, vstack\n",
    "from astropy.io import fits\n",
    "from astropy.io import ascii\n",
    "import pandas as pd\n",
    "###clevar\n",
    "import clevar\n",
    "from clevar import ClCatalog\n",
    "from clevar.match import get_matched_pairs\n",
    "from clevar.match import output_matched_catalog"
   ]
  },
  {
   "cell_type": "markdown",
   "id": "9a6f14c3-4d2b-4743-b500-3b503621ad73",
   "metadata": {
    "tags": []
   },
   "source": [
    "### Listing variables names + read catalogs if needed"
   ]
  },
  {
   "cell_type": "code",
   "execution_count": 51,
   "id": "6fe4642a-b1fa-4222-9ac2-3a635c8c127c",
   "metadata": {
    "jupyter": {
     "source_hidden": true
    },
    "tags": []
   },
   "outputs": [
    {
     "data": {
      "text/plain": [
       "\"\\ncosmodc2_data_mb = Table(cat.get_quantities(['ra', 'dec', 'mag_i', 'mag_r', 'mag_z', 'halo_id', 'halo_mass', 'position_x', 'position_y', 'redshift', 'galaxy_id', 'stellar_mass'], \\n                                 filters=['halo_mass>1e14']))\\ncosmodc2_data_halo = Table(cat.get_quantities(['halo_id', 'ra', 'dec', 'redshift', 'halo_mass'], filters=['halo_mass > 1e14', 'is_central']))\\ncosmodc2_data_mb.write('/pbs/home/n/namourou/test_jupyter/cluster_challenge/notebooks/dc2_cat/cdc2_mb_1e14.fits')\\ncosmodc2_data_halo.write('/pbs/home/n/namourou/test_jupyter/cluster_challenge/notebooks/dc2_cat/cdc2_halo_1e14.fits')\\n\\ncosmodc2_mb = Table.read('/pbs/home/n/namourou/test_jupyter/cluster_challenge/notebooks/dc2_cat/cdc2_mb.fits')\\ncosmodc2_mb_inpath = '/pbs/home/n/namourou/test_jupyter/cluster_challenge/notebooks/dc2_cat/cdc2_mb.fits'\\ncosmodc2_halo = Table.read('/pbs/home/n/namourou/test_jupyter/cluster_challenge/notebooks/dc2_cat/cdc2_halo.fits')\\ncosmodc2_halo_inpath = '/pbs/home/n/namourou/test_jupyter/cluster_challenge/notebooks/dc2_cat/cdc2_halo.fits'\\n\""
      ]
     },
     "execution_count": 51,
     "metadata": {},
     "output_type": "execute_result"
    }
   ],
   "source": [
    "#print(cat.list_all_quantities())\n",
    "#print(amico_data.colnames)\n",
    "#cat = GCRCatalogs.load_catalog(\"cosmoDC2_v1.1.4_small\")\n",
    "\"\"\"\n",
    "cosmodc2_data_mb = Table(cat.get_quantities(['ra', 'dec', 'mag_i', 'mag_r', 'mag_z', 'halo_id', 'halo_mass', 'position_x', 'position_y', 'redshift', 'galaxy_id', 'stellar_mass'], \n",
    "                                 filters=['halo_mass>1e14']))\n",
    "cosmodc2_data_halo = Table(cat.get_quantities(['halo_id', 'ra', 'dec', 'redshift', 'halo_mass'], filters=['halo_mass > 1e14', 'is_central']))\n",
    "cosmodc2_data_mb.write('/pbs/home/n/namourou/test_jupyter/cluster_challenge/notebooks/dc2_cat/cdc2_mb_1e14.fits')\n",
    "cosmodc2_data_halo.write('/pbs/home/n/namourou/test_jupyter/cluster_challenge/notebooks/dc2_cat/cdc2_halo_1e14.fits')\n",
    "\n",
    "cosmodc2_mb = Table.read('/pbs/home/n/namourou/test_jupyter/cluster_challenge/notebooks/dc2_cat/cdc2_mb.fits')\n",
    "cosmodc2_mb_inpath = '/pbs/home/n/namourou/test_jupyter/cluster_challenge/notebooks/dc2_cat/cdc2_mb.fits'\n",
    "cosmodc2_halo = Table.read('/pbs/home/n/namourou/test_jupyter/cluster_challenge/notebooks/dc2_cat/cdc2_halo.fits')\n",
    "cosmodc2_halo_inpath = '/pbs/home/n/namourou/test_jupyter/cluster_challenge/notebooks/dc2_cat/cdc2_halo.fits'\n",
    "\"\"\""
   ]
  },
  {
   "cell_type": "markdown",
   "id": "c433ec3e-8718-44b1-9166-4f8f1c7921f1",
   "metadata": {},
   "source": [
    "------------"
   ]
  },
  {
   "cell_type": "markdown",
   "id": "937c373a-5c25-4e98-99bf-3d6288c0a279",
   "metadata": {},
   "source": [
    "### Loading catalogs and converting them to clevar tables"
   ]
  },
  {
   "cell_type": "code",
   "execution_count": 2,
   "id": "81e95e46-44bd-4bdd-a3e8-3b9530cefbef",
   "metadata": {},
   "outputs": [],
   "source": [
    "cat_names = ['9943_map_associations', '9942_map_associations', '9816_map_associations', '9815_map_associations', '9814_map_associations', '9687_map_associations', '9686_map_associations',\n",
    "             '9559_map_associations', '10450_map_associations', '10327_map_associations', '10326_map_associations', '10200_map_associations', '10199_map_associations',\n",
    "             '10198_map_associations', '10072_map_associations', '10071_map_associations']\n",
    "tile_names = []\n",
    "for i in range(len(cat_names)):\n",
    "    tile_names.append(cat_names[i].split(\"_\")[0])"
   ]
  },
  {
   "cell_type": "code",
   "execution_count": 53,
   "id": "0a21b50f-c263-4f24-9b5c-89ed5807a66c",
   "metadata": {},
   "outputs": [],
   "source": [
    "cosmodc2_mb = Table.read('/pbs/home/n/namourou/test_jupyter/cluster_challenge/notebooks/dc2_cat/cdc2_mb.fits')\n",
    "cosmodc2_mb_inpath = '/pbs/home/n/namourou/test_jupyter/cluster_challenge/notebooks/dc2_cat/cdc2_mb.fits'\n",
    "cosmodc2_halo = Table.read('/pbs/home/n/namourou/test_jupyter/cluster_challenge/notebooks/dc2_cat/cdc2_halo.fits')\n",
    "cosmodc2_halo_inpath= '/pbs/home/n/namourou/test_jupyter/cluster_challenge/notebooks/dc2_cat/cdc2_halo.fits'\n",
    "\n",
    "mb_inpath = '/sps/lsst/groups/clusters/amico_validation_project/catalogs/amico_cats/amico_map_associations/'\n",
    "cl_inpath = '/sps/lsst/users/tguillem/DESC/desc_april_2022/cluster_challenge/clevar_catalogs/amico/map_detections_refined_noBuffer_all.fits'\n",
    "\n",
    "amico_cl = Table.read(cl_inpath)['ID', 'Xphys', 'Yphys', 'Zphys','LAMBSTAR', 'SN_NO_CLUSTER', 'SN', 'uid', 'tile']"
   ]
  },
  {
   "cell_type": "code",
   "execution_count": 54,
   "id": "f55d39dd-e2bd-43fd-b35a-85ed3679a4fa",
   "metadata": {},
   "outputs": [
    {
     "name": "stderr",
     "output_type": "stream",
     "text": [
      "/sps/lsst/users/namourou/conda_clone_210223/descv1.1/clevar/clevar/catalog.py:1032: UserWarning: Some galaxies were not members of the cluster catalog. They are stored in leftover_members attribute.\n",
      "  warnings.warn(\n"
     ]
    }
   ],
   "source": [
    "c1  = ClCatalog.read(cosmodc2_halo_inpath, 'c1', tags={'id':'halo_id', 'mass':'halo_mass'}, full=True)\n",
    "c1.read_members(cosmodc2_mb_inpath, tags={'id':'galaxy_id', 'id_cluster':'halo_id'}, full=True)"
   ]
  },
  {
   "cell_type": "code",
   "execution_count": 58,
   "id": "e063af98-f5c7-465e-9202-8175cce1d171",
   "metadata": {},
   "outputs": [],
   "source": [
    "large_amico_data = Table.read('/sps/lsst/groups/clusters/amico_validation_project/catalogs/amico_cats/amico_map_associations/' + '9943' + '_map_associations.fits')\n",
    "for name in tile_names[1:]:\n",
    "    amico_data2 = Table.read('/sps/lsst/groups/clusters/amico_validation_project/catalogs/amico_cats/amico_map_associations/' + name + '_map_associations.fits')\n",
    "    large_amico_data = vstack([large_amico_data, amico_data2])"
   ]
  },
  {
   "cell_type": "code",
   "execution_count": 59,
   "id": "1d03f8a3-892b-4788-a0b7-dac9634ffb2c",
   "metadata": {},
   "outputs": [],
   "source": [
    "c2  = ClCatalog('c2', id = amico_cl['uid'], mass = amico_cl['LAMBSTAR'], ra = amico_cl['Xphys'], dec = amico_cl['Yphys'], redshift = amico_cl['Zphys'])"
   ]
  },
  {
   "cell_type": "code",
   "execution_count": 60,
   "id": "eb344725-1ee1-4a52-a505-503722f3ab34",
   "metadata": {},
   "outputs": [],
   "source": [
    "c2.add_members(id=large_amico_data['mb_id'], id_cluster=large_amico_data['uid'], pmem=large_amico_data['prob'])"
   ]
  },
  {
   "cell_type": "code",
   "execution_count": 61,
   "id": "9b789b47-dcfa-408f-9e85-2b9948dec6f7",
   "metadata": {},
   "outputs": [],
   "source": [
    "from clevar.match import MembershipMatch\n",
    "mt = MembershipMatch()"
   ]
  },
  {
   "cell_type": "code",
   "execution_count": 62,
   "id": "dc7446d7-95a0-4e8a-8552-268978e516dd",
   "metadata": {},
   "outputs": [],
   "source": [
    "match_config = {\n",
    "    'type': 'cross', # options are cross, cat1, cat2\n",
    "    'preference': 'shared_member_fraction', # other options are more_massive, angular_proximity or redshift_proximity\n",
    "    'minimum_share_fraction': 0,\n",
    "    'match_members_kwargs': {'method':'id'},\n",
    "}"
   ]
  },
  {
   "cell_type": "code",
   "execution_count": 63,
   "id": "abdd2a0b-54ca-4a4f-8f61-f1a8a5e01fbe",
   "metadata": {},
   "outputs": [
    {
     "name": "stdout",
     "output_type": "stream",
     "text": [
      "185,668 members were matched.\n",
      "\n",
      "## Multiple match (catalog 1)\n",
      "Finding candidates (c1)\n",
      "* 10,630/61,725 objects matched.\n",
      "\n",
      "## Multiple match (catalog 2)\n",
      "Finding candidates (c2)\n",
      "* 9,073/11,485 objects matched.\n",
      "\n",
      "## Finding unique matches of catalog 1\n",
      "Unique Matches (c1)\n",
      "* 7,717/61,725 objects matched.\n",
      "\n",
      "## Finding unique matches of catalog 2\n",
      "Unique Matches (c2)\n",
      "* 7,592/11,485 objects matched.\n",
      "Cross Matches (c1)\n",
      "* 7,570/61,725 objects matched.\n",
      "Cross Matches (c2)\n",
      "* 7,570/11,485 objects matched.\n"
     ]
    }
   ],
   "source": [
    "mt.match_from_config(c1, c2, match_config)"
   ]
  },
  {
   "cell_type": "code",
   "execution_count": 64,
   "id": "0b94dbc7-1bd8-4d7e-a0e5-4fc2d8529323",
   "metadata": {},
   "outputs": [],
   "source": [
    "c1.write('/pbs/home/n/namourou/test_jupyter/cluster_challenge/notebooks/outfiles/membermatching/' + 'c1.fits', overwrite=True)\n",
    "c2.write('/pbs/home/n/namourou/test_jupyter/cluster_challenge/notebooks/outfiles/membermatching/' + 'c2.fits', overwrite = True)"
   ]
  },
  {
   "cell_type": "code",
   "execution_count": 65,
   "id": "5973dbb4-88aa-48e3-b2aa-8acbbc6cc9ee",
   "metadata": {},
   "outputs": [],
   "source": [
    "mt.save_matches(c1, c2, out_dir='/pbs/home/n/namourou/test_jupyter/cluster_challenge/notebooks/outfiles/membermatching/', overwrite=True)"
   ]
  },
  {
   "cell_type": "code",
   "execution_count": 66,
   "id": "04b1dfc9-2adf-4a0c-920c-1fa9527b9dfc",
   "metadata": {},
   "outputs": [],
   "source": [
    "outpath = '/pbs/home/n/namourou/test_jupyter/cluster_challenge/notebooks/outfiles/membermatching/'"
   ]
  },
  {
   "cell_type": "code",
   "execution_count": 67,
   "id": "b890db8d-f9df-4922-88f3-96cd988fe5e1",
   "metadata": {},
   "outputs": [],
   "source": [
    "output_matched_catalog(outpath + 'c1.fits', outpath + 'c2.fits',outpath+'output_catalog.fits', c1, c2, matching_type='cross', overwrite=True) # Saves matchings in one file"
   ]
  },
  {
   "cell_type": "code",
   "execution_count": 68,
   "id": "72d62362-a748-4217-b413-8da45babf68f",
   "metadata": {},
   "outputs": [
    {
     "name": "stdout",
     "output_type": "stream",
     "text": [
      "    * ClEvar used in matching: 0.13.8\n",
      "    * ClEvar used in matching: 0.13.8\n"
     ]
    },
    {
     "name": "stderr",
     "output_type": "stream",
     "text": [
      "/sps/lsst/users/namourou/conda_clone_210223/descv1.1/clevar/clevar/catalog.py:267: UserWarning: id column missing, additional one is being created.\n",
      "  warnings.warn(\n"
     ]
    }
   ],
   "source": [
    "c1 = ClCatalog.read_full(outpath + 'c1.fits') #cosmoDC2_small matched table\n",
    "c2 = ClCatalog.read_full(outpath + 'c2.fits') #amico matched table\n",
    "c_merged = ClCatalog.read(outpath +'output_catalog.fits', 'merged', full = True)"
   ]
  },
  {
   "cell_type": "code",
   "execution_count": 69,
   "id": "7011397c-adc1-4733-9b0e-17f2810a986e",
   "metadata": {},
   "outputs": [
    {
     "data": {
      "text/html": [
       "<b>merged</b><br></b><b>tags:</b> id(id)<br><b>Radius unit:</b> None<br><div><i>ClData length=7570</i>\n",
       "<table id=\"table139738141359216\" class=\"table-striped table-bordered table-condensed\">\n",
       "<thead><tr><th>id</th><th>cat1_halo_id</th><th>cat1_halo_mass</th><th>cat1_ra</th><th>cat1_dec</th><th>cat1_redshift</th><th>cat1_mt_self</th><th>cat1_mt_other</th><th>cat1_mt_multi_self</th><th>cat1_mt_multi_other</th><th>cat1_mt_frac_self</th><th>cat1_mt_frac_other</th><th>cat1_mt_cross</th><th>cat1_mt_frac</th><th>cat2_id</th><th>cat2_mass</th><th>cat2_ra</th><th>cat2_dec</th><th>cat2_redshift</th><th>cat2_mt_self</th><th>cat2_mt_other</th><th>cat2_mt_multi_self</th><th>cat2_mt_multi_other</th><th>cat2_mt_frac_other</th><th>cat2_mt_frac_self</th><th>cat2_mt_cross</th><th>cat2_mt_frac</th><th>mt_self</th><th>mt_other</th><th>mt_multi_self</th><th>mt_multi_other</th></tr></thead>\n",
       "<thead><tr><th>str4</th><th>bytes21</th><th>float64</th><th>float64</th><th>float64</th><th>float64</th><th>bytes5</th><th>bytes5</th><th>bytes47</th><th>bytes47</th><th>float64</th><th>float64</th><th>bytes5</th><th>float64</th><th>bytes6</th><th>float64</th><th>float64</th><th>float64</th><th>float64</th><th>bytes13</th><th>bytes13</th><th>bytes150</th><th>bytes150</th><th>float64</th><th>float64</th><th>bytes13</th><th>float64</th><th>object</th><th>object</th><th>object</th><th>object</th></tr></thead>\n",
       "<tr><td>0</td><td>130900155382</td><td>15793210128585.916</td><td>62.65788717712585</td><td>-39.69382757562023</td><td>0.30358652044964063</td><td>10201</td><td>10201</td><td>10201</td><td>10201</td><td>0.5714285714285714</td><td>0.23514232256378964</td><td>10201</td><td>0.5714285714285714</td><td>10201</td><td>13.739239</td><td>62.819584</td><td>-39.713604</td><td>0.29999998</td><td>130900155382</td><td>130900155382</td><td>278300142373,130900155382,449800155355,283300142323</td><td>278300142373,130900155382,449800155355,283300142323</td><td>0.5714285714285714</td><td>0.23514232256378964</td><td>130900155382</td><td>0.23514232256378964</td><td>None</td><td>None</td><td>[]</td><td>[]</td></tr>\n",
       "<tr><td>1</td><td>707400155323</td><td>109125747380281.7</td><td>62.86674118384478</td><td>-40.63721963717398</td><td>0.5060631528745256</td><td>2208</td><td>2208</td><td>2208</td><td>2208</td><td>0.125</td><td>0.2885749770976316</td><td>2208</td><td>0.125</td><td>2208</td><td>4.3508878</td><td>62.845554</td><td>-40.736668</td><td>0.48999998</td><td>707400155323</td><td>707400155323</td><td>707400155323,757800155323</td><td>707400155323,757800155323</td><td>0.125</td><td>0.2885749770976316</td><td>707400155323</td><td>0.2885749770976316</td><td>None</td><td>None</td><td>[]</td><td>[]</td></tr>\n",
       "<tr><td>2</td><td>706100155272</td><td>19303632861385.918</td><td>62.07921637160715</td><td>-41.54181253612415</td><td>0.7933987635654902</td><td>2194</td><td>2194</td><td>2194</td><td>2194</td><td>0.1</td><td>0.06449450635621765</td><td>2194</td><td>0.1</td><td>2194</td><td>11.867285</td><td>62.151833</td><td>-41.551956</td><td>0.84999996</td><td>706100155272</td><td>706100155272</td><td>706100155272,906000168266</td><td>706100155272,906000168266</td><td>0.1</td><td>0.06449450635621765</td><td>706100155272</td><td>0.06449450635621765</td><td>None</td><td>None</td><td>[]</td><td>[]</td></tr>\n",
       "<tr><td>3</td><td>1502400155247</td><td>34563173926940.848</td><td>62.765714052396646</td><td>-40.799617692561846</td><td>0.9749828912461129</td><td>2217</td><td>2217</td><td>2217,2043,2334</td><td>2217,2043,2334</td><td>0.18867924528301888</td><td>0.5175550455210575</td><td>2217</td><td>0.18867924528301888</td><td>2217</td><td>15.944282</td><td>62.772511</td><td>-40.796364</td><td>1.01</td><td>1502400155247</td><td>1502400155247</td><td>1502400155247</td><td>1502400155247</td><td>0.18867924528301888</td><td>0.5175550455210575</td><td>1502400155247</td><td>0.5175550455210575</td><td>None</td><td>None</td><td>[]</td><td>[]</td></tr>\n",
       "<tr><td>4</td><td>5400156475</td><td>66483233344901.414</td><td>63.97641736121191</td><td>-40.925374270847115</td><td>0.047169084211656775</td><td>926</td><td>926</td><td>926</td><td>926</td><td>0.2127659574468085</td><td>0.6168360041973423</td><td>926</td><td>0.2127659574468085</td><td>926</td><td>5.8226099</td><td>64.146622</td><td>-40.77425</td><td>0.059999999</td><td>5400156475</td><td>5400156475</td><td>5400156475</td><td>5400156475</td><td>0.2127659574468085</td><td>0.6168360041973423</td><td>5400156475</td><td>0.6168360041973423</td><td>None</td><td>None</td><td>[]</td><td>[]</td></tr>\n",
       "<tr><td>5</td><td>103000156421</td><td>14853801228259.156</td><td>65.73319501261813</td><td>-40.37107882742442</td><td>0.18385942137202682</td><td>1014</td><td>1014</td><td>1014</td><td>1014</td><td>0.75</td><td>0.47247410088054803</td><td>1014</td><td>0.75</td><td>1014</td><td>7.159277</td><td>65.738075</td><td>-40.370766</td><td>0.17999999</td><td>103000156421</td><td>103000156421</td><td>74100156411,103000156421</td><td>74100156411,103000156421</td><td>0.75</td><td>0.47247410088054803</td><td>103000156421</td><td>0.47247410088054803</td><td>None</td><td>None</td><td>[]</td><td>[]</td></tr>\n",
       "<tr><td>6</td><td>4700156411</td><td>265025782221521.12</td><td>65.2101743784318</td><td>-40.03315631058274</td><td>0.1921993768888488</td><td>686</td><td>686</td><td>686,1028,781</td><td>1028,686,781</td><td>0.30864197530864196</td><td>0.809854671283347</td><td>686</td><td>0.30864197530864196</td><td>686</td><td>16.306934</td><td>65.216919</td><td>-40.029293</td><td>0.2</td><td>4700156411</td><td>4700156411</td><td>742000156355,4700156411</td><td>742000156355,4700156411</td><td>0.30864197530864196</td><td>0.809854671283347</td><td>4700156411</td><td>0.809854671283347</td><td>None</td><td>None</td><td>[]</td><td>[]</td></tr>\n",
       "<tr><td>7</td><td>31200156411</td><td>10109270264067.605</td><td>63.69799036622835</td><td>-39.92382329399723</td><td>0.20141989552143014</td><td>788</td><td>788</td><td>788</td><td>788</td><td>0.7777777777777778</td><td>0.26640532407872347</td><td>788</td><td>0.7777777777777778</td><td>788</td><td>9.9291229</td><td>63.697033</td><td>-39.921257</td><td>0.20999999</td><td>31200156411</td><td>31200156411</td><td>66900156411,155400156411,886400156338,31200156411</td><td>66900156411,155400156411,886400156338,31200156411</td><td>0.7777777777777778</td><td>0.26640532407872347</td><td>31200156411</td><td>0.26640532407872347</td><td>None</td><td>None</td><td>[]</td><td>[]</td></tr>\n",
       "<tr><td>8</td><td>55800156411</td><td>183746078171943.66</td><td>64.19091435191393</td><td>-39.25341471846827</td><td>0.20064495090968237</td><td>863</td><td>863</td><td>10177,674,863</td><td>10177,674,863</td><td>0.08264462809917356</td><td>0.475059165797108</td><td>863</td><td>0.08264462809917356</td><td>863</td><td>8.3123598</td><td>64.28775</td><td>-39.249802</td><td>0.25</td><td>55800156411</td><td>55800156411</td><td>55800156411</td><td>55800156411</td><td>0.08264462809917356</td><td>0.475059165797108</td><td>55800156411</td><td>0.475059165797108</td><td>None</td><td>None</td><td>[]</td><td>[]</td></tr>\n",
       "<tr><td>9</td><td>58400156411</td><td>85287526930749.3</td><td>64.2759223449629</td><td>-40.18709769625957</td><td>0.1898724587808427</td><td>1317</td><td>1317</td><td>1317</td><td>1317</td><td>0.21153846153846154</td><td>0.6663790582237946</td><td>1317</td><td>0.21153846153846154</td><td>1317</td><td>5.3103652</td><td>64.269012</td><td>-40.20475</td><td>0.19</td><td>58400156411</td><td>58400156411</td><td>58400156411</td><td>58400156411</td><td>0.21153846153846154</td><td>0.6663790582237946</td><td>58400156411</td><td>0.6663790582237946</td><td>None</td><td>None</td><td>[]</td><td>[]</td></tr>\n",
       "<tr><td>...</td><td>...</td><td>...</td><td>...</td><td>...</td><td>...</td><td>...</td><td>...</td><td>...</td><td>...</td><td>...</td><td>...</td><td>...</td><td>...</td><td>...</td><td>...</td><td>...</td><td>...</td><td>...</td><td>...</td><td>...</td><td>...</td><td>...</td><td>...</td><td>...</td><td>...</td><td>...</td><td>...</td><td>...</td><td>...</td><td>...</td></tr>\n",
       "<tr><td>7560</td><td>3090100143230</td><td>117568231510535.22</td><td>65.92812447291506</td><td>-40.00564884882014</td><td>1.1197773236757698</td><td>11341</td><td>11341</td><td>11341</td><td>11341</td><td>0.102803738317757</td><td>0.6725612010515031</td><td>11341</td><td>0.102803738317757</td><td>11341</td><td>21.28595</td><td>65.93087</td><td>-39.999386</td><td>1.1799999</td><td>3090100143230</td><td>3090100143230</td><td>3090100143230</td><td>3090100143230</td><td>0.102803738317757</td><td>0.6725612010515031</td><td>3090100143230</td><td>0.6725612010515031</td><td>None</td><td>None</td><td>[]</td><td>[]</td></tr>\n",
       "<tr><td>7561</td><td>860800143224</td><td>41461714078647.89</td><td>64.86989177504827</td><td>-38.837876147011876</td><td>1.1603022646072052</td><td>1024</td><td>1024</td><td>10904,1024</td><td>10904,1024</td><td>0.037037037037037035</td><td>0.05209170208762579</td><td>1024</td><td>0.037037037037037035</td><td>1024</td><td>11.958734</td><td>64.829178</td><td>-38.835415</td><td>0.98999995</td><td>860800143224</td><td>860800143224</td><td>1345100156259,860800143224,2350100143247</td><td>1345100156259,860800143224,2350100143247</td><td>0.037037037037037035</td><td>0.05209170208762579</td><td>860800143224</td><td>0.05209170208762579</td><td>None</td><td>None</td><td>[]</td><td>[]</td></tr>\n",
       "<tr><td>7562</td><td>1136200143224</td><td>52110375529284.51</td><td>67.11071648367901</td><td>-38.46851872431909</td><td>1.1616132588119954</td><td>11005</td><td>11005</td><td>11005</td><td>11005</td><td>0.015384615384615385</td><td>0.04379169169910144</td><td>11005</td><td>0.015384615384615385</td><td>11005</td><td>14.930796</td><td>67.161331</td><td>-38.524635</td><td>1.12</td><td>1136200143224</td><td>1136200143224</td><td>1136200143224,2114600143241</td><td>1136200143224,2114600143241</td><td>0.0</td><td>0.04379169169910144</td><td>1136200143224</td><td>0.04379169169910144</td><td>None</td><td>None</td><td>[]</td><td>[]</td></tr>\n",
       "<tr><td>7563</td><td>1162300143224</td><td>17817753409622.535</td><td>67.01758093109176</td><td>-38.986165849504836</td><td>1.202912946990336</td><td>11484</td><td>11484</td><td>10991,11484</td><td>10991,11484</td><td>0.058823529411764705</td><td>0.05714172440906837</td><td>11484</td><td>0.058823529411764705</td><td>11484</td><td>10.634916</td><td>67.097542</td><td>-38.990231</td><td>1.02</td><td>1162300143224</td><td>1162300143224</td><td>2269200143235,1162300143224</td><td>2269200143235,1162300143224</td><td>0.058823529411764705</td><td>0.05714172440906837</td><td>1162300143224</td><td>0.05714172440906837</td><td>None</td><td>None</td><td>[]</td><td>[]</td></tr>\n",
       "<tr><td>7564</td><td>1663400143224</td><td>33064283271571.832</td><td>64.8673642747199</td><td>-38.842871423786896</td><td>1.1615240225463563</td><td>10904</td><td>10904</td><td>10904</td><td>10904</td><td>0.21428571428571427</td><td>0.2006415838798082</td><td>10904</td><td>0.21428571428571427</td><td>10904</td><td>45.083511</td><td>64.874252</td><td>-38.843178</td><td>1.1799999</td><td>1663400143224</td><td>1663400143224</td><td>3154500143224,860800143224,1663400143224,3591200143224</td><td>3154500143224,860800143224,1663400143224,3591200143224</td><td>0.21428571428571427</td><td>0.2006415838798082</td><td>1663400143224</td><td>0.2006415838798082</td><td>None</td><td>None</td><td>[]</td><td>[]</td></tr>\n",
       "<tr><td>7565</td><td>1766500143224</td><td>21877248934580.28</td><td>66.043108553747</td><td>-39.67137115697468</td><td>1.1990736548183945</td><td>11043</td><td>11043</td><td>11043</td><td>11043</td><td>0.19047619047619047</td><td>0.17774235980073613</td><td>11043</td><td>0.19047619047619047</td><td>11043</td><td>17.765511</td><td>66.042038</td><td>-39.669487</td><td>1.17</td><td>1766500143224</td><td>1766500143224</td><td>166700143224,1766500143224</td><td>166700143224,1766500143224</td><td>0.19047619047619047</td><td>0.17774235980073613</td><td>1766500143224</td><td>0.17774235980073613</td><td>None</td><td>None</td><td>[]</td><td>[]</td></tr>\n",
       "<tr><td>7566</td><td>2641100143224</td><td>10569997574490.14</td><td>66.98802014732</td><td>-38.887597949685905</td><td>1.1810158845993102</td><td>11165</td><td>11165</td><td>11165</td><td>11165</td><td>0.45454545454545453</td><td>0.5984066645996383</td><td>11165</td><td>0.45454545454545453</td><td>11165</td><td>13.32342</td><td>66.993294</td><td>-38.886066</td><td>1.12</td><td>2641100143224</td><td>2641100143224</td><td>2641100143224</td><td>2641100143224</td><td>0.45454545454545453</td><td>0.5984066645996383</td><td>2641100143224</td><td>0.5984066645996383</td><td>None</td><td>None</td><td>[]</td><td>[]</td></tr>\n",
       "<tr><td>7567</td><td>2712500143224</td><td>10934414656180.283</td><td>66.26844113822389</td><td>-39.471085021647305</td><td>1.1971540957036257</td><td>11268</td><td>11268</td><td>11268</td><td>11268</td><td>0.5</td><td>0.42544423953627375</td><td>11268</td><td>0.5</td><td>11268</td><td>14.74332</td><td>66.268875</td><td>-39.474369</td><td>1.16</td><td>2712500143224</td><td>2712500143224</td><td>2712500143224</td><td>2712500143224</td><td>0.5</td><td>0.42544423953627375</td><td>2712500143224</td><td>0.42544423953627375</td><td>None</td><td>None</td><td>[]</td><td>[]</td></tr>\n",
       "<tr><td>7568</td><td>3669500143224</td><td>16266817939830.986</td><td>65.39205383593284</td><td>-39.082058675241306</td><td>1.1875330792243748</td><td>11139</td><td>11139</td><td>11139</td><td>11139</td><td>0.3076923076923077</td><td>0.2692674534624572</td><td>11139</td><td>0.3076923076923077</td><td>11139</td><td>19.316233</td><td>65.385513</td><td>-39.07737</td><td>1.16</td><td>3669500143224</td><td>3669500143224</td><td>3669500143224</td><td>3669500143224</td><td>0.3076923076923077</td><td>0.2692674534624572</td><td>3669500143224</td><td>0.2692674534624572</td><td>None</td><td>None</td><td>[]</td><td>[]</td></tr>\n",
       "<tr><td>7569</td><td>3807600143219</td><td>34867636091312.68</td><td>67.2506025088802</td><td>-38.922317895008185</td><td>1.2400492481722134</td><td>11196</td><td>11196</td><td>11196</td><td>11196</td><td>0.13043478260869565</td><td>0.18968247289092408</td><td>11196</td><td>0.13043478260869565</td><td>11196</td><td>20.526749</td><td>67.250854</td><td>-38.923824</td><td>1.16</td><td>3807600143219</td><td>3807600143219</td><td>2740000157235,3807600143219</td><td>2740000157235,3807600143219</td><td>0.13043478260869565</td><td>0.18968247289092408</td><td>3807600143219</td><td>0.18968247289092408</td><td>None</td><td>None</td><td>[]</td><td>[]</td></tr>\n",
       "</table></div>"
      ],
      "text/plain": [
       "<clevar.catalog.ClCatalog at 0x7f175246fbb0>"
      ]
     },
     "execution_count": 69,
     "metadata": {},
     "output_type": "execute_result"
    }
   ],
   "source": [
    "c_merged"
   ]
  },
  {
   "cell_type": "code",
   "execution_count": null,
   "id": "f4412a11-3edd-4065-843b-f28b0054ce31",
   "metadata": {},
   "outputs": [],
   "source": []
  }
 ],
 "metadata": {
  "kernelspec": {
   "display_name": "desc",
   "language": "python",
   "name": "desc"
  },
  "language_info": {
   "codemirror_mode": {
    "name": "ipython",
    "version": 3
   },
   "file_extension": ".py",
   "mimetype": "text/x-python",
   "name": "python",
   "nbconvert_exporter": "python",
   "pygments_lexer": "ipython3",
   "version": "3.10.8"
  }
 },
 "nbformat": 4,
 "nbformat_minor": 5
}
