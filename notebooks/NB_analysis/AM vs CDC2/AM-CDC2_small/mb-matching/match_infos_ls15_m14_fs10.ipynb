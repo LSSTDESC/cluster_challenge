{
 "cells": [
  {
   "cell_type": "code",
   "execution_count": 23,
   "id": "1d007506-d217-4a4a-8476-857879d985d0",
   "metadata": {
    "tags": []
   },
   "outputs": [],
   "source": [
    "import clevar\n",
    "from clevar.catalog import ClCatalog\n",
    "import numpy as np\n",
    "import matplotlib.pyplot as plt\n",
    "from astropy.table import Table\n",
    "from clevar.match import output_matched_catalog"
   ]
  },
  {
   "cell_type": "code",
   "execution_count": 14,
   "id": "0530f552-a2de-4ceb-95c2-bc653319090b",
   "metadata": {},
   "outputs": [],
   "source": [
    "inpath = \"/sps/lsst/groups/clusters/amico_validation_project/catalogs/amico-flexzboost_cosmoDC2_lstar15_m14_fs10/amico_cosmoDC2/\""
   ]
  },
  {
   "cell_type": "code",
   "execution_count": 15,
   "id": "35d036d0-6632-47e3-88e3-530538ac82ed",
   "metadata": {},
   "outputs": [
    {
     "name": "stdout",
     "output_type": "stream",
     "text": [
      "    * ClEvar used in matching: 0.13.8\n",
      "    * ClEvar used in matching: 0.13.8\n"
     ]
    }
   ],
   "source": [
    "c1_mb = ClCatalog.read_full(inpath + 'c1_mb.fits')\n",
    "c2_mb = ClCatalog.read_full(inpath + 'c2_mb.fits')"
   ]
  },
  {
   "cell_type": "code",
   "execution_count": 16,
   "id": "1f3741ff-a703-4437-8348-6298fe207fb0",
   "metadata": {},
   "outputs": [],
   "source": [
    "output_matched_catalog(inpath+'c1_mb.fits', inpath+'c2_mb.fits',inpath+'output_catalog_' + 'mb' +'.fits', c1_mb, c2_mb, matching_type='cross', overwrite=True)\n",
    "c_merged_mb = ClCatalog.read(inpath+'output_catalog_' + 'mb' + '.fits', 'merged',  full=True)"
   ]
  },
  {
   "cell_type": "code",
   "execution_count": 24,
   "id": "dd81121d-80e7-4ed0-a8d4-1e2d35fe68df",
   "metadata": {},
   "outputs": [],
   "source": [
    "inpath = '/sps/lsst/groups/clusters/amico_validation_project/catalogs/test_amico-flexzboost_cosmoDC2/amico_cosmoDC2/'"
   ]
  },
  {
   "cell_type": "code",
   "execution_count": 25,
   "id": "4c1ecae6-dd68-409c-a957-5184e1b68a07",
   "metadata": {},
   "outputs": [],
   "source": [
    "c1 = Table.read(inpath+'c1_mb.fits')"
   ]
  },
  {
   "cell_type": "code",
   "execution_count": 26,
   "id": "0e942758-937e-4499-8e7d-da5659e48c7c",
   "metadata": {
    "collapsed": true,
    "jupyter": {
     "outputs_hidden": true
    },
    "tags": []
   },
   "outputs": [
    {
     "data": {
      "text/html": [
       "<div><i>Table length=20509</i>\n",
       "<table id=\"table140597713654528\" class=\"table-striped table-bordered table-condensed\">\n",
       "<thead><tr><th>id</th><th>ra</th><th>dec</th><th>z</th><th>mass</th><th>mt_self</th><th>mt_other</th><th>mt_multi_self</th><th>mt_multi_other</th><th>mt_frac_self</th><th>mt_frac_other</th><th>mt_cross</th></tr></thead>\n",
       "<thead><tr><th>bytes6</th><th>float64</th><th>float64</th><th>float32</th><th>float64</th><th>bytes13</th><th>bytes13</th><th>bytes325</th><th>bytes325</th><th>float64</th><th>float64</th><th>bytes13</th></tr></thead>\n",
       "<tr><td>1</td><td>61.379151</td><td>-39.997938</td><td>0.76</td><td>151.05119</td><td>--</td><td>--</td><td>--</td><td>--</td><td>0.0</td><td>0.0</td><td>--</td></tr>\n",
       "<tr><td>2</td><td>61.751903</td><td>-39.598934</td><td>0.39</td><td>34.635494</td><td>--</td><td>--</td><td>--</td><td>--</td><td>0.0</td><td>0.0</td><td>--</td></tr>\n",
       "<tr><td>3</td><td>62.020461</td><td>-40.78391</td><td>0.76</td><td>65.485061</td><td>--</td><td>--</td><td>--</td><td>--</td><td>0.0</td><td>0.0</td><td>--</td></tr>\n",
       "<tr><td>4</td><td>62.622221</td><td>-40.86162</td><td>0.26</td><td>35.691697</td><td>--</td><td>--</td><td>--</td><td>--</td><td>0.0</td><td>0.0</td><td>--</td></tr>\n",
       "<tr><td>5</td><td>61.527245</td><td>-40.393481</td><td>0.74</td><td>49.109488</td><td>--</td><td>--</td><td>--</td><td>--</td><td>0.0</td><td>0.0</td><td>--</td></tr>\n",
       "<tr><td>6</td><td>62.669286</td><td>-39.811269</td><td>0.38</td><td>22.831824</td><td>--</td><td>--</td><td>--</td><td>--</td><td>0.0</td><td>0.0</td><td>--</td></tr>\n",
       "<tr><td>7</td><td>61.321316</td><td>-40.68769</td><td>1.33</td><td>40.708297</td><td>--</td><td>--</td><td>--</td><td>--</td><td>0.0</td><td>0.0</td><td>--</td></tr>\n",
       "<tr><td>8</td><td>61.378259</td><td>-41.012951</td><td>0.44</td><td>26.0136</td><td>--</td><td>--</td><td>--</td><td>--</td><td>0.0</td><td>0.0</td><td>--</td></tr>\n",
       "<tr><td>9</td><td>61.503286</td><td>-41.168414</td><td>0.38</td><td>24.052439</td><td>--</td><td>--</td><td>--</td><td>--</td><td>0.0</td><td>0.0</td><td>--</td></tr>\n",
       "<tr><td>10</td><td>60.878596</td><td>-39.859705</td><td>0.68</td><td>37.570579</td><td>--</td><td>--</td><td>--</td><td>--</td><td>0.0</td><td>0.0</td><td>--</td></tr>\n",
       "<tr><td>...</td><td>...</td><td>...</td><td>...</td><td>...</td><td>...</td><td>...</td><td>...</td><td>...</td><td>...</td><td>...</td><td>...</td></tr>\n",
       "<tr><td>20500</td><td>65.212334</td><td>-38.119664</td><td>1.29</td><td>9.1138835</td><td>--</td><td>--</td><td>--</td><td>--</td><td>0.0</td><td>0.0</td><td>--</td></tr>\n",
       "<tr><td>20501</td><td>65.775493</td><td>-38.677568</td><td>0.77</td><td>5.8326684</td><td>251700143279</td><td>251700143279</td><td>251700143279,2473600143266,1225400143266</td><td>251700143279,2473600143266,1225400143266</td><td>0.16188890224034663</td><td>0.6666666666666666</td><td>251700143279</td></tr>\n",
       "<tr><td>20502</td><td>64.831162</td><td>-38.836225</td><td>0.98</td><td>10.975485</td><td>2350100143247</td><td>2350100143247</td><td>2767300156253,2350100143247,1814000143272,1828900156253</td><td>2767300156253,1814000143272,2350100143247,1828900156253</td><td>0.0487858324459547</td><td>0.8888888888888888</td><td>2350100143247</td></tr>\n",
       "<tr><td>20503</td><td>65.193177</td><td>-39.144567</td><td>0.7</td><td>8.3780756</td><td>1559900143286</td><td>1559900143286</td><td>2855100156266,2099400143219,1559900143286,1861300143286,800900143323,12400143286</td><td>2855100156266,2099400143219,1559900143286,1861300143286,800900143323,12400143286</td><td>0.1500465487664358</td><td>0.75</td><td>1559900143286</td></tr>\n",
       "<tr><td>20504</td><td>66.544196</td><td>-39.71715</td><td>0.64</td><td>5.1407113</td><td>204200157307</td><td>204200157307</td><td>460200143365,725500157286,64600143338,204200157307</td><td>460200143365,725500157286,64600143338,204200157307</td><td>0.044343279091652026</td><td>0.5294117647058824</td><td>204200157307</td></tr>\n",
       "<tr><td>20505</td><td>66.11524</td><td>-39.677998</td><td>0.88</td><td>12.540215</td><td>1641500143259</td><td>1641500143259</td><td>585500143300,1641500143259,2622700143259,1532900143266,1023800143259</td><td>585500143300,1641500143259,2622700143259,1532900143266,1023800143259</td><td>0.13195000381362557</td><td>0.5</td><td>1641500143259</td></tr>\n",
       "<tr><td>20506</td><td>67.002132</td><td>-38.939501</td><td>1.21</td><td>14.878861</td><td>2641100143224</td><td>2641100143224</td><td>2743800143224,2641100143224,1162300143224,275100143224,1947700143219</td><td>2743800143224,275100143224,1162300143224,2641100143224,1947700143219</td><td>0.009287557948313874</td><td>0.23809523809523808</td><td>2641100143224</td></tr>\n",
       "<tr><td>20507</td><td>67.014958</td><td>-38.439377</td><td>1.25</td><td>11.203411</td><td>1636800143219</td><td>1636800143219</td><td>3706200143208,233100143235,1695500143219,2224600143235,1761800143219,1636800143219</td><td>3706200143208,233100143235,1695500143219,2224600143235,1761800143219,1636800143219</td><td>0.011018414161520636</td><td>0.2631578947368421</td><td>1636800143219</td></tr>\n",
       "<tr><td>20508</td><td>66.860426</td><td>-38.315486</td><td>1.0</td><td>9.9656023</td><td>1685800143247</td><td>1685800143247</td><td>1685800143247,217000143331</td><td>1685800143247,217000143331</td><td>0.25790712234216</td><td>0.41935483870967744</td><td>1685800143247</td></tr>\n",
       "<tr><td>20509</td><td>66.02564</td><td>-38.29798</td><td>1.08</td><td>10.925958</td><td>2015700143235</td><td>2015700143235</td><td>1155900143219,3069500143219,680000143219,2015700143235</td><td>2015700143235,3069500143219,1155900143219,680000143219</td><td>0.1541257802780454</td><td>0.5</td><td>2015700143235</td></tr>\n",
       "</table></div>"
      ],
      "text/plain": [
       "<Table length=20509>\n",
       "  id       ra       dec     ...    mt_frac_other       mt_cross  \n",
       "bytes6  float64   float64   ...       float64          bytes13   \n",
       "------ --------- ---------- ... ------------------- -------------\n",
       "     1 61.379151 -39.997938 ...                 0.0            --\n",
       "     2 61.751903 -39.598934 ...                 0.0            --\n",
       "     3 62.020461  -40.78391 ...                 0.0            --\n",
       "     4 62.622221  -40.86162 ...                 0.0            --\n",
       "     5 61.527245 -40.393481 ...                 0.0            --\n",
       "     6 62.669286 -39.811269 ...                 0.0            --\n",
       "     7 61.321316  -40.68769 ...                 0.0            --\n",
       "     8 61.378259 -41.012951 ...                 0.0            --\n",
       "     9 61.503286 -41.168414 ...                 0.0            --\n",
       "    10 60.878596 -39.859705 ...                 0.0            --\n",
       "   ...       ...        ... ...                 ...           ...\n",
       " 20500 65.212334 -38.119664 ...                 0.0            --\n",
       " 20501 65.775493 -38.677568 ...  0.6666666666666666  251700143279\n",
       " 20502 64.831162 -38.836225 ...  0.8888888888888888 2350100143247\n",
       " 20503 65.193177 -39.144567 ...                0.75 1559900143286\n",
       " 20504 66.544196  -39.71715 ...  0.5294117647058824  204200157307\n",
       " 20505  66.11524 -39.677998 ...                 0.5 1641500143259\n",
       " 20506 67.002132 -38.939501 ... 0.23809523809523808 2641100143224\n",
       " 20507 67.014958 -38.439377 ...  0.2631578947368421 1636800143219\n",
       " 20508 66.860426 -38.315486 ... 0.41935483870967744 1685800143247\n",
       " 20509  66.02564  -38.29798 ...                 0.5 2015700143235"
      ]
     },
     "execution_count": 26,
     "metadata": {},
     "output_type": "execute_result"
    }
   ],
   "source": [
    "c1"
   ]
  },
  {
   "cell_type": "code",
   "execution_count": 27,
   "id": "5b803d82-344a-48f4-b90e-45fbcc254414",
   "metadata": {},
   "outputs": [],
   "source": [
    "c2 = Table.read(inpath+'c2_mb.fits')"
   ]
  },
  {
   "cell_type": "code",
   "execution_count": 28,
   "id": "ddea9822-6f25-4cdd-bbcb-ac061d2a86ca",
   "metadata": {
    "collapsed": true,
    "jupyter": {
     "outputs_hidden": true
    },
    "tags": []
   },
   "outputs": [
    {
     "data": {
      "text/html": [
       "<div><i>Table length=61725</i>\n",
       "<table id=\"table140597693784144\" class=\"table-striped table-bordered table-condensed\">\n",
       "<thead><tr><th>id</th><th>ra</th><th>dec</th><th>z</th><th>mass</th><th>log_mass</th><th>mt_self</th><th>mt_other</th><th>mt_multi_self</th><th>mt_multi_other</th><th>mt_frac_other</th><th>mt_frac_self</th><th>mt_cross</th></tr></thead>\n",
       "<thead><tr><th>bytes21</th><th>float64</th><th>float64</th><th>float64</th><th>float64</th><th>float64</th><th>bytes5</th><th>bytes5</th><th>bytes149</th><th>bytes149</th><th>float64</th><th>float64</th><th>bytes5</th></tr></thead>\n",
       "<tr><td>400155487</td><td>61.869596337556686</td><td>-40.90712062111757</td><td>0.021333993084020175</td><td>12069313567729.578</td><td>13.081682570658694</td><td>--</td><td>--</td><td>--</td><td>--</td><td>0.0</td><td>0.0</td><td>--</td></tr>\n",
       "<tr><td>37900155453</td><td>61.295572557486395</td><td>-39.80574428988245</td><td>0.09395243918657203</td><td>10887561031391.55</td><td>13.036930602506859</td><td>--</td><td>--</td><td>--</td><td>--</td><td>0.0</td><td>0.0</td><td>--</td></tr>\n",
       "<tr><td>14700155442</td><td>62.961217514835056</td><td>-40.39291946996776</td><td>0.10346959883134677</td><td>33519675397769.016</td><td>13.525299804300712</td><td>4477</td><td>4477</td><td>4477,3743</td><td>4477,3743</td><td>0.0007320985613303117</td><td>0.06666666666666667</td><td>4477</td></tr>\n",
       "<tr><td>3300155432</td><td>62.284364037836404</td><td>-41.07674501853869</td><td>0.14018907525323798</td><td>18629652514614.086</td><td>13.270204754392052</td><td>--</td><td>--</td><td>--</td><td>--</td><td>0.0</td><td>0.0</td><td>--</td></tr>\n",
       "<tr><td>19800155432</td><td>62.05549212472633</td><td>-41.161071926731644</td><td>0.14304519781057157</td><td>14260490343842.254</td><td>13.154134458893385</td><td>--</td><td>--</td><td>--</td><td>--</td><td>0.0</td><td>0.0</td><td>--</td></tr>\n",
       "<tr><td>41300155432</td><td>62.10249971222131</td><td>-40.65971574420232</td><td>0.1387209292113325</td><td>15041162560180.283</td><td>13.17728140500287</td><td>--</td><td>--</td><td>--</td><td>--</td><td>0.0</td><td>0.0</td><td>--</td></tr>\n",
       "<tr><td>22500155421</td><td>61.05606039634485</td><td>-39.972727741545526</td><td>0.18286930814904623</td><td>38307798324642.26</td><td>13.58328719236586</td><td>--</td><td>--</td><td>--</td><td>--</td><td>0.0</td><td>0.0</td><td>--</td></tr>\n",
       "<tr><td>35700155421</td><td>62.23579865478711</td><td>-39.485977648912574</td><td>0.17966607247124333</td><td>85876300877881.69</td><td>13.933873328929982</td><td>--</td><td>--</td><td>--</td><td>--</td><td>0.0</td><td>0.0</td><td>--</td></tr>\n",
       "<tr><td>51800155421</td><td>61.97682173294707</td><td>-39.834744453376665</td><td>0.17932797108621878</td><td>13482420368225.354</td><td>13.129767863876392</td><td>--</td><td>--</td><td>--</td><td>--</td><td>0.0</td><td>0.0</td><td>--</td></tr>\n",
       "<tr><td>54800155421</td><td>61.87050865978772</td><td>-39.738333518447206</td><td>0.16956675299502266</td><td>12909927409577.465</td><td>13.110923800306034</td><td>--</td><td>--</td><td>--</td><td>--</td><td>0.0</td><td>0.0</td><td>--</td></tr>\n",
       "<tr><td>...</td><td>...</td><td>...</td><td>...</td><td>...</td><td>...</td><td>...</td><td>...</td><td>...</td><td>...</td><td>...</td><td>...</td><td>...</td></tr>\n",
       "<tr><td>1323400143121</td><td>65.6539569318067</td><td>-38.198004613827855</td><td>2.9448140881480476</td><td>12673123503954.93</td><td>13.10288366723936</td><td>--</td><td>--</td><td>--</td><td>--</td><td>0.0</td><td>0.0</td><td>--</td></tr>\n",
       "<tr><td>2630900143121</td><td>65.51992934322357</td><td>-38.166024908810094</td><td>2.9704920742260303</td><td>33183986344743.664</td><td>13.520928555996203</td><td>--</td><td>--</td><td>--</td><td>--</td><td>0.0</td><td>0.0</td><td>--</td></tr>\n",
       "<tr><td>3825700143121</td><td>65.96331039935626</td><td>-39.53910531488538</td><td>2.9427338830664005</td><td>11488849216180.283</td><td>13.060276529637616</td><td>--</td><td>--</td><td>--</td><td>--</td><td>0.0</td><td>0.0</td><td>--</td></tr>\n",
       "<tr><td>3828900143121</td><td>65.73579485925158</td><td>-38.31624572435801</td><td>2.982785276699029</td><td>10793853781814.086</td><td>13.033176530629195</td><td>--</td><td>--</td><td>--</td><td>--</td><td>0.0</td><td>0.0</td><td>--</td></tr>\n",
       "<tr><td>3935600143121</td><td>66.3027308924118</td><td>-39.992636198369446</td><td>3.016990686501547</td><td>11306640675335.21</td><td>13.053333590524376</td><td>--</td><td>--</td><td>--</td><td>--</td><td>0.0</td><td>0.0</td><td>--</td></tr>\n",
       "<tr><td>4259300143121</td><td>66.79669738490588</td><td>-38.47288373304661</td><td>2.986808071967553</td><td>27014073594952.113</td><td>13.431590078686286</td><td>--</td><td>--</td><td>--</td><td>--</td><td>0.0</td><td>0.0</td><td>--</td></tr>\n",
       "<tr><td>4787200143121</td><td>67.11851093614465</td><td>-38.60460387777027</td><td>3.0031213151530114</td><td>10965650406039.438</td><td>13.040034396102621</td><td>--</td><td>--</td><td>--</td><td>--</td><td>0.0</td><td>0.0</td><td>--</td></tr>\n",
       "<tr><td>4947200143121</td><td>66.43947083074886</td><td>-39.395333071004195</td><td>2.9566527194763035</td><td>10122285159842.254</td><td>13.005278567867208</td><td>--</td><td>--</td><td>--</td><td>--</td><td>0.0</td><td>0.0</td><td>--</td></tr>\n",
       "<tr><td>5034100143121</td><td>66.96447881516134</td><td>-38.446479077178296</td><td>3.0039423335026214</td><td>11754353089983.1</td><td>13.07019873238213</td><td>--</td><td>--</td><td>--</td><td>--</td><td>0.0</td><td>0.0</td><td>--</td></tr>\n",
       "<tr><td>5190600143121</td><td>66.259074212235</td><td>-37.98886022728698</td><td>2.9756834755206225</td><td>10106667284912.676</td><td>13.004607968807058</td><td>--</td><td>--</td><td>--</td><td>--</td><td>0.0</td><td>0.0</td><td>--</td></tr>\n",
       "</table></div>"
      ],
      "text/plain": [
       "<Table length=61725>\n",
       "      id              ra         ...     mt_frac_self    mt_cross\n",
       "   bytes21         float64       ...       float64        bytes5 \n",
       "------------- ------------------ ... ------------------- --------\n",
       "    400155487 61.869596337556686 ...                 0.0       --\n",
       "  37900155453 61.295572557486395 ...                 0.0       --\n",
       "  14700155442 62.961217514835056 ... 0.06666666666666667     4477\n",
       "   3300155432 62.284364037836404 ...                 0.0       --\n",
       "  19800155432  62.05549212472633 ...                 0.0       --\n",
       "  41300155432  62.10249971222131 ...                 0.0       --\n",
       "  22500155421  61.05606039634485 ...                 0.0       --\n",
       "  35700155421  62.23579865478711 ...                 0.0       --\n",
       "  51800155421  61.97682173294707 ...                 0.0       --\n",
       "  54800155421  61.87050865978772 ...                 0.0       --\n",
       "          ...                ... ...                 ...      ...\n",
       "1323400143121   65.6539569318067 ...                 0.0       --\n",
       "2630900143121  65.51992934322357 ...                 0.0       --\n",
       "3825700143121  65.96331039935626 ...                 0.0       --\n",
       "3828900143121  65.73579485925158 ...                 0.0       --\n",
       "3935600143121   66.3027308924118 ...                 0.0       --\n",
       "4259300143121  66.79669738490588 ...                 0.0       --\n",
       "4787200143121  67.11851093614465 ...                 0.0       --\n",
       "4947200143121  66.43947083074886 ...                 0.0       --\n",
       "5034100143121  66.96447881516134 ...                 0.0       --\n",
       "5190600143121    66.259074212235 ...                 0.0       --"
      ]
     },
     "execution_count": 28,
     "metadata": {},
     "output_type": "execute_result"
    }
   ],
   "source": [
    "c2"
   ]
  },
  {
   "cell_type": "code",
   "execution_count": 29,
   "id": "34e94369-7e4c-4ab6-b7e6-6ed28f54e980",
   "metadata": {},
   "outputs": [
    {
     "name": "stdout",
     "output_type": "stream",
     "text": [
      " id total unique (self) unique (other) multiple (self) multiple (other) cross\n",
      "--- ----- ------------- -------------- --------------- ---------------- -----\n",
      " c1 20509         18336          18522           19090            19090 18309\n",
      " c2 61725         18522          18336           36170            36170 18309\n"
     ]
    }
   ],
   "source": [
    "mb_info = Table.read(inpath + 'match_info_mb.fits')\n",
    "print(mb_info)"
   ]
  }
 ],
 "metadata": {
  "kernelspec": {
   "display_name": "desc",
   "language": "python",
   "name": "desc"
  },
  "language_info": {
   "codemirror_mode": {
    "name": "ipython",
    "version": 3
   },
   "file_extension": ".py",
   "mimetype": "text/x-python",
   "name": "python",
   "nbconvert_exporter": "python",
   "pygments_lexer": "ipython3",
   "version": "3.10.9"
  }
 },
 "nbformat": 4,
 "nbformat_minor": 5
}
