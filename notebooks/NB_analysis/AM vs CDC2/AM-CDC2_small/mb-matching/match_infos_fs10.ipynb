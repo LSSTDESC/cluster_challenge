{
 "cells": [
  {
   "cell_type": "code",
   "execution_count": 1,
   "id": "1d007506-d217-4a4a-8476-857879d985d0",
   "metadata": {
    "tags": []
   },
   "outputs": [],
   "source": [
    "import clevar\n",
    "from clevar.catalog import ClCatalog\n",
    "import numpy as np\n",
    "import matplotlib.pyplot as plt\n",
    "from astropy.table import Table\n",
    "from clevar.match import output_matched_catalog"
   ]
  },
  {
   "cell_type": "code",
   "execution_count": 2,
   "id": "0530f552-a2de-4ceb-95c2-bc653319090b",
   "metadata": {},
   "outputs": [],
   "source": [
    "inpath = \"/sps/lsst/groups/clusters/amico_validation_project/catalogs/amico-flexzboost_cosmoDC2_fs10/amico_cosmoDC2/\""
   ]
  },
  {
   "cell_type": "code",
   "execution_count": 3,
   "id": "35d036d0-6632-47e3-88e3-530538ac82ed",
   "metadata": {},
   "outputs": [
    {
     "name": "stdout",
     "output_type": "stream",
     "text": [
      "    * ClEvar used in matching: 0.13.8\n",
      "    * ClEvar used in matching: 0.13.8\n"
     ]
    }
   ],
   "source": [
    "c1_mb = ClCatalog.read_full(inpath + 'c1_mb.fits')\n",
    "c2_mb = ClCatalog.read_full(inpath + 'c2_mb.fits')"
   ]
  },
  {
   "cell_type": "code",
   "execution_count": 8,
   "id": "5062aeaa-ad29-4a20-9fbf-8e43c079928a",
   "metadata": {
    "collapsed": true,
    "jupyter": {
     "outputs_hidden": true
    },
    "tags": []
   },
   "outputs": [
    {
     "data": {
      "text/html": [
       "<b>c1</b><br></b><b>tags:</b> id(id), ra(ra), dec(dec), z(z), mass(mass)<br><b>Radius unit:</b> None<br><div><i>ClData length=6370</i>\n",
       "<table id=\"table140597713056336\" class=\"table-striped table-bordered table-condensed\">\n",
       "<thead><tr><th>id</th><th>ra</th><th>dec</th><th>z</th><th>mass</th><th>mt_frac_self</th><th>mt_frac_other</th><th>mt_self</th><th>mt_other</th><th>mt_multi_self</th><th>mt_multi_other</th><th>mt_cross</th></tr></thead>\n",
       "<thead><tr><th>str6</th><th>float64</th><th>float64</th><th>float32</th><th>float64</th><th>float64</th><th>float64</th><th>object</th><th>object</th><th>object</th><th>object</th><th>object</th></tr></thead>\n",
       "<tr><td>1</td><td>61.379151</td><td>-39.997938</td><td>0.76</td><td>151.05119</td><td>0.0</td><td>0.0</td><td>None</td><td>None</td><td>[]</td><td>[]</td><td>None</td></tr>\n",
       "<tr><td>2</td><td>61.751903</td><td>-39.598934</td><td>0.39</td><td>34.635494</td><td>0.0</td><td>0.0</td><td>None</td><td>None</td><td>[]</td><td>[]</td><td>None</td></tr>\n",
       "<tr><td>3</td><td>62.020461</td><td>-40.78391</td><td>0.76</td><td>65.485061</td><td>0.0</td><td>0.0</td><td>None</td><td>None</td><td>[]</td><td>[]</td><td>None</td></tr>\n",
       "<tr><td>4</td><td>62.622221</td><td>-40.86162</td><td>0.26</td><td>35.691697</td><td>0.0</td><td>0.0</td><td>None</td><td>None</td><td>[]</td><td>[]</td><td>None</td></tr>\n",
       "<tr><td>5</td><td>61.527245</td><td>-40.393481</td><td>0.74</td><td>49.109488</td><td>0.0</td><td>0.0</td><td>None</td><td>None</td><td>[]</td><td>[]</td><td>None</td></tr>\n",
       "<tr><td>6</td><td>62.669286</td><td>-39.811269</td><td>0.38</td><td>22.831824</td><td>0.0</td><td>0.0</td><td>None</td><td>None</td><td>[]</td><td>[]</td><td>None</td></tr>\n",
       "<tr><td>7</td><td>61.321316</td><td>-40.68769</td><td>1.33</td><td>40.708297</td><td>0.0</td><td>0.0</td><td>None</td><td>None</td><td>[]</td><td>[]</td><td>None</td></tr>\n",
       "<tr><td>8</td><td>61.378259</td><td>-41.012951</td><td>0.44</td><td>26.0136</td><td>0.0</td><td>0.0</td><td>None</td><td>None</td><td>[]</td><td>[]</td><td>None</td></tr>\n",
       "<tr><td>9</td><td>61.503286</td><td>-41.168414</td><td>0.38</td><td>24.052439</td><td>0.0</td><td>0.0</td><td>None</td><td>None</td><td>[]</td><td>[]</td><td>None</td></tr>\n",
       "<tr><td>10</td><td>60.878596</td><td>-39.859705</td><td>0.68</td><td>37.570579</td><td>0.0</td><td>0.0</td><td>None</td><td>None</td><td>[]</td><td>[]</td><td>None</td></tr>\n",
       "<tr><td>...</td><td>...</td><td>...</td><td>...</td><td>...</td><td>...</td><td>...</td><td>...</td><td>...</td><td>...</td><td>...</td><td>...</td></tr>\n",
       "<tr><td>20375</td><td>66.346537</td><td>-38.96773</td><td>1.35</td><td>17.307699</td><td>0.0</td><td>0.0</td><td>None</td><td>None</td><td>[]</td><td>[]</td><td>None</td></tr>\n",
       "<tr><td>20382</td><td>65.584095</td><td>-39.471905</td><td>1.37</td><td>16.555401</td><td>0.0</td><td>0.0</td><td>None</td><td>None</td><td>[]</td><td>[]</td><td>None</td></tr>\n",
       "<tr><td>20401</td><td>67.408613</td><td>-38.670641</td><td>1.15</td><td>15.14176</td><td>0.0</td><td>0.0</td><td>None</td><td>None</td><td>[]</td><td>[]</td><td>None</td></tr>\n",
       "<tr><td>20407</td><td>66.764562</td><td>-38.286075</td><td>1.33</td><td>17.304111</td><td>0.0</td><td>0.0</td><td>None</td><td>None</td><td>[]</td><td>[]</td><td>None</td></tr>\n",
       "<tr><td>20410</td><td>65.985965</td><td>-39.262951</td><td>1.19</td><td>18.698232</td><td>0.0</td><td>0.0</td><td>None</td><td>None</td><td>[]</td><td>[]</td><td>None</td></tr>\n",
       "<tr><td>20419</td><td>65.820096</td><td>-38.737681</td><td>1.42</td><td>19.19114</td><td>0.0</td><td>0.0</td><td>None</td><td>None</td><td>[]</td><td>[]</td><td>None</td></tr>\n",
       "<tr><td>20425</td><td>66.556286</td><td>-38.587089</td><td>1.39</td><td>16.584437</td><td>0.0</td><td>0.0</td><td>None</td><td>None</td><td>[]</td><td>[]</td><td>None</td></tr>\n",
       "<tr><td>20451</td><td>65.437964</td><td>-39.16618</td><td>1.28</td><td>16.910169</td><td>0.0</td><td>0.0</td><td>None</td><td>None</td><td>[]</td><td>[]</td><td>None</td></tr>\n",
       "<tr><td>20458</td><td>65.969359</td><td>-37.687933</td><td>1.1</td><td>18.760396</td><td>0.0</td><td>0.0</td><td>None</td><td>None</td><td>[]</td><td>[]</td><td>None</td></tr>\n",
       "<tr><td>20493</td><td>66.626648</td><td>-38.58679</td><td>1.1</td><td>15.936092</td><td>0.0</td><td>0.0</td><td>None</td><td>None</td><td>[]</td><td>[]</td><td>None</td></tr>\n",
       "</table></div>"
      ],
      "text/plain": [
       "<clevar.catalog.ClCatalog at 0x7fdfe998a500>"
      ]
     },
     "execution_count": 8,
     "metadata": {},
     "output_type": "execute_result"
    }
   ],
   "source": [
    "c1_mb"
   ]
  },
  {
   "cell_type": "code",
   "execution_count": 4,
   "id": "1f3741ff-a703-4437-8348-6298fe207fb0",
   "metadata": {},
   "outputs": [
    {
     "name": "stderr",
     "output_type": "stream",
     "text": [
      "/sps/lsst/users/namourou/conda_clone_210223/descv1.1/clevar/clevar/catalog.py:267: UserWarning: id column missing, additional one is being created.\n",
      "  warnings.warn(\n"
     ]
    }
   ],
   "source": [
    "output_matched_catalog(inpath+'c1_mb.fits', inpath+'c2_mb.fits',inpath+'output_catalog_' + 'mb' +'.fits', c1_mb, c2_mb, matching_type='cross', overwrite=True)\n",
    "c_merged_mb = ClCatalog.read(inpath+'output_catalog_' + 'mb' + '.fits', 'merged',  full=True)"
   ]
  },
  {
   "cell_type": "code",
   "execution_count": 6,
   "id": "34e94369-7e4c-4ab6-b7e6-6ed28f54e980",
   "metadata": {},
   "outputs": [
    {
     "name": "stdout",
     "output_type": "stream",
     "text": [
      " id total unique (self) unique (other) multiple (self) multiple (other) cross\n",
      "--- ----- ------------- -------------- --------------- ---------------- -----\n",
      " c1 20509         18336          18522           19090            19090 18309\n",
      " c2 61725         18522          18336           36170            36170 18309\n"
     ]
    }
   ],
   "source": [
    "mb_info = Table.read(inpath + 'match_info_mb.fits')\n",
    "print(mb_info)"
   ]
  }
 ],
 "metadata": {
  "kernelspec": {
   "display_name": "desc",
   "language": "python",
   "name": "desc"
  },
  "language_info": {
   "codemirror_mode": {
    "name": "ipython",
    "version": 3
   },
   "file_extension": ".py",
   "mimetype": "text/x-python",
   "name": "python",
   "nbconvert_exporter": "python",
   "pygments_lexer": "ipython3",
   "version": "3.10.9"
  }
 },
 "nbformat": 4,
 "nbformat_minor": 5
}
