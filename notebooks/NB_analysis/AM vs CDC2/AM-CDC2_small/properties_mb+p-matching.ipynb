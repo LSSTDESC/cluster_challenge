{
 "cells": [
  {
   "cell_type": "code",
   "execution_count": 8,
   "id": "1d007506-d217-4a4a-8476-857879d985d0",
   "metadata": {},
   "outputs": [],
   "source": [
    "import clevar\n",
    "from clevar.catalog import ClCatalog\n",
    "import numpy as np\n",
    "import matplotlib.pyplot as plt\n",
    "from astropy.table import Table\n",
    "from clevar.match import output_matched_catalog"
   ]
  },
  {
   "cell_type": "code",
   "execution_count": 2,
   "id": "0530f552-a2de-4ceb-95c2-bc653319090b",
   "metadata": {},
   "outputs": [],
   "source": [
    "inpath = \"/sps/lsst/groups/clusters/amico_validation_project/catalogs/amico-flexzboost_cosmoDC2_lstar15_m14/amico_cosmoDC2/\""
   ]
  },
  {
   "cell_type": "code",
   "execution_count": 11,
   "id": "35d036d0-6632-47e3-88e3-530538ac82ed",
   "metadata": {},
   "outputs": [
    {
     "name": "stdout",
     "output_type": "stream",
     "text": [
      "    * ClEvar used in matching: 0.13.8\n",
      "    * ClEvar used in matching: 0.13.8\n",
      "    * ClEvar used in matching: 0.13.8\n",
      "    * ClEvar used in matching: 0.13.8\n"
     ]
    }
   ],
   "source": [
    "c1_mb = ClCatalog.read_full(inpath + 'c1_mb.fits')\n",
    "c2_mb = ClCatalog.read_full(inpath + 'c2_mb.fits')\n",
    "c1_p = ClCatalog.read_full(inpath + 'c1_p.fits')\n",
    "c2_p = ClCatalog.read_full(inpath + 'c2_p.fits')"
   ]
  },
  {
   "cell_type": "code",
   "execution_count": 12,
   "id": "1f3741ff-a703-4437-8348-6298fe207fb0",
   "metadata": {},
   "outputs": [],
   "source": [
    "output_matched_catalog(inpath+'c1_mb.fits', inpath+'c2_mb.fits',inpath+'output_catalog_' + 'mb' +'.fits', c1_mb, c2_mb, matching_type='cross', overwrite=True)\n",
    "c_merged_mb = ClCatalog.read(inpath+'output_catalog_' + 'mb' + '.fits', 'merged',  full=True)\n",
    "output_matched_catalog(inpath+'c1_p.fits', inpath+'c2_p.fits',inpath+'output_catalog_' + 'p' +'.fits', c1_p, c2_p, matching_type='cross', overwrite=True)\n",
    "c_merged_p = ClCatalog.read(inpath+'output_catalog_' + 'p' + '.fits', 'merged',  full=True)"
   ]
  },
  {
   "cell_type": "code",
   "execution_count": 22,
   "id": "3a84544c-ebae-4b2d-8ca7-e34d0412211f",
   "metadata": {},
   "outputs": [
    {
     "name": "stdout",
     "output_type": "stream",
     "text": [
      "overmerging mb cat = 0.3249097472924188\n",
      "fragmentation mb cat = 0.7148014440433214\n"
     ]
    }
   ],
   "source": [
    "#Global overmerging & fragmentation (mb cat)\n",
    "o_mb = len(c_merged_mb[[len(siu.split(','))>=2 for siu in c_merged_mb['cat1_mt_multi_other']]]['cat2_log_mass'])/len(c_merged_mb['cat2_log_mass'])\n",
    "print('overmerging mb cat =', o_mb)\n",
    "f_mb = len(c_merged_mb[[len(siu.split(','))>=2 for siu in c_merged_mb['cat2_mt_multi_other']]]['cat2_log_mass'])/len(c_merged_mb['cat2_log_mass'])\n",
    "print('fragmentation mb cat =', f_mb)"
   ]
  },
  {
   "cell_type": "code",
   "execution_count": 50,
   "id": "06e2039a-9a86-4679-ab4e-c6b6c2d61ef0",
   "metadata": {},
   "outputs": [
    {
     "name": "stdout",
     "output_type": "stream",
     "text": [
      "overmerging p cat = 0.038910505836575876\n",
      "fragmentation p cat = 0.10635538261997406\n"
     ]
    }
   ],
   "source": [
    "#Global overmerging & fragmentation (p cat)\n",
    "o_p = len(c_merged_p[[len(siu.split(','))>=2 for siu in c_merged_p['cat1_mt_multi_other']]]['cat2_log_mass'])/len(c_merged_p['cat2_log_mass'])\n",
    "print('overmerging p cat =', o_p)\n",
    "f_p = len(c_merged_p[[len(siu.split(','))>=2 for siu in c_merged_p['cat2_mt_multi_other']]]['cat2_log_mass'])/len(c_merged_p['cat2_log_mass'])\n",
    "print('fragmentation p cat =', f_p)"
   ]
  },
  {
   "cell_type": "code",
   "execution_count": 28,
   "id": "34e94369-7e4c-4ab6-b7e6-6ed28f54e980",
   "metadata": {},
   "outputs": [
    {
     "name": "stdout",
     "output_type": "stream",
     "text": [
      " id total unique (self) unique (other) multiple (self) multiple (other) cross\n",
      "--- ----- ------------- -------------- --------------- ---------------- -----\n",
      " c1  6370           773            773             849              849   771\n",
      " c2  1028           773            773             787              787   771\n"
     ]
    }
   ],
   "source": [
    "p_info = Table.read(inpath + 'match_info_p.fits')\n",
    "print(p_info)"
   ]
  },
  {
   "cell_type": "code",
   "execution_count": 51,
   "id": "c257daee-c978-4674-a62b-7f065fc15260",
   "metadata": {},
   "outputs": [
    {
     "name": "stdout",
     "output_type": "stream",
     "text": [
      " id total unique (self) unique (other) multiple (self) multiple (other) cross\n",
      "--- ----- ------------- -------------- --------------- ---------------- -----\n",
      " c1  6370           831            831            1534             1534   831\n",
      " c2  1028           831            831             856              856   831\n"
     ]
    }
   ],
   "source": [
    "mb_info = Table.read(inpath + 'match_info_mb.fits')\n",
    "print(mb_info)"
   ]
  },
  {
   "cell_type": "code",
   "execution_count": 26,
   "id": "3e126f71-18ab-4f6e-9e80-6c68e2b69f55",
   "metadata": {},
   "outputs": [],
   "source": [
    "i = 0\n",
    "k = 1\n",
    "k_l = []\n",
    "i_l = []\n",
    "while k != 0:\n",
    "    k = len(c_merged_p[[len(siu.split(','))>=i for siu in c_merged_p['cat1_mt_multi_other']]]['cat2_log_mass'])\n",
    "    k_l.append(k)\n",
    "    i_l.append(i)\n",
    "    i+=1"
   ]
  },
  {
   "cell_type": "code",
   "execution_count": 46,
   "id": "f35fb5e0-981d-43c4-b622-c95ffa34fea1",
   "metadata": {},
   "outputs": [],
   "source": [
    "j = 0\n",
    "for i in range(len(c1_p['mt_multi_self'])):\n",
    "    if c1_p['mt_multi_self'][i] != c1_p['mt_multi_self'][i]:\n",
    "        j+=1\n",
    "        print(c1_p['mt_multi_self'][i],c1_p['mt_multi_self'][i])\n",
    "    "
   ]
  },
  {
   "cell_type": "code",
   "execution_count": 39,
   "id": "4e198157-3813-43d5-8cac-0e6e9b5f3fb5",
   "metadata": {},
   "outputs": [
    {
     "data": {
      "text/html": [
       "<b>c2</b><br></b><b>tags:</b> id(id), ra(ra), dec(dec), z(z), mass(mass)<br><b>Radius unit:</b> None<br><div><i>ClData length=1028</i>\n",
       "<table id=\"table140394690575088\" class=\"table-striped table-bordered table-condensed\">\n",
       "<thead><tr><th>id</th><th>ra</th><th>dec</th><th>z</th><th>mass</th><th>log_mass</th><th>mt_self</th><th>mt_other</th><th>mt_multi_self</th><th>mt_multi_other</th><th>mt_cross</th></tr></thead>\n",
       "<thead><tr><th>str21</th><th>float64</th><th>float64</th><th>float64</th><th>float64</th><th>float64</th><th>object</th><th>object</th><th>object</th><th>object</th><th>object</th></tr></thead>\n",
       "<tr><td>131800155392</td><td>62.55277180528738</td><td>-40.51640122057943</td><td>0.2484458487661727</td><td>120235099958084.52</td><td>14.080031268772068</td><td>None</td><td>None</td><td>[]</td><td>[]</td><td>None</td></tr>\n",
       "<tr><td>230000155392</td><td>62.62391149797296</td><td>-40.859322057033374</td><td>0.24752603812601182</td><td>151296579439774.66</td><td>14.179829109469166</td><td>4</td><td>4</td><td>[&apos;4&apos;]</td><td>[&apos;4&apos;]</td><td>4</td></tr>\n",
       "<tr><td>268600155355</td><td>61.75471518763446</td><td>-39.59505755309435</td><td>0.3771692378505265</td><td>455114262418388.75</td><td>14.658120445685581</td><td>2</td><td>2</td><td>[&apos;2&apos;]</td><td>[&apos;2&apos;]</td><td>2</td></tr>\n",
       "<tr><td>397200155355</td><td>62.125392507727746</td><td>-41.089804559960506</td><td>0.385859705413405</td><td>122935759136450.7</td><td>14.089678227367845</td><td>None</td><td>None</td><td>[]</td><td>[]</td><td>None</td></tr>\n",
       "<tr><td>449800155355</td><td>62.668306457905786</td><td>-39.809489570722384</td><td>0.3743791939334802</td><td>241678986514028.2</td><td>14.383238891045893</td><td>6</td><td>6</td><td>[&apos;6&apos;]</td><td>[&apos;6&apos;]</td><td>6</td></tr>\n",
       "<tr><td>562900155355</td><td>61.50426951540121</td><td>-41.16870370553876</td><td>0.37705424721564706</td><td>193813116668394.38</td><td>14.287383165407935</td><td>9</td><td>9</td><td>[&apos;9&apos;]</td><td>[&apos;9&apos;]</td><td>9</td></tr>\n",
       "<tr><td>467800155338</td><td>61.38097407579645</td><td>-41.01216198477645</td><td>0.4356549552875566</td><td>138534080338929.58</td><td>14.141556625981169</td><td>8</td><td>8</td><td>[&apos;8&apos;]</td><td>[&apos;8&apos;]</td><td>8</td></tr>\n",
       "<tr><td>868000155331</td><td>61.01374108862652</td><td>-40.18089890187324</td><td>0.4872140409476182</td><td>123278865018591.56</td><td>14.090888627345407</td><td>None</td><td>None</td><td>[]</td><td>[]</td><td>None</td></tr>\n",
       "<tr><td>707400155323</td><td>62.86674118384478</td><td>-40.63721963717398</td><td>0.5060631528745256</td><td>109125747380281.7</td><td>14.037927231119314</td><td>None</td><td>None</td><td>[]</td><td>[]</td><td>None</td></tr>\n",
       "<tr><td>757800155323</td><td>62.83990528648273</td><td>-40.69815924546036</td><td>0.5069829999468736</td><td>184489474249915.5</td><td>14.265971593229061</td><td>None</td><td>None</td><td>[]</td><td>[]</td><td>None</td></tr>\n",
       "<tr><td>...</td><td>...</td><td>...</td><td>...</td><td>...</td><td>...</td><td>...</td><td>...</td><td>...</td><td>...</td><td>...</td></tr>\n",
       "<tr><td>295600155163</td><td>62.80609657813758</td><td>-40.25252417571202</td><td>1.9795723178184614</td><td>133384892819831.0</td><td>14.12510664414936</td><td>None</td><td>None</td><td>[]</td><td>[]</td><td>None</td></tr>\n",
       "<tr><td>4717600155163</td><td>61.27050528787862</td><td>-40.79199806386365</td><td>1.9663563613596264</td><td>107376427238760.56</td><td>14.030908949484687</td><td>None</td><td>None</td><td>[]</td><td>[]</td><td>None</td></tr>\n",
       "<tr><td>5041400155155</td><td>61.40189633528592</td><td>-40.631742101453426</td><td>2.117767019680112</td><td>175870238604619.72</td><td>14.245192352798274</td><td>None</td><td>None</td><td>[]</td><td>[]</td><td>None</td></tr>\n",
       "<tr><td>298100156163</td><td>64.85668190282242</td><td>-39.66638641435069</td><td>1.9699111908503388</td><td>142014525613070.44</td><td>14.152332767418073</td><td>None</td><td>None</td><td>[]</td><td>[]</td><td>None</td></tr>\n",
       "<tr><td>3826300156163</td><td>64.94186365227338</td><td>-39.60626783840239</td><td>1.986864180820672</td><td>225469832869859.16</td><td>14.353088442912075</td><td>None</td><td>None</td><td>[]</td><td>[]</td><td>None</td></tr>\n",
       "<tr><td>3584200156131</td><td>63.73294528324572</td><td>-39.87289122626119</td><td>2.662651343981759</td><td>153451388351098.6</td><td>14.185970822063986</td><td>None</td><td>None</td><td>[]</td><td>[]</td><td>None</td></tr>\n",
       "<tr><td>832800168151</td><td>63.84009857819901</td><td>-41.21095216744816</td><td>2.2552102322319145</td><td>110363007985577.47</td><td>14.042823528829032</td><td>None</td><td>None</td><td>[]</td><td>[]</td><td>None</td></tr>\n",
       "<tr><td>4689500170144</td><td>69.75498204757707</td><td>-41.449247368829916</td><td>2.306428279954103</td><td>120227302097126.77</td><td>14.080003101641099</td><td>None</td><td>None</td><td>[]</td><td>[]</td><td>None</td></tr>\n",
       "<tr><td>1332400181151</td><td>68.07754574171905</td><td>-42.37257032452979</td><td>2.239634825398859</td><td>109479250410366.2</td><td>14.039331815192634</td><td>None</td><td>None</td><td>[]</td><td>[]</td><td>None</td></tr>\n",
       "<tr><td>3820800128148</td><td>64.78081571265112</td><td>-37.377981307151856</td><td>2.3170319047726955</td><td>156339196192450.72</td><td>14.19406787473073</td><td>None</td><td>None</td><td>[]</td><td>[]</td><td>None</td></tr>\n",
       "</table></div>"
      ],
      "text/plain": [
       "<clevar.catalog.ClCatalog at 0x7fb031309900>"
      ]
     },
     "execution_count": 39,
     "metadata": {},
     "output_type": "execute_result"
    }
   ],
   "source": [
    "c2_p"
   ]
  },
  {
   "cell_type": "code",
   "execution_count": 41,
   "id": "785fa8a2-5f25-4e53-a393-add15c1f9869",
   "metadata": {},
   "outputs": [
    {
     "data": {
      "text/html": [
       "<b>c1</b><br></b><b>tags:</b> id(id)<br><b>Radius unit:</b> None<br><div><i>ClData length=6370</i>\n",
       "<table id=\"table140394686148144\" class=\"table-striped table-bordered table-condensed\">\n",
       "<thead><tr><th>id</th><th>mt_multi_self</th><th>mt_multi_other</th><th>mt_self</th><th>mt_other</th><th>mt_cross</th></tr></thead>\n",
       "<thead><tr><th>str4</th><th>object</th><th>object</th><th>object</th><th>object</th><th>object</th></tr></thead>\n",
       "<tr><td>0</td><td>[&apos;935700155279&apos;]</td><td>[&apos;935700155279&apos;]</td><td>935700155279</td><td>935700155279</td><td>935700155279</td></tr>\n",
       "<tr><td>1</td><td>[&apos;268600155355&apos;]</td><td>[&apos;268600155355&apos;]</td><td>268600155355</td><td>268600155355</td><td>268600155355</td></tr>\n",
       "<tr><td>2</td><td>[&apos;1617600155279&apos;]</td><td>[&apos;1617600155279&apos;]</td><td>1617600155279</td><td>1617600155279</td><td>1617600155279</td></tr>\n",
       "<tr><td>3</td><td>[&apos;230000155392&apos;]</td><td>[&apos;230000155392&apos;]</td><td>230000155392</td><td>230000155392</td><td>230000155392</td></tr>\n",
       "<tr><td>4</td><td>[&apos;1464100155279&apos;]</td><td>[&apos;1464100155279&apos;]</td><td>1464100155279</td><td>1464100155279</td><td>1464100155279</td></tr>\n",
       "<tr><td>5</td><td>[&apos;449800155355&apos;]</td><td>[&apos;449800155355&apos;]</td><td>449800155355</td><td>449800155355</td><td>449800155355</td></tr>\n",
       "<tr><td>6</td><td>[&apos;676500155208&apos;]</td><td>[&apos;676500155208&apos;]</td><td>676500155208</td><td>676500155208</td><td>676500155208</td></tr>\n",
       "<tr><td>7</td><td>[&apos;467800155338&apos;]</td><td>[&apos;467800155338&apos;]</td><td>467800155338</td><td>467800155338</td><td>467800155338</td></tr>\n",
       "<tr><td>8</td><td>[&apos;562900155355&apos;]</td><td>[&apos;562900155355&apos;]</td><td>562900155355</td><td>562900155355</td><td>562900155355</td></tr>\n",
       "<tr><td>9</td><td>[]</td><td>[]</td><td>None</td><td>None</td><td>None</td></tr>\n",
       "<tr><td>...</td><td>...</td><td>...</td><td>...</td><td>...</td><td>...</td></tr>\n",
       "<tr><td>6360</td><td>[]</td><td>[]</td><td>None</td><td>None</td><td>None</td></tr>\n",
       "<tr><td>6361</td><td>[]</td><td>[]</td><td>None</td><td>None</td><td>None</td></tr>\n",
       "<tr><td>6362</td><td>[]</td><td>[]</td><td>None</td><td>None</td><td>None</td></tr>\n",
       "<tr><td>6363</td><td>[]</td><td>[]</td><td>None</td><td>None</td><td>None</td></tr>\n",
       "<tr><td>6364</td><td>[]</td><td>[]</td><td>None</td><td>None</td><td>None</td></tr>\n",
       "<tr><td>6365</td><td>[]</td><td>[]</td><td>None</td><td>None</td><td>None</td></tr>\n",
       "<tr><td>6366</td><td>[]</td><td>[]</td><td>None</td><td>None</td><td>None</td></tr>\n",
       "<tr><td>6367</td><td>[]</td><td>[]</td><td>None</td><td>None</td><td>None</td></tr>\n",
       "<tr><td>6368</td><td>[]</td><td>[]</td><td>None</td><td>None</td><td>None</td></tr>\n",
       "<tr><td>6369</td><td>[]</td><td>[]</td><td>None</td><td>None</td><td>None</td></tr>\n",
       "</table></div>"
      ],
      "text/plain": [
       "<clevar.catalog.ClCatalog at 0x7fb030b6a860>"
      ]
     },
     "execution_count": 41,
     "metadata": {},
     "output_type": "execute_result"
    }
   ],
   "source": [
    "c1_c1_p['mt_multi_self', 'mt_multi_other']"
   ]
  },
  {
   "cell_type": "code",
   "execution_count": 44,
   "id": "e38ede5d-d0cb-4394-8898-903038d4f9ef",
   "metadata": {},
   "outputs": [
    {
     "data": {
      "text/html": [
       "<b>c1</b><br></b><b>tags:</b> id(id), ra(ra), dec(dec), z(z), mass(mass)<br><b>Radius unit:</b> None<br><div><i>ClData length=33</i>\n",
       "<table id=\"table140394686149392\" class=\"table-striped table-bordered table-condensed\">\n",
       "<thead><tr><th>id</th><th>ra</th><th>dec</th><th>z</th><th>mass</th><th>mt_self</th><th>mt_other</th><th>mt_multi_self</th><th>mt_multi_other</th><th>mt_cross</th></tr></thead>\n",
       "<thead><tr><th>str6</th><th>float64</th><th>float64</th><th>float32</th><th>float64</th><th>object</th><th>object</th><th>object</th><th>object</th><th>object</th></tr></thead>\n",
       "<tr><td>1225</td><td>63.55932</td><td>-40.403033</td><td>0.26</td><td>152.24214</td><td>700156401</td><td>700156401</td><td>[&apos;700156401&apos;, &apos;177000156401&apos;]</td><td>[&apos;700156401&apos;, &apos;177000156401&apos;]</td><td>700156401</td></tr>\n",
       "<tr><td>1227</td><td>64.881908</td><td>-39.093335</td><td>0.5</td><td>42.213231</td><td>653000156331</td><td>653000156331</td><td>[&apos;719800156331&apos;, &apos;653000156331&apos;]</td><td>[&apos;719800156331&apos;, &apos;653000156331&apos;]</td><td>653000156331</td></tr>\n",
       "<tr><td>1254</td><td>64.832276</td><td>-39.99841</td><td>0.7</td><td>28.32129</td><td>724100156286</td><td>724100156286</td><td>[&apos;543500156300&apos;, &apos;724100156286&apos;]</td><td>[&apos;543500156300&apos;, &apos;724100156286&apos;]</td><td>724100156286</td></tr>\n",
       "<tr><td>1255</td><td>64.987027</td><td>-39.568111</td><td>0.71</td><td>36.112346</td><td>58800156266</td><td>454100156286</td><td>[&apos;58800156266&apos;, &apos;454100156286&apos;]</td><td>[&apos;58800156266&apos;, &apos;454100156286&apos;]</td><td>None</td></tr>\n",
       "<tr><td>1303</td><td>64.806194</td><td>-40.01344</td><td>0.63</td><td>16.054912</td><td>543500156300</td><td>543500156300</td><td>[&apos;543500156300&apos;, &apos;724100156286&apos;]</td><td>[&apos;543500156300&apos;, &apos;724100156286&apos;]</td><td>543500156300</td></tr>\n",
       "<tr><td>1421</td><td>64.987027</td><td>-39.568111</td><td>0.86</td><td>21.968267</td><td>454100156286</td><td>58800156266</td><td>[&apos;58800156266&apos;, &apos;454100156286&apos;]</td><td>[&apos;58800156266&apos;, &apos;454100156286&apos;]</td><td>None</td></tr>\n",
       "<tr><td>2883</td><td>67.480297</td><td>-41.073998</td><td>1.14</td><td>23.153404</td><td>1123300157230</td><td>1123300157230</td><td>[&apos;2782500157241&apos;, &apos;1123300157230&apos;]</td><td>[&apos;2782500157241&apos;, &apos;1123300157230&apos;]</td><td>1123300157230</td></tr>\n",
       "<tr><td>3485</td><td>64.07477</td><td>-42.953317</td><td>0.7</td><td>22.623738</td><td>1019900168293</td><td>1019900168293</td><td>[&apos;1591500180266&apos;, &apos;1019900168293&apos;]</td><td>[&apos;1591500180266&apos;, &apos;1019900168293&apos;]</td><td>1019900168293</td></tr>\n",
       "<tr><td>5878</td><td>69.86447</td><td>-42.555563</td><td>0.87</td><td>27.817052</td><td>692200170266</td><td>692200170266</td><td>[&apos;692200170266&apos;, &apos;1776400170279&apos;]</td><td>[&apos;692200170266&apos;, &apos;1776400170279&apos;]</td><td>692200170266</td></tr>\n",
       "<tr><td>5886</td><td>69.537847</td><td>-41.11275</td><td>0.26</td><td>21.764574</td><td>129100170392</td><td>129100170392</td><td>[&apos;129100170392&apos;, &apos;183800170401&apos;]</td><td>[&apos;129100170392&apos;, &apos;183800170401&apos;]</td><td>129100170392</td></tr>\n",
       "<tr><td>...</td><td>...</td><td>...</td><td>...</td><td>...</td><td>...</td><td>...</td><td>...</td><td>...</td><td>...</td></tr>\n",
       "<tr><td>14261</td><td>62.731011</td><td>-37.61644</td><td>0.73</td><td>35.248243</td><td>200000127286</td><td>200000127286</td><td>[&apos;200000127286&apos;, &apos;1342600127272&apos;]</td><td>[&apos;200000127286&apos;, &apos;1342600127272&apos;]</td><td>200000127286</td></tr>\n",
       "<tr><td>14611</td><td>61.971947</td><td>-36.36946</td><td>0.63</td><td>16.790186</td><td>1230800127307</td><td>1230800127307</td><td>[&apos;1230800127307&apos;, &apos;1191500127315&apos;]</td><td>[&apos;1230800127307&apos;, &apos;1191500127315&apos;]</td><td>1230800127307</td></tr>\n",
       "<tr><td>15500</td><td>65.198193</td><td>-36.812901</td><td>0.3</td><td>43.633757</td><td>114300128382</td><td>114300128382</td><td>[&apos;281100128382&apos;, &apos;114300128382&apos;]</td><td>[&apos;281100128382&apos;, &apos;114300128382&apos;]</td><td>114300128382</td></tr>\n",
       "<tr><td>15509</td><td>64.586943</td><td>-36.223957</td><td>0.39</td><td>25.450467</td><td>200000128355</td><td>200000128355</td><td>[&apos;200000128355&apos;, &apos;241100128331&apos;]</td><td>[&apos;200000128355&apos;, &apos;241100128331&apos;]</td><td>200000128355</td></tr>\n",
       "<tr><td>15533</td><td>64.537366</td><td>-36.223903</td><td>0.5</td><td>31.871478</td><td>241100128331</td><td>241100128331</td><td>[&apos;200000128355&apos;, &apos;241100128331&apos;]</td><td>[&apos;200000128355&apos;, &apos;241100128331&apos;]</td><td>241100128331</td></tr>\n",
       "<tr><td>16689</td><td>67.853456</td><td>-36.788972</td><td>0.61</td><td>59.555391</td><td>587300129307</td><td>587300129307</td><td>[&apos;1582600129307&apos;, &apos;587300129307&apos;]</td><td>[&apos;1582600129307&apos;, &apos;587300129307&apos;]</td><td>587300129307</td></tr>\n",
       "<tr><td>16690</td><td>67.810408</td><td>-36.949094</td><td>0.7</td><td>99.139527</td><td>1148100129293</td><td>1148100129293</td><td>[&apos;1986200129293&apos;, &apos;1148100129293&apos;]</td><td>[&apos;1986200129293&apos;, &apos;1148100129293&apos;]</td><td>1148100129293</td></tr>\n",
       "<tr><td>18063</td><td>62.486618</td><td>-38.85032</td><td>0.19</td><td>116.97543</td><td>167900142421</td><td>167900142421</td><td>[&apos;55300142421&apos;, &apos;167900142421&apos;]</td><td>[&apos;55300142421&apos;, &apos;167900142421&apos;]</td><td>167900142421</td></tr>\n",
       "<tr><td>19318</td><td>65.760587</td><td>-39.12753</td><td>0.38</td><td>36.807249</td><td>168300143355</td><td>168300143355</td><td>[&apos;517600143355&apos;, &apos;168300143355&apos;]</td><td>[&apos;517600143355&apos;, &apos;168300143355&apos;]</td><td>168300143355</td></tr>\n",
       "<tr><td>19379</td><td>65.532197</td><td>-38.666656</td><td>0.72</td><td>15.324951</td><td>1343400143286</td><td>1343400143286</td><td>[&apos;1343400143286&apos;, &apos;1050800143315&apos;]</td><td>[&apos;1343400143286&apos;, &apos;1050800143315&apos;]</td><td>1343400143286</td></tr>\n",
       "</table></div>"
      ],
      "text/plain": [
       "<clevar.catalog.ClCatalog at 0x7fb031309720>"
      ]
     },
     "execution_count": 44,
     "metadata": {},
     "output_type": "execute_result"
    }
   ],
   "source": [
    "c1_p[[len(siu)>=2 for siu in c1_p['mt_multi_self']]]"
   ]
  },
  {
   "cell_type": "code",
   "execution_count": null,
   "id": "caf64401-ac75-4461-b107-0c0ace716205",
   "metadata": {},
   "outputs": [],
   "source": [
    "c1_p[[len(siu)>=2 for siu in c1_p['mt_multi_self']]]"
   ]
  },
  {
   "cell_type": "code",
   "execution_count": 27,
   "id": "18a19ac7-8359-4057-a93a-dc494b0f1ce8",
   "metadata": {},
   "outputs": [
    {
     "data": {
      "text/plain": [
       "<matplotlib.collections.PathCollection at 0x7fb030b86c50>"
      ]
     },
     "execution_count": 27,
     "metadata": {},
     "output_type": "execute_result"
    },
    {
     "data": {
      "image/png": "[encoded data removed]",
      "text/plain": [
       "<Figure size 640x480 with 1 Axes>"
      ]
     },
     "metadata": {},
     "output_type": "display_data"
    }
   ],
   "source": [
    "plt.scatter(i_l, k_l)"
   ]
  },
  {
   "cell_type": "code",
   "execution_count": 38,
   "id": "46955dab-977b-4d23-8747-d4876cd97055",
   "metadata": {},
   "outputs": [],
   "source": [
    "j = 0\n",
    "for i in range(len(c2_mb['mt_other'])):\n",
    "    if c2_mb['mt_other'][i] != c2_mb['mt_self'][i]:\n",
    "        j+=1\n",
    "        print(c2_mb['mt_other'][i],c2_mb['mt_self'][i])"
   ]
  },
  {
   "cell_type": "code",
   "execution_count": null,
   "id": "2ea5a40f-e0b4-48fd-94de-0f88c88079bc",
   "metadata": {},
   "outputs": [],
   "source": []
  }
 ],
 "metadata": {
  "kernelspec": {
   "display_name": "desc",
   "language": "python",
   "name": "desc"
  },
  "language_info": {
   "codemirror_mode": {
    "name": "ipython",
    "version": 3
   },
   "file_extension": ".py",
   "mimetype": "text/x-python",
   "name": "python",
   "nbconvert_exporter": "python",
   "pygments_lexer": "ipython3",
   "version": "3.10.8"
  }
 },
 "nbformat": 4,
 "nbformat_minor": 5
}
