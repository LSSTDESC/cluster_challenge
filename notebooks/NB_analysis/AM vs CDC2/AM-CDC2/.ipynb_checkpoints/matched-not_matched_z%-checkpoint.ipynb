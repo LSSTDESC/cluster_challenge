{
 "cells": [
  {
   "cell_type": "markdown",
   "id": "3891c6e8-1210-4828-b06d-1a21470b9923",
   "metadata": {},
   "source": [
    "## z_distrib of matched and not matched clusters"
   ]
  },
  {
   "cell_type": "code",
   "execution_count": 1,
   "id": "7c5f2831-cb43-44a0-9e37-cbb5e1153521",
   "metadata": {
    "tags": []
   },
   "outputs": [],
   "source": [
    "import matplotlib.pyplot as plt\n",
    "import numpy as np\n",
    "from astropy.table import Table, hstack, vstack\n",
    "from clevar.catalog import ClCatalog\n",
    "from numpy.ma import masked\n",
    "import sys\n",
    "from clevar.match import output_matched_catalog"
   ]
  },
  {
   "cell_type": "code",
   "execution_count": 2,
   "id": "a6e69ed8-2f02-4e51-be0a-338e4e5bf571",
   "metadata": {},
   "outputs": [],
   "source": [
    "path = '/sps/lsst/groups/clusters/amico_validation_project/catalogs/matching_cats/amico_cosmoDC2/mag_i/'\n",
    "c1 = ClCatalog.read(path+'c1_p.fits', 'c1', full = True)\n",
    "c2 = ClCatalog.read(path+'c2_p.fits', 'c2', full = True)"
   ]
  },
  {
   "cell_type": "code",
   "execution_count": 3,
   "id": "ab0ff7ff-86a8-445f-a7cd-185bb8a8efcf",
   "metadata": {},
   "outputs": [
    {
     "name": "stderr",
     "output_type": "stream",
     "text": [
      "/sps/lsst/users/namourou/conda_clone_210223/descv1.1/clevar/clevar/catalog.py:280: UserWarning: id column missing, additional one is being created.\n",
      "  warnings.warn(f\"{id_name} column missing, additional one is being created.\")\n"
     ]
    }
   ],
   "source": [
    "c_merged_12 = ClCatalog.read(path+'output_catalog_' + 'p' + '.fits', 'merged',  full=True)"
   ]
  },
  {
   "cell_type": "code",
   "execution_count": 4,
   "id": "2ef96923-ad1e-4bea-a21e-f6d43f149883",
   "metadata": {
    "collapsed": true,
    "jupyter": {
     "outputs_hidden": true
    },
    "tags": []
   },
   "outputs": [
    {
     "data": {
      "text/html": [
       "<b>merged</b><br></b><b>tags:</b> id(id)<br><b>Radius unit:</b> None<br><div><i>ClData length=110954</i>\n",
       "<table id=\"table140143937979680\" class=\"table-striped table-bordered table-condensed\">\n",
       "<thead><tr><th>id</th><th>cat1_id</th><th>cat1_ra</th><th>cat1_dec</th><th>cat1_z</th><th>cat1_mass</th><th>cat1_mt_self</th><th>cat1_mt_other</th><th>cat1_mt_multi_self</th><th>cat1_mt_multi_other</th><th>cat1_mt_cross</th><th>cat1_sn</th><th>cat2_id</th><th>cat2_ra</th><th>cat2_dec</th><th>cat2_z</th><th>cat2_mass</th><th>cat2_log_mass</th><th>cat2_m200c</th><th>cat2_log_m200c</th><th>cat2_mt_self</th><th>cat2_mt_other</th><th>cat2_mt_multi_self</th><th>cat2_mt_multi_other</th><th>cat2_mt_cross</th><th>mt_self</th><th>mt_other</th><th>mt_multi_self</th><th>mt_multi_other</th></tr></thead>\n",
       "<thead><tr><th>str6</th><th>bytes11</th><th>float64</th><th>float64</th><th>float32</th><th>float64</th><th>bytes13</th><th>bytes13</th><th>bytes134</th><th>bytes134</th><th>bytes13</th><th>float64</th><th>bytes21</th><th>float64</th><th>float64</th><th>float64</th><th>float64</th><th>float64</th><th>float64</th><th>float64</th><th>bytes6</th><th>bytes6</th><th>bytes45</th><th>bytes45</th><th>bytes6</th><th>object</th><th>object</th><th>object</th><th>object</th></tr></thead>\n",
       "<tr><td>0</td><td>1</td><td>50.113525</td><td>-40.03647</td><td>0.44</td><td>75.694496</td><td>649700151338</td><td>649700151338</td><td>125900151315,649700151338</td><td>125900151315,649700151338</td><td>649700151338</td><td>8.411978</td><td>649700151338</td><td>50.11509823129538</td><td>-40.03536446556387</td><td>0.4336901903152466</td><td>2.914e+14</td><td>14.46455263904217</td><td>307207389507064.8</td><td>14.487431657920492</td><td>1</td><td>1</td><td>1</td><td>1</td><td>1</td><td>None</td><td>None</td><td>[]</td><td>[]</td></tr>\n",
       "<tr><td>1</td><td>2</td><td>50.642569</td><td>-41.402661</td><td>0.2</td><td>62.659902</td><td>130200151411</td><td>130200151411</td><td>130200151411,220600151392</td><td>130200151411,220600151392</td><td>130200151411</td><td>8.2879317</td><td>130200151411</td><td>50.642098246561304</td><td>-41.40092456771352</td><td>0.19159162044525146</td><td>2.639e+14</td><td>14.421495474089287</td><td>229655937300912.7</td><td>14.361077677725604</td><td>2</td><td>2</td><td>85,2</td><td>2,85</td><td>2</td><td>None</td><td>None</td><td>[]</td><td>[]</td></tr>\n",
       "<tr><td>2</td><td>3</td><td>50.421896</td><td>-39.587457</td><td>0.39</td><td>48.460455</td><td>388500151355</td><td>388500151355</td><td>388500151355,690600151338,370000151373,359100151331</td><td>388500151355,690600151338,370000151373,359100151331</td><td>388500151355</td><td>7.985019</td><td>388500151355</td><td>50.42203362588924</td><td>-39.587746579168694</td><td>0.3911494016647339</td><td>1.547e+14</td><td>14.189385464227009</td><td>145162982864405.66</td><td>14.161855883669066</td><td>3</td><td>3</td><td>3,532,248</td><td>3,532,248</td><td>3</td><td>None</td><td>None</td><td>[]</td><td>[]</td></tr>\n",
       "<tr><td>3</td><td>4</td><td>50.603551</td><td>-39.582656</td><td>1.1</td><td>118.29114</td><td>190400151235</td><td>190400151235</td><td>3279900151235,2401800151213,190400151235</td><td>3279900151235,2401800151213,190400151235</td><td>190400151235</td><td>7.8894553</td><td>190400151235</td><td>50.601945314584675</td><td>-39.584667514262556</td><td>1.0864953994750977</td><td>2.013e+14</td><td>14.30378567158675</td><td>180916919696946.5</td><td>14.257479184811185</td><td>4</td><td>4</td><td>4</td><td>4</td><td>4</td><td>None</td><td>None</td><td>[]</td><td>[]</td></tr>\n",
       "<tr><td>4</td><td>5</td><td>50.577077</td><td>-40.162645</td><td>0.59</td><td>72.90131</td><td>1038800151307</td><td>1038800151307</td><td>306600151331,954400151315,1038800151307</td><td>306600151331,954400151315,1038800151307</td><td>1038800151307</td><td>7.5111213</td><td>1038800151307</td><td>50.57622204392435</td><td>-40.161587068873025</td><td>0.5822875499725342</td><td>1.808e+14</td><td>14.257238495016074</td><td>166094272990828.2</td><td>14.220354658030198</td><td>5</td><td>5</td><td>5,1001</td><td>5,1001</td><td>5</td><td>None</td><td>None</td><td>[]</td><td>[]</td></tr>\n",
       "<tr><td>5</td><td>6</td><td>51.048368</td><td>-41.281951</td><td>0.79</td><td>79.642977</td><td>703400151279</td><td>703400151279</td><td>703400151279,537900164279,1903300151279</td><td>703400151279,537900164279,1903300151279</td><td>703400151279</td><td>7.3805106</td><td>703400151279</td><td>51.04701591813105</td><td>-41.28182572206524</td><td>0.7761750221252441</td><td>1.387e+14</td><td>14.141947581783008</td><td>120095931769870.42</td><td>14.079528295997234</td><td>6</td><td>6</td><td>6</td><td>6</td><td>6</td><td>None</td><td>None</td><td>[]</td><td>[]</td></tr>\n",
       "<tr><td>6</td><td>7</td><td>50.085692</td><td>-40.246344</td><td>0.33</td><td>32.591521</td><td>397900151373</td><td>397900151373</td><td>849400151338,397900151373</td><td>849400151338,397900151373</td><td>397900151373</td><td>7.1875265</td><td>397900151373</td><td>50.088972114838356</td><td>-40.241736968305695</td><td>0.3244130611419678</td><td>1.981e+14</td><td>14.29683174167632</td><td>137755570256766.2</td><td>14.139109168923937</td><td>7</td><td>7</td><td>7</td><td>7</td><td>7</td><td>None</td><td>None</td><td>[]</td><td>[]</td></tr>\n",
       "<tr><td>7</td><td>8</td><td>50.590563</td><td>-39.602651</td><td>0.39</td><td>37.742523</td><td>481800151355</td><td>481800151355</td><td>1404200151323,279900151392,481800151355</td><td>1404200151323,279900151392,481800151355</td><td>481800151355</td><td>7.0361362</td><td>481800151355</td><td>50.59082024698755</td><td>-39.600774798586926</td><td>0.388502836227417</td><td>2.252e+14</td><td>14.352617559518354</td><td>170961414242073.25</td><td>14.232898101779949</td><td>8</td><td>8</td><td>8</td><td>8</td><td>8</td><td>None</td><td>None</td><td>[]</td><td>[]</td></tr>\n",
       "<tr><td>8</td><td>9</td><td>51.576131</td><td>-40.01887</td><td>0.61</td><td>55.388537</td><td>689000151307</td><td>689000151307</td><td>689000151307,1388400151307</td><td>689000151307,1388400151307</td><td>689000151307</td><td>6.904526</td><td>689000151307</td><td>51.57638580775331</td><td>-40.02086515625286</td><td>0.5962231159210205</td><td>1.465e+14</td><td>14.165886508001352</td><td>129057186322749.3</td><td>14.110782192478652</td><td>9</td><td>9</td><td>9</td><td>9</td><td>9</td><td>None</td><td>None</td><td>[]</td><td>[]</td></tr>\n",
       "<tr><td>9</td><td>10</td><td>51.329314</td><td>-40.145608</td><td>0.32</td><td>35.888131</td><td>48900151373</td><td>48900151373</td><td>50300151401,48900151373,55300151373</td><td>50300151401,48900151373,55300151373</td><td>48900151373</td><td>6.8571554</td><td>48900151373</td><td>51.32568048229417</td><td>-40.146015105246434</td><td>0.3188786506652832</td><td>9.147e+13</td><td>13.96128940251808</td><td>91205447668461.97</td><td>13.960020779355762</td><td>10</td><td>10</td><td>10</td><td>10</td><td>10</td><td>None</td><td>None</td><td>[]</td><td>[]</td></tr>\n",
       "<tr><td>...</td><td>...</td><td>...</td><td>...</td><td>...</td><td>...</td><td>...</td><td>...</td><td>...</td><td>...</td><td>...</td><td>...</td><td>...</td><td>...</td><td>...</td><td>...</td><td>...</td><td>...</td><td>...</td><td>...</td><td>...</td><td>...</td><td>...</td><td>...</td><td>...</td><td>...</td><td>...</td><td>...</td><td>...</td></tr>\n",
       "<tr><td>110944</td><td>135900</td><td>74.491862</td><td>-37.911472</td><td>1.17</td><td>15.655907</td><td>1773400146224</td><td>1773400146224</td><td>1773400146224</td><td>1773400146224</td><td>1773400146224</td><td>3.0125327</td><td>1773400146224</td><td>74.45742694973816</td><td>-37.90852462593147</td><td>1.1801481246948242</td><td>3.072e+13</td><td>13.487416466635757</td><td>33580637538794.367</td><td>13.52608893709542</td><td>135900</td><td>135900</td><td>135900</td><td>135900</td><td>135900</td><td>None</td><td>None</td><td>[]</td><td>[]</td></tr>\n",
       "<tr><td>110945</td><td>135902</td><td>74.523611</td><td>-38.486474</td><td>1.31</td><td>14.383361</td><td>3370100146213</td><td>3370100146213</td><td>3412900146194,641400146224,3370100146213</td><td>3412900146194,641400146224,3370100146213</td><td>3370100146213</td><td>3.0103335</td><td>3370100146213</td><td>74.5175405295713</td><td>-38.488343549049254</td><td>1.2791357040405273</td><td>1.070e+13</td><td>13.029284063309703</td><td>11780031387042.254</td><td>13.071146447598883</td><td>135902</td><td>135902</td><td>135902</td><td>135902</td><td>135902</td><td>None</td><td>None</td><td>[]</td><td>[]</td></tr>\n",
       "<tr><td>110946</td><td>135903</td><td>74.109775</td><td>-38.245769</td><td>1.08</td><td>22.869183</td><td>3164700146235</td><td>3164700146235</td><td>3164700146235</td><td>3164700146235</td><td>3164700146235</td><td>3.0092963</td><td>3164700146235</td><td>74.10765204755612</td><td>-38.247687359541665</td><td>1.0770933628082275</td><td>5.019e+13</td><td>13.700642742153622</td><td>34520226616969.016</td><td>13.538073638091147</td><td>135903</td><td>135903</td><td>135903</td><td>135903</td><td>135903</td><td>None</td><td>None</td><td>[]</td><td>[]</td></tr>\n",
       "<tr><td>110947</td><td>135904</td><td>75.058765</td><td>-38.300211</td><td>1.27</td><td>14.432851</td><td>3861000146213</td><td>3861000146213</td><td>3861000146213</td><td>3861000146213</td><td>3861000146213</td><td>3.0087414</td><td>3861000146213</td><td>75.06046383338115</td><td>-38.29786624018723</td><td>1.2663793563842773</td><td>4.883e+13</td><td>13.688674784447342</td><td>51097120294940.84</td><td>13.70839642508075</td><td>135904</td><td>135904</td><td>135904</td><td>135904</td><td>135904</td><td>None</td><td>None</td><td>[]</td><td>[]</td></tr>\n",
       "<tr><td>110948</td><td>135906</td><td>74.934134</td><td>-37.685718</td><td>1.07</td><td>27.038142</td><td>2966500146235</td><td>2966500146235</td><td>2966500146235,446000146235,2083900146241,3518300146241,2512600146235</td><td>2966500146235,446000146235,2083900146241,3518300146241,2512600146235</td><td>2966500146235</td><td>3.0082657</td><td>2966500146235</td><td>74.93382975072326</td><td>-37.6846481360418</td><td>1.060168981552124</td><td>7.071e+13</td><td>13.849473827751144</td><td>50607804519842.26</td><td>13.70421749704798</td><td>135906</td><td>135906</td><td>135906,135548</td><td>135906,135548</td><td>135906</td><td>None</td><td>None</td><td>[]</td><td>[]</td></tr>\n",
       "<tr><td>110949</td><td>135908</td><td>73.814582</td><td>-39.139395</td><td>0.91</td><td>11.437012</td><td>1179200146279</td><td>1179200146279</td><td>1179200146279</td><td>1179200146279</td><td>1179200146279</td><td>3.006988</td><td>1179200146279</td><td>73.80151691224746</td><td>-39.111057462195944</td><td>0.7753103971481323</td><td>1.137e+13</td><td>13.055925371061571</td><td>11267290276416.902</td><td>13.051819483082706</td><td>135908</td><td>135908</td><td>135908</td><td>135908</td><td>135908</td><td>None</td><td>None</td><td>[]</td><td>[]</td></tr>\n",
       "<tr><td>110950</td><td>135912</td><td>74.275797</td><td>-38.096228</td><td>1.07</td><td>14.805209</td><td>1229700146247</td><td>1229700146247</td><td>1229700146247</td><td>1229700146247</td><td>1229700146247</td><td>3.0017868</td><td>1229700146247</td><td>74.23742647976484</td><td>-38.0811109404262</td><td>0.9712351560592651</td><td>1.171e+13</td><td>13.068657220844564</td><td>12238114366016.902</td><td>13.08771450739127</td><td>135912</td><td>135912</td><td>135912</td><td>135912</td><td>135912</td><td>None</td><td>None</td><td>[]</td><td>[]</td></tr>\n",
       "<tr><td>110951</td><td>135914</td><td>73.463895</td><td>-38.441748</td><td>0.95</td><td>12.725113</td><td>3014700146241</td><td>3014700146241</td><td>3014700146241</td><td>3014700146241</td><td>3014700146241</td><td>3.0007275</td><td>3014700146241</td><td>73.4695477075811</td><td>-38.43444486614335</td><td>1.039473056793213</td><td>1.490e+13</td><td>13.17320496777521</td><td>15567027854783.1</td><td>13.192205702517935</td><td>135914</td><td>135914</td><td>135914</td><td>135914</td><td>135914</td><td>None</td><td>None</td><td>[]</td><td>[]</td></tr>\n",
       "<tr><td>110952</td><td>135915</td><td>74.653667</td><td>-39.681394</td><td>1.14</td><td>14.320474</td><td>1069800146241</td><td>1069800146241</td><td>1069800146241,2097400146213</td><td>1069800146241,2097400146213</td><td>1069800146241</td><td>3.0004716</td><td>1069800146241</td><td>74.66974882604863</td><td>-39.6649077644634</td><td>1.0169126987457275</td><td>1.842e+13</td><td>13.26538570459922</td><td>16277576920338.03</td><td>13.211589756299654</td><td>135915</td><td>135915</td><td>135915</td><td>135915</td><td>135915</td><td>None</td><td>None</td><td>[]</td><td>[]</td></tr>\n",
       "<tr><td>110953</td><td>135916</td><td>73.590208</td><td>-38.54782</td><td>1.15</td><td>17.084618</td><td>1074200146208</td><td>1074200146208</td><td>1074200146208</td><td>1074200146208</td><td>1074200146208</td><td>3.0003829</td><td>1074200146208</td><td>73.60165309604636</td><td>-38.56471247622692</td><td>1.3520071506500244</td><td>3.935e+13</td><td>13.594901607206275</td><td>37781469293611.266</td><td>13.577278843307884</td><td>135916</td><td>135916</td><td>135916</td><td>135916</td><td>135916</td><td>None</td><td>None</td><td>[]</td><td>[]</td></tr>\n",
       "</table></div>"
      ],
      "text/plain": [
       "<clevar.catalog.ClCatalog at 0x7f75cda40580>"
      ]
     },
     "execution_count": 4,
     "metadata": {},
     "output_type": "execute_result"
    }
   ],
   "source": [
    "c_merged_12"
   ]
  },
  {
   "cell_type": "markdown",
   "id": "e611ddb4-1ddf-4b2c-8e44-a8f7080e9e07",
   "metadata": {},
   "source": [
    "## Processing"
   ]
  },
  {
   "cell_type": "code",
   "execution_count": 5,
   "id": "f1cb298b-a8f9-403b-b47b-61af69a7af75",
   "metadata": {},
   "outputs": [
    {
     "name": "stdout",
     "output_type": "stream",
     "text": [
      "0.1\n",
      "0.2\n",
      "0.3\n",
      "0.4\n",
      "0.5\n",
      "0.6\n",
      "0.7\n",
      "0.8\n",
      "0.9\n",
      "1.0\n",
      "c1 ok\n"
     ]
    }
   ],
   "source": [
    "c1_nm = []\n",
    "c1_nm_mass = []\n",
    "c1_nm_ra = []\n",
    "c1_nm_dec = []\n",
    "c1_nm_z = []\n",
    "per = [.1,.2,.3,.4,.5,.6,.7,.8,.9,1.0]\n",
    "per_l = []\n",
    "for i, id in enumerate(c1['id']):\n",
    "    percent = round(i/len(c1['id']),2)\n",
    "    if percent in per and percent not in per_l:\n",
    "        print(round(i/len(c1['id']),2))\n",
    "        per_l.append(percent)\n",
    "    if id not in c_merged_12['cat2_mt_cross']:\n",
    "        cdt = c1[c1['id']==id]\n",
    "        c1_nm.append(id)\n",
    "        c1_nm_mass.append(cdt['mass'])\n",
    "        c1_nm_ra.append(cdt['ra'])\n",
    "        c1_nm_dec.append(cdt['dec'])\n",
    "        c1_nm_z.append(cdt['z'])\n",
    "print('c1 ok')"
   ]
  },
  {
   "cell_type": "code",
   "execution_count": 6,
   "id": "adceb74d-9fa6-4598-a836-8c1ad5d522fb",
   "metadata": {
    "jupyter": {
     "source_hidden": true
    },
    "tags": []
   },
   "outputs": [],
   "source": [
    "c1_nm_massl = []\n",
    "c1_nm_ral = []\n",
    "c1_nm_decl = []\n",
    "c1_nm_zl = []\n",
    "for i in range(len(c1_nm_z)):\n",
    "    c1_nm_massl.append(c1_nm_mass[i][0])\n",
    "    c1_nm_ral.append(c1_nm_ra[i][0])\n",
    "    c1_nm_decl.append(c1_nm_dec[i][0])\n",
    "    c1_nm_zl.append(c1_nm_z[i][0])"
   ]
  },
  {
   "cell_type": "code",
   "execution_count": 7,
   "id": "4247d1f2-7a4c-4859-9e69-043c0c088550",
   "metadata": {
    "tags": []
   },
   "outputs": [
    {
     "name": "stdout",
     "output_type": "stream",
     "text": [
      "0.1\n",
      "0.2\n",
      "0.3\n",
      "0.4\n",
      "0.5\n",
      "0.6\n",
      "0.7\n",
      "0.8\n",
      "0.9\n",
      "1.0\n",
      "c2 ok\n"
     ]
    }
   ],
   "source": [
    "c2_nm = []\n",
    "c2_nm_mass = []\n",
    "c2_nm_ra = []\n",
    "c2_nm_dec = []\n",
    "c2_nm_z = []\n",
    "per = [.1,.2,.3,.4,.5,.6,.7,.8,.9,1.0]\n",
    "per_l = []\n",
    "for i, id in enumerate(c2['id']):\n",
    "    percent = round(i/len(c2['id']),2)\n",
    "    if percent in per and percent not in per_l:\n",
    "        print(round(i/len(c2['id']),2))\n",
    "        per_l.append(percent)\n",
    "    if id not in c_merged_12['cat1_mt_cross']:\n",
    "        cdt = c2[c2['id']==id]\n",
    "        c2_nm.append(id)\n",
    "        c2_nm_mass.append(cdt['mass'])\n",
    "        c2_nm_ra.append(cdt['ra'])\n",
    "        c2_nm_dec.append(cdt['dec'])\n",
    "        c2_nm_z.append(cdt['z'])\n",
    "print('c2 ok')"
   ]
  },
  {
   "cell_type": "code",
   "execution_count": 8,
   "id": "4a9f639f-8342-4def-b9b3-fb8e02b037b4",
   "metadata": {
    "jupyter": {
     "source_hidden": true
    },
    "tags": []
   },
   "outputs": [],
   "source": [
    "c2_nm_massl = []\n",
    "c2_nm_ral = []\n",
    "c2_nm_decl = []\n",
    "c2_nm_zl = []\n",
    "for i in range(len(c2_nm_z)):\n",
    "    c2_nm_massl.append(c2_nm_mass[i][0])\n",
    "    c2_nm_ral.append(c2_nm_ra[i][0])\n",
    "    c2_nm_decl.append(c2_nm_dec[i][0])\n",
    "    c2_nm_zl.append(c2_nm_z[i][0])"
   ]
  },
  {
   "cell_type": "code",
   "execution_count": 9,
   "id": "e6bb9f13-39cf-4519-ac66-26032dde3608",
   "metadata": {},
   "outputs": [
    {
     "data": {
      "text/html": [
       "<div><i>Table length=2</i>\n",
       "<table id=\"table140143941253440\" class=\"table-striped table-bordered table-condensed\">\n",
       "<thead><tr><th>cat_name</th><th>total</th><th>cross_matched</th><th>not_matched</th></tr></thead>\n",
       "<thead><tr><th>str9</th><th>int64</th><th>str11</th><th>str11</th></tr></thead>\n",
       "<tr><td>AMICO</td><td>135916</td><td>110954(81%)</td><td>24962(18%)</td></tr>\n",
       "<tr><td>RedMapper</td><td>454475</td><td>110954(24%)</td><td>343521(75%)</td></tr>\n",
       "</table></div>"
      ],
      "text/plain": [
       "<Table length=2>\n",
       " cat_name total  cross_matched not_matched\n",
       "   str9   int64      str11        str11   \n",
       "--------- ------ ------------- -----------\n",
       "    AMICO 135916   110954(81%)  24962(18%)\n",
       "RedMapper 454475   110954(24%) 343521(75%)"
      ]
     },
     "metadata": {},
     "output_type": "display_data"
    }
   ],
   "source": [
    "frac = Table({'cat_name' : ['AMICO', 'RedMapper'], 'total' : [len(c1), len(c2)],\n",
    "        'cross_matched' : [str(len(c_merged_12['cat1_mt_cross'])) + '(' + str(int(len(c_merged_12['cat1_mt_cross'])/len(c1)*100)) + '%)', str(len(c_merged_12['cat2_mt_cross'])) + '(' + str(int(len(c_merged_12['cat2_mt_cross'])/len(c2)*100)) + '%)'],\n",
    "        'not_matched' : [str(len(c1_nm)) + '(' + str(int(len(c1_nm)/len(c1)*100)) +'%)' , str(len(c2_nm)) + '(' + str(int(len(c2_nm)/len(c2)*100)) +'%)']})\n",
    "display(frac)"
   ]
  },
  {
   "cell_type": "code",
   "execution_count": 10,
   "id": "7f071aae-1e00-4505-9c61-e2989fd2fcf1",
   "metadata": {},
   "outputs": [],
   "source": [
    "c1_znm = []\n",
    "for i in range(len(c1_nm_z)):\n",
    "    c1_znm.append(c1_nm_z[i][0])"
   ]
  },
  {
   "cell_type": "code",
   "execution_count": 11,
   "id": "8680708e-ddff-4319-9bab-84856fc80fc3",
   "metadata": {
    "tags": []
   },
   "outputs": [],
   "source": [
    "c2_znm = []\n",
    "for i in range(len(c2_nm_z)):\n",
    "    c2_znm.append(c2_nm_z[i][0])"
   ]
  },
  {
   "cell_type": "code",
   "execution_count": 12,
   "id": "25ce8c82-fdbe-4b92-ac07-37505be9050c",
   "metadata": {},
   "outputs": [],
   "source": [
    "bins = np.linspace(0.1,1.2,23)"
   ]
  },
  {
   "cell_type": "markdown",
   "id": "3c02f520-c6eb-4e14-b0a3-4857ca2c5b9a",
   "metadata": {},
   "source": [
    "## z distributions"
   ]
  },
  {
   "cell_type": "code",
   "execution_count": 17,
   "id": "30308c81-330e-4c68-aa8f-1b2c3d49f6d3",
   "metadata": {},
   "outputs": [
    {
     "data": {
      "image/png": "[encoded data removed]",
      "text/plain": [
       "<Figure size 640x480 with 1 Axes>"
      ]
     },
     "metadata": {},
     "output_type": "display_data"
    }
   ],
   "source": [
    "plt.hist(c1['z'],bins = bins, histtype = 'step', label = 'AMICO')\n",
    "plt.hist(c2['z'],bins = bins, histtype = 'step', label = 'redMaPPer')\n",
    "#plt.hist(c1_znm, bins = bins, label = 'AMICO not matched', histtype = 'step', color = 'b')\n",
    "#plt.hist(c2_znm, bins = bins, label = 'RedMapper not matched', histtype = 'step', color = 'green')\n",
    "plt.hist(c_merged_12['cat1_z'], bins = bins, label = 'Matched',linestyle = 'dashed', histtype = 'step', color = 'r')\n",
    "#plt.hist(c_merged_12['cazt2_z'], bins = 25, label = 'RedMapper matched',linestyle = 'dashed', histtype = 'step')\n",
    "plt.legend(loc = 'upper left')\n",
    "plt.ylabel('Number of clusters', fontsize = 13)\n",
    "plt.xlabel('z', fontsize = 13)\n",
    "plt.savefig('/pbs/home/n/namourou/test_jupyter/cluster_challenge/plots/zdistrib_match.png', format='png', transparent=True)\n",
    "plt.show()"
   ]
  }
 ],
 "metadata": {
  "kernelspec": {
   "display_name": "desc",
   "language": "python",
   "name": "desc"
  },
  "language_info": {
   "codemirror_mode": {
    "name": "ipython",
    "version": 3
   },
   "file_extension": ".py",
   "mimetype": "text/x-python",
   "name": "python",
   "nbconvert_exporter": "python",
   "pygments_lexer": "ipython3",
   "version": "3.10.9"
  }
 },
 "nbformat": 4,
 "nbformat_minor": 5
}
