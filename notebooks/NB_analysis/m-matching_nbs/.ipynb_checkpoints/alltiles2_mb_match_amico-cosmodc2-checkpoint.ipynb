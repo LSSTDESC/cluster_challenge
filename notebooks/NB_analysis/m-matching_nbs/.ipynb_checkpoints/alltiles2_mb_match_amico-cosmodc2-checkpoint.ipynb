{
 "cells": [
  {
   "cell_type": "markdown",
   "id": "3b0ef301-40eb-4dbf-928a-9d1d72457dee",
   "metadata": {},
   "source": [
    "# Matching amico with cosmoDC2_small"
   ]
  },
  {
   "cell_type": "code",
   "execution_count": null,
   "id": "f103c5e2-0930-4acb-83ea-a1cd1017e528",
   "metadata": {},
   "outputs": [],
   "source": [
    "import numpy as np\n",
    "import matplotlib.pyplot as plt\n",
    "import matplotlib\n",
    "%matplotlib inline\n",
    "import GCRCatalogs\n",
    "import numpy as np\n",
    "from astropy.table import Table, vstack\n",
    "from astropy.io import fits\n",
    "from astropy.io import ascii\n",
    "import pandas as pd\n",
    "\n",
    "###clevar\n",
    "import clevar\n",
    "from clevar import ClCatalog\n",
    "from clevar.match import get_matched_pairs\n",
    "from clevar.match import output_matched_catalog"
   ]
  },
  {
   "cell_type": "markdown",
   "id": "9a6f14c3-4d2b-4743-b500-3b503621ad73",
   "metadata": {
    "tags": []
   },
   "source": [
    "### Listing variables names if needed"
   ]
  },
  {
   "cell_type": "code",
   "execution_count": null,
   "id": "6fe4642a-b1fa-4222-9ac2-3a635c8c127c",
   "metadata": {},
   "outputs": [],
   "source": [
    "#print(cat.list_all_quantities())\n",
    "#print(amico_data.colnames)"
   ]
  },
  {
   "cell_type": "code",
   "execution_count": null,
   "id": "3a16cce1-88ea-4dda-ae94-8409b1053061",
   "metadata": {},
   "outputs": [],
   "source": [
    "cat_names = ['9943_map_associations', '9942_map_associations', '9816_map_associations', '9815_map_associations', '9814_map_associations', '9687_map_associations', '9686_map_associations',\n",
    "             '9559_map_associations', '10450_map_associations', '10327_map_associations', '10326_map_associations', '10200_map_associations', '10199_map_associations',\n",
    "             '10198_map_associations', '10072_map_associations', '10071_map_associations']"
   ]
  },
  {
   "cell_type": "code",
   "execution_count": null,
   "id": "a8d6321f-008b-4dcc-a214-d399c25ab11b",
   "metadata": {},
   "outputs": [],
   "source": [
    "tile_names = []\n",
    "for i in range(len(cat_names)):\n",
    "    tile_names.append(cat_names[i].split(\"_\")[0])"
   ]
  },
  {
   "cell_type": "markdown",
   "id": "937c373a-5c25-4e98-99bf-3d6288c0a279",
   "metadata": {},
   "source": [
    "### Loading catalogs and converting them to clevar tables"
   ]
  },
  {
   "cell_type": "code",
   "execution_count": null,
   "id": "26b74fef-0859-4cf0-8543-e0de4f54231c",
   "metadata": {},
   "outputs": [],
   "source": [
    "cat_names = ['9943_map_associations', '9942_map_associations', '9816_map_associations', '9815_map_associations', '9814_map_associations', '9687_map_associations', '9686_map_associations',\n",
    "             '9559_map_associations', '10450_map_associations', '10327_map_associations', '10326_map_associations', '10200_map_associations', '10199_map_associations',\n",
    "             '10198_map_associations', '10072_map_associations', '10071_map_associations']"
   ]
  },
  {
   "cell_type": "code",
   "execution_count": null,
   "id": "2dffe68e-3980-46ec-823f-61696c018d49",
   "metadata": {},
   "outputs": [],
   "source": [
    "cat = GCRCatalogs.load_catalog(\"cosmoDC2_v1.1.4_small\")\n",
    "cosmodc2_data = cat.get_quantities(['ra', 'dec', 'mag_i', 'mag_r', 'mag_z', 'halo_id', 'halo_mass', 'position_x', 'position_y', 'redshift', 'galaxy_id', 'stellar_mass'], \n",
    "                                 filters=['halo_mass>1e13'])"
   ]
  },
  {
   "cell_type": "code",
   "execution_count": null,
   "id": "4430a65d-8af9-4677-8b7c-e24ec3820701",
   "metadata": {},
   "outputs": [
    {
     "data": {
      "text/plain": [
       "\"\\nfor name in cat_names[1:]:\\n    cat_path = '/sps/lsst/groups/clusters/amico_validation_project/catalogs/amico_map_associations/' + name + '.fits'\\n    amico_data1 = Table.read(cat_path)\\n    amico_data = vstack([amico_data, amico_data1])\\n    \""
      ]
     },
     "execution_count": 7,
     "metadata": {},
     "output_type": "execute_result"
    }
   ],
   "source": [
    "#Working with one tile at the moment (with prob cut)\n",
    "amico_data = Table.read('/sps/lsst/groups/clusters/amico_validation_project/catalogs/amico_cats/amico_map_associations_uid/9943_map_associations.fits')\n",
    "#amico_data2 = Table.read('/sps/lsst/groups/clusters/amico_validation_project/catalogs/amico_cats/amico_map_associations_cut/9943_map_associations.fits')\n",
    "\"\"\"\n",
    "for name in cat_names[1:]:\n",
    "    cat_path = '/sps/lsst/groups/clusters/amico_validation_project/catalogs/amico_map_associations/' + name + '.fits'\n",
    "    amico_data1 = Table.read(cat_path)\n",
    "    amico_data = vstack([amico_data, amico_data1])\n",
    "    \"\"\""
   ]
  },
  {
   "cell_type": "code",
   "execution_count": 55,
   "id": "7a295e77-d446-48e6-8967-c6b9c4e41577",
   "metadata": {},
   "outputs": [],
   "source": [
    "\"\"\"cl_list1 = [] #prend une plombe\n",
    "for cl in cosmodc2_data['halo_id']:\n",
    "    if cl not in cl_list1:\n",
    "        cl_list1.append(cl)\"\"\"\n",
    "cl_list1 = np.loadtxt('/pbs/home/n/namourou/test_jupyter/cluster_challenge/notebooks/outfiles_1013/membership_matching/cl_list_cosmodc2.txt')\n",
    "uid_list_am = []\n",
    "for uid in amico_data['uid']:\n",
    "    if uid not in uid_list_am:\n",
    "        uid_list_am.append(uid)\n",
    "#cl_list_am2 = []\n",
    "#for cl2 in amico_data2['halo_id']:\n",
    "#    if cl2 not in cl_list_am2:\n",
    "#        cl_list_am2.append(cl2)\n"
   ]
  },
  {
   "cell_type": "code",
   "execution_count": 56,
   "id": "738a7d34-38b6-4585-b42a-526924cd22b1",
   "metadata": {},
   "outputs": [],
   "source": [
    "c1 = ClCatalog('Cat1', id=list(map(int, cl_list1)), mass =  1e14*np.arange(len(cl_list1))*10)\n",
    "c2 = ClCatalog('Cat2', id=list(map(int, uid_list_am)), mass =  1e14*np.arange(len(uid_list_am))*10)"
   ]
  },
  {
   "cell_type": "code",
   "execution_count": 57,
   "id": "ed5284f1-fe1f-48df-9b84-414f2095da20",
   "metadata": {},
   "outputs": [
    {
     "data": {
      "text/html": [
       "<b>Cat2</b><br></b><b>tags:</b> id(id), mass(mass)<br><b>Radius unit:</b> None<br><div><i>ClData length=642</i>\n",
       "<table id=\"table140378387202000\" class=\"table-striped table-bordered table-condensed\">\n",
       "<thead><tr><th>id</th><th>mass</th><th>mt_self</th><th>mt_other</th><th>mt_multi_self</th><th>mt_multi_other</th></tr></thead>\n",
       "<thead><tr><th>str21</th><th>float64</th><th>object</th><th>object</th><th>object</th><th>object</th></tr></thead>\n",
       "<tr><td>3</td><td>59.768822</td><td>None</td><td>None</td><td>[]</td><td>[]</td></tr>\n",
       "<tr><td>14</td><td>30.979462</td><td>None</td><td>None</td><td>[]</td><td>[]</td></tr>\n",
       "<tr><td>18</td><td>25.938002</td><td>None</td><td>None</td><td>[]</td><td>[]</td></tr>\n",
       "<tr><td>19</td><td>22.818371</td><td>None</td><td>None</td><td>[]</td><td>[]</td></tr>\n",
       "<tr><td>22</td><td>20.396503</td><td>None</td><td>None</td><td>[]</td><td>[]</td></tr>\n",
       "<tr><td>27</td><td>23.655783</td><td>None</td><td>None</td><td>[]</td><td>[]</td></tr>\n",
       "<tr><td>28</td><td>59.101021</td><td>None</td><td>None</td><td>[]</td><td>[]</td></tr>\n",
       "<tr><td>29</td><td>35.639301</td><td>None</td><td>None</td><td>[]</td><td>[]</td></tr>\n",
       "<tr><td>34</td><td>21.288181</td><td>None</td><td>None</td><td>[]</td><td>[]</td></tr>\n",
       "<tr><td>36</td><td>22.176559</td><td>None</td><td>None</td><td>[]</td><td>[]</td></tr>\n",
       "<tr><td>...</td><td>...</td><td>...</td><td>...</td><td>...</td><td>...</td></tr>\n",
       "<tr><td>1710</td><td>10.013184</td><td>None</td><td>None</td><td>[]</td><td>[]</td></tr>\n",
       "<tr><td>1712</td><td>12.076399</td><td>None</td><td>None</td><td>[]</td><td>[]</td></tr>\n",
       "<tr><td>1713</td><td>6.1617055</td><td>None</td><td>None</td><td>[]</td><td>[]</td></tr>\n",
       "<tr><td>1720</td><td>14.436255</td><td>None</td><td>None</td><td>[]</td><td>[]</td></tr>\n",
       "<tr><td>1721</td><td>10.698289</td><td>None</td><td>None</td><td>[]</td><td>[]</td></tr>\n",
       "<tr><td>1724</td><td>12.467728</td><td>None</td><td>None</td><td>[]</td><td>[]</td></tr>\n",
       "<tr><td>1729</td><td>8.2484713</td><td>None</td><td>None</td><td>[]</td><td>[]</td></tr>\n",
       "<tr><td>1733</td><td>7.6869373</td><td>None</td><td>None</td><td>[]</td><td>[]</td></tr>\n",
       "<tr><td>1737</td><td>10.634916</td><td>None</td><td>None</td><td>[]</td><td>[]</td></tr>\n",
       "<tr><td>1738</td><td>12.969349</td><td>None</td><td>None</td><td>[]</td><td>[]</td></tr>\n",
       "</table></div>"
      ],
      "text/plain": [
       "<clevar.catalog.ClCatalog at 0x7fac63d8d720>"
      ]
     },
     "execution_count": 174,
     "metadata": {},
     "output_type": "execute_result"
    }
   ],
   "source": [
    "input1 = Table({'ID' : cosmodc2_data['halo_id'].astype(int), 'MASS' : cosmodc2_data['halo_mass']})"
   ]
  },
  {
   "cell_type": "code",
   "execution_count": 58,
   "id": "a2c21189-b992-4ef7-ac84-a22f0fa207be",
   "metadata": {},
   "outputs": [],
   "source": [
    "input2 = Table({'ID' : amico_data['uid']})\n",
    "input3 = Table({'ID' : amico_data2['halo_id']})\n",
    "#input2['richness'] = 1e14*np.arange(1, 5)*10\n",
    "#display(input1)\n",
    "#display(input2)"
   ]
  },
  {
   "cell_type": "code",
   "execution_count": 59,
   "id": "9489ceba-db1d-4647-8556-ebbcd503b93c",
   "metadata": {},
   "outputs": [],
   "source": [
    "input1_mem = Table({'ID' : cosmodc2_data['galaxy_id'].astype(int), 'ID_CLUSTER' : cosmodc2_data['halo_id'].astype(int)})"
   ]
  },
  {
   "cell_type": "code",
   "execution_count": 60,
   "id": "84d03951-d612-49af-8f23-e0f4ee480f5b",
   "metadata": {},
   "outputs": [],
   "source": [
    "input2_mem = Table({'ID' : amico_data['mb_id'].astype(int), 'ID_CLUSTER' : amico_data['uid'].astype(int)})\n",
    "input3_mem = Table({'ID' : amico_data2['mb_id'].astype(int), 'ID_CLUSTER' : amico_data2['halo_id'].astype(int)})"
   ]
  },
  {
   "cell_type": "code",
   "execution_count": 61,
   "id": "eaf03707-08d9-40cc-b4b2-97f0472b2763",
   "metadata": {},
   "outputs": [],
   "source": [
    "input1_mem['RA'] = cosmodc2_data['ra']\n",
    "#input2_mem['RA'] = np.arange(len(input2_mem))*10.0\n",
    "input1_mem['DEC'] = cosmodc2_data['dec']\n",
    "#input2_mem['DEC'] = 0.0\n",
    "input1_mem['Z'] = cosmodc2_data['redshift']\n",
    "#input2_mem['Z'] = 0.1\n",
    "input1_mem['PMEM'] = 1.0"
   ]
  },
  {
   "cell_type": "code",
   "execution_count": 62,
   "id": "21aa294b-027b-4a39-b1d5-480f5e04accb",
   "metadata": {},
   "outputs": [],
   "source": [
    "input2_mem['PMEM'] = amico_data['prob']\n",
    "input3_mem['PMEM'] = amico_data2['prob']"
   ]
  },
  {
   "cell_type": "code",
   "execution_count": 63,
   "id": "9b4ea23c-5252-4f07-ae2a-9eaafea839bb",
   "metadata": {},
   "outputs": [
    {
     "name": "stderr",
     "output_type": "stream",
     "text": [
      "/sps/lsst/users/namourou/conda_clone_210223/descv1.1/clevar/clevar/catalog.py:1032: UserWarning: Some galaxies were not members of the cluster catalog. They are stored in leftover_members attribute.\n",
      "  warnings.warn(\n"
     ]
    }
   ],
   "source": [
    "c1.add_members(id=input1_mem['ID'].astype(int), id_cluster=input1_mem['ID_CLUSTER'].astype(int),\n",
    "               ra=input1_mem['RA'], dec=input1_mem['DEC']['PMEM')"
   ]
  },
  {
   "cell_type": "code",
   "execution_count": 64,
   "id": "0d3ffb7d-1c96-482c-897e-b8e6f62cf629",
   "metadata": {},
   "outputs": [],
   "source": [
    "c2.add_members(id=input2_mem['ID'], id_cluster=input2_mem['ID_CLUSTER'],\n",
    "               pmem=input2_mem['PMEM'])\n",
    "c3.add_members(id=input3_mem['ID'], id_cluster=input3_mem['ID_CLUSTER'],\n",
    "               pmem=input3_mem['PMEM'])"
   ]
  },
  {
   "cell_type": "code",
   "execution_count": 65,
   "id": "9b789b47-dcfa-408f-9e85-2b9948dec6f7",
   "metadata": {},
   "outputs": [],
   "source": [
    "from clevar.match import MembershipMatch\n",
    "mt = MembershipMatch()"
   ]
  },
  {
   "cell_type": "code",
   "execution_count": 66,
   "id": "dc7446d7-95a0-4e8a-8552-268978e516dd",
   "metadata": {},
   "outputs": [],
   "source": [
    "match_config = {\n",
    "    'type': 'cross', # options are cross, cat1, cat2\n",
    "    'preference': 'shared_member_fraction', # other options are more_massive, angular_proximity or redshift_proximity\n",
    "    'minimum_share_fraction': 0,\n",
    "    'match_members_kwargs': {'method':'id'},\n",
    "}"
   ]
  },
  {
   "cell_type": "code",
   "execution_count": 36,
   "id": "abdd2a0b-54ca-4a4f-8f61-f1a8a5e01fbe",
   "metadata": {},
   "outputs": [],
   "source": [
    "mt.match_from_config(c1, c3, match_config)"
   ]
  },
  {
   "cell_type": "code",
   "execution_count": 67,
   "id": "78b2d529-3003-4312-8cfd-c3c358562dea",
   "metadata": {},
   "outputs": [
    {
     "name": "stdout",
     "output_type": "stream",
     "text": [
      "10,550 members were matched.\n",
      "\n",
      "## Multiple match (catalog 1)\n",
      "Finding candidates (Cat1)\n",
      "* 619/61,725 objects matched.es\n",
      "\n",
      "## Multiple match (catalog 2)\n",
      "Finding candidates (Cat2)\n",
      "* 519/642 objects matched.\n",
      "\n",
      "## Finding unique matches of catalog 1\n",
      "Unique Matches (Cat1)\n",
      "* 442/61,725 objects matched.\n",
      "\n",
      "## Finding unique matches of catalog 2\n",
      "Unique Matches (Cat2)\n",
      "* 436/642 objects matched.\n",
      "Cross Matches (Cat1)\n",
      "* 435/61,725 objects matched.\n",
      "Cross Matches (Cat2)\n",
      "* 435/642 objects matched.\n"
     ]
    }
   ],
   "source": [
    "mt.match_from_config(c1, c2, match_config)"
   ]
  },
  {
   "cell_type": "code",
   "execution_count": 72,
   "id": "8c6f90ff-9f1d-4a13-854d-d498e5130502",
   "metadata": {},
   "outputs": [],
   "source": [
    "large_amico_data = Table.read('/sps/lsst/groups/clusters/amico_validation_project/catalogs/amico_cats/amico_map_associations_uid/' + '9943' + '_map_associations.fits')\n",
    "for name in tile_names[1:]:\n",
    "    amico_data2 = Table.read('/sps/lsst/groups/clusters/amico_validation_project/catalogs/amico_cats/amico_map_associations_uid/' + name + '_map_associations.fits')\n",
    "    large_amico_data = vstack([large_amico_data, amico_data2])"
   ]
  },
  {
   "cell_type": "code",
   "execution_count": 73,
   "id": "4ec3aaa8-222d-4348-8024-1e861fdd1f6d",
   "metadata": {},
   "outputs": [],
   "source": [
    "cl_list_am = []\n",
    "for cl in large_amico_data['uid']:\n",
    "    if cl not in cl_list_am:\n",
    "        cl_list_am.append(cl)"
   ]
  },
  {
   "cell_type": "code",
   "execution_count": 76,
   "id": "7434399e-c0c0-4425-98f1-fca4c39e12b8",
   "metadata": {},
   "outputs": [],
   "source": [
    "#c2 = ClCatalog('Cat2', id=input2['ID'])\n",
    "c2 = ClCatalog('Cat2', id=cl_list_am, mass =  1e14*np.arange(len(cl_list_am))*10)"
   ]
  },
  {
   "cell_type": "code",
   "execution_count": 77,
   "id": "0203458d-6acb-4c43-b372-3fd4d7f5df73",
   "metadata": {},
   "outputs": [],
   "source": [
    "input2_mem = Table({'ID' : large_amico_data['mb_id'], 'ID_CLUSTER' : large_amico_data['uid'], 'PMEM' : large_amico_data['prob']})"
   ]
  },
  {
   "cell_type": "code",
   "execution_count": 78,
   "id": "abb77ef4-3c45-4d16-8cd5-fc272fa9114a",
   "metadata": {},
   "outputs": [],
   "source": [
    "c2.add_members(id=input2_mem['ID'], id_cluster=input2_mem['ID_CLUSTER'],\n",
    "               pmem=input2_mem['PMEM'])"
   ]
  },
  {
   "cell_type": "code",
   "execution_count": 79,
   "id": "261df38e-84df-4d66-97cc-b2a0481e156e",
   "metadata": {},
   "outputs": [],
   "source": [
    "from clevar.match import MembershipMatch\n",
    "mt = MembershipMatch()"
   ]
  },
  {
   "cell_type": "code",
   "execution_count": 80,
   "id": "5c6db4c2-e8c7-40c9-a93a-7e4fca13659f",
   "metadata": {},
   "outputs": [],
   "source": [
    "match_config = {\n",
    "    'type': 'cross', # options are cross, cat1, cat2\n",
    "    'preference': 'shared_member_fraction', # other options are more_massive, angular_proximity or redshift_proximity\n",
    "    'minimum_share_fraction': 0,\n",
    "    'match_members_kwargs': {'method':'id'},\n",
    "}"
   ]
  },
  {
   "cell_type": "code",
   "execution_count": 83,
   "id": "2b75e322-7c22-41c7-95c8-5f72036e7122",
   "metadata": {},
   "outputs": [
    {
     "name": "stdout",
     "output_type": "stream",
     "text": [
      "380,516 members were matched.\n",
      "\n",
      "## Multiple match (catalog 1)\n",
      "Finding candidates (Cat1)\n",
      "* 12,314/61,726 objects matched.s\n",
      "\n",
      "## Multiple match (catalog 2)\n",
      "Finding candidates (Cat2)\n",
      "  23,191(32,735) - 0 candidatess\r"
     ]
    },
    {
     "name": "stderr",
     "output_type": "stream",
     "text": [
      "IOPub data rate exceeded.\n",
      "The notebook server will temporarily stop sending output\n",
      "to the client in order to avoid crashing it.\n",
      "To change this limit, set the config variable\n",
      "`--NotebookApp.iopub_data_rate_limit`.\n",
      "\n",
      "Current values:\n",
      "NotebookApp.iopub_data_rate_limit=1000000.0 (bytes/sec)\n",
      "NotebookApp.rate_limit_window=3.0 (secs)\n",
      "\n"
     ]
    },
    {
     "name": "stdout",
     "output_type": "stream",
     "text": [
      "\n",
      "## Finding unique matches of catalog 1\n",
      "Unique Matches (Cat1)\n",
      "* 10,819/61,726 objects matched.\n",
      "\n",
      "## Finding unique matches of catalog 2\n",
      "Unique Matches (Cat2)\n",
      "* 9,622/32,735 objects matched.\n",
      "Cross Matches (Cat1)\n",
      "* 8,834/61,726 objects matched.\n",
      "Cross Matches (Cat2)\n",
      "* 8,413/32,735 objects matched.\n"
     ]
    }
   ],
   "source": [
    "mt.match_from_config(c1, c2, match_config)"
   ]
  },
  {
   "cell_type": "code",
   "execution_count": 84,
   "id": "0b94dbc7-1bd8-4d7e-a0e5-4fc2d8529323",
   "metadata": {},
   "outputs": [],
   "source": [
    "c1.write('/pbs/home/n/namourou/test_jupyter/cluster_challenge/notebooks/outfiles/membermatching/' + 'c1_new.fits', overwrite=True)\n",
    "c2.write('/pbs/home/n/namourou/test_jupyter/cluster_challenge/notebooks/outfiles/membermatching/' + 'c2_new.fits', overwrite = True)"
   ]
  },
  {
   "cell_type": "code",
   "execution_count": 85,
   "id": "5973dbb4-88aa-48e3-b2aa-8acbbc6cc9ee",
   "metadata": {},
   "outputs": [],
   "source": [
    "mt.save_matches(c1, c2, out_dir='/pbs/home/n/namourou/test_jupyter/cluster_challenge/notebooks/outfiles/membermatching/', overwrite=True)"
   ]
  },
  {
   "cell_type": "code",
   "execution_count": 86,
   "id": "04b1dfc9-2adf-4a0c-920c-1fa9527b9dfc",
   "metadata": {},
   "outputs": [],
   "source": [
    "outpath = '/pbs/home/n/namourou/test_jupyter/cluster_challenge/notebooks/outfiles/membermatching/'"
   ]
  },
  {
   "cell_type": "code",
   "execution_count": 87,
   "id": "b890db8d-f9df-4922-88f3-96cd988fe5e1",
   "metadata": {},
   "outputs": [],
   "source": [
    "output_matched_catalog(outpath + 'c1_new.fits', outpath + 'c2_new.fits',outpath+'output_catalog.fits', c1, c2, matching_type='cross', overwrite=True) # Saves matchings in one file"
   ]
  },
  {
   "cell_type": "code",
   "execution_count": 90,
   "id": "72d62362-a748-4217-b413-8da45babf68f",
   "metadata": {},
   "outputs": [
    {
     "name": "stdout",
     "output_type": "stream",
     "text": [
      "    * ClEvar used in matching: 0.13.8\n",
      "    * ClEvar used in matching: 0.13.8\n"
     ]
    }
   ],
   "source": [
    "cdc = ClCatalog.read_full(outpath + 'c1_new.fits') #cosmoDC2_small matched table\n",
    "cam = ClCatalog.read_full(outpath + 'c2_new.fits') #amico matched table\n",
    "c_merged = ClCatalog.read(outpath +'output_catalog.fits', 'merged', full = True)"
   ]
  }
 ],
 "metadata": {
  "kernelspec": {
   "display_name": "desc",
   "language": "python",
   "name": "desc"
  },
  "language_info": {
   "codemirror_mode": {
    "name": "ipython",
    "version": 3
   },
   "file_extension": ".py",
   "mimetype": "text/x-python",
   "name": "python",
   "nbconvert_exporter": "python",
   "pygments_lexer": "ipython3",
   "version": "3.10.8"
  }
 },
 "nbformat": 4,
 "nbformat_minor": 5
}
