{
 "cells": [
  {
   "cell_type": "markdown",
   "id": "3b0ef301-40eb-4dbf-928a-9d1d72457dee",
   "metadata": {
    "tags": []
   },
   "source": [
    "# Matching amico with cosmoDC2_small"
   ]
  },
  {
   "cell_type": "code",
   "execution_count": 1,
   "id": "f103c5e2-0930-4acb-83ea-a1cd1017e528",
   "metadata": {},
   "outputs": [],
   "source": [
    "import numpy as np\n",
    "import matplotlib.pyplot as plt\n",
    "import matplotlib\n",
    "%matplotlib inline\n",
    "import GCRCatalogs\n",
    "from GCRCatalogs.helpers.tract_catalogs import tract_filter, sample_filter\n",
    "from GCRCatalogs import GCRQuery\n",
    "import numpy as np\n",
    "from matplotlib.patches import Rectangle\n",
    "from astropy.table import Table, vstack\n",
    "from astropy.coordinates import SkyCoord\n",
    "from astropy import units as u\n",
    "from astropy.cosmology import FlatLambdaCDM\n",
    "from astropy.io import fits\n",
    "from astropy.io import ascii\n",
    "\n",
    "import sys\n",
    "import os\n",
    "import shutil\n",
    "import pickle\n",
    "import healpy as hp\n",
    "import h5py\n",
    "import pandas as pd\n",
    "\n",
    "###clevar\n",
    "import clevar\n",
    "from clevar import ClCatalog\n",
    "from clevar.match import ProximityMatch\n",
    "from clevar.match_metrics import scaling\n",
    "from clevar.match_metrics import recovery\n",
    "from clevar.match_metrics import distances\n",
    "from clevar.match import get_matched_pairs\n",
    "from clevar.match import output_matched_catalog\n",
    "from clevar.cosmology import AstroPyCosmology\n",
    "cosmo = AstroPyCosmology()"
   ]
  },
  {
   "cell_type": "markdown",
   "id": "9a6f14c3-4d2b-4743-b500-3b503621ad73",
   "metadata": {},
   "source": [
    "### Listing variables names if needed"
   ]
  },
  {
   "cell_type": "code",
   "execution_count": 2,
   "id": "6fe4642a-b1fa-4222-9ac2-3a635c8c127c",
   "metadata": {},
   "outputs": [],
   "source": [
    "#print(cat.list_all_quantities())\n",
    "#print(amico_data.colnames)"
   ]
  },
  {
   "cell_type": "markdown",
   "id": "937c373a-5c25-4e98-99bf-3d6288c0a279",
   "metadata": {},
   "source": [
    "### Loading catalogs and converting them to clevar tables"
   ]
  },
  {
   "cell_type": "code",
   "execution_count": 3,
   "id": "26b74fef-0859-4cf0-8543-e0de4f54231c",
   "metadata": {},
   "outputs": [],
   "source": [
    "cat_names = ['9943_map_associations', '9942_map_associations', '9816_map_associations', '9815_map_associations', '9814_map_associations', '9687_map_associations', '9686_map_associations',\n",
    "             '9559_map_associations', '10450_map_associations', '10327_map_associations', '10326_map_associations', '10200_map_associations', '10199_map_associations',\n",
    "             '10198_map_associations', '10072_map_associations', '10071_map_associations']"
   ]
  },
  {
   "cell_type": "code",
   "execution_count": 4,
   "id": "2dffe68e-3980-46ec-823f-61696c018d49",
   "metadata": {},
   "outputs": [],
   "source": [
    "cat = GCRCatalogs.load_catalog(\"cosmoDC2_v1.1.4_small\")\n",
    "cosmodc2_data = cat.get_quantities(['ra', 'dec', 'mag_i', 'mag_r', 'mag_z', 'halo_id', 'halo_mass', 'position_x', 'position_y', 'redshift', 'galaxy_id', 'stellar_mass'], \n",
    "                                 filters=['halo_mass>1e13'])"
   ]
  },
  {
   "cell_type": "code",
   "execution_count": 5,
   "id": "4430a65d-8af9-4677-8b7c-e24ec3820701",
   "metadata": {},
   "outputs": [
    {
     "data": {
      "text/plain": [
       "\"\\nfor name in cat_names[1:]:\\n    cat_path = '/sps/lsst/groups/clusters/amico_validation_project/catalogs/amico_map_associations/' + name + '.fits'\\n    amico_data1 = Table.read(cat_path)\\n    amico_data = vstack([amico_data, amico_data1])\\n    \""
      ]
     },
     "execution_count": 5,
     "metadata": {},
     "output_type": "execute_result"
    }
   ],
   "source": [
    "#Working with one tile at the moment (with prob cut)\n",
    "amico_data = Table.read('/sps/lsst/groups/clusters/amico_validation_project/catalogs/amico_cats/amico_map_associations_cut/9943_map_associations.fits')\n",
    "\"\"\"\n",
    "for name in cat_names[1:]:\n",
    "    cat_path = '/sps/lsst/groups/clusters/amico_validation_project/catalogs/amico_map_associations/' + name + '.fits'\n",
    "    amico_data1 = Table.read(cat_path)\n",
    "    amico_data = vstack([amico_data, amico_data1])\n",
    "    \"\"\""
   ]
  },
  {
   "cell_type": "code",
   "execution_count": 6,
   "id": "0a81cb6a-982e-452f-8af7-35f1d1c0a0ef",
   "metadata": {},
   "outputs": [],
   "source": [
    "df = pd.DataFrame(cosmodc2_data)\n",
    "t = Table.from_pandas(df)\n",
    "t['PMEM'] = 1.0"
   ]
  },
  {
   "cell_type": "code",
   "execution_count": 9,
   "id": "7a295e77-d446-48e6-8967-c6b9c4e41577",
   "metadata": {},
   "outputs": [],
   "source": [
    "\"\"\"cl_list1 = [] #prend une plombe\n",
    "for cl in cosmodc2_data['halo_id']:\n",
    "    if cl not in cl_list1:\n",
    "        cl_list1.append(cl)\"\"\"\n",
    "cl_list1=\n",
    "cl_list_am = []\n",
    "for cl in amico_data['halo_id']:\n",
    "    if cl not in cl_list_am:\n",
    "        cl_list_am.append(cl)"
   ]
  },
  {
   "cell_type": "code",
   "execution_count": 10,
   "id": "4fade1f7-2c2e-45e0-85a8-0f37dbeeaf5c",
   "metadata": {},
   "outputs": [
    {
     "data": {
      "text/html": [
       "<div>\n",
       "<style scoped>\n",
       "    .dataframe tbody tr th:only-of-type {\n",
       "        vertical-align: middle;\n",
       "    }\n",
       "\n",
       "    .dataframe tbody tr th {\n",
       "        vertical-align: top;\n",
       "    }\n",
       "\n",
       "    .dataframe thead th {\n",
       "        text-align: right;\n",
       "    }\n",
       "</style>\n",
       "<table border=\"1\" class=\"dataframe\">\n",
       "  <thead>\n",
       "    <tr style=\"text-align: right;\">\n",
       "      <th></th>\n",
       "      <th>mag_z</th>\n",
       "      <th>halo_id</th>\n",
       "      <th>ra</th>\n",
       "      <th>position_y</th>\n",
       "      <th>mag_i</th>\n",
       "      <th>dec</th>\n",
       "      <th>position_x</th>\n",
       "      <th>halo_mass</th>\n",
       "      <th>galaxy_id</th>\n",
       "      <th>redshift</th>\n",
       "      <th>stellar_mass</th>\n",
       "      <th>mag_r</th>\n",
       "    </tr>\n",
       "  </thead>\n",
       "  <tbody>\n",
       "    <tr>\n",
       "      <th>0</th>\n",
       "      <td>13.539910</td>\n",
       "      <td>400155487</td>\n",
       "      <td>61.869596</td>\n",
       "      <td>59.043094</td>\n",
       "      <td>13.786592</td>\n",
       "      <td>-40.907121</td>\n",
       "      <td>31.566351</td>\n",
       "      <td>1.206931e+13</td>\n",
       "      <td>9687500004</td>\n",
       "      <td>0.021334</td>\n",
       "      <td>2.895573e+10</td>\n",
       "      <td>14.139737</td>\n",
       "    </tr>\n",
       "    <tr>\n",
       "      <th>1</th>\n",
       "      <td>18.084181</td>\n",
       "      <td>400155487</td>\n",
       "      <td>61.492010</td>\n",
       "      <td>59.108987</td>\n",
       "      <td>18.146593</td>\n",
       "      <td>-40.825924</td>\n",
       "      <td>32.104234</td>\n",
       "      <td>1.206931e+13</td>\n",
       "      <td>9687500005</td>\n",
       "      <td>0.021199</td>\n",
       "      <td>8.532111e+07</td>\n",
       "      <td>18.339073</td>\n",
       "    </tr>\n",
       "    <tr>\n",
       "      <th>2</th>\n",
       "      <td>19.363020</td>\n",
       "      <td>400155487</td>\n",
       "      <td>61.752070</td>\n",
       "      <td>58.961170</td>\n",
       "      <td>19.467945</td>\n",
       "      <td>-40.920467</td>\n",
       "      <td>31.678235</td>\n",
       "      <td>1.206931e+13</td>\n",
       "      <td>9687500006</td>\n",
       "      <td>0.018951</td>\n",
       "      <td>1.594001e+07</td>\n",
       "      <td>19.705341</td>\n",
       "    </tr>\n",
       "    <tr>\n",
       "      <th>3</th>\n",
       "      <td>16.981228</td>\n",
       "      <td>37900155453</td>\n",
       "      <td>61.295573</td>\n",
       "      <td>262.861891</td>\n",
       "      <td>17.154396</td>\n",
       "      <td>-39.805744</td>\n",
       "      <td>143.937318</td>\n",
       "      <td>1.088756e+13</td>\n",
       "      <td>9687502264</td>\n",
       "      <td>0.093952</td>\n",
       "      <td>3.192002e+10</td>\n",
       "      <td>17.389940</td>\n",
       "    </tr>\n",
       "    <tr>\n",
       "      <th>4</th>\n",
       "      <td>17.133435</td>\n",
       "      <td>37900155453</td>\n",
       "      <td>61.333870</td>\n",
       "      <td>262.820284</td>\n",
       "      <td>17.412081</td>\n",
       "      <td>-39.767964</td>\n",
       "      <td>143.686214</td>\n",
       "      <td>1.088756e+13</td>\n",
       "      <td>9687502265</td>\n",
       "      <td>0.093871</td>\n",
       "      <td>1.453933e+10</td>\n",
       "      <td>17.827424</td>\n",
       "    </tr>\n",
       "    <tr>\n",
       "      <th>...</th>\n",
       "      <td>...</td>\n",
       "      <td>...</td>\n",
       "      <td>...</td>\n",
       "      <td>...</td>\n",
       "      <td>...</td>\n",
       "      <td>...</td>\n",
       "      <td>...</td>\n",
       "      <td>...</td>\n",
       "      <td>...</td>\n",
       "      <td>...</td>\n",
       "      <td>...</td>\n",
       "      <td>...</td>\n",
       "    </tr>\n",
       "    <tr>\n",
       "      <th>1473990</th>\n",
       "      <td>26.774077</td>\n",
       "      <td>5190600143121</td>\n",
       "      <td>66.256770</td>\n",
       "      <td>4672.383655</td>\n",
       "      <td>26.677437</td>\n",
       "      <td>-37.988422</td>\n",
       "      <td>2054.579335</td>\n",
       "      <td>1.010667e+13</td>\n",
       "      <td>8957667740</td>\n",
       "      <td>2.975574</td>\n",
       "      <td>5.157681e+09</td>\n",
       "      <td>26.795075</td>\n",
       "    </tr>\n",
       "    <tr>\n",
       "      <th>1473991</th>\n",
       "      <td>27.895207</td>\n",
       "      <td>5190600143121</td>\n",
       "      <td>66.261410</td>\n",
       "      <td>4672.693731</td>\n",
       "      <td>27.878808</td>\n",
       "      <td>-37.988200</td>\n",
       "      <td>2054.250927</td>\n",
       "      <td>1.010667e+13</td>\n",
       "      <td>8957667741</td>\n",
       "      <td>2.975205</td>\n",
       "      <td>1.181235e+09</td>\n",
       "      <td>28.078031</td>\n",
       "    </tr>\n",
       "    <tr>\n",
       "      <th>1473992</th>\n",
       "      <td>29.051867</td>\n",
       "      <td>5190600143121</td>\n",
       "      <td>66.255419</td>\n",
       "      <td>4672.688487</td>\n",
       "      <td>28.944876</td>\n",
       "      <td>-37.987865</td>\n",
       "      <td>2054.847524</td>\n",
       "      <td>1.010667e+13</td>\n",
       "      <td>8957667742</td>\n",
       "      <td>2.968018</td>\n",
       "      <td>1.922638e+08</td>\n",
       "      <td>29.128212</td>\n",
       "    </tr>\n",
       "    <tr>\n",
       "      <th>1473993</th>\n",
       "      <td>30.765063</td>\n",
       "      <td>5190600143121</td>\n",
       "      <td>66.259986</td>\n",
       "      <td>4672.561001</td>\n",
       "      <td>30.540511</td>\n",
       "      <td>-37.986501</td>\n",
       "      <td>2054.331497</td>\n",
       "      <td>1.010667e+13</td>\n",
       "      <td>8957667743</td>\n",
       "      <td>2.973167</td>\n",
       "      <td>1.228420e+07</td>\n",
       "      <td>30.541743</td>\n",
       "    </tr>\n",
       "    <tr>\n",
       "      <th>1473994</th>\n",
       "      <td>30.241233</td>\n",
       "      <td>5190600143121</td>\n",
       "      <td>66.254193</td>\n",
       "      <td>4672.821174</td>\n",
       "      <td>30.349540</td>\n",
       "      <td>-37.988420</td>\n",
       "      <td>2055.029576</td>\n",
       "      <td>1.010667e+13</td>\n",
       "      <td>8957667744</td>\n",
       "      <td>2.975836</td>\n",
       "      <td>1.284014e+07</td>\n",
       "      <td>30.661006</td>\n",
       "    </tr>\n",
       "  </tbody>\n",
       "</table>\n",
       "<p>1473995 rows × 12 columns</p>\n",
       "</div>"
      ],
      "text/plain": [
       "             mag_z        halo_id         ra   position_y      mag_i  \\\n",
       "0        13.539910      400155487  61.869596    59.043094  13.786592   \n",
       "1        18.084181      400155487  61.492010    59.108987  18.146593   \n",
       "2        19.363020      400155487  61.752070    58.961170  19.467945   \n",
       "3        16.981228    37900155453  61.295573   262.861891  17.154396   \n",
       "4        17.133435    37900155453  61.333870   262.820284  17.412081   \n",
       "...            ...            ...        ...          ...        ...   \n",
       "1473990  26.774077  5190600143121  66.256770  4672.383655  26.677437   \n",
       "1473991  27.895207  5190600143121  66.261410  4672.693731  27.878808   \n",
       "1473992  29.051867  5190600143121  66.255419  4672.688487  28.944876   \n",
       "1473993  30.765063  5190600143121  66.259986  4672.561001  30.540511   \n",
       "1473994  30.241233  5190600143121  66.254193  4672.821174  30.349540   \n",
       "\n",
       "               dec   position_x     halo_mass   galaxy_id  redshift  \\\n",
       "0       -40.907121    31.566351  1.206931e+13  9687500004  0.021334   \n",
       "1       -40.825924    32.104234  1.206931e+13  9687500005  0.021199   \n",
       "2       -40.920467    31.678235  1.206931e+13  9687500006  0.018951   \n",
       "3       -39.805744   143.937318  1.088756e+13  9687502264  0.093952   \n",
       "4       -39.767964   143.686214  1.088756e+13  9687502265  0.093871   \n",
       "...            ...          ...           ...         ...       ...   \n",
       "1473990 -37.988422  2054.579335  1.010667e+13  8957667740  2.975574   \n",
       "1473991 -37.988200  2054.250927  1.010667e+13  8957667741  2.975205   \n",
       "1473992 -37.987865  2054.847524  1.010667e+13  8957667742  2.968018   \n",
       "1473993 -37.986501  2054.331497  1.010667e+13  8957667743  2.973167   \n",
       "1473994 -37.988420  2055.029576  1.010667e+13  8957667744  2.975836   \n",
       "\n",
       "         stellar_mass      mag_r  \n",
       "0        2.895573e+10  14.139737  \n",
       "1        8.532111e+07  18.339073  \n",
       "2        1.594001e+07  19.705341  \n",
       "3        3.192002e+10  17.389940  \n",
       "4        1.453933e+10  17.827424  \n",
       "...               ...        ...  \n",
       "1473990  5.157681e+09  26.795075  \n",
       "1473991  1.181235e+09  28.078031  \n",
       "1473992  1.922638e+08  29.128212  \n",
       "1473993  1.228420e+07  30.541743  \n",
       "1473994  1.284014e+07  30.661006  \n",
       "\n",
       "[1473995 rows x 12 columns]"
      ]
     },
     "execution_count": 10,
     "metadata": {},
     "output_type": "execute_result"
    }
   ],
   "source": [
    "df"
   ]
  },
  {
   "cell_type": "markdown",
   "id": "e2ae8932-f818-4909-93d8-6c5964a0ebca",
   "metadata": {},
   "source": [
    "### Attempt to do things properly"
   ]
  },
  {
   "cell_type": "code",
   "execution_count": 30,
   "id": "6b2a003a-10b4-4d60-915d-2cd269396cb2",
   "metadata": {},
   "outputs": [
    {
     "data": {
      "text/html": [
       "<b>members</b><br><b>tags:</b> id(id), id_cluster(id_cluster), ra(ra), dec(dec), pmem(pmem)<br><div><i>ClData length=1473995</i>\n",
       "<table id=\"table139981292768656\" class=\"table-striped table-bordered table-condensed\">\n",
       "<thead><tr><th>id</th><th>id_cluster</th><th>ra</th><th>dec</th><th>ind_cl</th><th>match</th><th>pmem</th></tr></thead>\n",
       "<thead><tr><th>str21</th><th>str21</th><th>float64</th><th>float64</th><th>int64</th><th>object</th><th>float64</th></tr></thead>\n",
       "<tr><td>9687500004</td><td>400155487</td><td>61.869596337556686</td><td>-40.90712062111757</td><td>0</td><td>[]</td><td>1.0</td></tr>\n",
       "<tr><td>9687500005</td><td>400155487</td><td>61.49201043033873</td><td>-40.825923782025</td><td>0</td><td>[]</td><td>1.0</td></tr>\n",
       "<tr><td>9687500006</td><td>400155487</td><td>61.752069643381446</td><td>-40.92046711520129</td><td>0</td><td>[]</td><td>1.0</td></tr>\n",
       "<tr><td>9687502264</td><td>37900155453</td><td>61.295572557486395</td><td>-39.80574428988245</td><td>1</td><td>[]</td><td>1.0</td></tr>\n",
       "<tr><td>9687502265</td><td>37900155453</td><td>61.333870100549795</td><td>-39.76796351163807</td><td>1</td><td>[]</td><td>1.0</td></tr>\n",
       "<tr><td>9687502266</td><td>37900155453</td><td>61.30112057904649</td><td>-39.77210984692316</td><td>1</td><td>[]</td><td>1.0</td></tr>\n",
       "<tr><td>9687502267</td><td>37900155453</td><td>61.30703551395186</td><td>-39.77771327166441</td><td>1</td><td>[]</td><td>1.0</td></tr>\n",
       "<tr><td>9687502268</td><td>37900155453</td><td>61.3099571986797</td><td>-39.74196274224435</td><td>1</td><td>[]</td><td>1.0</td></tr>\n",
       "<tr><td>9687502269</td><td>37900155453</td><td>61.31394110141341</td><td>-39.77270859800393</td><td>1</td><td>[]</td><td>1.0</td></tr>\n",
       "<tr><td>9687502270</td><td>37900155453</td><td>61.309789177802664</td><td>-39.80408880007621</td><td>1</td><td>[]</td><td>1.0</td></tr>\n",
       "<tr><td>...</td><td>...</td><td>...</td><td>...</td><td>...</td><td>...</td><td>...</td></tr>\n",
       "<tr><td>8957667735</td><td>5190600143121</td><td>66.2565488621445</td><td>-37.986307820589325</td><td>61725</td><td>[]</td><td>1.0</td></tr>\n",
       "<tr><td>8957667736</td><td>5190600143121</td><td>66.25853124323918</td><td>-37.98792082422343</td><td>61725</td><td>[]</td><td>1.0</td></tr>\n",
       "<tr><td>8957667737</td><td>5190600143121</td><td>66.26073376559236</td><td>-37.98838638654553</td><td>61725</td><td>[]</td><td>1.0</td></tr>\n",
       "<tr><td>8957667738</td><td>5190600143121</td><td>66.25883534701792</td><td>-37.99044883501686</td><td>61725</td><td>[]</td><td>1.0</td></tr>\n",
       "<tr><td>8957667739</td><td>5190600143121</td><td>66.26160757338543</td><td>-37.98596771822307</td><td>61725</td><td>[]</td><td>1.0</td></tr>\n",
       "<tr><td>8957667740</td><td>5190600143121</td><td>66.25676991707701</td><td>-37.98842179156485</td><td>61725</td><td>[]</td><td>1.0</td></tr>\n",
       "<tr><td>8957667741</td><td>5190600143121</td><td>66.26141028752625</td><td>-37.9882002500993</td><td>61725</td><td>[]</td><td>1.0</td></tr>\n",
       "<tr><td>8957667742</td><td>5190600143121</td><td>66.2554188714504</td><td>-37.98786537982444</td><td>61725</td><td>[]</td><td>1.0</td></tr>\n",
       "<tr><td>8957667743</td><td>5190600143121</td><td>66.25998640809715</td><td>-37.98650098698962</td><td>61725</td><td>[]</td><td>1.0</td></tr>\n",
       "<tr><td>8957667744</td><td>5190600143121</td><td>66.2541930579197</td><td>-37.98841950054195</td><td>61725</td><td>[]</td><td>1.0</td></tr>\n",
       "</table></div>"
      ],
      "text/plain": [
       "<clevar.catalog.MemCatalog at 0x7f4fee22e590>"
      ]
     },
     "execution_count": 30,
     "metadata": {},
     "output_type": "execute_result"
    }
   ],
   "source": [
    "c1.members"
   ]
  },
  {
   "cell_type": "code",
   "execution_count": 11,
   "id": "ed5284f1-fe1f-48df-9b84-414f2095da20",
   "metadata": {},
   "outputs": [],
   "source": [
    "input1 = Table({'ID' : cosmodc2_data['halo_id']})"
   ]
  },
  {
   "cell_type": "code",
   "execution_count": 12,
   "id": "d2c08b29-cbf1-4d9e-bd6f-4332bcf4c23c",
   "metadata": {},
   "outputs": [],
   "source": [
    "input1['MASS'] = cosmodc2_data['halo_mass']"
   ]
  },
  {
   "cell_type": "code",
   "execution_count": 13,
   "id": "a2c21189-b992-4ef7-ac84-a22f0fa207be",
   "metadata": {},
   "outputs": [],
   "source": [
    "input2 = Table({'ID' : amico_data['halo_id']})\n",
    "#input2['richness'] = 1e14*np.arange(1, 5)*10\n",
    "#display(input1)\n",
    "#display(input2)"
   ]
  },
  {
   "cell_type": "code",
   "execution_count": 14,
   "id": "9489ceba-db1d-4647-8556-ebbcd503b93c",
   "metadata": {},
   "outputs": [],
   "source": [
    "input1_mem = Table({'ID' : cosmodc2_data['galaxy_id'], 'ID_CLUSTER' : cosmodc2_data['halo_id']})"
   ]
  },
  {
   "cell_type": "code",
   "execution_count": 15,
   "id": "84d03951-d612-49af-8f23-e0f4ee480f5b",
   "metadata": {},
   "outputs": [],
   "source": [
    "input2_mem = Table({'ID' : amico_data['mb_id'], 'ID_CLUSTER' : amico_data['halo_id']})"
   ]
  },
  {
   "cell_type": "code",
   "execution_count": 16,
   "id": "eaf03707-08d9-40cc-b4b2-97f0472b2763",
   "metadata": {},
   "outputs": [],
   "source": [
    "input1_mem['RA'] = cosmodc2_data['ra']\n",
    "#input2_mem['RA'] = np.arange(len(input2_mem))*10.0\n",
    "input1_mem['DEC'] = cosmodc2_data['dec']\n",
    "#input2_mem['DEC'] = 0.0\n",
    "input1_mem['Z'] = cosmodc2_data['redshift']\n",
    "#input2_mem['Z'] = 0.1\n",
    "#input1_mem['PMEM'] = 1.0\n",
    "input2_mem['PMEM'] = amico_data['prob']"
   ]
  },
  {
   "cell_type": "code",
   "execution_count": 17,
   "id": "df81511c-c9b6-4acd-b080-1785e94859cc",
   "metadata": {},
   "outputs": [],
   "source": [
    "# prend pas longtemps\n",
    "c1 = ClCatalog('Cat1', id=cl_list1, mass =  1e14*np.arange(len(cl_list1))*10)"
   ]
  },
  {
   "cell_type": "code",
   "execution_count": 18,
   "id": "4f39bcd4-7c98-4e58-92f1-42b642078517",
   "metadata": {},
   "outputs": [],
   "source": [
    "# c1 = ClCatalog('Cat1', id=input1['ID'], mass=input1['MASS']) prend une paie"
   ]
  },
  {
   "cell_type": "code",
   "execution_count": 19,
   "id": "12bd5de9-5b55-4156-85b5-adea7adc5988",
   "metadata": {},
   "outputs": [
    {
     "data": {
      "text/plain": [
       "0.9581233314902696"
      ]
     },
     "execution_count": 19,
     "metadata": {},
     "output_type": "execute_result"
    }
   ],
   "source": [
    "(len(input1_mem['ID']) - len(cl_list1) )/len(input1_mem['ID'])"
   ]
  },
  {
   "cell_type": "code",
   "execution_count": 20,
   "id": "6011d982-3973-45ef-9db7-28d6471e1a5f",
   "metadata": {},
   "outputs": [],
   "source": [
    "#c2 = ClCatalog('Cat2', id=input2['ID'])\n",
    "c2 = ClCatalog('Cat2', id=cl_list_am, mass =  1e14*np.arange(len(cl_list_am))*10)"
   ]
  },
  {
   "cell_type": "code",
   "execution_count": 21,
   "id": "0d3ffb7d-1c96-482c-897e-b8e6f62cf629",
   "metadata": {},
   "outputs": [],
   "source": [
    "c1.add_members(id=input1_mem['ID'], id_cluster=input1_mem['ID_CLUSTER'],\n",
    "               ra=input1_mem['RA'], dec=input1_mem['DEC'])\n",
    "c2.add_members(id=input2_mem['ID'], id_cluster=input2_mem['ID_CLUSTER'],\n",
    "               pmem=input2_mem['PMEM'])"
   ]
  },
  {
   "cell_type": "code",
   "execution_count": 22,
   "id": "6a1b4da3-1df5-4e60-9272-39d81a7c256a",
   "metadata": {},
   "outputs": [
    {
     "data": {
      "text/html": [
       "<b>members</b><br><b>tags:</b> id(id), id_cluster(id_cluster), pmem(pmem)<br><div><i>ClData length=108081</i>\n",
       "<table id=\"table139983518535488\" class=\"table-striped table-bordered table-condensed\">\n",
       "<thead><tr><th>id</th><th>id_cluster</th><th>pmem</th><th>ind_cl</th></tr></thead>\n",
       "<thead><tr><th>str21</th><th>str21</th><th>float64</th><th>int64</th></tr></thead>\n",
       "<tr><td>10568561937</td><td>693</td><td>0.31634149</td><td>0</td></tr>\n",
       "<tr><td>10568521779</td><td>1184</td><td>0.45186448</td><td>1</td></tr>\n",
       "<tr><td>10567099014</td><td>284</td><td>0.36728185</td><td>2</td></tr>\n",
       "<tr><td>10566979056</td><td>693</td><td>0.40955049</td><td>0</td></tr>\n",
       "<tr><td>10566574475</td><td>693</td><td>0.47316113</td><td>0</td></tr>\n",
       "<tr><td>10566572071</td><td>284</td><td>0.55742949</td><td>2</td></tr>\n",
       "<tr><td>10566559414</td><td>693</td><td>0.32782</td><td>0</td></tr>\n",
       "<tr><td>10566559041</td><td>284</td><td>0.48261756</td><td>2</td></tr>\n",
       "<tr><td>10566556666</td><td>693</td><td>0.43083617</td><td>0</td></tr>\n",
       "<tr><td>10566550279</td><td>693</td><td>0.30759963</td><td>0</td></tr>\n",
       "<tr><td>...</td><td>...</td><td>...</td><td>...</td></tr>\n",
       "<tr><td>7062540870</td><td>282</td><td>0.47886884</td><td>1196</td></tr>\n",
       "<tr><td>7062538632</td><td>375</td><td>0.48627752</td><td>1479</td></tr>\n",
       "<tr><td>7062535641</td><td>375</td><td>0.47334069</td><td>1479</td></tr>\n",
       "<tr><td>7062528163</td><td>1269</td><td>0.34457514</td><td>1195</td></tr>\n",
       "<tr><td>7062526587</td><td>228</td><td>0.56857055</td><td>1474</td></tr>\n",
       "<tr><td>7062525490</td><td>1269</td><td>0.40610883</td><td>1195</td></tr>\n",
       "<tr><td>7062518486</td><td>730</td><td>0.47263345</td><td>1466</td></tr>\n",
       "<tr><td>7062515111</td><td>730</td><td>0.36662129</td><td>1466</td></tr>\n",
       "<tr><td>7062508465</td><td>165</td><td>0.35450655</td><td>1424</td></tr>\n",
       "<tr><td>7062501186</td><td>1269</td><td>0.4624806</td><td>1195</td></tr>\n",
       "</table></div>"
      ],
      "text/plain": [
       "<clevar.catalog.MemCatalog at 0x7f4fee22cd60>"
      ]
     },
     "execution_count": 22,
     "metadata": {},
     "output_type": "execute_result"
    }
   ],
   "source": [
    "c2.members"
   ]
  },
  {
   "cell_type": "code",
   "execution_count": 24,
   "id": "9b789b47-dcfa-408f-9e85-2b9948dec6f7",
   "metadata": {},
   "outputs": [],
   "source": [
    "from clevar.match import MembershipMatch\n",
    "mt = MembershipMatch()"
   ]
  },
  {
   "cell_type": "code",
   "execution_count": 25,
   "id": "dc7446d7-95a0-4e8a-8552-268978e516dd",
   "metadata": {},
   "outputs": [],
   "source": [
    "match_config = {\n",
    "    'type': 'cross', # options are cross, cat1, cat2\n",
    "    'preference': 'shared_member_fraction', # other options are more_massive, angular_proximity or redshift_proximity\n",
    "    'minimum_share_fraction': 0,\n",
    "    'match_members_kwargs': {'method':'id'},\n",
    "}"
   ]
  },
  {
   "cell_type": "code",
   "execution_count": 26,
   "id": "abdd2a0b-54ca-4a4f-8f61-f1a8a5e01fbe",
   "metadata": {},
   "outputs": [
    {
     "name": "stdout",
     "output_type": "stream",
     "text": [
      "48,220 members were matched.\n",
      "\n",
      "## Multiple match (catalog 1)\n",
      "Finding candidates (Cat1)\n",
      "* 2,437/61,726 objects matched.\n",
      "\n",
      "## Multiple match (catalog 2)\n",
      "Finding candidates (Cat2)\n",
      "* 1,593/1,738 objects matched.\n",
      "\n",
      "## Finding unique matches of catalog 1\n",
      "Unique Matches (Cat1)\n",
      "* 1,437/61,726 objects matched.\n",
      "\n",
      "## Finding unique matches of catalog 2\n",
      "Unique Matches (Cat2)\n",
      "* 1,408/1,738 objects matched.\n",
      "Cross Matches (Cat1)\n",
      "* 1,403/61,726 objects matched.\n",
      "Cross Matches (Cat2)\n",
      "* 1,403/1,738 objects matched.\n"
     ]
    }
   ],
   "source": [
    "mt.match_from_config(c1, c2, match_config)"
   ]
  },
  {
   "cell_type": "code",
   "execution_count": 141,
   "id": "7a3b4490-04de-4022-8daa-dadf45e36aa7",
   "metadata": {},
   "outputs": [],
   "source": [
    "c1.write('/pbs/home/n/namourou/test_jupyter/cluster_challenge/notebooks/outfiles/membermatching/' + 'c1_new.fits', overwrite=True)\n",
    "c2.write('/pbs/home/n/namourou/test_jupyter/cluster_challenge/notebooks/outfiles/membermatching/' + 'c2_new.fits', overwrite = True)"
   ]
  },
  {
   "cell_type": "code",
   "execution_count": 142,
   "id": "112a7662-17ed-4a93-ad31-99e3a1ca8bea",
   "metadata": {},
   "outputs": [],
   "source": [
    "mt.save_matches(c1, c2, out_dir='/pbs/home/n/namourou/test_jupyter/cluster_challenge/notebooks/outfiles/membermatching/', overwrite=True)"
   ]
  },
  {
   "cell_type": "code",
   "execution_count": 143,
   "id": "6b6b3496-342b-4217-9d1d-f4675dd59285",
   "metadata": {},
   "outputs": [],
   "source": [
    "outpath = '/pbs/home/n/namourou/test_jupyter/cluster_challenge/notebooks/outfiles/membermatching/'"
   ]
  },
  {
   "cell_type": "code",
   "execution_count": 144,
   "id": "6c59f698-0a82-4fd0-a448-10e0cd17ee51",
   "metadata": {},
   "outputs": [],
   "source": [
    "output_matched_catalog(outpath + 'c1_new.fits', outpath + 'c2_new.fits',outpath+'output_catalog.fits', c1, c2, matching_type='cross', overwrite=True) # Saves matchings in one file"
   ]
  },
  {
   "cell_type": "code",
   "execution_count": 147,
   "id": "8ec48739-de5c-4f30-a8d7-1ab39cff9319",
   "metadata": {},
   "outputs": [
    {
     "name": "stderr",
     "output_type": "stream",
     "text": [
      "/sps/lsst/users/namourou/conda_clone_210223/descv1.1/clevar/clevar/catalog.py:267: UserWarning: id column missing, additional one is being created.\n",
      "  warnings.warn(\n"
     ]
    }
   ],
   "source": [
    "c_merged = ClCatalog.read(outpath +'output_catalog.fits', 'merged', full = True)"
   ]
  },
  {
   "cell_type": "code",
   "execution_count": 148,
   "id": "5d916ee1-769f-49d9-82ea-1603a65111fe",
   "metadata": {},
   "outputs": [
    {
     "data": {
      "text/html": [
       "<b>merged</b><br></b><b>tags:</b> id(id)<br><b>Radius unit:</b> None<br><div><i>ClData length=1403</i>\n",
       "<table id=\"table140206818870224\" class=\"table-striped table-bordered table-condensed\">\n",
       "<thead><tr><th>id</th><th>cat1_id</th><th>cat1_mass</th><th>cat1_mt_self</th><th>cat1_mt_other</th><th>cat1_mt_multi_self</th><th>cat1_mt_multi_other</th><th>cat1_mt_frac_self</th><th>cat1_mt_frac_other</th><th>cat1_mt_cross</th><th>cat1_mt_frac</th><th>cat2_id</th><th>cat2_mass</th><th>cat2_mt_self</th><th>cat2_mt_other</th><th>cat2_mt_multi_self</th><th>cat2_mt_multi_other</th><th>cat2_mt_frac_other</th><th>cat2_mt_frac_self</th><th>cat2_mt_cross</th><th>cat2_mt_frac</th><th>mt_self</th><th>mt_other</th><th>mt_multi_self</th><th>mt_multi_other</th></tr></thead>\n",
       "<thead><tr><th>str4</th><th>bytes21</th><th>float64</th><th>bytes4</th><th>bytes4</th><th>bytes35</th><th>bytes35</th><th>float64</th><th>float64</th><th>bytes4</th><th>float64</th><th>bytes21</th><th>float64</th><th>bytes13</th><th>bytes13</th><th>bytes175</th><th>bytes175</th><th>float64</th><th>float64</th><th>bytes13</th><th>float64</th><th>object</th><th>object</th><th>object</th><th>object</th></tr></thead>\n",
       "<tr><td>0</td><td>4700156411</td><td>1.295e+18</td><td>78</td><td>78</td><td>1260,293,78</td><td>1260,293,78</td><td>0.38271604938271603</td><td>0.5970461022424206</td><td>78</td><td>0.38271604938271603</td><td>78</td><td>5.28e+17</td><td>4700156411</td><td>4700156411</td><td>679600156355,233900156355,171700156355,742000156355,4700156411</td><td>679600156355,233900156355,171700156355,742000156355,4700156411</td><td>0.38271604938271603</td><td>0.5970461022424206</td><td>4700156411</td><td>0.5970461022424206</td><td>None</td><td>None</td><td>[]</td><td>[]</td></tr>\n",
       "<tr><td>1</td><td>66500156411</td><td>1.303e+18</td><td>355</td><td>355</td><td>1324,355</td><td>1324,355</td><td>0.4520547945205479</td><td>0.45830210011937095</td><td>355</td><td>0.4520547945205479</td><td>355</td><td>5.33e+17</td><td>66500156411</td><td>66500156411</td><td>66500156411</td><td>66500156411</td><td>0.4520547945205479</td><td>0.45830210011937095</td><td>66500156411</td><td>0.45830210011937095</td><td>None</td><td>None</td><td>[]</td><td>[]</td></tr>\n",
       "<tr><td>2</td><td>187000156411</td><td>1.313e+18</td><td>142</td><td>142</td><td>1115,142,47</td><td>142,47,1115</td><td>0.43243243243243246</td><td>0.26381140648077495</td><td>142</td><td>0.43243243243243246</td><td>142</td><td>5.18e+17</td><td>187000156411</td><td>187000156411</td><td>153400156382,202900156411,84100156401,187000156411,1049400156323,353000156355,7800156401</td><td>153400156382,202900156411,84100156401,187000156411,1049400156323,353000156355,7800156401</td><td>0.43243243243243246</td><td>0.26381140648077495</td><td>187000156411</td><td>0.26381140648077495</td><td>None</td><td>None</td><td>[]</td><td>[]</td></tr>\n",
       "<tr><td>3</td><td>202900156411</td><td>1.316e+18</td><td>1115</td><td>1115</td><td>1115,142,47</td><td>142,47,1115</td><td>0.25</td><td>0.040672782772543326</td><td>1115</td><td>0.25</td><td>1115</td><td>5.27e+17</td><td>202900156411</td><td>202900156411</td><td>187000156411,202900156411,51400156331</td><td>187000156411,202900156411,51400156331</td><td>0.0</td><td>0.040672782772543326</td><td>202900156411</td><td>0.040672782772543326</td><td>None</td><td>None</td><td>[]</td><td>[]</td></tr>\n",
       "<tr><td>4</td><td>235400156411</td><td>1.318e+18</td><td>559</td><td>559</td><td>559</td><td>559</td><td>0.5</td><td>0.1598024137703411</td><td>559</td><td>0.5</td><td>559</td><td>7000000000000000.0</td><td>235400156411</td><td>235400156411</td><td>116300156401,282400156323,235400156411</td><td>116300156401,235400156411,282400156323</td><td>0.5</td><td>0.1598024137703411</td><td>235400156411</td><td>0.1598024137703411</td><td>None</td><td>None</td><td>[]</td><td>[]</td></tr>\n",
       "<tr><td>5</td><td>121100156382</td><td>1.37e+18</td><td>589</td><td>589</td><td>1475,1364,589</td><td>1475,1364,589</td><td>0.3548387096774194</td><td>0.2606821639683301</td><td>589</td><td>0.3548387096774194</td><td>589</td><td>5.07e+17</td><td>121100156382</td><td>121100156382</td><td>261300156323,121100156382</td><td>261300156323,121100156382</td><td>0.3548387096774194</td><td>0.2606821639683301</td><td>121100156382</td><td>0.2606821639683301</td><td>None</td><td>None</td><td>[]</td><td>[]</td></tr>\n",
       "<tr><td>6</td><td>387200156365</td><td>1.409e+18</td><td>822</td><td>822</td><td>822</td><td>822</td><td>0.05405405405405406</td><td>0.02069221832470944</td><td>822</td><td>0.05405405405405406</td><td>822</td><td>5.02e+17</td><td>387200156365</td><td>387200156365</td><td>1095000156323,387200156365</td><td>1095000156323,387200156365</td><td>0.0</td><td>0.02069221832470944</td><td>387200156365</td><td>0.02069221832470944</td><td>None</td><td>None</td><td>[]</td><td>[]</td></tr>\n",
       "<tr><td>7</td><td>101800156355</td><td>1.414e+18</td><td>1054</td><td>1054</td><td>1054,2</td><td>1054,2</td><td>0.5</td><td>0.05919090632499834</td><td>1054</td><td>0.5</td><td>1054</td><td>4.95e+17</td><td>101800156355</td><td>101800156355</td><td>339500143355,185800156331,101800156355,682200156338,653000156331,719800156331</td><td>339500143355,185800156331,101800156355,682200156338,653000156331,719800156331</td><td>0.5</td><td>0.05919090632499834</td><td>101800156355</td><td>0.05919090632499834</td><td>None</td><td>None</td><td>[]</td><td>[]</td></tr>\n",
       "<tr><td>8</td><td>154200156355</td><td>1.418e+18</td><td>94</td><td>94</td><td>94,1339</td><td>94,1339</td><td>0.47368421052631576</td><td>0.11933857627499585</td><td>94</td><td>0.47368421052631576</td><td>94</td><td>2.86e+17</td><td>154200156355</td><td>154200156355</td><td>278200156355,154200156355,151000156323,286700156355,448400156347,163800156338,386500156338</td><td>278200156355,154200156355,151000156323,286700156355,448400156347,163800156338,386500156338</td><td>0.47368421052631576</td><td>0.11933857627499585</td><td>154200156355</td><td>0.11933857627499585</td><td>None</td><td>None</td><td>[]</td><td>[]</td></tr>\n",
       "<tr><td>9</td><td>171700156355</td><td>1.421e+18</td><td>450</td><td>450</td><td>144,78,450</td><td>144,78,450</td><td>0.06666666666666667</td><td>0.00958954232324896</td><td>450</td><td>0.06666666666666667</td><td>450</td><td>4.94e+17</td><td>171700156355</td><td>171700156355</td><td>33200156307,171700156355</td><td>33200156307,171700156355</td><td>0.06666666666666667</td><td>0.00958954232324896</td><td>171700156355</td><td>0.00958954232324896</td><td>None</td><td>None</td><td>[]</td><td>[]</td></tr>\n",
       "<tr><td>...</td><td>...</td><td>...</td><td>...</td><td>...</td><td>...</td><td>...</td><td>...</td><td>...</td><td>...</td><td>...</td><td>...</td><td>...</td><td>...</td><td>...</td><td>...</td><td>...</td><td>...</td><td>...</td><td>...</td><td>...</td><td>...</td><td>...</td><td>...</td><td>...</td></tr>\n",
       "<tr><td>1393</td><td>1814500143224</td><td>5.2665e+19</td><td>1136</td><td>1136</td><td>1136</td><td>1136</td><td>0.18181818181818182</td><td>0.02336670265860598</td><td>1136</td><td>0.18181818181818182</td><td>1136</td><td>6.81e+17</td><td>1814500143224</td><td>1814500143224</td><td>2197800143224,1814500143224</td><td>2197800143224,1814500143224</td><td>0.18181818181818182</td><td>0.02336670265860598</td><td>1814500143224</td><td>0.02336670265860598</td><td>None</td><td>None</td><td>[]</td><td>[]</td></tr>\n",
       "<tr><td>1394</td><td>2641100143224</td><td>5.2686e+19</td><td>892</td><td>892</td><td>892</td><td>892</td><td>0.5</td><td>0.4241872205219592</td><td>892</td><td>0.5</td><td>892</td><td>7.27e+17</td><td>2641100143224</td><td>2641100143224</td><td>2641100143224</td><td>2641100143224</td><td>0.5</td><td>0.4241872205219592</td><td>2641100143224</td><td>0.4241872205219592</td><td>None</td><td>None</td><td>[]</td><td>[]</td></tr>\n",
       "<tr><td>1395</td><td>2712500143224</td><td>5.2689e+19</td><td>1143</td><td>1143</td><td>1143</td><td>1143</td><td>0.5</td><td>0.26546272491991896</td><td>1143</td><td>0.5</td><td>1143</td><td>6.66e+17</td><td>2712500143224</td><td>2712500143224</td><td>2712500143224,3919000143213,263200143213</td><td>2712500143224,3919000143213,263200143213</td><td>0.5</td><td>0.26546272491991896</td><td>2712500143224</td><td>0.26546272491991896</td><td>None</td><td>None</td><td>[]</td><td>[]</td></tr>\n",
       "<tr><td>1396</td><td>2848600143224</td><td>5.2695e+19</td><td>1185</td><td>1185</td><td>1185</td><td>1185</td><td>0.03333333333333333</td><td>0.016722887140727803</td><td>1185</td><td>0.03333333333333333</td><td>1185</td><td>6.67e+17</td><td>2848600143224</td><td>2848600143224</td><td>2848600143224</td><td>2848600143224</td><td>0.03333333333333333</td><td>0.016722887140727803</td><td>2848600143224</td><td>0.016722887140727803</td><td>None</td><td>None</td><td>[]</td><td>[]</td></tr>\n",
       "<tr><td>1397</td><td>3607500143224</td><td>5.272e+19</td><td>1658</td><td>1658</td><td>1658</td><td>1658</td><td>0.05555555555555555</td><td>0.014180144120349071</td><td>1658</td><td>0.05555555555555555</td><td>1658</td><td>6.95e+17</td><td>3607500143224</td><td>3607500143224</td><td>3607500143224</td><td>3607500143224</td><td>0.05555555555555555</td><td>0.014180144120349071</td><td>3607500143224</td><td>0.014180144120349071</td><td>None</td><td>None</td><td>[]</td><td>[]</td></tr>\n",
       "<tr><td>1398</td><td>3669500143224</td><td>5.2721e+19</td><td>819</td><td>819</td><td>819</td><td>819</td><td>0.3076923076923077</td><td>0.18714481826295273</td><td>819</td><td>0.3076923076923077</td><td>819</td><td>6.74e+17</td><td>3669500143224</td><td>3669500143224</td><td>3669500143224</td><td>3669500143224</td><td>0.3076923076923077</td><td>0.18714481826295273</td><td>3669500143224</td><td>0.18714481826295273</td><td>None</td><td>None</td><td>[]</td><td>[]</td></tr>\n",
       "<tr><td>1399</td><td>678500143219</td><td>5.2756e+19</td><td>850</td><td>850</td><td>850</td><td>850</td><td>0.030303030303030304</td><td>0.018391195480338615</td><td>850</td><td>0.030303030303030304</td><td>850</td><td>7.19e+17</td><td>678500143219</td><td>678500143219</td><td>678500143219,647200143253</td><td>678500143219,647200143253</td><td>0.030303030303030304</td><td>0.018391195480338615</td><td>678500143219</td><td>0.018391195480338615</td><td>None</td><td>None</td><td>[]</td><td>[]</td></tr>\n",
       "<tr><td>1400</td><td>3807600143219</td><td>5.2852e+19</td><td>967</td><td>967</td><td>967</td><td>967</td><td>0.17391304347826086</td><td>0.12400884262561418</td><td>967</td><td>0.17391304347826086</td><td>967</td><td>7.3e+16</td><td>3807600143219</td><td>3807600143219</td><td>2740000157235,3807600143219</td><td>2740000157235,3807600143219</td><td>0.17391304347826086</td><td>0.12400884262561418</td><td>3807600143219</td><td>0.12400884262561418</td><td>None</td><td>None</td><td>[]</td><td>[]</td></tr>\n",
       "<tr><td>1401</td><td>5084700143213</td><td>5.2982e+19</td><td>1235</td><td>1235</td><td>1235</td><td>1235</td><td>0.037037037037037035</td><td>0.04414265238192169</td><td>1235</td><td>0.037037037037037035</td><td>1235</td><td>6.1e+17</td><td>5084700143213</td><td>5084700143213</td><td>1520800143230,5084700143213</td><td>1520800143230,5084700143213</td><td>0.037037037037037035</td><td>0.04414265238192169</td><td>5084700143213</td><td>0.04414265238192169</td><td>None</td><td>None</td><td>[]</td><td>[]</td></tr>\n",
       "<tr><td>1402</td><td>1030800143194</td><td>5.334e+19</td><td>1528</td><td>1528</td><td>1528</td><td>1528</td><td>0.07142857142857142</td><td>0.009558977626983448</td><td>1528</td><td>0.07142857142857142</td><td>1528</td><td>5.31e+17</td><td>1030800143194</td><td>1030800143194</td><td>339500143355,161200143411,521600143331,1030800143194,339800143365</td><td>339500143355,161200143411,521600143331,1030800143194,339800143365</td><td>0.0</td><td>0.009558977626983448</td><td>1030800143194</td><td>0.009558977626983448</td><td>None</td><td>None</td><td>[]</td><td>[]</td></tr>\n",
       "</table></div>"
      ],
      "text/plain": [
       "<clevar.catalog.ClCatalog at 0x7f8471a27700>"
      ]
     },
     "execution_count": 148,
     "metadata": {},
     "output_type": "execute_result"
    }
   ],
   "source": [
    "c_merged"
   ]
  },
  {
   "cell_type": "code",
   "execution_count": null,
   "id": "7e4c3dc8-2f3a-4ae0-8735-030943bbc847",
   "metadata": {},
   "outputs": [],
   "source": []
  },
  {
   "cell_type": "code",
   "execution_count": null,
   "id": "916856b6-6784-4d00-9d6d-de50f46c250c",
   "metadata": {},
   "outputs": [],
   "source": []
  },
  {
   "cell_type": "code",
   "execution_count": null,
   "id": "b6fef9e3-30a0-4bc4-bd28-c41dcd5e95df",
   "metadata": {},
   "outputs": [],
   "source": []
  },
  {
   "cell_type": "code",
   "execution_count": null,
   "id": "2f9017bf-afc6-4b2b-b037-dc2b2471f407",
   "metadata": {},
   "outputs": [],
   "source": [
    "c1 = ClCatalog('Cat1', id=cl_list1) #Y'a un truc qu'il aime pas dans t['halo_id']\n",
    "#bcp plus rapide avec une liste. raison????"
   ]
  },
  {
   "cell_type": "code",
   "execution_count": null,
   "id": "9e72a5f3-fa24-4335-be8b-2e4d07bb742e",
   "metadata": {},
   "outputs": [],
   "source": [
    "c2 = ClCatalog('Cat2', id=cl_list_am) #Y'a un truc qu'il aime pas dans amico_data['halo_id']\n",
    "#idem"
   ]
  },
  {
   "cell_type": "code",
   "execution_count": 5,
   "id": "29b8aff1-33c1-490e-b692-84c519247fe6",
   "metadata": {},
   "outputs": [
    {
     "name": "stdout",
     "output_type": "stream",
     "text": [
      "    * ClEvar used in matching: 0.13.8\n",
      "    * ClEvar used in matching: 0.13.8\n"
     ]
    }
   ],
   "source": [
    "outpath = '/pbs/home/n/namourou/test_jupyter/cluster_challenge/notebooks/outfiles/membermatching/'\n",
    "c1 = ClCatalog.read_full(outpath + 'cdc_after_match.fits') #cosmoDC2_small matched table\n",
    "c2 = ClCatalog.read_full(outpath + 'cam_after_match.fits') #amico matched table"
   ]
  },
  {
   "cell_type": "code",
   "execution_count": 12,
   "id": "b140c23b-825d-44b3-95ad-6439d722f2b2",
   "metadata": {},
   "outputs": [
    {
     "data": {
      "text/html": [
       "<b>Cat1</b><br></b><b>tags:</b> id(id)<br><b>Radius unit:</b> None<br><div><i>ClData length=41688</i>\n",
       "<table id=\"table140208593091216\" class=\"table-striped table-bordered table-condensed\">\n",
       "<thead><tr><th>id</th><th>mt_self</th><th>mt_other</th><th>mt_multi_self</th><th>mt_multi_other</th></tr></thead>\n",
       "<thead><tr><th>str21</th><th>object</th><th>object</th><th>object</th><th>object</th></tr></thead>\n",
       "<tr><td>400155487</td><td>None</td><td>None</td><td>[]</td><td>[]</td></tr>\n",
       "<tr><td>37900155453</td><td>None</td><td>None</td><td>[]</td><td>[]</td></tr>\n",
       "<tr><td>14700155442</td><td>None</td><td>None</td><td>[]</td><td>[]</td></tr>\n",
       "<tr><td>3300155432</td><td>None</td><td>None</td><td>[]</td><td>[]</td></tr>\n",
       "<tr><td>19800155432</td><td>None</td><td>None</td><td>[]</td><td>[]</td></tr>\n",
       "<tr><td>41300155432</td><td>None</td><td>None</td><td>[]</td><td>[]</td></tr>\n",
       "<tr><td>22500155421</td><td>None</td><td>None</td><td>[]</td><td>[]</td></tr>\n",
       "<tr><td>35700155421</td><td>None</td><td>None</td><td>[]</td><td>[]</td></tr>\n",
       "<tr><td>51800155421</td><td>None</td><td>None</td><td>[]</td><td>[]</td></tr>\n",
       "<tr><td>54800155421</td><td>None</td><td>None</td><td>[]</td><td>[]</td></tr>\n",
       "<tr><td>...</td><td>...</td><td>...</td><td>...</td><td>...</td></tr>\n",
       "<tr><td>2734600097180</td><td>None</td><td>None</td><td>[]</td><td>[]</td></tr>\n",
       "<tr><td>2839500097180</td><td>None</td><td>None</td><td>[]</td><td>[]</td></tr>\n",
       "<tr><td>2861900097180</td><td>None</td><td>None</td><td>[]</td><td>[]</td></tr>\n",
       "<tr><td>2903200097180</td><td>None</td><td>None</td><td>[]</td><td>[]</td></tr>\n",
       "<tr><td>3020800097180</td><td>None</td><td>None</td><td>[]</td><td>[]</td></tr>\n",
       "<tr><td>3065500097180</td><td>None</td><td>None</td><td>[]</td><td>[]</td></tr>\n",
       "<tr><td>3096000097180</td><td>None</td><td>None</td><td>[]</td><td>[]</td></tr>\n",
       "<tr><td>3123000097180</td><td>None</td><td>None</td><td>[]</td><td>[]</td></tr>\n",
       "<tr><td>3158100097180</td><td>None</td><td>None</td><td>[]</td><td>[]</td></tr>\n",
       "<tr><td>3225900097180</td><td>None</td><td>None</td><td>[]</td><td>[]</td></tr>\n",
       "</table></div>"
      ],
      "text/plain": [
       "<clevar.catalog.ClCatalog at 0x7f84db393070>"
      ]
     },
     "execution_count": 12,
     "metadata": {},
     "output_type": "execute_result"
    }
   ],
   "source": [
    "c1"
   ]
  },
  {
   "cell_type": "code",
   "execution_count": 9,
   "id": "a2e96f57-b3c6-4942-8e80-09e7af229a1a",
   "metadata": {},
   "outputs": [
    {
     "name": "stdout",
     "output_type": "stream",
     "text": [
      "    * ClEvar used in matching: 0.13.8\n",
      "    * ClEvar used in matching: 0.13.8\n"
     ]
    },
    {
     "name": "stderr",
     "output_type": "stream",
     "text": [
      "/sps/lsst/users/namourou/conda_clone_210223/descv1.1/clevar/clevar/catalog.py:501: UserWarning: Repeated ID's in id column, adding suffix _r# to them.\n",
      "  warnings.warn(\n"
     ]
    }
   ],
   "source": [
    "c1_members = ClCatalog.read_full(outpath + 'c1.fits')\n",
    "c2_members = ClCatalog.read_full(outpath + 'c2.fits')"
   ]
  },
  {
   "cell_type": "code",
   "execution_count": null,
   "id": "c50e9df2-8a72-4bc2-b0b8-3a6391249e4f",
   "metadata": {},
   "outputs": [],
   "source": []
  },
  {
   "cell_type": "code",
   "execution_count": 17,
   "id": "cce963c4-f0e6-47a3-a790-d19fd3780d8c",
   "metadata": {},
   "outputs": [],
   "source": [
    "c2_members['id_cluster'] = c2_members['id_cluster'].astype(float)"
   ]
  },
  {
   "cell_type": "code",
   "execution_count": 22,
   "id": "efe20bc7-d01f-4763-8768-37a75c018204",
   "metadata": {},
   "outputs": [
    {
     "data": {
      "text/html": [
       "<b>members</b><br></b><b>tags:</b> id(id), id_cluster(id_cluster), pmem(pmem)<br><b>Radius unit:</b> None<br><div><i>ClData length=67</i>\n",
       "<table id=\"table140208587592352\" class=\"table-striped table-bordered table-condensed\">\n",
       "<thead><tr><th>id</th><th>id_cluster</th><th>pmem</th><th>ind_cl</th><th>mt_self</th><th>mt_other</th><th>mt_multi_self</th><th>mt_multi_other</th></tr></thead>\n",
       "<thead><tr><th>str11</th><th>float64</th><th>float64</th><th>int64</th><th>object</th><th>object</th><th>object</th><th>object</th></tr></thead>\n",
       "<tr><td>10567099014</td><td>284.0</td><td>0.36728185</td><td>2</td><td>None</td><td>None</td><td>[]</td><td>[]</td></tr>\n",
       "<tr><td>10566572071</td><td>284.0</td><td>0.55742949</td><td>2</td><td>None</td><td>None</td><td>[]</td><td>[]</td></tr>\n",
       "<tr><td>10566559041</td><td>284.0</td><td>0.48261756</td><td>2</td><td>None</td><td>None</td><td>[]</td><td>[]</td></tr>\n",
       "<tr><td>10566543828</td><td>284.0</td><td>0.70688188</td><td>2</td><td>None</td><td>None</td><td>[]</td><td>[]</td></tr>\n",
       "<tr><td>10566511369</td><td>284.0</td><td>0.31521571</td><td>2</td><td>None</td><td>None</td><td>[]</td><td>[]</td></tr>\n",
       "<tr><td>10566476111</td><td>284.0</td><td>0.30992982</td><td>2</td><td>None</td><td>None</td><td>[]</td><td>[]</td></tr>\n",
       "<tr><td>10566228291</td><td>284.0</td><td>0.51753348</td><td>2</td><td>None</td><td>None</td><td>[]</td><td>[]</td></tr>\n",
       "<tr><td>10566215084</td><td>284.0</td><td>0.40771785</td><td>2</td><td>None</td><td>None</td><td>[]</td><td>[]</td></tr>\n",
       "<tr><td>10566206268</td><td>284.0</td><td>0.36724424</td><td>2</td><td>None</td><td>None</td><td>[]</td><td>[]</td></tr>\n",
       "<tr><td>10566197578</td><td>284.0</td><td>0.35448551</td><td>2</td><td>None</td><td>None</td><td>[]</td><td>[]</td></tr>\n",
       "<tr><td>...</td><td>...</td><td>...</td><td>...</td><td>...</td><td>...</td><td>...</td><td>...</td></tr>\n",
       "<tr><td>10565571820</td><td>284.0</td><td>0.45910296</td><td>2</td><td>None</td><td>None</td><td>[]</td><td>[]</td></tr>\n",
       "<tr><td>10565571501</td><td>284.0</td><td>0.54478633</td><td>2</td><td>None</td><td>None</td><td>[]</td><td>[]</td></tr>\n",
       "<tr><td>10565570504</td><td>284.0</td><td>0.51369882</td><td>2</td><td>None</td><td>None</td><td>[]</td><td>[]</td></tr>\n",
       "<tr><td>10565567325</td><td>284.0</td><td>0.3556807</td><td>2</td><td>None</td><td>None</td><td>[]</td><td>[]</td></tr>\n",
       "<tr><td>10565565973</td><td>284.0</td><td>0.32039949</td><td>2</td><td>None</td><td>None</td><td>[]</td><td>[]</td></tr>\n",
       "<tr><td>10565425217</td><td>284.0</td><td>0.36668593</td><td>2</td><td>None</td><td>None</td><td>[]</td><td>[]</td></tr>\n",
       "<tr><td>10565278406</td><td>284.0</td><td>0.37388223</td><td>2</td><td>None</td><td>None</td><td>[]</td><td>[]</td></tr>\n",
       "<tr><td>10565276538</td><td>284.0</td><td>0.3239103</td><td>2</td><td>None</td><td>None</td><td>[]</td><td>[]</td></tr>\n",
       "<tr><td>10565006101</td><td>284.0</td><td>0.36258453</td><td>2</td><td>None</td><td>None</td><td>[]</td><td>[]</td></tr>\n",
       "<tr><td>9753330974</td><td>284.0</td><td>0.36549491</td><td>2</td><td>None</td><td>None</td><td>[]</td><td>[]</td></tr>\n",
       "</table></div>"
      ],
      "text/plain": [
       "<clevar.catalog.ClCatalog at 0x7f84db633100>"
      ]
     },
     "execution_count": 22,
     "metadata": {},
     "output_type": "execute_result"
    }
   ],
   "source": [
    "c2_members[c2_members['id_cluster'] == 284]"
   ]
  },
  {
   "cell_type": "code",
   "execution_count": 94,
   "id": "735f2a82-402d-4369-b57b-a46749c92bc6",
   "metadata": {},
   "outputs": [],
   "source": [
    "from clevar.catalog import MemCatalog"
   ]
  },
  {
   "cell_type": "code",
   "execution_count": 31,
   "id": "678e8778-40d9-42c1-a1cd-9f694bb78946",
   "metadata": {},
   "outputs": [
    {
     "name": "stderr",
     "output_type": "stream",
     "text": [
      "/sps/lsst/users/namourou/conda_clone_210223/descv1.1/clevar/clevar/catalog.py:1032: UserWarning: Some galaxies were not members of the cluster catalog. They are stored in leftover_members attribute.\n",
      "  warnings.warn(\n"
     ]
    }
   ],
   "source": [
    "c1.add_members(id=t['galaxy_id'], id_cluster=t['halo_id'])"
   ]
  },
  {
   "cell_type": "code",
   "execution_count": 32,
   "id": "6cddca6d-a1a2-4a0b-86da-26d49fa0552d",
   "metadata": {},
   "outputs": [],
   "source": [
    "c2.add_members(id=amico_data['mb_id'], id_cluster=amico_data['halo_id'], pmem=amico_data['prob'])"
   ]
  },
  {
   "cell_type": "code",
   "execution_count": 36,
   "id": "9948344f-64ca-427a-9031-990ad354b577",
   "metadata": {},
   "outputs": [
    {
     "data": {
      "text/html": [
       "<b>members</b><br><b>tags:</b> id(id), id_cluster(id_cluster)<br><div><i>ClData length=975556</i>\n",
       "<table id=\"table140208589319296\" class=\"table-striped table-bordered table-condensed\">\n",
       "<thead><tr><th>id</th><th>id_cluster</th><th>ind_cl</th></tr></thead>\n",
       "<thead><tr><th>str21</th><th>str21</th><th>int64</th></tr></thead>\n",
       "<tr><td>9687500004</td><td>400155487</td><td>0</td></tr>\n",
       "<tr><td>9687500005</td><td>400155487</td><td>0</td></tr>\n",
       "<tr><td>9687500006</td><td>400155487</td><td>0</td></tr>\n",
       "<tr><td>9687502264</td><td>37900155453</td><td>1</td></tr>\n",
       "<tr><td>9687502265</td><td>37900155453</td><td>1</td></tr>\n",
       "<tr><td>9687502266</td><td>37900155453</td><td>1</td></tr>\n",
       "<tr><td>9687502267</td><td>37900155453</td><td>1</td></tr>\n",
       "<tr><td>9687502268</td><td>37900155453</td><td>1</td></tr>\n",
       "<tr><td>9687502269</td><td>37900155453</td><td>1</td></tr>\n",
       "<tr><td>9687502270</td><td>37900155453</td><td>1</td></tr>\n",
       "<tr><td>...</td><td>...</td><td>...</td></tr>\n",
       "<tr><td>6069509403</td><td>1744500097180</td><td>41657</td></tr>\n",
       "<tr><td>6069509404</td><td>1744500097180</td><td>41657</td></tr>\n",
       "<tr><td>6069509405</td><td>1744500097180</td><td>41657</td></tr>\n",
       "<tr><td>6069509406</td><td>1744500097180</td><td>41657</td></tr>\n",
       "<tr><td>6069509407</td><td>1744500097180</td><td>41657</td></tr>\n",
       "<tr><td>6069509408</td><td>1744500097180</td><td>41657</td></tr>\n",
       "<tr><td>6069509409</td><td>1744500097180</td><td>41657</td></tr>\n",
       "<tr><td>6069509410</td><td>3020800097180</td><td>41682</td></tr>\n",
       "<tr><td>6069509411</td><td>3020800097180</td><td>41682</td></tr>\n",
       "<tr><td>6069509412</td><td>3020800097180</td><td>41682</td></tr>\n",
       "</table></div>"
      ],
      "text/plain": [
       "<clevar.catalog.MemCatalog at 0x7f84db720070>"
      ]
     },
     "execution_count": 36,
     "metadata": {},
     "output_type": "execute_result"
    }
   ],
   "source": [
    "c1.members"
   ]
  },
  {
   "cell_type": "code",
   "execution_count": 138,
   "id": "803bafeb-49ac-40c6-affd-5c52e5f06e4e",
   "metadata": {},
   "outputs": [],
   "source": [
    "outpath = '/pbs/home/n/namourou/test_jupyter/cluster_challenge/notebooks/outfiles/membermatching/'\n",
    "c1.members.write(outpath + 'c1.fits', overwrite=True)\n",
    "c2.members.write(outpath + 'c2.fits', overwrite = True)\n",
    "#write marchait pas quand on prenait tables généré sans liste"
   ]
  },
  {
   "cell_type": "code",
   "execution_count": 37,
   "id": "0c145f32-d29d-4ff4-9dd7-d344fd220bc7",
   "metadata": {},
   "outputs": [],
   "source": [
    "from clevar.match import MembershipMatch\n",
    "mt = MembershipMatch()"
   ]
  },
  {
   "cell_type": "code",
   "execution_count": 34,
   "id": "e8ef146c-353b-4789-8ba8-e2aefc6976b5",
   "metadata": {},
   "outputs": [],
   "source": [
    "match_config = {\n",
    "    'type': 'cross', # options are cross, cat1, cat2\n",
    "    'preference': 'shared_member_fraction', # other options are more_massive, angular_proximity or redshift_proximity\n",
    "    'minimum_share_fraction': 0,\n",
    "    'match_members_kwargs': {'method':'id'},\n",
    "}"
   ]
  },
  {
   "cell_type": "code",
   "execution_count": 38,
   "id": "d57457c8-5667-4eea-89e6-efe88fa4a454",
   "metadata": {},
   "outputs": [
    {
     "name": "stdout",
     "output_type": "stream",
     "text": [
      "45,030 members were matched.\n"
     ]
    },
    {
     "ename": "KeyError",
     "evalue": "'mass'",
     "output_type": "error",
     "traceback": [
      "\u001b[0;31m---------------------------------------------------------------------------\u001b[0m",
      "\u001b[0;31mKeyError\u001b[0m                                  Traceback (most recent call last)",
      "Cell \u001b[0;32mIn [38], line 1\u001b[0m\n\u001b[0;32m----> 1\u001b[0m \u001b[43mmt\u001b[49m\u001b[38;5;241;43m.\u001b[39;49m\u001b[43mmatch_from_config\u001b[49m\u001b[43m(\u001b[49m\u001b[43mc1\u001b[49m\u001b[43m,\u001b[49m\u001b[43m \u001b[49m\u001b[43mc2\u001b[49m\u001b[43m,\u001b[49m\u001b[43m \u001b[49m\u001b[43mmatch_config\u001b[49m\u001b[43m)\u001b[49m\n",
      "File \u001b[0;32m/sps/lsst/users/namourou/conda_clone_210223/descv1.1/clevar/clevar/match/membership.py:336\u001b[0m, in \u001b[0;36mMembershipMatch.match_from_config\u001b[0;34m(self, cat1, cat2, match_config, cosmo)\u001b[0m\n\u001b[1;32m    334\u001b[0m load_shared_member \u001b[38;5;241m=\u001b[39m match_config\u001b[38;5;241m.\u001b[39mget(\u001b[38;5;124m'\u001b[39m\u001b[38;5;124mshared_members_load\u001b[39m\u001b[38;5;124m'\u001b[39m, \u001b[38;5;28;01mFalse\u001b[39;00m)\n\u001b[1;32m    335\u001b[0m \u001b[38;5;28;01mif\u001b[39;00m match_config\u001b[38;5;241m.\u001b[39mget(\u001b[38;5;124m'\u001b[39m\u001b[38;5;124mshared_members_fill\u001b[39m\u001b[38;5;124m'\u001b[39m, \u001b[38;5;28;01mTrue\u001b[39;00m) \u001b[38;5;129;01mand\u001b[39;00m \u001b[38;5;129;01mnot\u001b[39;00m load_shared_member:\n\u001b[0;32m--> 336\u001b[0m     \u001b[38;5;28;43mself\u001b[39;49m\u001b[38;5;241;43m.\u001b[39;49m\u001b[43mfill_shared_members\u001b[49m\u001b[43m(\u001b[49m\u001b[43mcat1\u001b[49m\u001b[43m,\u001b[49m\u001b[43m \u001b[49m\u001b[43mcat2\u001b[49m\u001b[43m)\u001b[49m\n\u001b[1;32m    337\u001b[0m \u001b[38;5;28;01mif\u001b[39;00m match_config\u001b[38;5;241m.\u001b[39mget(\u001b[38;5;124m'\u001b[39m\u001b[38;5;124mshared_members_save\u001b[39m\u001b[38;5;124m'\u001b[39m, \u001b[38;5;28;01mFalse\u001b[39;00m) \u001b[38;5;129;01mand\u001b[39;00m \u001b[38;5;129;01mnot\u001b[39;00m load_shared_member:\n\u001b[1;32m    338\u001b[0m     \u001b[38;5;28mself\u001b[39m\u001b[38;5;241m.\u001b[39msave_shared_members(cat1, cat2, match_config[\u001b[38;5;124m'\u001b[39m\u001b[38;5;124mshared_members_file\u001b[39m\u001b[38;5;124m'\u001b[39m], overwrite\u001b[38;5;241m=\u001b[39m\u001b[38;5;28;01mTrue\u001b[39;00m)\n",
      "File \u001b[0;32m/sps/lsst/users/namourou/conda_clone_210223/descv1.1/clevar/clevar/match/membership.py:77\u001b[0m, in \u001b[0;36mMembershipMatch.fill_shared_members\u001b[0;34m(self, cat1, cat2)\u001b[0m\n\u001b[1;32m     75\u001b[0m     \u001b[38;5;28mself\u001b[39m\u001b[38;5;241m.\u001b[39m_add_pmem(cat2\u001b[38;5;241m.\u001b[39mmt_input[\u001b[38;5;124m'\u001b[39m\u001b[38;5;124mshare_mems\u001b[39m\u001b[38;5;124m'\u001b[39m], cat2\u001b[38;5;241m.\u001b[39mid_dict[idcl2], idcl1, pmem2)\n\u001b[1;32m     76\u001b[0m \u001b[38;5;66;03m# sort order in dicts by mass\u001b[39;00m\n\u001b[0;32m---> 77\u001b[0m cat1\u001b[38;5;241m.\u001b[39mmt_input[\u001b[38;5;124m'\u001b[39m\u001b[38;5;124mshare_mems\u001b[39m\u001b[38;5;124m'\u001b[39m] \u001b[38;5;241m=\u001b[39m [\u001b[38;5;28mself\u001b[39m\u001b[38;5;241m.\u001b[39m_sort_share_mem_mass(share_mem1, cat2)\n\u001b[1;32m     78\u001b[0m                                 \u001b[38;5;28;01mfor\u001b[39;00m share_mem1 \u001b[38;5;129;01min\u001b[39;00m cat1\u001b[38;5;241m.\u001b[39mmt_input[\u001b[38;5;124m'\u001b[39m\u001b[38;5;124mshare_mems\u001b[39m\u001b[38;5;124m'\u001b[39m]]\n\u001b[1;32m     79\u001b[0m cat2\u001b[38;5;241m.\u001b[39mmt_input[\u001b[38;5;124m'\u001b[39m\u001b[38;5;124mshare_mems\u001b[39m\u001b[38;5;124m'\u001b[39m] \u001b[38;5;241m=\u001b[39m [\u001b[38;5;28mself\u001b[39m\u001b[38;5;241m.\u001b[39m_sort_share_mem_mass(share_mem2, cat1)\n\u001b[1;32m     80\u001b[0m                                 \u001b[38;5;28;01mfor\u001b[39;00m share_mem2 \u001b[38;5;129;01min\u001b[39;00m cat2\u001b[38;5;241m.\u001b[39mmt_input[\u001b[38;5;124m'\u001b[39m\u001b[38;5;124mshare_mems\u001b[39m\u001b[38;5;124m'\u001b[39m]]\n",
      "File \u001b[0;32m/sps/lsst/users/namourou/conda_clone_210223/descv1.1/clevar/clevar/match/membership.py:77\u001b[0m, in \u001b[0;36m<listcomp>\u001b[0;34m(.0)\u001b[0m\n\u001b[1;32m     75\u001b[0m     \u001b[38;5;28mself\u001b[39m\u001b[38;5;241m.\u001b[39m_add_pmem(cat2\u001b[38;5;241m.\u001b[39mmt_input[\u001b[38;5;124m'\u001b[39m\u001b[38;5;124mshare_mems\u001b[39m\u001b[38;5;124m'\u001b[39m], cat2\u001b[38;5;241m.\u001b[39mid_dict[idcl2], idcl1, pmem2)\n\u001b[1;32m     76\u001b[0m \u001b[38;5;66;03m# sort order in dicts by mass\u001b[39;00m\n\u001b[0;32m---> 77\u001b[0m cat1\u001b[38;5;241m.\u001b[39mmt_input[\u001b[38;5;124m'\u001b[39m\u001b[38;5;124mshare_mems\u001b[39m\u001b[38;5;124m'\u001b[39m] \u001b[38;5;241m=\u001b[39m [\u001b[38;5;28;43mself\u001b[39;49m\u001b[38;5;241;43m.\u001b[39;49m\u001b[43m_sort_share_mem_mass\u001b[49m\u001b[43m(\u001b[49m\u001b[43mshare_mem1\u001b[49m\u001b[43m,\u001b[49m\u001b[43m \u001b[49m\u001b[43mcat2\u001b[49m\u001b[43m)\u001b[49m\n\u001b[1;32m     78\u001b[0m                                 \u001b[38;5;28;01mfor\u001b[39;00m share_mem1 \u001b[38;5;129;01min\u001b[39;00m cat1\u001b[38;5;241m.\u001b[39mmt_input[\u001b[38;5;124m'\u001b[39m\u001b[38;5;124mshare_mems\u001b[39m\u001b[38;5;124m'\u001b[39m]]\n\u001b[1;32m     79\u001b[0m cat2\u001b[38;5;241m.\u001b[39mmt_input[\u001b[38;5;124m'\u001b[39m\u001b[38;5;124mshare_mems\u001b[39m\u001b[38;5;124m'\u001b[39m] \u001b[38;5;241m=\u001b[39m [\u001b[38;5;28mself\u001b[39m\u001b[38;5;241m.\u001b[39m_sort_share_mem_mass(share_mem2, cat1)\n\u001b[1;32m     80\u001b[0m                                 \u001b[38;5;28;01mfor\u001b[39;00m share_mem2 \u001b[38;5;129;01min\u001b[39;00m cat2\u001b[38;5;241m.\u001b[39mmt_input[\u001b[38;5;124m'\u001b[39m\u001b[38;5;124mshare_mems\u001b[39m\u001b[38;5;124m'\u001b[39m]]\n",
      "File \u001b[0;32m/sps/lsst/users/namourou/conda_clone_210223/descv1.1/clevar/clevar/match/membership.py:88\u001b[0m, in \u001b[0;36mMembershipMatch._sort_share_mem_mass\u001b[0;34m(self, share_mem1, cat2)\u001b[0m\n\u001b[1;32m     86\u001b[0m     \u001b[38;5;28;01mreturn\u001b[39;00m {}\n\u001b[1;32m     87\u001b[0m ids2 \u001b[38;5;241m=\u001b[39m np\u001b[38;5;241m.\u001b[39marray(\u001b[38;5;28mlist\u001b[39m(share_mem1\u001b[38;5;241m.\u001b[39mkeys()))\n\u001b[0;32m---> 88\u001b[0m mass2 \u001b[38;5;241m=\u001b[39m np\u001b[38;5;241m.\u001b[39marray(\u001b[43mcat2\u001b[49m\u001b[43m[\u001b[49m\u001b[38;5;124;43m'\u001b[39;49m\u001b[38;5;124;43mmass\u001b[39;49m\u001b[38;5;124;43m'\u001b[39;49m\u001b[43m]\u001b[49m[cat2\u001b[38;5;241m.\u001b[39mids2inds(ids2)])\n\u001b[1;32m     89\u001b[0m \u001b[38;5;28;01mreturn\u001b[39;00m {id2:share_mem1[id2] \u001b[38;5;28;01mfor\u001b[39;00m id2 \u001b[38;5;129;01min\u001b[39;00m ids2[mass2\u001b[38;5;241m.\u001b[39margsort()[::\u001b[38;5;241m-\u001b[39m\u001b[38;5;241m1\u001b[39m]]}\n",
      "File \u001b[0;32m/sps/lsst/users/namourou/conda_clone_210223/descv1.1/clevar/clevar/catalog.py:954\u001b[0m, in \u001b[0;36mClCatalog.__getitem__\u001b[0;34m(self, item)\u001b[0m\n\u001b[1;32m    952\u001b[0m             cl_mask[item] \u001b[38;5;241m=\u001b[39m \u001b[38;5;28;01mTrue\u001b[39;00m\n\u001b[1;32m    953\u001b[0m             kwargs[\u001b[38;5;124m'\u001b[39m\u001b[38;5;124mmembers\u001b[39m\u001b[38;5;124m'\u001b[39m] \u001b[38;5;241m=\u001b[39m \u001b[38;5;28mself\u001b[39m\u001b[38;5;241m.\u001b[39mmembers[cl_mask[\u001b[38;5;28mself\u001b[39m\u001b[38;5;241m.\u001b[39mmembers[\u001b[38;5;124m'\u001b[39m\u001b[38;5;124mind_cl\u001b[39m\u001b[38;5;124m'\u001b[39m]]]\n\u001b[0;32m--> 954\u001b[0m \u001b[38;5;28;01mreturn\u001b[39;00m \u001b[38;5;28;43mself\u001b[39;49m\u001b[38;5;241;43m.\u001b[39;49m\u001b[43m_getitem_base\u001b[49m\u001b[43m(\u001b[49m\u001b[43mDataType\u001b[49m\u001b[38;5;241;43m=\u001b[39;49m\u001b[43mClCatalog\u001b[49m\u001b[43m,\u001b[49m\u001b[43m \u001b[49m\u001b[38;5;241;43m*\u001b[39;49m\u001b[38;5;241;43m*\u001b[39;49m\u001b[43mkwargs\u001b[49m\u001b[43m)\u001b[49m\n",
      "File \u001b[0;32m/sps/lsst/users/namourou/conda_clone_210223/descv1.1/clevar/clevar/catalog.py:179\u001b[0m, in \u001b[0;36mTagData._getitem_base\u001b[0;34m(self, item, DataType, **kwargs)\u001b[0m\n\u001b[1;32m    177\u001b[0m \u001b[38;5;66;03m# Get one row/col\u001b[39;00m\n\u001b[1;32m    178\u001b[0m \u001b[38;5;28;01mif\u001b[39;00m \u001b[38;5;28misinstance\u001b[39m(item, (\u001b[38;5;28mstr\u001b[39m, \u001b[38;5;28mint\u001b[39m, np\u001b[38;5;241m.\u001b[39mint64)):\n\u001b[0;32m--> 179\u001b[0m     \u001b[38;5;28;01mreturn\u001b[39;00m \u001b[38;5;28;43mself\u001b[39;49m\u001b[38;5;241;43m.\u001b[39;49m\u001b[43mdata\u001b[49m\u001b[43m[\u001b[49m\u001b[38;5;28;43mself\u001b[39;49m\u001b[38;5;241;43m.\u001b[39;49m\u001b[43mtags\u001b[49m\u001b[38;5;241;43m.\u001b[39;49m\u001b[43mget\u001b[49m\u001b[43m(\u001b[49m\u001b[43mitem\u001b[49m\u001b[43m,\u001b[49m\u001b[43m \u001b[49m\u001b[43mitem\u001b[49m\u001b[43m)\u001b[49m\u001b[43m \u001b[49m\u001b[38;5;28;43;01mif\u001b[39;49;00m\u001b[43m \u001b[49m\u001b[38;5;28;43misinstance\u001b[39;49m\u001b[43m(\u001b[49m\u001b[43mitem\u001b[49m\u001b[43m,\u001b[49m\u001b[43m \u001b[49m\u001b[38;5;28;43mstr\u001b[39;49m\u001b[43m)\u001b[49m\n\u001b[1;32m    180\u001b[0m \u001b[43m                     \u001b[49m\u001b[38;5;28;43;01melse\u001b[39;49;00m\u001b[43m \u001b[49m\u001b[43mitem\u001b[49m\u001b[43m]\u001b[49m\n\u001b[1;32m    182\u001b[0m \u001b[38;5;66;03m# Get sub cols\u001b[39;00m\n\u001b[1;32m    183\u001b[0m \u001b[38;5;28;01mif\u001b[39;00m \u001b[38;5;28misinstance\u001b[39m(item, (\u001b[38;5;28mtuple\u001b[39m, \u001b[38;5;28mlist\u001b[39m)) \u001b[38;5;129;01mand\u001b[39;00m \u001b[38;5;28mall\u001b[39m(\u001b[38;5;28misinstance\u001b[39m(x, \u001b[38;5;28mstr\u001b[39m) \u001b[38;5;28;01mfor\u001b[39;00m x \u001b[38;5;129;01min\u001b[39;00m item):\n",
      "File \u001b[0;32m/sps/lsst/users/namourou/conda_clone_210223/descv1.1/clevar/clevar/catalog.py:51\u001b[0m, in \u001b[0;36mClData.__getitem__\u001b[0;34m(self, item)\u001b[0m\n\u001b[1;32m     49\u001b[0m \u001b[38;5;66;03m# get one column\u001b[39;00m\n\u001b[1;32m     50\u001b[0m \u001b[38;5;28;01mif\u001b[39;00m \u001b[38;5;28misinstance\u001b[39m(item, \u001b[38;5;28mstr\u001b[39m):\n\u001b[0;32m---> 51\u001b[0m     \u001b[38;5;28;01mreturn\u001b[39;00m \u001b[38;5;28;43msuper\u001b[39;49m\u001b[43m(\u001b[49m\u001b[43m)\u001b[49m\u001b[38;5;241;43m.\u001b[39;49m\u001b[38;5;21;43m__getitem__\u001b[39;49m\u001b[43m(\u001b[49m\u001b[38;5;28;43mself\u001b[39;49m\u001b[38;5;241;43m.\u001b[39;49m\u001b[43mnamedict\u001b[49m\u001b[38;5;241;43m.\u001b[39;49m\u001b[43mget\u001b[49m\u001b[43m(\u001b[49m\u001b[43mitem\u001b[49m\u001b[43m,\u001b[49m\u001b[43m \u001b[49m\u001b[43mitem\u001b[49m\u001b[43m)\u001b[49m\u001b[43m)\u001b[49m\n\u001b[1;32m     53\u001b[0m \u001b[38;5;66;03m# get one row\u001b[39;00m\n\u001b[1;32m     54\u001b[0m \u001b[38;5;28;01melif\u001b[39;00m \u001b[38;5;28misinstance\u001b[39m(item, (\u001b[38;5;28mint\u001b[39m, np\u001b[38;5;241m.\u001b[39mint64)):\n",
      "File \u001b[0;32m/sps/lsst/users/namourou/conda_clone_210223/descv1.1/lib/python3.10/site-packages/astropy/table/table.py:1874\u001b[0m, in \u001b[0;36mTable.__getitem__\u001b[0;34m(self, item)\u001b[0m\n\u001b[1;32m   1872\u001b[0m \u001b[38;5;28;01mdef\u001b[39;00m \u001b[38;5;21m__getitem__\u001b[39m(\u001b[38;5;28mself\u001b[39m, item):\n\u001b[1;32m   1873\u001b[0m     \u001b[38;5;28;01mif\u001b[39;00m \u001b[38;5;28misinstance\u001b[39m(item, \u001b[38;5;28mstr\u001b[39m):\n\u001b[0;32m-> 1874\u001b[0m         \u001b[38;5;28;01mreturn\u001b[39;00m \u001b[38;5;28;43mself\u001b[39;49m\u001b[38;5;241;43m.\u001b[39;49m\u001b[43mcolumns\u001b[49m\u001b[43m[\u001b[49m\u001b[43mitem\u001b[49m\u001b[43m]\u001b[49m\n\u001b[1;32m   1875\u001b[0m     \u001b[38;5;28;01melif\u001b[39;00m \u001b[38;5;28misinstance\u001b[39m(item, (\u001b[38;5;28mint\u001b[39m, np\u001b[38;5;241m.\u001b[39minteger)):\n\u001b[1;32m   1876\u001b[0m         \u001b[38;5;28;01mreturn\u001b[39;00m \u001b[38;5;28mself\u001b[39m\u001b[38;5;241m.\u001b[39mRow(\u001b[38;5;28mself\u001b[39m, item)\n",
      "File \u001b[0;32m/sps/lsst/users/namourou/conda_clone_210223/descv1.1/lib/python3.10/site-packages/astropy/table/table.py:246\u001b[0m, in \u001b[0;36mTableColumns.__getitem__\u001b[0;34m(self, item)\u001b[0m\n\u001b[1;32m    236\u001b[0m \u001b[38;5;124;03m\"\"\"Get items from a TableColumns object.\u001b[39;00m\n\u001b[1;32m    237\u001b[0m \u001b[38;5;124;03m::\u001b[39;00m\n\u001b[1;32m    238\u001b[0m \n\u001b[0;32m   (...)\u001b[0m\n\u001b[1;32m    243\u001b[0m \u001b[38;5;124;03m  tc[1:3] # <TableColumns names=('b', 'c')>\u001b[39;00m\n\u001b[1;32m    244\u001b[0m \u001b[38;5;124;03m\"\"\"\u001b[39;00m\n\u001b[1;32m    245\u001b[0m \u001b[38;5;28;01mif\u001b[39;00m \u001b[38;5;28misinstance\u001b[39m(item, \u001b[38;5;28mstr\u001b[39m):\n\u001b[0;32m--> 246\u001b[0m     \u001b[38;5;28;01mreturn\u001b[39;00m \u001b[43mOrderedDict\u001b[49m\u001b[38;5;241;43m.\u001b[39;49m\u001b[38;5;21;43m__getitem__\u001b[39;49m\u001b[43m(\u001b[49m\u001b[38;5;28;43mself\u001b[39;49m\u001b[43m,\u001b[49m\u001b[43m \u001b[49m\u001b[43mitem\u001b[49m\u001b[43m)\u001b[49m\n\u001b[1;32m    247\u001b[0m \u001b[38;5;28;01melif\u001b[39;00m \u001b[38;5;28misinstance\u001b[39m(item, (\u001b[38;5;28mint\u001b[39m, np\u001b[38;5;241m.\u001b[39minteger)):\n\u001b[1;32m    248\u001b[0m     \u001b[38;5;28;01mreturn\u001b[39;00m \u001b[38;5;28mlist\u001b[39m(\u001b[38;5;28mself\u001b[39m\u001b[38;5;241m.\u001b[39mvalues())[item]\n",
      "\u001b[0;31mKeyError\u001b[0m: 'mass'"
     ]
    }
   ],
   "source": [
    "mt.match_from_config(c1, c2, match_config)"
   ]
  },
  {
   "cell_type": "code",
   "execution_count": 141,
   "id": "b0b6e585-23e4-4a79-acd2-ef38df8b4404",
   "metadata": {},
   "outputs": [],
   "source": [
    "c1.write(outpath + 'cdc_after_match.fits', overwrite=True)\n",
    "c2.write(outpath + 'cam_after_match.fits', overwrite = True)\n",
    "mt.save_matches(c1, c2, out_dir=outpath, overwrite=True)"
   ]
  },
  {
   "cell_type": "code",
   "execution_count": 178,
   "id": "2669f56a-73f4-4a2b-956a-542a2fc01722",
   "metadata": {},
   "outputs": [
    {
     "data": {
      "text/html": [
       "<b>Cat1</b><br></b><b>tags:</b> id(id)<br><b>Radius unit:</b> None<br><div><i>ClData length=41688</i>\n",
       "<table id=\"table139615180618096\" class=\"table-striped table-bordered table-condensed\">\n",
       "<thead><tr><th>id</th><th>mt_self</th><th>mt_other</th><th>mt_multi_self</th><th>mt_multi_other</th><th>mt_cross</th></tr></thead>\n",
       "<thead><tr><th>str21</th><th>object</th><th>object</th><th>object</th><th>object</th><th>object</th></tr></thead>\n",
       "<tr><td>400155487</td><td>None</td><td>None</td><td>[]</td><td>[]</td><td>None</td></tr>\n",
       "<tr><td>37900155453</td><td>None</td><td>None</td><td>[]</td><td>[]</td><td>None</td></tr>\n",
       "<tr><td>14700155442</td><td>None</td><td>None</td><td>[]</td><td>[]</td><td>None</td></tr>\n",
       "<tr><td>3300155432</td><td>None</td><td>None</td><td>[]</td><td>[]</td><td>None</td></tr>\n",
       "<tr><td>19800155432</td><td>None</td><td>None</td><td>[]</td><td>[]</td><td>None</td></tr>\n",
       "<tr><td>41300155432</td><td>None</td><td>None</td><td>[]</td><td>[]</td><td>None</td></tr>\n",
       "<tr><td>22500155421</td><td>None</td><td>None</td><td>[]</td><td>[]</td><td>None</td></tr>\n",
       "<tr><td>35700155421</td><td>None</td><td>None</td><td>[]</td><td>[]</td><td>None</td></tr>\n",
       "<tr><td>51800155421</td><td>None</td><td>None</td><td>[]</td><td>[]</td><td>None</td></tr>\n",
       "<tr><td>54800155421</td><td>None</td><td>None</td><td>[]</td><td>[]</td><td>None</td></tr>\n",
       "<tr><td>...</td><td>...</td><td>...</td><td>...</td><td>...</td><td>...</td></tr>\n",
       "<tr><td>2734600097180</td><td>None</td><td>None</td><td>[]</td><td>[]</td><td>None</td></tr>\n",
       "<tr><td>2839500097180</td><td>None</td><td>None</td><td>[]</td><td>[]</td><td>None</td></tr>\n",
       "<tr><td>2861900097180</td><td>None</td><td>None</td><td>[]</td><td>[]</td><td>None</td></tr>\n",
       "<tr><td>2903200097180</td><td>None</td><td>None</td><td>[]</td><td>[]</td><td>None</td></tr>\n",
       "<tr><td>3020800097180</td><td>None</td><td>None</td><td>[]</td><td>[]</td><td>None</td></tr>\n",
       "<tr><td>3065500097180</td><td>None</td><td>None</td><td>[]</td><td>[]</td><td>None</td></tr>\n",
       "<tr><td>3096000097180</td><td>None</td><td>None</td><td>[]</td><td>[]</td><td>None</td></tr>\n",
       "<tr><td>3123000097180</td><td>None</td><td>None</td><td>[]</td><td>[]</td><td>None</td></tr>\n",
       "<tr><td>3158100097180</td><td>None</td><td>None</td><td>[]</td><td>[]</td><td>None</td></tr>\n",
       "<tr><td>3225900097180</td><td>None</td><td>None</td><td>[]</td><td>[]</td><td>None</td></tr>\n",
       "</table></div>"
      ],
      "text/plain": [
       "<clevar.catalog.ClCatalog at 0x7efb47057bb0>"
      ]
     },
     "execution_count": 178,
     "metadata": {},
     "output_type": "execute_result"
    }
   ],
   "source": [
    "mt"
   ]
  },
  {
   "cell_type": "code",
   "execution_count": 175,
   "id": "2ffc33e2-c490-4ce4-b2e3-509afb98ca63",
   "metadata": {},
   "outputs": [
    {
     "name": "stdout",
     "output_type": "stream",
     "text": [
      "    * ClEvar used in matching: 0.13.8\n",
      "    * ClEvar used in matching: 0.13.8\n"
     ]
    },
    {
     "name": "stderr",
     "output_type": "stream",
     "text": [
      "/sps/lsst/users/namourou/conda_clone_210223/descv1.1/clevar/clevar/catalog.py:501: UserWarning: Repeated ID's in id column, adding suffix _r# to them.\n",
      "  warnings.warn(\n"
     ]
    },
    {
     "ename": "KeyError",
     "evalue": "'mt_cross'",
     "output_type": "error",
     "traceback": [
      "\u001b[0;31m---------------------------------------------------------------------------\u001b[0m",
      "\u001b[0;31mKeyError\u001b[0m                                  Traceback (most recent call last)",
      "Cell \u001b[0;32mIn [175], line 3\u001b[0m\n\u001b[1;32m      1\u001b[0m cdc \u001b[38;5;241m=\u001b[39m ClCatalog\u001b[38;5;241m.\u001b[39mread_full(outpath \u001b[38;5;241m+\u001b[39m \u001b[38;5;124m'\u001b[39m\u001b[38;5;124mc1.fits\u001b[39m\u001b[38;5;124m'\u001b[39m) \u001b[38;5;66;03m#cosmoDC2_small matched table\u001b[39;00m\n\u001b[1;32m      2\u001b[0m cam \u001b[38;5;241m=\u001b[39m ClCatalog\u001b[38;5;241m.\u001b[39mread_full(outpath \u001b[38;5;241m+\u001b[39m \u001b[38;5;124m'\u001b[39m\u001b[38;5;124mc2.fits\u001b[39m\u001b[38;5;124m'\u001b[39m,) \u001b[38;5;66;03m#amico matched table\u001b[39;00m\n\u001b[0;32m----> 3\u001b[0m mt1, mt2 \u001b[38;5;241m=\u001b[39m \u001b[43mget_matched_pairs\u001b[49m\u001b[43m(\u001b[49m\u001b[43mcdc\u001b[49m\u001b[43m,\u001b[49m\u001b[43m \u001b[49m\u001b[43mcam\u001b[49m\u001b[43m,\u001b[49m\u001b[43m \u001b[49m\u001b[38;5;124;43m'\u001b[39;49m\u001b[38;5;124;43mcross\u001b[39;49m\u001b[38;5;124;43m'\u001b[39;49m\u001b[43m)\u001b[49m\n",
      "File \u001b[0;32m/sps/lsst/users/namourou/conda_clone_210223/descv1.1/clevar/clevar/match/__init__.py:23\u001b[0m, in \u001b[0;36mget_matched_pairs\u001b[0;34m(cat1, cat2, matching_type, mask1, mask2)\u001b[0m\n\u001b[1;32m      7\u001b[0m \u001b[38;5;28;01mdef\u001b[39;00m \u001b[38;5;21mget_matched_pairs\u001b[39m(cat1, cat2, matching_type, mask1\u001b[38;5;241m=\u001b[39m\u001b[38;5;28;01mNone\u001b[39;00m, mask2\u001b[38;5;241m=\u001b[39m\u001b[38;5;28;01mNone\u001b[39;00m):\n\u001b[1;32m      8\u001b[0m     \u001b[38;5;124;03m\"\"\"\u001b[39;00m\n\u001b[1;32m      9\u001b[0m \u001b[38;5;124;03m    Parameters\u001b[39;00m\n\u001b[1;32m     10\u001b[0m \u001b[38;5;124;03m    ----------\u001b[39;00m\n\u001b[0;32m   (...)\u001b[0m\n\u001b[1;32m     21\u001b[0m \u001b[38;5;124;03m        Mask for clusters 2 properties, must have size=cat2.size\u001b[39;00m\n\u001b[1;32m     22\u001b[0m \u001b[38;5;124;03m    \"\"\"\u001b[39;00m\n\u001b[0;32m---> 23\u001b[0m     mt_mask1, mt_mask2 \u001b[38;5;241m=\u001b[39m \u001b[43mget_matched_masks\u001b[49m\u001b[43m(\u001b[49m\u001b[43mcat1\u001b[49m\u001b[43m,\u001b[49m\u001b[43m \u001b[49m\u001b[43mcat2\u001b[49m\u001b[43m,\u001b[49m\u001b[43m \u001b[49m\u001b[43mmatching_type\u001b[49m\u001b[43m)\u001b[49m\n\u001b[1;32m     24\u001b[0m     mask \u001b[38;5;241m=\u001b[39m np\u001b[38;5;241m.\u001b[39mones(\u001b[38;5;28mlen\u001b[39m(mt_mask2), dtype\u001b[38;5;241m=\u001b[39m\u001b[38;5;28mbool\u001b[39m) \u001b[38;5;28;01mif\u001b[39;00m mask1 \u001b[38;5;129;01mis\u001b[39;00m \u001b[38;5;28;01mNone\u001b[39;00m \u001b[38;5;28;01melse\u001b[39;00m mask1[mt_mask1]\n\u001b[1;32m     25\u001b[0m     mask \u001b[38;5;241m=\u001b[39m mask \u001b[38;5;28;01mif\u001b[39;00m mask2 \u001b[38;5;129;01mis\u001b[39;00m \u001b[38;5;28;01mNone\u001b[39;00m \u001b[38;5;28;01melse\u001b[39;00m mask\u001b[38;5;241m*\u001b[39mmask2[mt_mask2]\n",
      "File \u001b[0;32m/sps/lsst/users/namourou/conda_clone_210223/descv1.1/clevar/clevar/match/__init__.py:62\u001b[0m, in \u001b[0;36mget_matched_masks\u001b[0;34m(cat1, cat2, matching_type)\u001b[0m\n\u001b[1;32m     60\u001b[0m \u001b[38;5;66;03m# convert matching type to the values expected by get_matching_mask\u001b[39;00m\n\u001b[1;32m     61\u001b[0m matching_type_conv \u001b[38;5;241m=\u001b[39m matching_type\u001b[38;5;241m.\u001b[39mreplace(\u001b[38;5;124m'\u001b[39m\u001b[38;5;124mcat1\u001b[39m\u001b[38;5;124m'\u001b[39m, \u001b[38;5;124m'\u001b[39m\u001b[38;5;124mself\u001b[39m\u001b[38;5;124m'\u001b[39m)\u001b[38;5;241m.\u001b[39mreplace(\u001b[38;5;124m'\u001b[39m\u001b[38;5;124mcat2\u001b[39m\u001b[38;5;124m'\u001b[39m, \u001b[38;5;124m'\u001b[39m\u001b[38;5;124mother\u001b[39m\u001b[38;5;124m'\u001b[39m)\n\u001b[0;32m---> 62\u001b[0m mask1 \u001b[38;5;241m=\u001b[39m \u001b[43mcat1\u001b[49m\u001b[38;5;241;43m.\u001b[39;49m\u001b[43mget_matching_mask\u001b[49m\u001b[43m(\u001b[49m\u001b[43mmatching_type_conv\u001b[49m\u001b[43m)\u001b[49m\n\u001b[1;32m     63\u001b[0m mask2 \u001b[38;5;241m=\u001b[39m cat2\u001b[38;5;241m.\u001b[39mids2inds(cat1[\u001b[38;5;124mf\u001b[39m\u001b[38;5;124m'\u001b[39m\u001b[38;5;124mmt_\u001b[39m\u001b[38;5;132;01m{\u001b[39;00mmatching_type_conv\u001b[38;5;132;01m}\u001b[39;00m\u001b[38;5;124m'\u001b[39m][mask1])\n\u001b[1;32m     64\u001b[0m \u001b[38;5;28;01mreturn\u001b[39;00m mask1, mask2\n",
      "File \u001b[0;32m/sps/lsst/users/namourou/conda_clone_210223/descv1.1/clevar/clevar/catalog.py:580\u001b[0m, in \u001b[0;36mCatalog.get_matching_mask\u001b[0;34m(self, matching_type)\u001b[0m\n\u001b[1;32m    578\u001b[0m \u001b[38;5;28;01mif\u001b[39;00m matching_type \u001b[38;5;129;01mnot\u001b[39;00m \u001b[38;5;129;01min\u001b[39;00m _matching_mask_funcs:\n\u001b[1;32m    579\u001b[0m     \u001b[38;5;28;01mraise\u001b[39;00m \u001b[38;5;167;01mValueError\u001b[39;00m(\u001b[38;5;124mf\u001b[39m\u001b[38;5;124m'\u001b[39m\u001b[38;5;124mmatching_type (\u001b[39m\u001b[38;5;132;01m{\u001b[39;00mmatching_type\u001b[38;5;132;01m}\u001b[39;00m\u001b[38;5;124m) must be in \u001b[39m\u001b[38;5;132;01m{\u001b[39;00m\u001b[38;5;28mlist\u001b[39m(_matching_mask_funcs\u001b[38;5;241m.\u001b[39mkeys())\u001b[38;5;132;01m}\u001b[39;00m\u001b[38;5;124m'\u001b[39m)\n\u001b[0;32m--> 580\u001b[0m \u001b[38;5;28;01mreturn\u001b[39;00m \u001b[43m_matching_mask_funcs\u001b[49m\u001b[43m[\u001b[49m\u001b[43mmatching_type\u001b[49m\u001b[43m]\u001b[49m\u001b[43m(\u001b[49m\u001b[38;5;28;43mself\u001b[39;49m\u001b[38;5;241;43m.\u001b[39;49m\u001b[43mdata\u001b[49m\u001b[43m)\u001b[49m\n",
      "File \u001b[0;32m/sps/lsst/users/namourou/conda_clone_210223/descv1.1/clevar/clevar/catalog.py:393\u001b[0m, in \u001b[0;36m<lambda>\u001b[0;34m(match)\u001b[0m\n\u001b[1;32m    387\u001b[0m         kwargs \u001b[38;5;241m=\u001b[39m {\n\u001b[1;32m    388\u001b[0m             \u001b[38;5;124m'\u001b[39m\u001b[38;5;124mtags\u001b[39m\u001b[38;5;124m'\u001b[39m: LowerCaseDict({k[\u001b[38;5;241m4\u001b[39m:]:v \u001b[38;5;28;01mfor\u001b[39;00m k, v \u001b[38;5;129;01min\u001b[39;00m data\u001b[38;5;241m.\u001b[39mmeta\u001b[38;5;241m.\u001b[39mitems() \u001b[38;5;28;01mif\u001b[39;00m k[:\u001b[38;5;241m4\u001b[39m]\u001b[38;5;241m==\u001b[39m\u001b[38;5;124m'\u001b[39m\u001b[38;5;124mTAG_\u001b[39m\u001b[38;5;124m'\u001b[39m}),\n\u001b[1;32m    389\u001b[0m         }\n\u001b[1;32m    390\u001b[0m         \u001b[38;5;28;01mreturn\u001b[39;00m \u001b[38;5;28mself\u001b[39m(data\u001b[38;5;241m=\u001b[39mdata, \u001b[38;5;241m*\u001b[39m\u001b[38;5;241m*\u001b[39mkwargs)\n\u001b[1;32m    392\u001b[0m _matching_mask_funcs \u001b[38;5;241m=\u001b[39m {\n\u001b[0;32m--> 393\u001b[0m     \u001b[38;5;124m'\u001b[39m\u001b[38;5;124mcross\u001b[39m\u001b[38;5;124m'\u001b[39m: \u001b[38;5;28;01mlambda\u001b[39;00m match: \u001b[43mmatch\u001b[49m\u001b[43m[\u001b[49m\u001b[38;5;124;43m'\u001b[39;49m\u001b[38;5;124;43mmt_cross\u001b[39;49m\u001b[38;5;124;43m'\u001b[39;49m\u001b[43m]\u001b[49m\u001b[38;5;241m!=\u001b[39m\u001b[38;5;28;01mNone\u001b[39;00m,\n\u001b[1;32m    394\u001b[0m     \u001b[38;5;124m'\u001b[39m\u001b[38;5;124mself\u001b[39m\u001b[38;5;124m'\u001b[39m: \u001b[38;5;28;01mlambda\u001b[39;00m match: match[\u001b[38;5;124m'\u001b[39m\u001b[38;5;124mmt_self\u001b[39m\u001b[38;5;124m'\u001b[39m]\u001b[38;5;241m!=\u001b[39m\u001b[38;5;28;01mNone\u001b[39;00m,\n\u001b[1;32m    395\u001b[0m     \u001b[38;5;124m'\u001b[39m\u001b[38;5;124mother\u001b[39m\u001b[38;5;124m'\u001b[39m: \u001b[38;5;28;01mlambda\u001b[39;00m match: match[\u001b[38;5;124m'\u001b[39m\u001b[38;5;124mmt_other\u001b[39m\u001b[38;5;124m'\u001b[39m]\u001b[38;5;241m!=\u001b[39m\u001b[38;5;28;01mNone\u001b[39;00m,\n\u001b[1;32m    396\u001b[0m     \u001b[38;5;124m'\u001b[39m\u001b[38;5;124mmulti_self\u001b[39m\u001b[38;5;124m'\u001b[39m: \u001b[38;5;28;01mlambda\u001b[39;00m match: veclen(match[\u001b[38;5;124m'\u001b[39m\u001b[38;5;124mmt_multi_self\u001b[39m\u001b[38;5;124m'\u001b[39m])\u001b[38;5;241m>\u001b[39m\u001b[38;5;241m0\u001b[39m,\n\u001b[1;32m    397\u001b[0m     \u001b[38;5;124m'\u001b[39m\u001b[38;5;124mmulti_other\u001b[39m\u001b[38;5;124m'\u001b[39m: \u001b[38;5;28;01mlambda\u001b[39;00m match: veclen(match[\u001b[38;5;124m'\u001b[39m\u001b[38;5;124mmt_multi_other\u001b[39m\u001b[38;5;124m'\u001b[39m])\u001b[38;5;241m>\u001b[39m\u001b[38;5;241m0\u001b[39m,\n\u001b[1;32m    398\u001b[0m     \u001b[38;5;124m'\u001b[39m\u001b[38;5;124mmulti_join\u001b[39m\u001b[38;5;124m'\u001b[39m: \u001b[38;5;28;01mlambda\u001b[39;00m match: (veclen(match[\u001b[38;5;124m'\u001b[39m\u001b[38;5;124mmt_multi_self\u001b[39m\u001b[38;5;124m'\u001b[39m])\u001b[38;5;241m>\u001b[39m\u001b[38;5;241m0\u001b[39m)\u001b[38;5;241m+\u001b[39m(veclen(match[\u001b[38;5;124m'\u001b[39m\u001b[38;5;124mmt_multi_other\u001b[39m\u001b[38;5;124m'\u001b[39m])\u001b[38;5;241m>\u001b[39m\u001b[38;5;241m0\u001b[39m),\n\u001b[1;32m    399\u001b[0m }\n\u001b[1;32m    401\u001b[0m \u001b[38;5;28;01mclass\u001b[39;00m \u001b[38;5;21;01mCatalog\u001b[39;00m(TagData):\n\u001b[1;32m    402\u001b[0m     \u001b[38;5;124;03m\"\"\"\u001b[39;00m\n\u001b[1;32m    403\u001b[0m \u001b[38;5;124;03m    Parent object to handle catalogs.\u001b[39;00m\n\u001b[1;32m    404\u001b[0m \n\u001b[0;32m   (...)\u001b[0m\n\u001b[1;32m    421\u001b[0m \u001b[38;5;124;03m        Recorded steps of matching\u001b[39;00m\n\u001b[1;32m    422\u001b[0m \u001b[38;5;124;03m    \"\"\"\u001b[39;00m\n",
      "File \u001b[0;32m/sps/lsst/users/namourou/conda_clone_210223/descv1.1/clevar/clevar/catalog.py:51\u001b[0m, in \u001b[0;36mClData.__getitem__\u001b[0;34m(self, item)\u001b[0m\n\u001b[1;32m     49\u001b[0m \u001b[38;5;66;03m# get one column\u001b[39;00m\n\u001b[1;32m     50\u001b[0m \u001b[38;5;28;01mif\u001b[39;00m \u001b[38;5;28misinstance\u001b[39m(item, \u001b[38;5;28mstr\u001b[39m):\n\u001b[0;32m---> 51\u001b[0m     \u001b[38;5;28;01mreturn\u001b[39;00m \u001b[38;5;28;43msuper\u001b[39;49m\u001b[43m(\u001b[49m\u001b[43m)\u001b[49m\u001b[38;5;241;43m.\u001b[39;49m\u001b[38;5;21;43m__getitem__\u001b[39;49m\u001b[43m(\u001b[49m\u001b[38;5;28;43mself\u001b[39;49m\u001b[38;5;241;43m.\u001b[39;49m\u001b[43mnamedict\u001b[49m\u001b[38;5;241;43m.\u001b[39;49m\u001b[43mget\u001b[49m\u001b[43m(\u001b[49m\u001b[43mitem\u001b[49m\u001b[43m,\u001b[49m\u001b[43m \u001b[49m\u001b[43mitem\u001b[49m\u001b[43m)\u001b[49m\u001b[43m)\u001b[49m\n\u001b[1;32m     53\u001b[0m \u001b[38;5;66;03m# get one row\u001b[39;00m\n\u001b[1;32m     54\u001b[0m \u001b[38;5;28;01melif\u001b[39;00m \u001b[38;5;28misinstance\u001b[39m(item, (\u001b[38;5;28mint\u001b[39m, np\u001b[38;5;241m.\u001b[39mint64)):\n",
      "File \u001b[0;32m/sps/lsst/users/namourou/conda_clone_210223/descv1.1/lib/python3.10/site-packages/astropy/table/table.py:1874\u001b[0m, in \u001b[0;36mTable.__getitem__\u001b[0;34m(self, item)\u001b[0m\n\u001b[1;32m   1872\u001b[0m \u001b[38;5;28;01mdef\u001b[39;00m \u001b[38;5;21m__getitem__\u001b[39m(\u001b[38;5;28mself\u001b[39m, item):\n\u001b[1;32m   1873\u001b[0m     \u001b[38;5;28;01mif\u001b[39;00m \u001b[38;5;28misinstance\u001b[39m(item, \u001b[38;5;28mstr\u001b[39m):\n\u001b[0;32m-> 1874\u001b[0m         \u001b[38;5;28;01mreturn\u001b[39;00m \u001b[38;5;28;43mself\u001b[39;49m\u001b[38;5;241;43m.\u001b[39;49m\u001b[43mcolumns\u001b[49m\u001b[43m[\u001b[49m\u001b[43mitem\u001b[49m\u001b[43m]\u001b[49m\n\u001b[1;32m   1875\u001b[0m     \u001b[38;5;28;01melif\u001b[39;00m \u001b[38;5;28misinstance\u001b[39m(item, (\u001b[38;5;28mint\u001b[39m, np\u001b[38;5;241m.\u001b[39minteger)):\n\u001b[1;32m   1876\u001b[0m         \u001b[38;5;28;01mreturn\u001b[39;00m \u001b[38;5;28mself\u001b[39m\u001b[38;5;241m.\u001b[39mRow(\u001b[38;5;28mself\u001b[39m, item)\n",
      "File \u001b[0;32m/sps/lsst/users/namourou/conda_clone_210223/descv1.1/lib/python3.10/site-packages/astropy/table/table.py:246\u001b[0m, in \u001b[0;36mTableColumns.__getitem__\u001b[0;34m(self, item)\u001b[0m\n\u001b[1;32m    236\u001b[0m \u001b[38;5;124;03m\"\"\"Get items from a TableColumns object.\u001b[39;00m\n\u001b[1;32m    237\u001b[0m \u001b[38;5;124;03m::\u001b[39;00m\n\u001b[1;32m    238\u001b[0m \n\u001b[0;32m   (...)\u001b[0m\n\u001b[1;32m    243\u001b[0m \u001b[38;5;124;03m  tc[1:3] # <TableColumns names=('b', 'c')>\u001b[39;00m\n\u001b[1;32m    244\u001b[0m \u001b[38;5;124;03m\"\"\"\u001b[39;00m\n\u001b[1;32m    245\u001b[0m \u001b[38;5;28;01mif\u001b[39;00m \u001b[38;5;28misinstance\u001b[39m(item, \u001b[38;5;28mstr\u001b[39m):\n\u001b[0;32m--> 246\u001b[0m     \u001b[38;5;28;01mreturn\u001b[39;00m \u001b[43mOrderedDict\u001b[49m\u001b[38;5;241;43m.\u001b[39;49m\u001b[38;5;21;43m__getitem__\u001b[39;49m\u001b[43m(\u001b[49m\u001b[38;5;28;43mself\u001b[39;49m\u001b[43m,\u001b[49m\u001b[43m \u001b[49m\u001b[43mitem\u001b[49m\u001b[43m)\u001b[49m\n\u001b[1;32m    247\u001b[0m \u001b[38;5;28;01melif\u001b[39;00m \u001b[38;5;28misinstance\u001b[39m(item, (\u001b[38;5;28mint\u001b[39m, np\u001b[38;5;241m.\u001b[39minteger)):\n\u001b[1;32m    248\u001b[0m     \u001b[38;5;28;01mreturn\u001b[39;00m \u001b[38;5;28mlist\u001b[39m(\u001b[38;5;28mself\u001b[39m\u001b[38;5;241m.\u001b[39mvalues())[item]\n",
      "\u001b[0;31mKeyError\u001b[0m: 'mt_cross'"
     ]
    }
   ],
   "source": [
    "cdc = ClCatalog.read_full(outpath + 'c1.fits') #cosmoDC2_small matched table\n",
    "cam = ClCatalog.read_full(outpath + 'c2.fits',) #amico matched table\n",
    "mt1, mt2 = get_matched_pairs(cdc, cam, 'cross')"
   ]
  },
  {
   "cell_type": "code",
   "execution_count": null,
   "id": "0c1f624c-6a72-4f80-a1ff-280f55b8daab",
   "metadata": {},
   "outputs": [],
   "source": [
    "output_matched_catalog(outpath + 'c1.fits', outpath + 'c2.fits',outpath+'output_catalog.fits', cdc, cam, matching_type='cross', overwrite=True) # Saves matchings in one file"
   ]
  },
  {
   "cell_type": "code",
   "execution_count": null,
   "id": "0dac7ee2-b3c7-4060-a6eb-b7e983f54657",
   "metadata": {},
   "outputs": [],
   "source": []
  },
  {
   "cell_type": "code",
   "execution_count": null,
   "id": "c2c36dcd-68bd-44cb-a4fa-06dcced25beb",
   "metadata": {},
   "outputs": [],
   "source": [
    "\"\"\"Trying to solve output_matched_catalog not working\"\"\""
   ]
  },
  {
   "cell_type": "code",
   "execution_count": 168,
   "id": "3d3fa67d-4128-4627-aaf4-8ec398e64506",
   "metadata": {},
   "outputs": [
    {
     "ename": "KeyboardInterrupt",
     "evalue": "",
     "output_type": "error",
     "traceback": [
      "\u001b[0;31m---------------------------------------------------------------------------\u001b[0m",
      "\u001b[0;31mKeyboardInterrupt\u001b[0m                         Traceback (most recent call last)",
      "Cell \u001b[0;32mIn [168], line 4\u001b[0m\n\u001b[1;32m      2\u001b[0m \u001b[38;5;28;01mfor\u001b[39;00m gal \u001b[38;5;129;01min\u001b[39;00m cosmodc2_data[\u001b[38;5;124m'\u001b[39m\u001b[38;5;124mgalaxy_id\u001b[39m\u001b[38;5;124m'\u001b[39m]:\n\u001b[1;32m      3\u001b[0m     \u001b[38;5;28;01mif\u001b[39;00m gal \u001b[38;5;129;01mnot\u001b[39;00m \u001b[38;5;129;01min\u001b[39;00m gal_list1:\n\u001b[0;32m----> 4\u001b[0m         \u001b[43mgal_list1\u001b[49m\u001b[38;5;241;43m.\u001b[39;49m\u001b[43mappend\u001b[49m\u001b[43m(\u001b[49m\u001b[43mgal\u001b[49m\u001b[43m)\u001b[49m\n",
      "\u001b[0;31mKeyboardInterrupt\u001b[0m: "
     ]
    }
   ],
   "source": [
    "gal_list1 = [] #prend une plombe\n",
    "for gal in cosmodc2_data['galaxy_id']:\n",
    "    if gal not in gal_list1:\n",
    "        gal_list1.append(gal)"
   ]
  },
  {
   "cell_type": "code",
   "execution_count": null,
   "id": "537effc4-7e1b-4914-8057-5e81dc4c56ce",
   "metadata": {},
   "outputs": [],
   "source": [
    "gal_list_am = []\n",
    "for gal in amico_data['mb_id']:\n",
    "    if gal not in gal_list_am:\n",
    "        gal_list_am.append(gal)"
   ]
  },
  {
   "cell_type": "code",
   "execution_count": null,
   "id": "b605be3f-242c-43a6-bbe7-5ddc882ef7c1",
   "metadata": {},
   "outputs": [],
   "source": [
    "np.savetxt('/pbs/home/n/namourou/test_jupyter/cluster_challenge/notebooks/outfiles_1013/membermatching/"
   ]
  },
  {
   "cell_type": "code",
   "execution_count": null,
   "id": "b19f8087-2880-4c2a-9e96-61122e4b53ad",
   "metadata": {},
   "outputs": [],
   "source": []
  },
  {
   "cell_type": "code",
   "execution_count": 163,
   "id": "7d75fb84-2600-4dfc-9917-30fc49cbaa4f",
   "metadata": {},
   "outputs": [],
   "source": [
    "cl_list1_type = []\n",
    "cl_list_am_type = []\n",
    "for i in range(len(cl_list1)):\n",
    "    cl_list1_type.append(int(cl_list1[i]))\n",
    "for i in range(len(cl_list_am)):\n",
    "    cl_list_am_type.append(int(cl_list_am[i]))"
   ]
  },
  {
   "cell_type": "code",
   "execution_count": 166,
   "id": "0f947e8a-1ebe-4443-b778-3364a5beddd6",
   "metadata": {},
   "outputs": [],
   "source": [
    "c1_type = ClCatalog('Cat1', id=cl_list1_type) #Y'a un truc qu'il aime pas dans t['halo_id']\n",
    "#bcp plus rapide avec une liste. raison????"
   ]
  },
  {
   "cell_type": "code",
   "execution_count": 167,
   "id": "a9b475c9-81fb-4583-a47b-52b9120d10e2",
   "metadata": {},
   "outputs": [],
   "source": [
    "c2_type = ClCatalog('Cat2', id=cl_list_am_type) "
   ]
  },
  {
   "cell_type": "code",
   "execution_count": null,
   "id": "84672e58-e72b-47c2-bb91-bfdc2179004a",
   "metadata": {},
   "outputs": [],
   "source": [
    "c1_type.add_members(id=gal_list1, id_cluster=cl_list1_type)"
   ]
  },
  {
   "cell_type": "code",
   "execution_count": null,
   "id": "66790db3-aed7-4a1f-94db-dd877cb7e68a",
   "metadata": {},
   "outputs": [],
   "source": [
    "c2_type.add_members(id=gal_list_am, id_cluster=cl_list_am_type, pmem=amico_data['prob'])"
   ]
  },
  {
   "cell_type": "code",
   "execution_count": null,
   "id": "b929e0d4-6386-468d-8ab2-9785418fb12c",
   "metadata": {},
   "outputs": [],
   "source": [
    "mt.match_members(c1_type.members, c2_type.members, method='id')"
   ]
  },
  {
   "cell_type": "code",
   "execution_count": 143,
   "id": "59fc29af-7a45-4b4a-bce5-63d8ff92f141",
   "metadata": {},
   "outputs": [],
   "source": [
    "c1.cross_match()\n",
    "c2.cross_match()\n",
    "c1.write(outpath + 'cdc_test.fits', overwrite=True)\n",
    "c2.write(outpath + 'cam_test.fits', overwrite = True)\n",
    "mt.save_matches(c1, c2, out_dir=outpath, overwrite=True)"
   ]
  },
  {
   "cell_type": "code",
   "execution_count": null,
   "id": "4fba400f-907a-470c-93ec-c48c84d78c30",
   "metadata": {},
   "outputs": [],
   "source": [
    "match_config = {\n",
    "    'type': 'cross', # options are cross, cat1, cat2\n",
    "    'preference': 'shared_member_fraction', # other options are more_massive, angular_proximity or redshift_proximity\n",
    "    'minimum_share_fraction': 0,\n",
    "    'match_members_kwargs': {'method':'id'},\n",
    "}"
   ]
  },
  {
   "cell_type": "code",
   "execution_count": 146,
   "id": "448dce4c-e93a-466e-ab15-c3d413ef4cd2",
   "metadata": {},
   "outputs": [
    {
     "data": {
      "text/plain": [
       "'/pbs/home/n/namourou/test_jupyter/cluster_challenge/notebooks/outfiles/membermatching/'"
      ]
     },
     "execution_count": 146,
     "metadata": {},
     "output_type": "execute_result"
    }
   ],
   "source": [
    "outpath"
   ]
  },
  {
   "cell_type": "code",
   "execution_count": 154,
   "id": "7ce7c7b9-82ff-46e4-9fcc-f7dc6ecb6500",
   "metadata": {},
   "outputs": [],
   "source": [
    "c1_type = c1\n",
    "c2_type = c2\n",
    "for i in range(len(c2_type['id'])):\n",
    "    c2_type['id'][i] = int(c2_type['id'][i])\n",
    "for i in range(len(c1_type['id'])):\n",
    "    c1_type['id'][i] = int(c1_type['id'][i])"
   ]
  },
  {
   "cell_type": "code",
   "execution_count": 156,
   "id": "ded70c86-0cbb-4021-bcc0-c1fea3cc1f9f",
   "metadata": {},
   "outputs": [],
   "source": [
    "c1_type.cross_match()\n",
    "c2_type.cross_match()\n",
    "c1_type.write(outpath + 'cdc_test.fits', overwrite=True)\n",
    "c2_type.write(outpath + 'cam_test.fits', overwrite = True)"
   ]
  },
  {
   "cell_type": "code",
   "execution_count": 159,
   "id": "1b7cf31b-2604-4700-9fa9-98f481c5b684",
   "metadata": {},
   "outputs": [
    {
     "ename": "IndexError",
     "evalue": "arrays used as indices must be of integer (or boolean) type",
     "output_type": "error",
     "traceback": [
      "\u001b[0;31m---------------------------------------------------------------------------\u001b[0m",
      "\u001b[0;31mIndexError\u001b[0m                                Traceback (most recent call last)",
      "Cell \u001b[0;32mIn [159], line 1\u001b[0m\n\u001b[0;32m----> 1\u001b[0m \u001b[43moutput_matched_catalog\u001b[49m\u001b[43m(\u001b[49m\u001b[43moutpath\u001b[49m\u001b[43m \u001b[49m\u001b[38;5;241;43m+\u001b[39;49m\u001b[43m \u001b[49m\u001b[38;5;124;43m'\u001b[39;49m\u001b[38;5;124;43mcdc_test.fits\u001b[39;49m\u001b[38;5;124;43m'\u001b[39;49m\u001b[43m,\u001b[49m\u001b[43m \u001b[49m\u001b[43moutpath\u001b[49m\u001b[43m \u001b[49m\u001b[38;5;241;43m+\u001b[39;49m\u001b[43m \u001b[49m\u001b[38;5;124;43m'\u001b[39;49m\u001b[38;5;124;43mcam_test.fits\u001b[39;49m\u001b[38;5;124;43m'\u001b[39;49m\u001b[43m,\u001b[49m\u001b[43moutpath\u001b[49m\u001b[38;5;241;43m+\u001b[39;49m\u001b[38;5;124;43m'\u001b[39;49m\u001b[38;5;124;43moutput_catalog.fits\u001b[39;49m\u001b[38;5;124;43m'\u001b[39;49m\u001b[43m,\u001b[49m\u001b[43m \u001b[49m\u001b[43mc1_type\u001b[49m\u001b[43m,\u001b[49m\u001b[43m \u001b[49m\u001b[43mc2_type\u001b[49m\u001b[43m,\u001b[49m\u001b[43m \u001b[49m\u001b[43mmatching_type\u001b[49m\u001b[38;5;241;43m=\u001b[39;49m\u001b[38;5;124;43m'\u001b[39;49m\u001b[38;5;124;43mcross\u001b[39;49m\u001b[38;5;124;43m'\u001b[39;49m\u001b[43m,\u001b[49m\u001b[43m \u001b[49m\u001b[43moverwrite\u001b[49m\u001b[38;5;241;43m=\u001b[39;49m\u001b[38;5;28;43;01mTrue\u001b[39;49;00m\u001b[43m)\u001b[49m \u001b[38;5;66;03m# Saves matchings in one file\u001b[39;00m\n",
      "File \u001b[0;32m/sps/lsst/users/namourou/conda_clone_210223/descv1.1/clevar/clevar/match/__init__.py:134\u001b[0m, in \u001b[0;36moutput_matched_catalog\u001b[0;34m(file_in1, file_in2, file_out, cat1, cat2, matching_type, overwrite)\u001b[0m\n\u001b[1;32m    131\u001b[0m     \u001b[38;5;28;01mraise\u001b[39;00m \u001b[38;5;167;01mValueError\u001b[39;00m(\u001b[38;5;124mf\u001b[39m\u001b[38;5;124m'\u001b[39m\u001b[38;5;124mInput file (\u001b[39m\u001b[38;5;132;01m{\u001b[39;00mfile_in2\u001b[38;5;132;01m}\u001b[39;00m\u001b[38;5;124m) size (=\u001b[39m\u001b[38;5;132;01m{\u001b[39;00m\u001b[38;5;28mlen\u001b[39m(dat2_full)\u001b[38;5;132;01m}\u001b[39;00m\u001b[38;5;124m)\u001b[39m\u001b[38;5;124m'\u001b[39m\n\u001b[1;32m    132\u001b[0m         \u001b[38;5;241m+\u001b[39m\u001b[38;5;124mf\u001b[39m\u001b[38;5;124m'\u001b[39m\u001b[38;5;124m differs from cat2 size (=\u001b[39m\u001b[38;5;132;01m{\u001b[39;00m\u001b[38;5;28mlen\u001b[39m(cat2)\u001b[38;5;132;01m}\u001b[39;00m\u001b[38;5;124m).\u001b[39m\u001b[38;5;124m'\u001b[39m)\n\u001b[1;32m    133\u001b[0m \u001b[38;5;28;01mfor\u001b[39;00m col \u001b[38;5;129;01min\u001b[39;00m dat2_full\u001b[38;5;241m.\u001b[39mcolnames:\n\u001b[0;32m--> 134\u001b[0m     c_matched[\u001b[38;5;124mf\u001b[39m\u001b[38;5;124m'\u001b[39m\u001b[38;5;124mcat2_\u001b[39m\u001b[38;5;132;01m{\u001b[39;00mcol\u001b[38;5;132;01m}\u001b[39;00m\u001b[38;5;124m'\u001b[39m] \u001b[38;5;241m=\u001b[39m \u001b[43mdat2_full\u001b[49m\u001b[43m[\u001b[49m\u001b[43mcol\u001b[49m\u001b[43m]\u001b[49m\u001b[43m[\u001b[49m\u001b[43mm2\u001b[49m\u001b[43m]\u001b[49m\n\u001b[1;32m    135\u001b[0m \u001b[38;5;28;01mdel\u001b[39;00m dat2_full\n\u001b[1;32m    136\u001b[0m \u001b[38;5;28;01mif\u001b[39;00m \u001b[38;5;124m'\u001b[39m\u001b[38;5;124mmt_frac_self\u001b[39m\u001b[38;5;124m'\u001b[39m \u001b[38;5;129;01min\u001b[39;00m cat2\u001b[38;5;241m.\u001b[39mdata\u001b[38;5;241m.\u001b[39mcolnames:\n",
      "File \u001b[0;32mastropy/table/_column_mixins.pyx:79\u001b[0m, in \u001b[0;36mastropy.table._column_mixins._ColumnGetitemShim.__getitem__\u001b[0;34m()\u001b[0m\n",
      "File \u001b[0;32mastropy/table/_column_mixins.pyx:62\u001b[0m, in \u001b[0;36mastropy.table._column_mixins.base_getitem\u001b[0;34m()\u001b[0m\n",
      "File \u001b[0;32mastropy/table/_column_mixins.pyx:74\u001b[0m, in \u001b[0;36mastropy.table._column_mixins.column_getitem\u001b[0;34m()\u001b[0m\n",
      "\u001b[0;31mIndexError\u001b[0m: arrays used as indices must be of integer (or boolean) type"
     ]
    }
   ],
   "source": [
    "output_matched_catalog(outpath + 'cdc_test.fits', outpath + 'cam_test.fits',outpath+'output_catalog.fits', c1_type, c2_type, matching_type='cross', overwrite=True) # Saves matchings in one file"
   ]
  },
  {
   "cell_type": "code",
   "execution_count": null,
   "id": "5f022319-7bc4-4601-9b58-9bdc9160e6bc",
   "metadata": {},
   "outputs": [],
   "source": [
    "outpath = '/pbs/home/n/namourou/test_jupyter/cluster_challenge/notebooks/outfiles_1013/'\n",
    "plotspath = '/pbs/home/n/namourou/test_jupyter/cluster_challenge/notebooks/plots/amico_plots/'\n",
    "cdc = ClCatalog.read_full(outpath + 'cdc.fits') #cosmoDC2_small matched table\n",
    "cam = ClCatalog.read_full(outpath + 'cam.fits') #amico matched table\n",
    "mt1, mt2 = get_matched_pairs(cdc, cam, 'cross')\n",
    "c_merged = ClCatalog.read(outpath +'output_catalog.fits', 'merged',  tags = {'z_halo' : 'cat1_z', 'z_amico' : 'cat2_z', 'richness' : 'cat2_richness', 'mass' : 'cat1_mass', 'SN' : 'cat2_SN'})"
   ]
  },
  {
   "cell_type": "code",
   "execution_count": 153,
   "id": "26d7e60e-15f0-414d-b031-c8d685cc367d",
   "metadata": {},
   "outputs": [
    {
     "data": {
      "text/plain": [
       "<clevar.match.membership.MembershipMatch at 0x7efbad9efa30>"
      ]
     },
     "metadata": {},
     "output_type": "display_data"
    }
   ],
   "source": [
    "display(mt)"
   ]
  },
  {
   "cell_type": "code",
   "execution_count": 148,
   "id": "5077243c-7032-4a81-a6e9-93d530a42218",
   "metadata": {},
   "outputs": [
    {
     "data": {
      "text/html": [
       "<b>members</b><br><b>tags:</b> id(id), id_cluster(id_cluster)<br><div><i>ClData length=975556</i>\n",
       "<table id=\"table139619724487616\" class=\"table-striped table-bordered table-condensed\">\n",
       "<thead><tr><th>id</th><th>id_cluster</th><th>ind_cl</th><th>match</th></tr></thead>\n",
       "<thead><tr><th>str21</th><th>str21</th><th>int64</th><th>object</th></tr></thead>\n",
       "<tr><td>9687500004</td><td>400155487</td><td>0</td><td>[]</td></tr>\n",
       "<tr><td>9687500005</td><td>400155487</td><td>0</td><td>[]</td></tr>\n",
       "<tr><td>9687500006</td><td>400155487</td><td>0</td><td>[]</td></tr>\n",
       "<tr><td>9687502264</td><td>37900155453</td><td>1</td><td>[]</td></tr>\n",
       "<tr><td>9687502265</td><td>37900155453</td><td>1</td><td>[]</td></tr>\n",
       "<tr><td>9687502266</td><td>37900155453</td><td>1</td><td>[]</td></tr>\n",
       "<tr><td>9687502267</td><td>37900155453</td><td>1</td><td>[]</td></tr>\n",
       "<tr><td>9687502268</td><td>37900155453</td><td>1</td><td>[]</td></tr>\n",
       "<tr><td>9687502269</td><td>37900155453</td><td>1</td><td>[]</td></tr>\n",
       "<tr><td>9687502270</td><td>37900155453</td><td>1</td><td>[]</td></tr>\n",
       "<tr><td>...</td><td>...</td><td>...</td><td>...</td></tr>\n",
       "<tr><td>6069509403</td><td>1744500097180</td><td>41657</td><td>[]</td></tr>\n",
       "<tr><td>6069509404</td><td>1744500097180</td><td>41657</td><td>[]</td></tr>\n",
       "<tr><td>6069509405</td><td>1744500097180</td><td>41657</td><td>[]</td></tr>\n",
       "<tr><td>6069509406</td><td>1744500097180</td><td>41657</td><td>[]</td></tr>\n",
       "<tr><td>6069509407</td><td>1744500097180</td><td>41657</td><td>[]</td></tr>\n",
       "<tr><td>6069509408</td><td>1744500097180</td><td>41657</td><td>[]</td></tr>\n",
       "<tr><td>6069509409</td><td>1744500097180</td><td>41657</td><td>[]</td></tr>\n",
       "<tr><td>6069509410</td><td>3020800097180</td><td>41682</td><td>[]</td></tr>\n",
       "<tr><td>6069509411</td><td>3020800097180</td><td>41682</td><td>[]</td></tr>\n",
       "<tr><td>6069509412</td><td>3020800097180</td><td>41682</td><td>[]</td></tr>\n",
       "</table></div>"
      ],
      "text/plain": [
       "<clevar.catalog.MemCatalog at 0x7efadd88e860>"
      ]
     },
     "execution_count": 148,
     "metadata": {},
     "output_type": "execute_result"
    }
   ],
   "source": [
    "c1.members"
   ]
  },
  {
   "cell_type": "code",
   "execution_count": null,
   "id": "33fcaf73-d3c0-46cc-acb9-b032b49e7ab5",
   "metadata": {},
   "outputs": [],
   "source": []
  },
  {
   "cell_type": "code",
   "execution_count": null,
   "id": "b27a91c3-a857-4eec-bed4-74469a9e9404",
   "metadata": {},
   "outputs": [],
   "source": []
  },
  {
   "cell_type": "code",
   "execution_count": 69,
   "id": "6dba40dd-77ec-4d70-9e4f-6307b6cd9188",
   "metadata": {},
   "outputs": [],
   "source": [
    "c1 = ClCatalog('Cat1', id_cluster=t['halo_id'],id=t_gal,\n",
    "               ra=t['ra'], dec=t['dec'], pmem=t['PMEM'], halo_mass = t['halo_mass'], stelar_mass = t['stellar_mass'])"
   ]
  },
  {
   "cell_type": "code",
   "execution_count": 70,
   "id": "2ecb25de-53c2-42f5-9f4a-448a0201067d",
   "metadata": {},
   "outputs": [
    {
     "name": "stderr",
     "output_type": "stream",
     "text": [
      "/sps/lsst/users/namourou/conda_clone_210223/descv1.1/clevar/clevar/catalog.py:501: UserWarning: Repeated ID's in id column, adding suffix _r# to them.\n",
      "  warnings.warn(\n"
     ]
    }
   ],
   "source": [
    "c2 = ClCatalog('Cat2', id_cluster=amico_data['halo_id'],id=amico_data['mb_id'], pmem=amico_data['prob'])"
   ]
  },
  {
   "cell_type": "code",
   "execution_count": 77,
   "id": "1a3ee664-3819-4b7b-b632-55a96402e064",
   "metadata": {},
   "outputs": [
    {
     "name": "stderr",
     "output_type": "stream",
     "text": [
      "/sps/lsst/users/namourou/conda_clone_210223/descv1.1/clevar/clevar/catalog.py:1032: UserWarning: Some galaxies were not members of the cluster catalog. They are stored in leftover_members attribute.\n",
      "  warnings.warn(\n"
     ]
    }
   ],
   "source": [
    "c1.add_members(id=t_gal, id_cluster=t['halo_id'],\n",
    "               ra=t['ra'], dec=t['dec'], pmem=t['PMEM'])"
   ]
  },
  {
   "cell_type": "code",
   "execution_count": 84,
   "id": "248ffbba-d006-4cc8-beda-59617a847363",
   "metadata": {},
   "outputs": [
    {
     "name": "stderr",
     "output_type": "stream",
     "text": [
      "/sps/lsst/users/namourou/conda_clone_210223/descv1.1/clevar/clevar/catalog.py:1032: UserWarning: Some galaxies were not members of the cluster catalog. They are stored in leftover_members attribute.\n",
      "  warnings.warn(\n"
     ]
    }
   ],
   "source": [
    "c2.add_members(id=amico_data['mb_id'], id_cluster=amico_data['halo_id'], pmem=amico_data['prob'])"
   ]
  },
  {
   "cell_type": "code",
   "execution_count": 86,
   "id": "a4990504-67e8-40b7-bb11-af19ea78aba6",
   "metadata": {},
   "outputs": [
    {
     "data": {
      "text/html": [
       "<b>Cat1</b><br></b><b>tags:</b> id(id), ra(ra), dec(dec)<br><b>Radius unit:</b> None<br><div><i>ClData length=1473995</i>\n",
       "<table id=\"table139619439804528\" class=\"table-striped table-bordered table-condensed\">\n",
       "<thead><tr><th>id</th><th>id_cluster</th><th>ra</th><th>dec</th><th>pmem</th><th>halo_mass</th><th>stelar_mass</th><th>mt_self</th><th>mt_other</th><th>mt_multi_self</th><th>mt_multi_other</th></tr></thead>\n",
       "<thead><tr><th>str11</th><th>int64</th><th>float64</th><th>float64</th><th>float64</th><th>float64</th><th>float32</th><th>object</th><th>object</th><th>object</th><th>object</th></tr></thead>\n",
       "<tr><td>9687500004</td><td>400155487</td><td>61.869596337556686</td><td>-40.90712062111757</td><td>1.0</td><td>12069313567729.578</td><td>28955730000.0</td><td>None</td><td>None</td><td>[]</td><td>[]</td></tr>\n",
       "<tr><td>9687500005</td><td>400155487</td><td>61.49201043033873</td><td>-40.825923782025</td><td>1.0</td><td>12069313567729.578</td><td>85321110.0</td><td>None</td><td>None</td><td>[]</td><td>[]</td></tr>\n",
       "<tr><td>9687500006</td><td>400155487</td><td>61.752069643381446</td><td>-40.92046711520129</td><td>1.0</td><td>12069313567729.578</td><td>15940011.0</td><td>None</td><td>None</td><td>[]</td><td>[]</td></tr>\n",
       "<tr><td>9687502264</td><td>37900155453</td><td>61.295572557486395</td><td>-39.80574428988245</td><td>1.0</td><td>10887561031391.55</td><td>31920017000.0</td><td>None</td><td>None</td><td>[]</td><td>[]</td></tr>\n",
       "<tr><td>9687502265</td><td>37900155453</td><td>61.333870100549795</td><td>-39.76796351163807</td><td>1.0</td><td>10887561031391.55</td><td>14539329000.0</td><td>None</td><td>None</td><td>[]</td><td>[]</td></tr>\n",
       "<tr><td>9687502266</td><td>37900155453</td><td>61.30112057904649</td><td>-39.77210984692316</td><td>1.0</td><td>10887561031391.55</td><td>18402986000.0</td><td>None</td><td>None</td><td>[]</td><td>[]</td></tr>\n",
       "<tr><td>9687502267</td><td>37900155453</td><td>61.30703551395186</td><td>-39.77771327166441</td><td>1.0</td><td>10887561031391.55</td><td>19184607000.0</td><td>None</td><td>None</td><td>[]</td><td>[]</td></tr>\n",
       "<tr><td>9687502268</td><td>37900155453</td><td>61.3099571986797</td><td>-39.74196274224435</td><td>1.0</td><td>10887561031391.55</td><td>2930447000.0</td><td>None</td><td>None</td><td>[]</td><td>[]</td></tr>\n",
       "<tr><td>9687502269</td><td>37900155453</td><td>61.31394110141341</td><td>-39.77270859800393</td><td>1.0</td><td>10887561031391.55</td><td>71873260.0</td><td>None</td><td>None</td><td>[]</td><td>[]</td></tr>\n",
       "<tr><td>9687502270</td><td>37900155453</td><td>61.309789177802664</td><td>-39.80408880007621</td><td>1.0</td><td>10887561031391.55</td><td>392136480.0</td><td>None</td><td>None</td><td>[]</td><td>[]</td></tr>\n",
       "<tr><td>...</td><td>...</td><td>...</td><td>...</td><td>...</td><td>...</td><td>...</td><td>...</td><td>...</td><td>...</td><td>...</td></tr>\n",
       "<tr><td>8957667735</td><td>5190600143121</td><td>66.2565488621445</td><td>-37.986307820589325</td><td>1.0</td><td>10106667284912.676</td><td>408585630.0</td><td>None</td><td>None</td><td>[]</td><td>[]</td></tr>\n",
       "<tr><td>8957667736</td><td>5190600143121</td><td>66.25853124323918</td><td>-37.98792082422343</td><td>1.0</td><td>10106667284912.676</td><td>262133900.0</td><td>None</td><td>None</td><td>[]</td><td>[]</td></tr>\n",
       "<tr><td>8957667737</td><td>5190600143121</td><td>66.26073376559236</td><td>-37.98838638654553</td><td>1.0</td><td>10106667284912.676</td><td>1468286500.0</td><td>None</td><td>None</td><td>[]</td><td>[]</td></tr>\n",
       "<tr><td>8957667738</td><td>5190600143121</td><td>66.25883534701792</td><td>-37.99044883501686</td><td>1.0</td><td>10106667284912.676</td><td>152124430.0</td><td>None</td><td>None</td><td>[]</td><td>[]</td></tr>\n",
       "<tr><td>8957667739</td><td>5190600143121</td><td>66.26160757338543</td><td>-37.98596771822307</td><td>1.0</td><td>10106667284912.676</td><td>18058760.0</td><td>None</td><td>None</td><td>[]</td><td>[]</td></tr>\n",
       "<tr><td>8957667740</td><td>5190600143121</td><td>66.25676991707701</td><td>-37.98842179156485</td><td>1.0</td><td>10106667284912.676</td><td>5157680600.0</td><td>None</td><td>None</td><td>[]</td><td>[]</td></tr>\n",
       "<tr><td>8957667741</td><td>5190600143121</td><td>66.26141028752625</td><td>-37.9882002500993</td><td>1.0</td><td>10106667284912.676</td><td>1181235200.0</td><td>None</td><td>None</td><td>[]</td><td>[]</td></tr>\n",
       "<tr><td>8957667742</td><td>5190600143121</td><td>66.2554188714504</td><td>-37.98786537982444</td><td>1.0</td><td>10106667284912.676</td><td>192263820.0</td><td>None</td><td>None</td><td>[]</td><td>[]</td></tr>\n",
       "<tr><td>8957667743</td><td>5190600143121</td><td>66.25998640809715</td><td>-37.98650098698962</td><td>1.0</td><td>10106667284912.676</td><td>12284200.0</td><td>None</td><td>None</td><td>[]</td><td>[]</td></tr>\n",
       "<tr><td>8957667744</td><td>5190600143121</td><td>66.2541930579197</td><td>-37.98841950054195</td><td>1.0</td><td>10106667284912.676</td><td>12840137.0</td><td>None</td><td>None</td><td>[]</td><td>[]</td></tr>\n",
       "</table></div>"
      ],
      "text/plain": [
       "<clevar.catalog.ClCatalog at 0x7efbada4a3e0>"
      ]
     },
     "execution_count": 86,
     "metadata": {},
     "output_type": "execute_result"
    }
   ],
   "source": [
    "c1"
   ]
  },
  {
   "cell_type": "code",
   "execution_count": 79,
   "id": "e443bfe4-55d0-455f-bf7c-7885ece4f51c",
   "metadata": {},
   "outputs": [],
   "source": [
    "from clevar.match import MembershipMatch\n",
    "mt = MembershipMatch()"
   ]
  },
  {
   "cell_type": "code",
   "execution_count": 80,
   "id": "48fa03bb-adb7-41aa-8baa-dd9993993d6d",
   "metadata": {},
   "outputs": [],
   "source": [
    "match_config = {\n",
    "    'type': 'cross', # options are cross, cat1, cat2\n",
    "    'preference': 'shared_member_fraction', # other options are more_massive, angular_proximity or redshift_proximity\n",
    "    'minimum_share_fraction': 0,\n",
    "    'match_members_kwargs': {'method':'id'},\n",
    "}"
   ]
  },
  {
   "cell_type": "code",
   "execution_count": 81,
   "id": "8b93a4bf-2d73-44a8-a8d0-10795b02a0e7",
   "metadata": {},
   "outputs": [
    {
     "name": "stdout",
     "output_type": "stream",
     "text": [
      "0 members were matched.\n"
     ]
    },
    {
     "ename": "TypeError",
     "evalue": "Empty table cannot have column set to scalar value",
     "output_type": "error",
     "traceback": [
      "\u001b[0;31m---------------------------------------------------------------------------\u001b[0m",
      "\u001b[0;31mTypeError\u001b[0m                                 Traceback (most recent call last)",
      "Cell \u001b[0;32mIn [81], line 1\u001b[0m\n\u001b[0;32m----> 1\u001b[0m \u001b[43mmt\u001b[49m\u001b[38;5;241;43m.\u001b[39;49m\u001b[43mmatch_from_config\u001b[49m\u001b[43m(\u001b[49m\u001b[43mc1\u001b[49m\u001b[43m,\u001b[49m\u001b[43m \u001b[49m\u001b[43mc2\u001b[49m\u001b[43m,\u001b[49m\u001b[43m \u001b[49m\u001b[43mmatch_config\u001b[49m\u001b[43m)\u001b[49m\n",
      "File \u001b[0;32m/sps/lsst/users/namourou/conda_clone_210223/descv1.1/clevar/clevar/match/membership.py:328\u001b[0m, in \u001b[0;36mMembershipMatch.match_from_config\u001b[0;34m(self, cat1, cat2, match_config, cosmo)\u001b[0m\n\u001b[1;32m    326\u001b[0m load_mt_member \u001b[38;5;241m=\u001b[39m match_config\u001b[38;5;241m.\u001b[39mget(\u001b[38;5;124m'\u001b[39m\u001b[38;5;124mmatch_members_load\u001b[39m\u001b[38;5;124m'\u001b[39m, \u001b[38;5;28;01mFalse\u001b[39;00m)\n\u001b[1;32m    327\u001b[0m \u001b[38;5;28;01mif\u001b[39;00m match_config\u001b[38;5;241m.\u001b[39mget(\u001b[38;5;124m'\u001b[39m\u001b[38;5;124mmatch_members\u001b[39m\u001b[38;5;124m'\u001b[39m, \u001b[38;5;28;01mTrue\u001b[39;00m) \u001b[38;5;129;01mand\u001b[39;00m \u001b[38;5;129;01mnot\u001b[39;00m load_mt_member:\n\u001b[0;32m--> 328\u001b[0m     \u001b[38;5;28;43mself\u001b[39;49m\u001b[38;5;241;43m.\u001b[39;49m\u001b[43mmatch_members\u001b[49m\u001b[43m(\u001b[49m\u001b[43mcat1\u001b[49m\u001b[38;5;241;43m.\u001b[39;49m\u001b[43mmembers\u001b[49m\u001b[43m,\u001b[49m\u001b[43m \u001b[49m\u001b[43mcat2\u001b[49m\u001b[38;5;241;43m.\u001b[39;49m\u001b[43mmembers\u001b[49m\u001b[43m,\u001b[49m\u001b[43m \u001b[49m\u001b[38;5;241;43m*\u001b[39;49m\u001b[38;5;241;43m*\u001b[39;49m\u001b[43mmatch_config\u001b[49m\u001b[43m[\u001b[49m\u001b[38;5;124;43m'\u001b[39;49m\u001b[38;5;124;43mmatch_members_kwargs\u001b[39;49m\u001b[38;5;124;43m'\u001b[39;49m\u001b[43m]\u001b[49m\u001b[43m)\u001b[49m\n\u001b[1;32m    329\u001b[0m \u001b[38;5;28;01mif\u001b[39;00m match_config\u001b[38;5;241m.\u001b[39mget(\u001b[38;5;124m'\u001b[39m\u001b[38;5;124mmatch_members_save\u001b[39m\u001b[38;5;124m'\u001b[39m, \u001b[38;5;28;01mFalse\u001b[39;00m) \u001b[38;5;129;01mand\u001b[39;00m \u001b[38;5;129;01mnot\u001b[39;00m load_mt_member:\n\u001b[1;32m    330\u001b[0m     \u001b[38;5;28mself\u001b[39m\u001b[38;5;241m.\u001b[39msave_matched_members(match_config[\u001b[38;5;124m'\u001b[39m\u001b[38;5;124mmatch_members_file\u001b[39m\u001b[38;5;124m'\u001b[39m], overwrite\u001b[38;5;241m=\u001b[39m\u001b[38;5;28;01mTrue\u001b[39;00m)\n",
      "File \u001b[0;32m/sps/lsst/users/namourou/conda_clone_210223/descv1.1/clevar/clevar/match/membership.py:187\u001b[0m, in \u001b[0;36mMembershipMatch.match_members\u001b[0;34m(self, mem1, mem2, method, radius, cosmo)\u001b[0m\n\u001b[1;32m    185\u001b[0m \u001b[38;5;66;03m# Add id_cluster if found in other catalog\u001b[39;00m\n\u001b[1;32m    186\u001b[0m mem1[\u001b[38;5;124m'\u001b[39m\u001b[38;5;124mmatch\u001b[39m\u001b[38;5;124m'\u001b[39m] \u001b[38;5;241m=\u001b[39m \u001b[38;5;28;01mNone\u001b[39;00m\n\u001b[0;32m--> 187\u001b[0m \u001b[43mmem2\u001b[49m\u001b[43m[\u001b[49m\u001b[38;5;124;43m'\u001b[39;49m\u001b[38;5;124;43mmatch\u001b[39;49m\u001b[38;5;124;43m'\u001b[39;49m\u001b[43m]\u001b[49m \u001b[38;5;241m=\u001b[39m \u001b[38;5;28;01mNone\u001b[39;00m\n\u001b[1;32m    188\u001b[0m \u001b[38;5;28;01mfor\u001b[39;00m i \u001b[38;5;129;01min\u001b[39;00m \u001b[38;5;28mrange\u001b[39m(mem1\u001b[38;5;241m.\u001b[39msize):\n\u001b[1;32m    189\u001b[0m     mem1[\u001b[38;5;124m'\u001b[39m\u001b[38;5;124mmatch\u001b[39m\u001b[38;5;124m'\u001b[39m][i] \u001b[38;5;241m=\u001b[39m []\n",
      "File \u001b[0;32m/sps/lsst/users/namourou/conda_clone_210223/descv1.1/clevar/clevar/catalog.py:494\u001b[0m, in \u001b[0;36mCatalog.__setitem__\u001b[0;34m(self, item, value)\u001b[0m\n\u001b[1;32m    492\u001b[0m             \u001b[38;5;28;01mraise\u001b[39;00m \u001b[38;5;167;01mTypeError\u001b[39;00m(\u001b[38;5;124m'\u001b[39m\u001b[38;5;124mEmpty table cannot have column set to scalar value\u001b[39m\u001b[38;5;124m'\u001b[39m)\n\u001b[1;32m    493\u001b[0m         \u001b[38;5;28mself\u001b[39m\u001b[38;5;241m.\u001b[39m_create_id(\u001b[38;5;28mlen\u001b[39m(value))\n\u001b[0;32m--> 494\u001b[0m \u001b[43mTagData\u001b[49m\u001b[38;5;241;43m.\u001b[39;49m\u001b[38;5;21;43m__setitem__\u001b[39;49m\u001b[43m(\u001b[49m\u001b[38;5;28;43mself\u001b[39;49m\u001b[43m,\u001b[49m\u001b[43m \u001b[49m\u001b[43mitem\u001b[49m\u001b[43m,\u001b[49m\u001b[43m \u001b[49m\u001b[43mvalue_\u001b[49m\u001b[43m)\u001b[49m\n",
      "File \u001b[0;32m/sps/lsst/users/namourou/conda_clone_210223/descv1.1/clevar/clevar/catalog.py:170\u001b[0m, in \u001b[0;36mTagData.__setitem__\u001b[0;34m(self, item, value)\u001b[0m\n\u001b[1;32m    168\u001b[0m     \u001b[38;5;28;01mif\u001b[39;00m item \u001b[38;5;129;01min\u001b[39;00m \u001b[38;5;28mself\u001b[39m\u001b[38;5;241m.\u001b[39mdefault_tags:\n\u001b[1;32m    169\u001b[0m         \u001b[38;5;28mself\u001b[39m\u001b[38;5;241m.\u001b[39mtags[item] \u001b[38;5;241m=\u001b[39m \u001b[38;5;28mself\u001b[39m\u001b[38;5;241m.\u001b[39mdata\u001b[38;5;241m.\u001b[39mnamedict\u001b[38;5;241m.\u001b[39mget(cname, cname)\n\u001b[0;32m--> 170\u001b[0m     \u001b[38;5;28;43mself\u001b[39;49m\u001b[38;5;241;43m.\u001b[39;49m\u001b[43mdata\u001b[49m\u001b[43m[\u001b[49m\u001b[43mcname\u001b[49m\u001b[43m]\u001b[49m \u001b[38;5;241m=\u001b[39m value\n\u001b[1;32m    171\u001b[0m \u001b[38;5;28;01melse\u001b[39;00m:\n\u001b[1;32m    172\u001b[0m     \u001b[38;5;28;01mraise\u001b[39;00m \u001b[38;5;167;01mValueError\u001b[39;00m(\u001b[38;5;124mf\u001b[39m\u001b[38;5;124m'\u001b[39m\u001b[38;5;124mcan only set with str item (=\u001b[39m\u001b[38;5;132;01m{\u001b[39;00mitem\u001b[38;5;132;01m}\u001b[39;00m\u001b[38;5;124m) argument.\u001b[39m\u001b[38;5;124m'\u001b[39m)\n",
      "File \u001b[0;32m/sps/lsst/users/namourou/conda_clone_210223/descv1.1/clevar/clevar/catalog.py:76\u001b[0m, in \u001b[0;36mClData.__setitem__\u001b[0;34m(self, item, value)\u001b[0m\n\u001b[1;32m     74\u001b[0m     item \u001b[38;5;241m=\u001b[39m \u001b[38;5;28mself\u001b[39m\u001b[38;5;241m.\u001b[39mnamedict\u001b[38;5;241m.\u001b[39mget(item, item)\n\u001b[1;32m     75\u001b[0m     \u001b[38;5;28mself\u001b[39m\u001b[38;5;241m.\u001b[39mnamedict[item] \u001b[38;5;241m=\u001b[39m item\n\u001b[0;32m---> 76\u001b[0m \u001b[38;5;28;43msuper\u001b[39;49m\u001b[43m(\u001b[49m\u001b[43m)\u001b[49m\u001b[38;5;241;43m.\u001b[39;49m\u001b[38;5;21;43m__setitem__\u001b[39;49m\u001b[43m(\u001b[49m\u001b[43mitem\u001b[49m\u001b[43m,\u001b[49m\u001b[43m \u001b[49m\u001b[43mvalue\u001b[49m\u001b[43m)\u001b[49m\n",
      "File \u001b[0;32m/sps/lsst/users/namourou/conda_clone_210223/descv1.1/lib/python3.10/site-packages/astropy/table/table.py:1906\u001b[0m, in \u001b[0;36mTable.__setitem__\u001b[0;34m(self, item, value)\u001b[0m\n\u001b[1;32m   1902\u001b[0m \u001b[38;5;28;01mdef\u001b[39;00m \u001b[38;5;21m__setitem__\u001b[39m(\u001b[38;5;28mself\u001b[39m, item, value):\n\u001b[1;32m   1903\u001b[0m     \u001b[38;5;66;03m# If the item is a string then it must be the name of a column.\u001b[39;00m\n\u001b[1;32m   1904\u001b[0m     \u001b[38;5;66;03m# If that column doesn't already exist then create it now.\u001b[39;00m\n\u001b[1;32m   1905\u001b[0m     \u001b[38;5;28;01mif\u001b[39;00m \u001b[38;5;28misinstance\u001b[39m(item, \u001b[38;5;28mstr\u001b[39m) \u001b[38;5;129;01mand\u001b[39;00m item \u001b[38;5;129;01mnot\u001b[39;00m \u001b[38;5;129;01min\u001b[39;00m \u001b[38;5;28mself\u001b[39m\u001b[38;5;241m.\u001b[39mcolnames:\n\u001b[0;32m-> 1906\u001b[0m         \u001b[38;5;28;43mself\u001b[39;49m\u001b[38;5;241;43m.\u001b[39;49m\u001b[43madd_column\u001b[49m\u001b[43m(\u001b[49m\u001b[43mvalue\u001b[49m\u001b[43m,\u001b[49m\u001b[43m \u001b[49m\u001b[43mname\u001b[49m\u001b[38;5;241;43m=\u001b[39;49m\u001b[43mitem\u001b[49m\u001b[43m,\u001b[49m\u001b[43m \u001b[49m\u001b[43mcopy\u001b[49m\u001b[38;5;241;43m=\u001b[39;49m\u001b[38;5;28;43;01mTrue\u001b[39;49;00m\u001b[43m)\u001b[49m\n\u001b[1;32m   1908\u001b[0m     \u001b[38;5;28;01melse\u001b[39;00m:\n\u001b[1;32m   1909\u001b[0m         n_cols \u001b[38;5;241m=\u001b[39m \u001b[38;5;28mlen\u001b[39m(\u001b[38;5;28mself\u001b[39m\u001b[38;5;241m.\u001b[39mcolumns)\n",
      "File \u001b[0;32m/sps/lsst/users/namourou/conda_clone_210223/descv1.1/lib/python3.10/site-packages/astropy/table/table.py:2175\u001b[0m, in \u001b[0;36mTable.add_column\u001b[0;34m(self, col, index, name, rename_duplicate, copy, default_name)\u001b[0m\n\u001b[1;32m   2172\u001b[0m \u001b[38;5;66;03m# Assigning a scalar column to an empty table should result in an\u001b[39;00m\n\u001b[1;32m   2173\u001b[0m \u001b[38;5;66;03m# exception (see #3811).\u001b[39;00m\n\u001b[1;32m   2174\u001b[0m \u001b[38;5;28;01mif\u001b[39;00m col\u001b[38;5;241m.\u001b[39mshape \u001b[38;5;241m==\u001b[39m () \u001b[38;5;129;01mand\u001b[39;00m \u001b[38;5;28mlen\u001b[39m(\u001b[38;5;28mself\u001b[39m) \u001b[38;5;241m==\u001b[39m \u001b[38;5;241m0\u001b[39m:\n\u001b[0;32m-> 2175\u001b[0m     \u001b[38;5;28;01mraise\u001b[39;00m \u001b[38;5;167;01mTypeError\u001b[39;00m(\u001b[38;5;124m'\u001b[39m\u001b[38;5;124mEmpty table cannot have column set to scalar value\u001b[39m\u001b[38;5;124m'\u001b[39m)\n\u001b[1;32m   2176\u001b[0m \u001b[38;5;66;03m# Make col data shape correct for scalars.  The second test is to allow\u001b[39;00m\n\u001b[1;32m   2177\u001b[0m \u001b[38;5;66;03m# broadcasting an N-d element to a column, e.g. t['new'] = [[1, 2]].\u001b[39;00m\n\u001b[1;32m   2178\u001b[0m \u001b[38;5;28;01melif\u001b[39;00m (col\u001b[38;5;241m.\u001b[39mshape \u001b[38;5;241m==\u001b[39m () \u001b[38;5;129;01mor\u001b[39;00m col\u001b[38;5;241m.\u001b[39mshape[\u001b[38;5;241m0\u001b[39m] \u001b[38;5;241m==\u001b[39m \u001b[38;5;241m1\u001b[39m) \u001b[38;5;129;01mand\u001b[39;00m \u001b[38;5;28mlen\u001b[39m(\u001b[38;5;28mself\u001b[39m) \u001b[38;5;241m>\u001b[39m \u001b[38;5;241m0\u001b[39m:\n",
      "\u001b[0;31mTypeError\u001b[0m: Empty table cannot have column set to scalar value"
     ]
    }
   ],
   "source": [
    "mt.match_from_config(c1, c2, match_config)"
   ]
  },
  {
   "cell_type": "code",
   "execution_count": null,
   "id": "b05fc779-7ed2-484d-8a84-e41074b4727a",
   "metadata": {},
   "outputs": [],
   "source": [
    "\"\"\"amico_data['RA'] = np.arange(len(amico_data))*10.0\n",
    "amico_data['DEC'] = 0.0\n",
    "amico_data['Z'] = 0.1\n",
    "cosmodc2_data['PMEM'] = 1.0\n",
    "\"\"\""
   ]
  },
  {
   "cell_type": "code",
   "execution_count": null,
   "id": "55a90496-ed3e-422a-a893-3c13e6c65af0",
   "metadata": {},
   "outputs": [],
   "source": [
    "\"\"\"\n",
    "cl_list1 = []\n",
    "for cl in cosmodc2_data['halo_id']:\n",
    "    if cl not in cl_list1:\n",
    "        cl_list1.append(cl)\n",
    "        \"\"\""
   ]
  },
  {
   "cell_type": "code",
   "execution_count": null,
   "id": "c43e8027-a649-4519-b316-2654bc4ddc63",
   "metadata": {},
   "outputs": [],
   "source": [
    "\"\"\"\n",
    "cl_list2 = []\n",
    "for cl in amico_data['halo_id']:\n",
    "    if cl not in cl_list2:\n",
    "        cl_list2.append(cl)\n",
    "        \"\"\"\n",
    "#np.savetxt(outpath + 'cl_list_cosmodc2.txt', cl_list1)\n",
    "#np.savetxt(outpath + 'cl_list_amico.txt', cl_list2)"
   ]
  },
  {
   "cell_type": "code",
   "execution_count": 9,
   "id": "0a073868-566b-4b96-a61a-712a3118f3d8",
   "metadata": {},
   "outputs": [],
   "source": [
    "outpath = '/pbs/home/n/namourou/test_jupyter/cluster_challenge/notebooks/outfiles_1013/membership_matching/'"
   ]
  },
  {
   "cell_type": "code",
   "execution_count": 10,
   "id": "e8162b28-d7c8-44f8-a923-e6cc817f77c5",
   "metadata": {},
   "outputs": [],
   "source": []
  },
  {
   "cell_type": "code",
   "execution_count": 11,
   "id": "d5aed759-8b6d-499f-bf65-45dd5101b142",
   "metadata": {},
   "outputs": [],
   "source": []
  },
  {
   "cell_type": "code",
   "execution_count": 3,
   "id": "2f5bc9a5-1848-4711-97e9-a2f114bfc81d",
   "metadata": {},
   "outputs": [
    {
     "ename": "NameError",
     "evalue": "name 'ClCatalog' is not defined",
     "output_type": "error",
     "traceback": [
      "\u001b[0;31m---------------------------------------------------------------------------\u001b[0m",
      "\u001b[0;31mNameError\u001b[0m                                 Traceback (most recent call last)",
      "Cell \u001b[0;32mIn [3], line 1\u001b[0m\n\u001b[0;32m----> 1\u001b[0m c1 \u001b[38;5;241m=\u001b[39m \u001b[43mClCatalog\u001b[49m(\u001b[38;5;124m'\u001b[39m\u001b[38;5;124mCat1\u001b[39m\u001b[38;5;124m'\u001b[39m, id_cluster\u001b[38;5;241m=\u001b[39mt[\u001b[38;5;124m'\u001b[39m\u001b[38;5;124mhalo_id\u001b[39m\u001b[38;5;124m'\u001b[39m],\u001b[38;5;28mid\u001b[39m\u001b[38;5;241m=\u001b[39mt[\u001b[38;5;124m'\u001b[39m\u001b[38;5;124mgalaxy_id\u001b[39m\u001b[38;5;124m'\u001b[39m],\n\u001b[1;32m      2\u001b[0m                ra\u001b[38;5;241m=\u001b[39mt[\u001b[38;5;124m'\u001b[39m\u001b[38;5;124mra\u001b[39m\u001b[38;5;124m'\u001b[39m], dec\u001b[38;5;241m=\u001b[39mt[\u001b[38;5;124m'\u001b[39m\u001b[38;5;124mdec\u001b[39m\u001b[38;5;124m'\u001b[39m], pmem\u001b[38;5;241m=\u001b[39mt[\u001b[38;5;124m'\u001b[39m\u001b[38;5;124mPMEM\u001b[39m\u001b[38;5;124m'\u001b[39m])\n",
      "\u001b[0;31mNameError\u001b[0m: name 'ClCatalog' is not defined"
     ]
    }
   ],
   "source": []
  },
  {
   "cell_type": "code",
   "execution_count": 2,
   "id": "6fa03f62-e2f8-436e-b65a-f7b129f950b5",
   "metadata": {},
   "outputs": [
    {
     "ename": "NameError",
     "evalue": "name 'c2' is not defined",
     "output_type": "error",
     "traceback": [
      "\u001b[0;31m---------------------------------------------------------------------------\u001b[0m",
      "\u001b[0;31mNameError\u001b[0m                                 Traceback (most recent call last)",
      "Cell \u001b[0;32mIn [2], line 1\u001b[0m\n\u001b[0;32m----> 1\u001b[0m \u001b[43mc2\u001b[49m\n",
      "\u001b[0;31mNameError\u001b[0m: name 'c2' is not defined"
     ]
    }
   ],
   "source": []
  },
  {
   "cell_type": "code",
   "execution_count": null,
   "id": "e66f1edc-7ddc-488c-aaa7-cd1121ac3cb6",
   "metadata": {},
   "outputs": [],
   "source": [
    "from clevar.match import MembershipMatch\n",
    "mt = MembershipMatch()"
   ]
  },
  {
   "cell_type": "code",
   "execution_count": null,
   "id": "8ece5bf6-a535-464f-8ea7-8c10952c7f4e",
   "metadata": {},
   "outputs": [],
   "source": []
  },
  {
   "cell_type": "code",
   "execution_count": null,
   "id": "0bcd950a-14e8-4741-8e9d-5aa300525169",
   "metadata": {},
   "outputs": [],
   "source": []
  },
  {
   "cell_type": "markdown",
   "id": "503db4e3-3ea3-467a-a758-86b2cab83187",
   "metadata": {},
   "source": [
    "### Configure matching parameters & launch it"
   ]
  },
  {
   "cell_type": "markdown",
   "id": "106cb346-97b1-44ae-aa53-5a702707e0b6",
   "metadata": {},
   "source": [
    "### Save results to .fits file"
   ]
  },
  {
   "cell_type": "code",
   "execution_count": 10,
   "id": "f57870d2-00bf-4758-84c4-f70b1c531e06",
   "metadata": {},
   "outputs": [],
   "source": [
    "outpath = '/pbs/home/n/namourou/test_jupyter/cluster_challenge/notebooks/outfiles_1013/membership_matching/'"
   ]
  },
  {
   "cell_type": "code",
   "execution_count": 11,
   "id": "a00daa25-459a-445a-8c20-47f9cb96f6d0",
   "metadata": {},
   "outputs": [],
   "source": [
    "cdc.cross_match()\n",
    "cam.cross_match()\n",
    "cdc.write(outpath + 'cdc.fits', overwrite=True)\n",
    "cam.write(outpath + 'cam.fits', overwrite = True)\n",
    "mt.save_matches(cdc, cam, out_dir=outpath, overwrite=True)"
   ]
  },
  {
   "cell_type": "code",
   "execution_count": null,
   "id": "d6257c52-c009-4c39-8944-1b9338c2df90",
   "metadata": {},
   "outputs": [],
   "source": [
    "output_matched_catalog(outpath + 'cdc.fits', outpath + 'cam.fits',outpath+'output_catalog.fits', cdc1, cam1, matching_type='cross', overwrite=True) # Saves matchings in one file"
   ]
  },
  {
   "cell_type": "code",
   "execution_count": 12,
   "id": "1c81c1cc-29e5-451b-bcc1-7596b9ab86a1",
   "metadata": {},
   "outputs": [
    {
     "name": "stdout",
     "output_type": "stream",
     "text": [
      "Cat_cosmoDC2\n",
      "    * ClEvar used in matching: 0.13.8\n",
      " * Total objects:    61,725\n",
      " * multiple (self):  17,627\n",
      " * multiple (other): 17,627\n",
      " * unique (self):    9,878\n",
      " * unique (other):   9,879\n",
      " * cross:            9,860\n",
      "\n",
      "Cat_amico\n",
      "    * ClEvar used in matching: 0.13.8\n",
      " * Total objects:    11,485\n",
      " * multiple (self):  10,167\n",
      " * multiple (other): 10,167\n",
      " * unique (self):    9,879\n",
      " * unique (other):   9,878\n",
      " * cross:            9,860\n"
     ]
    },
    {
     "data": {
      "text/html": [
       "<b>Cat_cosmoDC2</b><br></b><b>tags:</b> id(id), ra(ra), dec(dec), z(z), mass(mass)<br><b>Radius unit:</b> None<br><div><i>ClData length=61725</i>\n",
       "<table id=\"table139895296883920\" class=\"table-striped table-bordered table-condensed\">\n",
       "<thead><tr><th colspan=10></th><th colspan=3 style='text-align:left; background-color:grey; color:white'>mt_input</th></tr></thread><thead><tr><th>id</th><th>ra</th><th>dec</th><th>z</th><th>mass</th><th>mt_self</th><th>mt_other</th><th>mt_multi_self</th><th>mt_multi_other</th><th>mt_cross</th><th>zmin</th><th>zmax</th><th>ang</th></tr></thead>\n",
       "<thead><tr><th>str5</th><th>float64</th><th>float64</th><th>float64</th><th>float64</th><th>object</th><th>object</th><th>object</th><th>object</th><th>object</th><th>float64</th><th>float64</th><th>float64</th></tr></thead>\n",
       "<tr><td>0</td><td>61.869596337556686</td><td>-40.90712062111757</td><td>0.021333993084020175</td><td>12069313567729.578</td><td>None</td><td>None</td><td>[]</td><td>[]</td><td>None</td><td>-0.029732706570180838</td><td>0.0724006927382212</td><td>0.6435684468251788</td></tr>\n",
       "<tr><td>1</td><td>61.295572557486395</td><td>-39.80574428988245</td><td>0.09395243918657203</td><td>10887561031391.55</td><td>None</td><td>None</td><td>[]</td><td>[]</td><td>None</td><td>0.03925481722724343</td><td>0.14865006114590062</td><td>0.1591986349783974</td></tr>\n",
       "<tr><td>2</td><td>62.961217514835056</td><td>-40.39291946996776</td><td>0.10346959883134677</td><td>33519675397769.016</td><td>None</td><td>None</td><td>[]</td><td>[]</td><td>None</td><td>0.04829611888977942</td><td>0.15864307877291411</td><td>0.14614424369581047</td></tr>\n",
       "<tr><td>3</td><td>62.284364037836404</td><td>-41.07674501853869</td><td>0.14018907525323798</td><td>18629652514614.086</td><td>515</td><td>515</td><td>[&apos;515&apos;]</td><td>[&apos;515&apos;]</td><td>515</td><td>0.08317962149057609</td><td>0.19719852901589988</td><td>0.11244532787963898</td></tr>\n",
       "<tr><td>4</td><td>62.05549212472633</td><td>-41.161071926731644</td><td>0.14304519781057157</td><td>14260490343842.254</td><td>None</td><td>None</td><td>[]</td><td>[]</td><td>None</td><td>0.08589293792004299</td><td>0.20019745770110015</td><td>0.11055303585191585</td></tr>\n",
       "<tr><td>5</td><td>62.10249971222131</td><td>-40.65971574420232</td><td>0.1387209292113325</td><td>15041162560180.283</td><td>None</td><td>None</td><td>[&apos;281&apos;]</td><td>[&apos;281&apos;]</td><td>None</td><td>0.08178488275076587</td><td>0.19565697567189913</td><td>0.11344856845251519</td></tr>\n",
       "<tr><td>6</td><td>61.05606039634485</td><td>-39.972727741545526</td><td>0.18286930814904623</td><td>38307798324642.26</td><td>233</td><td>233</td><td>[&apos;233&apos;]</td><td>[&apos;233&apos;]</td><td>233</td><td>0.12372584274159391</td><td>0.24201277355649853</td><td>0.0903700864344744</td></tr>\n",
       "<tr><td>7</td><td>62.23579865478711</td><td>-39.485977648912574</td><td>0.17966607247124333</td><td>85876300877881.69</td><td>28</td><td>28</td><td>[&apos;28&apos;]</td><td>[&apos;28&apos;]</td><td>28</td><td>0.12068276884768117</td><td>0.2386493760948055</td><td>0.09165948893538191</td></tr>\n",
       "<tr><td>8</td><td>61.97682173294707</td><td>-39.834744453376665</td><td>0.17932797108621878</td><td>13482420368225.354</td><td>None</td><td>None</td><td>[]</td><td>[]</td><td>None</td><td>0.12036157253190785</td><td>0.23829436964052972</td><td>0.09179830488224124</td></tr>\n",
       "<tr><td>9</td><td>61.87050865978772</td><td>-39.738333518447206</td><td>0.16956675299502266</td><td>12909927409577.465</td><td>None</td><td>None</td><td>[]</td><td>[]</td><td>None</td><td>0.11108841534527153</td><td>0.2280450906447738</td><td>0.0960474916536828</td></tr>\n",
       "<tr><td>...</td><td>...</td><td>...</td><td>...</td><td>...</td><td>...</td><td>...</td><td>...</td><td>...</td><td>...</td><td>...</td><td>...</td><td>...</td></tr>\n",
       "<tr><td>61715</td><td>65.6539569318067</td><td>-38.198004613827855</td><td>2.9448140881480476</td><td>12673123503954.93</td><td>None</td><td>None</td><td>[]</td><td>[]</td><td>None</td><td>2.747573383740645</td><td>3.14205479255545</td><td>0.03586403187947072</td></tr>\n",
       "<tr><td>61716</td><td>65.51992934322357</td><td>-38.166024908810094</td><td>2.9704920742260303</td><td>33183986344743.664</td><td>None</td><td>None</td><td>[]</td><td>[]</td><td>None</td><td>2.7719674705147286</td><td>3.169016677937332</td><td>0.03595465465159531</td></tr>\n",
       "<tr><td>61717</td><td>65.96331039935626</td><td>-39.53910531488538</td><td>2.9427338830664005</td><td>11488849216180.283</td><td>None</td><td>None</td><td>[]</td><td>[]</td><td>None</td><td>2.7455971889130804</td><td>3.1398705772197206</td><td>0.03585671757054709</td></tr>\n",
       "<tr><td>61718</td><td>65.73579485925158</td><td>-38.31624572435801</td><td>2.982785276699029</td><td>10793853781814.086</td><td>None</td><td>None</td><td>[]</td><td>[]</td><td>None</td><td>2.7836460128640774</td><td>3.18192454053398</td><td>0.0359982561299385</td></tr>\n",
       "<tr><td>61719</td><td>66.3027308924118</td><td>-39.992636198369446</td><td>3.016990686501547</td><td>11306640675335.21</td><td>None</td><td>None</td><td>[]</td><td>[]</td><td>None</td><td>2.8161411521764697</td><td>3.2178402208266244</td><td>0.03612029355255079</td></tr>\n",
       "<tr><td>61720</td><td>66.79669738490588</td><td>-38.47288373304661</td><td>2.986808071967553</td><td>27014073594952.113</td><td>None</td><td>None</td><td>[]</td><td>[]</td><td>None</td><td>2.7874676683691755</td><td>3.186148475565931</td><td>0.03601255411183738</td></tr>\n",
       "<tr><td>61721</td><td>67.11851093614465</td><td>-38.60460387777027</td><td>3.0031213151530114</td><td>10965650406039.438</td><td>None</td><td>None</td><td>[]</td><td>[]</td><td>None</td><td>2.8029652493953607</td><td>3.203277380910662</td><td>0.0360706848822034</td></tr>\n",
       "<tr><td>61722</td><td>66.43947083074886</td><td>-39.395333071004195</td><td>2.9566527194763035</td><td>10122285159842.254</td><td>None</td><td>None</td><td>[]</td><td>[]</td><td>None</td><td>2.7588200835024885</td><td>3.1544853554501184</td><td>0.03590573613924508</td></tr>\n",
       "<tr><td>61723</td><td>66.96447881516134</td><td>-38.446479077178296</td><td>3.0039423335026214</td><td>11754353089983.1</td><td>None</td><td>None</td><td>[]</td><td>[]</td><td>None</td><td>2.8037452168274903</td><td>3.2041394501777525</td><td>0.03607361680123773</td></tr>\n",
       "<tr><td>61724</td><td>66.259074212235</td><td>-37.98886022728698</td><td>2.9756834755206225</td><td>10106667284912.676</td><td>None</td><td>None</td><td>[]</td><td>[]</td><td>None</td><td>2.7768993017445913</td><td>3.1744676492966537</td><td>0.035973050600709267</td></tr>\n",
       "</table></div>"
      ],
      "text/plain": [
       "<clevar.catalog.ClCatalog at 0x7f3beab5b190>"
      ]
     },
     "metadata": {},
     "output_type": "display_data"
    },
    {
     "data": {
      "text/html": [
       "<b>Cat_amico</b><br></b><b>tags:</b> id(id), ra(ra), dec(dec), z(z)<br><b>Radius unit:</b> None<br><div><i>ClData length=11485</i>\n",
       "<table id=\"table139895296882864\" class=\"table-striped table-bordered table-condensed\">\n",
       "<thead><tr><th colspan=12></th><th colspan=3 style='text-align:left; background-color:grey; color:white'>mt_input</th></tr></thread><thead><tr><th>id</th><th>ra</th><th>dec</th><th>z</th><th>richness</th><th>SN</th><th>SN_NO_CLUSTER</th><th>mt_self</th><th>mt_other</th><th>mt_multi_self</th><th>mt_multi_other</th><th>mt_cross</th><th>zmin</th><th>zmax</th><th>ang</th></tr></thead>\n",
       "<thead><tr><th>str5</th><th>float64</th><th>float64</th><th>float64</th><th>float64</th><th>float64</th><th>float64</th><th>object</th><th>object</th><th>object</th><th>object</th><th>object</th><th>float64</th><th>float64</th><th>float64</th></tr></thead>\n",
       "<tr><td>0</td><td>61.378983</td><td>-39.994438</td><td>0.78999996</td><td>115.96933</td><td>7.4621258</td><td>46.630722</td><td>758</td><td>758</td><td>[&apos;758&apos;]</td><td>[&apos;758&apos;]</td><td>758</td><td>0.700499962</td><td>0.8794999579999999</td><td>0.0371561962785376</td></tr>\n",
       "<tr><td>1</td><td>61.758209</td><td>-39.59544</td><td>0.35999998</td><td>27.27791</td><td>6.8403945</td><td>31.331249</td><td>146</td><td>146</td><td>[&apos;146&apos;]</td><td>[&apos;146&apos;]</td><td>146</td><td>0.291999981</td><td>0.427999979</td><td>0.055219852002666374</td></tr>\n",
       "<tr><td>2</td><td>62.62199</td><td>-40.858124</td><td>0.25</td><td>33.274879</td><td>6.2714334</td><td>24.420267</td><td>62</td><td>62</td><td>[&apos;62&apos;]</td><td>[&apos;62&apos;]</td><td>62</td><td>0.1875</td><td>0.3125</td><td>0.0710414327593546</td></tr>\n",
       "<tr><td>3</td><td>62.198517</td><td>-39.405045</td><td>0.54999995</td><td>22.638201</td><td>5.8959146</td><td>27.017937</td><td>460</td><td>460</td><td>[&apos;338&apos;, &apos;481&apos;, &apos;456&apos;, &apos;460&apos;]</td><td>[&apos;338&apos;, &apos;481&apos;, &apos;456&apos;, &apos;460&apos;]</td><td>460</td><td>0.4724999525</td><td>0.6274999475</td><td>0.0433241523089096</td></tr>\n",
       "<tr><td>4</td><td>61.961666</td><td>-41.425468</td><td>0.63</td><td>23.205885</td><td>5.7495751</td><td>22.496141</td><td>616</td><td>616</td><td>[&apos;291&apos;, &apos;616&apos;, &apos;267&apos;]</td><td>[&apos;616&apos;, &apos;267&apos;, &apos;291&apos;]</td><td>616</td><td>0.5485</td><td>0.7115</td><td>0.04063957032102488</td></tr>\n",
       "<tr><td>5</td><td>62.013664</td><td>-40.785416</td><td>0.74999994</td><td>41.223412</td><td>5.7198601</td><td>28.051762</td><td>784</td><td>784</td><td>[&apos;784&apos;]</td><td>[&apos;784&apos;]</td><td>784</td><td>0.662499943</td><td>0.837499937</td><td>0.0378540833809901</td></tr>\n",
       "<tr><td>6</td><td>61.476517</td><td>-41.169827</td><td>0.36999997</td><td>16.307556</td><td>5.7072597</td><td>23.040657</td><td>168</td><td>168</td><td>[&apos;91&apos;, &apos;168&apos;]</td><td>[&apos;91&apos;, &apos;168&apos;]</td><td>168</td><td>0.3014999715</td><td>0.4384999685</td><td>0.05426428013854508</td></tr>\n",
       "<tr><td>7</td><td>61.914318</td><td>-40.275494</td><td>0.63</td><td>25.189159</td><td>5.6594982</td><td>21.83959</td><td>583</td><td>583</td><td>[&apos;583&apos;, &apos;422&apos;]</td><td>[&apos;583&apos;, &apos;422&apos;]</td><td>583</td><td>0.5485</td><td>0.7115</td><td>0.04063957032102488</td></tr>\n",
       "<tr><td>8</td><td>62.070724</td><td>-39.970333</td><td>0.48999998</td><td>19.568504</td><td>5.6358972</td><td>23.899815</td><td>353</td><td>353</td><td>[&apos;155&apos;, &apos;353&apos;, &apos;165&apos;, &apos;403&apos;]</td><td>[&apos;155&apos;, &apos;165&apos;, &apos;353&apos;, &apos;403&apos;]</td><td>353</td><td>0.415499981</td><td>0.564499979</td><td>0.046002073565366966</td></tr>\n",
       "<tr><td>9</td><td>62.080006</td><td>-40.885323</td><td>0.36999997</td><td>17.840424</td><td>5.5966325</td><td>22.189268</td><td>173</td><td>173</td><td>[&apos;253&apos;, &apos;289&apos;, &apos;246&apos;, &apos;173&apos;, &apos;254&apos;]</td><td>[&apos;253&apos;, &apos;289&apos;, &apos;246&apos;, &apos;173&apos;, &apos;254&apos;]</td><td>173</td><td>0.3014999715</td><td>0.4384999685</td><td>0.05426428013854508</td></tr>\n",
       "<tr><td>...</td><td>...</td><td>...</td><td>...</td><td>...</td><td>...</td><td>...</td><td>...</td><td>...</td><td>...</td><td>...</td><td>...</td><td>...</td><td>...</td><td>...</td></tr>\n",
       "<tr><td>11475</td><td>64.895103</td><td>-38.748386</td><td>0.70999998</td><td>10.013184</td><td>3.0093701</td><td>7.7404146</td><td>23725</td><td>23725</td><td>[&apos;23725&apos;]</td><td>[&apos;23725&apos;]</td><td>23725</td><td>0.6244999809999999</td><td>0.795499979</td><td>0.03865430022779295</td></tr>\n",
       "<tr><td>11476</td><td>66.267952</td><td>-39.099369</td><td>1.0899999</td><td>12.076399</td><td>3.0084972</td><td>8.8719063</td><td>52487</td><td>52487</td><td>[&apos;52487&apos;]</td><td>[&apos;52487&apos;]</td><td>52487</td><td>0.985499905</td><td>1.194499895</td><td>0.03404689678340265</td></tr>\n",
       "<tr><td>11477</td><td>65.565216</td><td>-39.163315</td><td>0.60999995</td><td>6.1617055</td><td>3.0084865</td><td>7.1154366</td><td>23498</td><td>23498</td><td>[&apos;23498&apos;]</td><td>[&apos;23498&apos;]</td><td>23498</td><td>0.5294999524999999</td><td>0.6904999475</td><td>0.04123442983623558</td></tr>\n",
       "<tr><td>11478</td><td>66.759308</td><td>-38.592609</td><td>1.12</td><td>14.436255</td><td>3.0075927</td><td>7.4957919</td><td>24309</td><td>24309</td><td>[&apos;52990&apos;, &apos;24309&apos;]</td><td>[&apos;52990&apos;, &apos;24309&apos;]</td><td>24309</td><td>1.014</td><td>1.2260000000000002</td><td>0.03387399441944843</td></tr>\n",
       "<tr><td>11479</td><td>66.308128</td><td>-37.464298</td><td>1.0999999</td><td>10.698289</td><td>3.0065758</td><td>8.366869</td><td>52311</td><td>52311</td><td>[&apos;52311&apos;]</td><td>[&apos;52311&apos;]</td><td>52311</td><td>0.994999905</td><td>1.204999895</td><td>0.03398726255999668</td></tr>\n",
       "<tr><td>11480</td><td>65.86615</td><td>-37.824276</td><td>1.16</td><td>12.467728</td><td>3.0055287</td><td>6.8241372</td><td>None</td><td>None</td><td>[]</td><td>[]</td><td>None</td><td>1.0519999999999998</td><td>1.268</td><td>0.03367000629121011</td></tr>\n",
       "<tr><td>11481</td><td>66.400528</td><td>-38.469097</td><td>1.01</td><td>8.2484713</td><td>3.0034916</td><td>8.445138</td><td>None</td><td>None</td><td>[]</td><td>[]</td><td>None</td><td>0.9095</td><td>1.1105</td><td>0.03460386225554804</td></tr>\n",
       "<tr><td>11482</td><td>65.942413</td><td>-37.6744</td><td>0.78999996</td><td>7.6869373</td><td>3.0016103</td><td>8.4215565</td><td>24079</td><td>24079</td><td>[&apos;24157&apos;, &apos;24079&apos;]</td><td>[&apos;24157&apos;, &apos;24079&apos;]</td><td>24079</td><td>0.700499962</td><td>0.8794999579999999</td><td>0.0371561962785376</td></tr>\n",
       "<tr><td>11483</td><td>67.097542</td><td>-38.990231</td><td>1.02</td><td>10.634916</td><td>3.0009274</td><td>8.7013321</td><td>24336</td><td>24336</td><td>[&apos;24336&apos;]</td><td>[&apos;24336&apos;]</td><td>24336</td><td>0.919</td><td>1.121</td><td>0.03452586238725011</td></tr>\n",
       "<tr><td>11484</td><td>66.647057</td><td>-38.968204</td><td>1.0599999</td><td>12.969349</td><td>3.0000417</td><td>9.600914</td><td>52381</td><td>52381</td><td>[&apos;52381&apos;, &apos;52400&apos;]</td><td>[&apos;52381&apos;, &apos;52400&apos;]</td><td>52381</td><td>0.956999905</td><td>1.162999895</td><td>0.03423848403643135</td></tr>\n",
       "</table></div>"
      ],
      "text/plain": [
       "<clevar.catalog.ClCatalog at 0x7f3beab5b0a0>"
      ]
     },
     "metadata": {},
     "output_type": "display_data"
    }
   ],
   "source": [
    "mt.load_matches(cdc, cam, out_dir=outpath)\n",
    "display(cdc)\n",
    "display(cam)"
   ]
  },
  {
   "cell_type": "code",
   "execution_count": 13,
   "id": "a208f458-b802-46b1-9d2b-da3d1a8d907c",
   "metadata": {},
   "outputs": [],
   "source": [
    "mt1, mt2 = get_matched_pairs(cdc, cam, 'cross')"
   ]
  },
  {
   "cell_type": "code",
   "execution_count": 14,
   "id": "946d6cb4-62c3-4f54-8ee9-8550c919b2d9",
   "metadata": {},
   "outputs": [
    {
     "data": {
      "text/html": [
       "<b>Cat_cosmoDC2</b><br></b><b>tags:</b> id(id), ra(ra), dec(dec), z(z), mass(mass)<br><b>Radius unit:</b> None<br><div><i>ClData length=9860</i>\n",
       "<table id=\"table139895296884352\" class=\"table-striped table-bordered table-condensed\">\n",
       "<thead><tr><th colspan=10></th><th colspan=3 style='text-align:left; background-color:grey; color:white'>mt_input</th></tr></thread><thead><tr><th>id</th><th>ra</th><th>dec</th><th>z</th><th>mass</th><th>mt_self</th><th>mt_other</th><th>mt_multi_self</th><th>mt_multi_other</th><th>mt_cross</th><th>zmin</th><th>zmax</th><th>ang</th></tr></thead>\n",
       "<thead><tr><th>str5</th><th>float64</th><th>float64</th><th>float64</th><th>float64</th><th>object</th><th>object</th><th>object</th><th>object</th><th>object</th><th>float64</th><th>float64</th><th>float64</th></tr></thead>\n",
       "<tr><td>3</td><td>62.284364037836404</td><td>-41.07674501853869</td><td>0.14018907525323798</td><td>18629652514614.086</td><td>515</td><td>515</td><td>[&apos;515&apos;]</td><td>[&apos;515&apos;]</td><td>515</td><td>0.08317962149057609</td><td>0.19719852901589988</td><td>0.11244532787963898</td></tr>\n",
       "<tr><td>6</td><td>61.05606039634485</td><td>-39.972727741545526</td><td>0.18286930814904623</td><td>38307798324642.26</td><td>233</td><td>233</td><td>[&apos;233&apos;]</td><td>[&apos;233&apos;]</td><td>233</td><td>0.12372584274159391</td><td>0.24201277355649853</td><td>0.0903700864344744</td></tr>\n",
       "<tr><td>7</td><td>62.23579865478711</td><td>-39.485977648912574</td><td>0.17966607247124333</td><td>85876300877881.69</td><td>28</td><td>28</td><td>[&apos;28&apos;]</td><td>[&apos;28&apos;]</td><td>28</td><td>0.12068276884768117</td><td>0.2386493760948055</td><td>0.09165948893538191</td></tr>\n",
       "<tr><td>15</td><td>61.91957721819914</td><td>-40.94873813625475</td><td>0.16805036161275377</td><td>31299964062647.89</td><td>66</td><td>66</td><td>[&apos;66&apos;]</td><td>[&apos;66&apos;]</td><td>66</td><td>0.10964784353211608</td><td>0.22645287969339145</td><td>0.09675238093954058</td></tr>\n",
       "<tr><td>16</td><td>61.33589391866784</td><td>-39.44194714480725</td><td>0.18372913366321675</td><td>25843065270445.07</td><td>87</td><td>87</td><td>[&apos;87&apos;]</td><td>[&apos;87&apos;]</td><td>87</td><td>0.12454267698005592</td><td>0.24291559034637758</td><td>0.09003172480773033</td></tr>\n",
       "<tr><td>18</td><td>61.587737657529864</td><td>-39.50518533830735</td><td>0.16493773858144167</td><td>77396392922501.4</td><td>27</td><td>27</td><td>[&apos;27&apos;]</td><td>[&apos;27&apos;]</td><td>27</td><td>0.10669085165236958</td><td>0.22318462551051377</td><td>0.09824029623768497</td></tr>\n",
       "<tr><td>22</td><td>61.91818758673689</td><td>-38.95224680742813</td><td>0.18811206928400392</td><td>30555723216405.637</td><td>315</td><td>315</td><td>[&apos;315&apos;]</td><td>[&apos;315&apos;]</td><td>315</td><td>0.12870646581980372</td><td>0.24751767274820413</td><td>0.08835559257989083</td></tr>\n",
       "<tr><td>24</td><td>60.81541521105752</td><td>-40.26826239888536</td><td>0.23705091220666552</td><td>12006842068011.268</td><td>617</td><td>617</td><td>[&apos;617&apos;]</td><td>[&apos;617&apos;]</td><td>617</td><td>0.17519836659633226</td><td>0.2989034578169988</td><td>0.07390323209655622</td></tr>\n",
       "<tr><td>25</td><td>62.25137047218813</td><td>-40.75880052298738</td><td>0.23596728304162995</td><td>14374988935571.832</td><td>554</td><td>554</td><td>[&apos;554&apos;]</td><td>[&apos;554&apos;]</td><td>554</td><td>0.17416891888954844</td><td>0.29776564719371146</td><td>0.07415727585869883</td></tr>\n",
       "<tr><td>28</td><td>61.76288946984756</td><td>-40.73795817991272</td><td>0.2394226241364299</td><td>26496227691447.887</td><td>198</td><td>198</td><td>[&apos;198&apos;]</td><td>[&apos;198&apos;]</td><td>198</td><td>0.1774514929296084</td><td>0.3013937553432514</td><td>0.07335540471265097</td></tr>\n",
       "<tr><td>...</td><td>...</td><td>...</td><td>...</td><td>...</td><td>...</td><td>...</td><td>...</td><td>...</td><td>...</td><td>...</td><td>...</td><td>...</td></tr>\n",
       "<tr><td>52830</td><td>64.87799095392191</td><td>-38.48020086170599</td><td>1.248188990978691</td><td>12717361596214.086</td><td>11457</td><td>11457</td><td>[&apos;11457&apos;]</td><td>[&apos;11457&apos;]</td><td>11457</td><td>1.1357795414297565</td><td>1.3605984405276255</td><td>0.033313785399681786</td></tr>\n",
       "<tr><td>52843</td><td>66.12639880020514</td><td>-39.79457617972613</td><td>1.255735626890489</td><td>24167220769171.832</td><td>11273</td><td>11273</td><td>[&apos;11273&apos;]</td><td>[&apos;11273&apos;]</td><td>11273</td><td>1.1429488455459644</td><td>1.3685224082350134</td><td>0.03328862807254457</td></tr>\n",
       "<tr><td>52852</td><td>67.2506025088802</td><td>-38.922317895008185</td><td>1.2400492481722134</td><td>34867636091312.68</td><td>11195</td><td>11195</td><td>[&apos;11195&apos;]</td><td>[&apos;11195&apos;]</td><td>11195</td><td>1.1280467857636027</td><td>1.352051710580824</td><td>0.03334179982002018</td></tr>\n",
       "<tr><td>52962</td><td>65.17678979261049</td><td>-38.32302756963495</td><td>1.271721366155134</td><td>20146758855030.99</td><td>11394</td><td>11394</td><td>[&apos;11394&apos;]</td><td>[&apos;11394&apos;]</td><td>11394</td><td>1.1581352978473773</td><td>1.3853074344628908</td><td>0.03323786557408561</td></tr>\n",
       "<tr><td>52982</td><td>66.09792877777984</td><td>-40.164580421189235</td><td>1.2924254715778623</td><td>44670276887797.19</td><td>11298</td><td>11298</td><td>[&apos;11298&apos;]</td><td>[&apos;11298&apos;]</td><td>11298</td><td>1.177804197998969</td><td>1.4070467451567554</td><td>0.03317704692566435</td></tr>\n",
       "<tr><td>53002</td><td>66.96870885276485</td><td>-39.20798590922328</td><td>1.3387052474410157</td><td>13953425938749.297</td><td>11237</td><td>11237</td><td>[&apos;11237&apos;]</td><td>[&apos;11237&apos;]</td><td>11237</td><td>1.221769985068965</td><td>1.4556405098130665</td><td>0.03305994686932494</td></tr>\n",
       "<tr><td>53014</td><td>65.06629755468518</td><td>-38.28313280426465</td><td>1.3669009103648393</td><td>15465327797723.945</td><td>11451</td><td>11451</td><td>[&apos;11451&apos;]</td><td>[&apos;11451&apos;]</td><td>11451</td><td>1.2485558648465973</td><td>1.4852459558830813</td><td>0.03300047245080599</td></tr>\n",
       "<tr><td>53027</td><td>66.84530563482058</td><td>-38.941558899073755</td><td>1.333337976119776</td><td>11030724884912.676</td><td>11160</td><td>11160</td><td>[&apos;11160&apos;]</td><td>[&apos;11160&apos;]</td><td>11160</td><td>1.2166710773137872</td><td>1.4500048749257646</td><td>0.03307225480133242</td></tr>\n",
       "<tr><td>53092</td><td>66.5497432527399</td><td>-38.640999035156334</td><td>1.3368227254893204</td><td>15145252189025.354</td><td>11145</td><td>11145</td><td>[&apos;11145&apos;]</td><td>[&apos;11145&apos;]</td><td>11145</td><td>1.2199815892148544</td><td>1.4536638617637863</td><td>0.03306422702208223</td></tr>\n",
       "<tr><td>53094</td><td>66.22265722142319</td><td>-38.97196356888387</td><td>1.3398087827365797</td><td>13825916143414.086</td><td>11446</td><td>11446</td><td>[&apos;11446&apos;]</td><td>[&apos;11446&apos;]</td><td>11446</td><td>1.2228183435997506</td><td>1.4567992218734087</td><td>0.03305745620798416</td></tr>\n",
       "</table></div>"
      ],
      "text/plain": [
       "<clevar.catalog.ClCatalog at 0x7f3be979fa30>"
      ]
     },
     "execution_count": 14,
     "metadata": {},
     "output_type": "execute_result"
    }
   ],
   "source": [
    "mt1"
   ]
  }
 ],
 "metadata": {
  "kernelspec": {
   "display_name": "desc",
   "language": "python",
   "name": "desc"
  },
  "language_info": {
   "codemirror_mode": {
    "name": "ipython",
    "version": 3
   },
   "file_extension": ".py",
   "mimetype": "text/x-python",
   "name": "python",
   "nbconvert_exporter": "python",
   "pygments_lexer": "ipython3",
   "version": "3.10.8"
  }
 },
 "nbformat": 4,
 "nbformat_minor": 5
}
