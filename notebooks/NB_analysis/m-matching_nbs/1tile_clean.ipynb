{
 "cells": [
  {
   "cell_type": "markdown",
   "id": "3b0ef301-40eb-4dbf-928a-9d1d72457dee",
   "metadata": {},
   "source": [
    "# Matching amico with cosmoDC2_small"
   ]
  },
  {
   "cell_type": "code",
   "execution_count": 6,
   "id": "f103c5e2-0930-4acb-83ea-a1cd1017e528",
   "metadata": {},
   "outputs": [],
   "source": [
    "import numpy as np\n",
    "import matplotlib.pyplot as plt\n",
    "import matplotlib\n",
    "%matplotlib inline\n",
    "import GCRCatalogs\n",
    "import numpy as np\n",
    "from astropy.table import Table, vstack\n",
    "from astropy.io import fits\n",
    "from astropy.io import ascii\n",
    "import pandas as pd\n",
    "###clevar\n",
    "import clevar\n",
    "from clevar import ClCatalog\n",
    "from clevar.match import get_matched_pairs\n",
    "from clevar.match import output_matched_catalog"
   ]
  },
  {
   "cell_type": "markdown",
   "id": "9a6f14c3-4d2b-4743-b500-3b503621ad73",
   "metadata": {
    "tags": []
   },
   "source": [
    "### Listing variables names + read catalogs if needed"
   ]
  },
  {
   "cell_type": "code",
   "execution_count": 61,
   "id": "6fe4642a-b1fa-4222-9ac2-3a635c8c127c",
   "metadata": {
    "collapsed": true,
    "jupyter": {
     "outputs_hidden": true,
     "source_hidden": true
    },
    "tags": []
   },
   "outputs": [
    {
     "data": {
      "text/plain": [
       "\"\\ncosmodc2_data_mb = Table(cat.get_quantities(['ra', 'dec', 'mag_i', 'mag_r', 'mag_z', 'halo_id', 'halo_mass', 'position_x', 'position_y', 'redshift', 'galaxy_id', 'stellar_mass'], \\n                                 filters=['halo_mass>1e14']))\\ncosmodc2_data_halo = Table(cat.get_quantities(['halo_id', 'ra', 'dec', 'redshift', 'halo_mass'], filters=['halo_mass > 1e14', 'is_central']))\\ncosmodc2_data_mb.write('/pbs/home/n/namourou/test_jupyter/cluster_challenge/notebooks/dc2_cat/cdc2_mb_1e14.fits')\\ncosmodc2_data_halo.write('/pbs/home/n/namourou/test_jupyter/cluster_challenge/notebooks/dc2_cat/cdc2_halo_1e14.fits')\\n\\ncosmodc2_mb = Table.read('/pbs/home/n/namourou/test_jupyter/cluster_challenge/notebooks/dc2_cat/cdc2_mb.fits')\\ncosmodc2_mb_inpath = '/pbs/home/n/namourou/test_jupyter/cluster_challenge/notebooks/dc2_cat/cdc2_mb.fits'\\ncosmodc2_halo = Table.read('/pbs/home/n/namourou/test_jupyter/cluster_challenge/notebooks/dc2_cat/cdc2_halo.fits')\\ncosmodc2_halo_inpath = '/pbs/home/n/namourou/test_jupyter/cluster_challenge/notebooks/dc2_cat/cdc2_halo.fits'\\n\""
      ]
     },
     "execution_count": 61,
     "metadata": {},
     "output_type": "execute_result"
    }
   ],
   "source": [
    "#print(cat.list_all_quantities())\n",
    "#print(amico_data.colnames)\n",
    "#cat = GCRCatalogs.load_catalog(\"cosmoDC2_v1.1.4_small\")\n",
    "\"\"\"\n",
    "cosmodc2_data_mb = Table(cat.get_quantities(['ra', 'dec', 'mag_i', 'mag_r', 'mag_z', 'halo_id', 'halo_mass', 'position_x', 'position_y', 'redshift', 'galaxy_id', 'stellar_mass'], \n",
    "                                 filters=['halo_mass>1e14']))\n",
    "cosmodc2_data_halo = Table(cat.get_quantities(['halo_id', 'ra', 'dec', 'redshift', 'halo_mass'], filters=['halo_mass > 1e14', 'is_central']))\n",
    "cosmodc2_data_mb.write('/pbs/home/n/namourou/test_jupyter/cluster_challenge/notebooks/dc2_cat/cdc2_mb_1e14.fits')\n",
    "cosmodc2_data_halo.write('/pbs/home/n/namourou/test_jupyter/cluster_challenge/notebooks/dc2_cat/cdc2_halo_1e14.fits')\n",
    "\n",
    "cosmodc2_mb = Table.read('/pbs/home/n/namourou/test_jupyter/cluster_challenge/notebooks/dc2_cat/cdc2_mb.fits')\n",
    "cosmodc2_mb_inpath = '/pbs/home/n/namourou/test_jupyter/cluster_challenge/notebooks/dc2_cat/cdc2_mb.fits'\n",
    "cosmodc2_halo = Table.read('/pbs/home/n/namourou/test_jupyter/cluster_challenge/notebooks/dc2_cat/cdc2_halo.fits')\n",
    "cosmodc2_halo_inpath = '/pbs/home/n/namourou/test_jupyter/cluster_challenge/notebooks/dc2_cat/cdc2_halo.fits'\n",
    "\"\"\""
   ]
  },
  {
   "cell_type": "markdown",
   "id": "c433ec3e-8718-44b1-9166-4f8f1c7921f1",
   "metadata": {},
   "source": [
    "------------"
   ]
  },
  {
   "cell_type": "markdown",
   "id": "937c373a-5c25-4e98-99bf-3d6288c0a279",
   "metadata": {},
   "source": [
    "### Loading catalogs and converting them to clevar tables"
   ]
  },
  {
   "cell_type": "code",
   "execution_count": 62,
   "id": "81e95e46-44bd-4bdd-a3e8-3b9530cefbef",
   "metadata": {},
   "outputs": [],
   "source": [
    "cat_names = ['9943_map_associations', '9942_map_associations', '9816_map_associations', '9815_map_associations', '9814_map_associations', '9687_map_associations', '9686_map_associations',\n",
    "             '9559_map_associations', '10450_map_associations', '10327_map_associations', '10326_map_associations', '10200_map_associations', '10199_map_associations',\n",
    "             '10198_map_associations', '10072_map_associations', '10071_map_associations']\n",
    "tile_names = []\n",
    "for i in range(len(cat_names)):\n",
    "    tile_names.append(cat_names[i].split(\"_\")[0])"
   ]
  },
  {
   "cell_type": "code",
   "execution_count": 88,
   "id": "0a21b50f-c263-4f24-9b5c-89ed5807a66c",
   "metadata": {},
   "outputs": [],
   "source": [
    "cosmodc2_mb_1e14 = Table.read('/pbs/home/n/namourou/test_jupyter/cluster_challenge/notebooks/dc2_cat/cdc2_mb_1e14.fits')\n",
    "cosmodc2_mb_inpath_1e14 = '/pbs/home/n/namourou/test_jupyter/cluster_challenge/notebooks/dc2_cat/cdc2_mb_1e14.fits'\n",
    "cosmodc2_halo_1e14 = Table.read('/pbs/home/n/namourou/test_jupyter/cluster_challenge/notebooks/dc2_cat/cdc2_halo_1e14.fits')\n",
    "cosmodc2_halo_inpath_1e14 = '/pbs/home/n/namourou/test_jupyter/cluster_challenge/notebooks/dc2_cat/cdc2_halo_1e14.fits'\n",
    "\n",
    "mb_inpath = '/sps/lsst/groups/clusters/amico_validation_project/catalogs/amico_cats/amico_map_associations/9943_map_associations.fits'\n",
    "cl_inpath = '/sps/lsst/users/tguillem/DESC/desc_april_2022/cluster_challenge/clevar_catalogs/amico/map_detections_refined_noBuffer_all.fits'\n",
    "amico_mb = Table.read(mb_inpath)\n",
    "amico_cl = Table.read(cl_inpath)['ID', 'Xphys', 'Yphys', 'Zphys','LAMBSTAR', 'SN_NO_CLUSTER', 'SN', 'uid', 'tile']"
   ]
  },
  {
   "cell_type": "code",
   "execution_count": 134,
   "id": "bbed75ac-be2a-4bf2-aa63-a61bdf7d50fc",
   "metadata": {},
   "outputs": [],
   "source": [
    "amico_cl = amico_cl[(amico_cl['tile'] == 9943)]"
   ]
  },
  {
   "cell_type": "code",
   "execution_count": 125,
   "id": "f55d39dd-e2bd-43fd-b35a-85ed3679a4fa",
   "metadata": {},
   "outputs": [],
   "source": [
    "c1  = ClCatalog.read(cosmodc2_halo_inpath_1e14, 'c1', tags={'id':'halo_id', 'mass':'halo_mass'}, full=True)"
   ]
  },
  {
   "cell_type": "code",
   "execution_count": 145,
   "id": "1d03f8a3-892b-4788-a0b7-dac9634ffb2c",
   "metadata": {},
   "outputs": [],
   "source": [
    "c2  = ClCatalog('c2', id = amico_cl['uid'], mass = amico_cl['LAMBSTAR'], ra = amico_cl['Xphys'], dec = amico_cl['Yphys'], redshift = amico_cl['Zphys'])"
   ]
  },
  {
   "cell_type": "code",
   "execution_count": 138,
   "id": "eb344725-1ee1-4a52-a505-503722f3ab34",
   "metadata": {},
   "outputs": [],
   "source": [
    "c1.read_members(cosmodc2_mb_inpath_1e14, tags={'id':'galaxy_id', 'id_cluster':'halo_id'}, full=True)"
   ]
  },
  {
   "cell_type": "code",
   "execution_count": 139,
   "id": "00088dfe-8a7d-40b7-85c2-0705b76afe52",
   "metadata": {},
   "outputs": [],
   "source": [
    "c2.read_members(mb_inpath, tags={'id':'mb_id', 'id_cluster':'uid'}, full=True)"
   ]
  },
  {
   "cell_type": "code",
   "execution_count": 141,
   "id": "9b789b47-dcfa-408f-9e85-2b9948dec6f7",
   "metadata": {},
   "outputs": [],
   "source": [
    "from clevar.match import MembershipMatch\n",
    "mt = MembershipMatch()"
   ]
  },
  {
   "cell_type": "code",
   "execution_count": 142,
   "id": "dc7446d7-95a0-4e8a-8552-268978e516dd",
   "metadata": {},
   "outputs": [],
   "source": [
    "match_config = {\n",
    "    'type': 'cross', # options are cross, cat1, cat2\n",
    "    'preference': 'shared_member_fraction', # other options are more_massive, angular_proximity or redshift_proximity\n",
    "    'minimum_share_fraction': 0,\n",
    "    'match_members_kwargs': {'method':'id'},\n",
    "}"
   ]
  },
  {
   "cell_type": "code",
   "execution_count": 143,
   "id": "abdd2a0b-54ca-4a4f-8f61-f1a8a5e01fbe",
   "metadata": {},
   "outputs": [
    {
     "name": "stdout",
     "output_type": "stream",
     "text": [
      "3,490 members were matched.\n",
      "\n",
      "## Multiple match (catalog 1)\n",
      "Finding candidates (c1)\n",
      "* 61/1,028 objects matched.es\n",
      "\n",
      "## Multiple match (catalog 2)\n",
      "Finding candidates (c2)\n",
      "* 144/642 objects matched.\n",
      "\n",
      "## Finding unique matches of catalog 1\n",
      "Unique Matches (c1)\n",
      "* 60/1,028 objects matched.\n",
      "\n",
      "## Finding unique matches of catalog 2\n",
      "Unique Matches (c2)\n",
      "* 61/642 objects matched.\n",
      "Cross Matches (c1)\n",
      "* 60/1,028 objects matched.\n",
      "Cross Matches (c2)\n",
      "* 60/642 objects matched.\n"
     ]
    }
   ],
   "source": [
    "mt.match_from_config(c1, c2, match_config)"
   ]
  }
 ],
 "metadata": {
  "kernelspec": {
   "display_name": "desc",
   "language": "python",
   "name": "desc"
  },
  "language_info": {
   "codemirror_mode": {
    "name": "ipython",
    "version": 3
   },
   "file_extension": ".py",
   "mimetype": "text/x-python",
   "name": "python",
   "nbconvert_exporter": "python",
   "pygments_lexer": "ipython3",
   "version": "3.10.8"
  }
 },
 "nbformat": 4,
 "nbformat_minor": 5
}
