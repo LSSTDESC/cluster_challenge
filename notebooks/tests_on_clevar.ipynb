{
 "cells": [
  {
   "cell_type": "code",
   "execution_count": 1,
   "id": "f103c5e2-0930-4acb-83ea-a1cd1017e528",
   "metadata": {},
   "outputs": [],
   "source": [
    "import numpy as np\n",
    "import matplotlib.pyplot as plt\n",
    "import matplotlib\n",
    "%matplotlib inline\n",
    "import GCRCatalogs\n",
    "from GCRCatalogs.helpers.tract_catalogs import tract_filter, sample_filter\n",
    "from GCRCatalogs import GCRQuery\n",
    "import numpy as np\n",
    "from matplotlib.patches import Rectangle\n",
    "from astropy.table import Table\n",
    "from astropy.coordinates import SkyCoord\n",
    "from astropy import units as u\n",
    "from astropy.cosmology import FlatLambdaCDM\n",
    "from astropy.io import fits\n",
    "from astropy.io import ascii\n",
    "import sys\n",
    "import os\n",
    "import shutil\n",
    "import pickle\n",
    "import healpy as hp\n",
    "import h5py\n",
    "import pandas as pd\n",
    "\n",
    "###clevar\n",
    "import clevar\n",
    "from clevar import ClCatalog\n",
    "from clevar.match import ProximityMatch\n",
    "from clevar.match_metrics import scaling\n",
    "from clevar.match_metrics import recovery\n",
    "from clevar.match_metrics import distances\n"
   ]
  },
  {
   "cell_type": "code",
   "execution_count": 26,
   "id": "6fe4642a-b1fa-4222-9ac2-3a635c8c127c",
   "metadata": {},
   "outputs": [],
   "source": [
    "#print(cat.list_all_quantities())\n",
    "#print(amico_data.colnames)"
   ]
  },
  {
   "cell_type": "code",
   "execution_count": 27,
   "id": "2dffe68e-3980-46ec-823f-61696c018d49",
   "metadata": {},
   "outputs": [],
   "source": [
    "cat = GCRCatalogs.load_catalog(\"cosmoDC2_v1.1.4_small\")\n",
    "cosmodc2_data = cat.get_quantities(['halo_id', 'ra', 'dec', 'redshift'], filters=['halo_mass > 1e14', 'is_central'])\n",
    "\n",
    "inpath = '/sps/lsst/users/tguillem/DESC/desc_april_2022/cluster_challenge/clevar_catalogs/amico/map_detections_refined_noBuffer_all.fits'\n",
    "amico_data = Table.read(inpath)['ID', 'Xphys', 'Yphys', 'Zphys',]"
   ]
  },
  {
   "cell_type": "code",
   "execution_count": 28,
   "id": "949dd290-b847-49f7-9dbd-535ee6c55b80",
   "metadata": {},
   "outputs": [
    {
     "data": {
      "text/plain": [
       "{'dec': array([-40.51640122, -40.85932206, -39.59505755, ..., -41.44924737,\n",
       "        -42.37257032, -37.37798131]),\n",
       " 'ra': array([62.55277181, 62.6239115 , 61.75471519, ..., 69.75498205,\n",
       "        68.07754574, 64.78081571]),\n",
       " 'redshift': array([0.24844585, 0.24752604, 0.37716924, ..., 2.30642828, 2.23963483,\n",
       "        2.3170319 ]),\n",
       " 'halo_id': array([ 131800155392,  230000155392,  268600155355, ..., 4689500170144,\n",
       "        1332400181151, 3820800128148])}"
      ]
     },
     "metadata": {},
     "output_type": "display_data"
    },
    {
     "data": {
      "text/html": [
       "<div><i>Table length=11485</i>\n",
       "<table id=\"table139946486914624\" class=\"table-striped table-bordered table-condensed\">\n",
       "<thead><tr><th>ID</th><th>Xphys</th><th>Yphys</th><th>Zphys</th></tr></thead>\n",
       "<thead><tr><th>int16</th><th>float64</th><th>float64</th><th>float64</th></tr></thead>\n",
       "<tr><td>3</td><td>61.378983</td><td>-39.994438</td><td>0.78999996</td></tr>\n",
       "<tr><td>7</td><td>61.758209</td><td>-39.59544</td><td>0.35999998</td></tr>\n",
       "<tr><td>9</td><td>62.62199</td><td>-40.858124</td><td>0.25</td></tr>\n",
       "<tr><td>10</td><td>62.198517</td><td>-39.405045</td><td>0.54999995</td></tr>\n",
       "<tr><td>11</td><td>61.961666</td><td>-41.425468</td><td>0.63</td></tr>\n",
       "<tr><td>12</td><td>62.013664</td><td>-40.785416</td><td>0.74999994</td></tr>\n",
       "<tr><td>13</td><td>61.476517</td><td>-41.169827</td><td>0.36999997</td></tr>\n",
       "<tr><td>14</td><td>61.914318</td><td>-40.275494</td><td>0.63</td></tr>\n",
       "<tr><td>15</td><td>62.070724</td><td>-39.970333</td><td>0.48999998</td></tr>\n",
       "<tr><td>17</td><td>62.080006</td><td>-40.885323</td><td>0.36999997</td></tr>\n",
       "<tr><td>...</td><td>...</td><td>...</td><td>...</td></tr>\n",
       "<tr><td>1710</td><td>64.895103</td><td>-38.748386</td><td>0.70999998</td></tr>\n",
       "<tr><td>1712</td><td>66.267952</td><td>-39.099369</td><td>1.0899999</td></tr>\n",
       "<tr><td>1713</td><td>65.565216</td><td>-39.163315</td><td>0.60999995</td></tr>\n",
       "<tr><td>1720</td><td>66.759308</td><td>-38.592609</td><td>1.12</td></tr>\n",
       "<tr><td>1721</td><td>66.308128</td><td>-37.464298</td><td>1.0999999</td></tr>\n",
       "<tr><td>1724</td><td>65.86615</td><td>-37.824276</td><td>1.16</td></tr>\n",
       "<tr><td>1729</td><td>66.400528</td><td>-38.469097</td><td>1.01</td></tr>\n",
       "<tr><td>1733</td><td>65.942413</td><td>-37.6744</td><td>0.78999996</td></tr>\n",
       "<tr><td>1737</td><td>67.097542</td><td>-38.990231</td><td>1.02</td></tr>\n",
       "<tr><td>1738</td><td>66.647057</td><td>-38.968204</td><td>1.0599999</td></tr>\n",
       "</table></div>"
      ],
      "text/plain": [
       "<Table length=11485>\n",
       "  ID    Xphys     Yphys      Zphys   \n",
       "int16  float64   float64    float64  \n",
       "----- --------- ---------- ----------\n",
       "    3 61.378983 -39.994438 0.78999996\n",
       "    7 61.758209  -39.59544 0.35999998\n",
       "    9  62.62199 -40.858124       0.25\n",
       "   10 62.198517 -39.405045 0.54999995\n",
       "   11 61.961666 -41.425468       0.63\n",
       "   12 62.013664 -40.785416 0.74999994\n",
       "   13 61.476517 -41.169827 0.36999997\n",
       "   14 61.914318 -40.275494       0.63\n",
       "   15 62.070724 -39.970333 0.48999998\n",
       "   17 62.080006 -40.885323 0.36999997\n",
       "  ...       ...        ...        ...\n",
       " 1710 64.895103 -38.748386 0.70999998\n",
       " 1712 66.267952 -39.099369  1.0899999\n",
       " 1713 65.565216 -39.163315 0.60999995\n",
       " 1720 66.759308 -38.592609       1.12\n",
       " 1721 66.308128 -37.464298  1.0999999\n",
       " 1724  65.86615 -37.824276       1.16\n",
       " 1729 66.400528 -38.469097       1.01\n",
       " 1733 65.942413   -37.6744 0.78999996\n",
       " 1737 67.097542 -38.990231       1.02\n",
       " 1738 66.647057 -38.968204  1.0599999"
      ]
     },
     "metadata": {},
     "output_type": "display_data"
    }
   ],
   "source": [
    "display(cosmodc2_data)\n",
    "display(amico_data)"
   ]
  },
  {
   "cell_type": "code",
   "execution_count": 29,
   "id": "417e1f61-a23c-4530-aaab-f5c40a9fa67b",
   "metadata": {},
   "outputs": [
    {
     "name": "stderr",
     "output_type": "stream",
     "text": [
      "/sps/lsst/users/namourou/conda_clone_210223/descv1.1/clevar/clevar/catalog.py:501: UserWarning: Repeated ID's in id column, adding suffix _r# to them.\n",
      "  warnings.warn(\n"
     ]
    }
   ],
   "source": [
    "cdc = ClCatalog('Cat_cosmoDC2', id=cosmodc2_data['halo_id'], ra=cosmodc2_data['ra'], dec=cosmodc2_data['dec'], z=cosmodc2_data['redshift'])\n",
    "cam = ClCatalog('Cat_amico', id=amico_data['ID'], ra=amico_data['Xphys'], dec=amico_data['Yphys'], z=amico_data['Zphys'])"
   ]
  },
  {
   "cell_type": "code",
   "execution_count": null,
   "id": "03bdd1da-adfa-4286-8d96-44cb22b36969",
   "metadata": {},
   "outputs": [],
   "source": [
    "\"\"\"\n",
    "# Format for nice display\n",
    "for c in ('ra', 'dec', 'z'):\n",
    "    cdc[c].info.format = '.2f'\n",
    "    cam[c].info.format = '.2f'\n",
    "display(cdc)\n",
    "display(cam)\n",
    "\"\"\""
   ]
  },
  {
   "cell_type": "code",
   "execution_count": 6,
   "id": "764a5227-2d4e-4aab-9b7a-5baf09e30c7e",
   "metadata": {},
   "outputs": [],
   "source": [
    "from clevar.match import ProximityMatch\n",
    "mt = ProximityMatch()"
   ]
  },
  {
   "cell_type": "code",
   "execution_count": 7,
   "id": "9171cd5c-37f4-40d4-8836-16fffdaf11fb",
   "metadata": {},
   "outputs": [],
   "source": [
    "match_config = {\n",
    "    'type': 'cross', # options are cross, cat1, cat2\n",
    "    'which_radius': 'max', # Case of radius to be used, can be: cat1, cat2, min, max\n",
    "    'preference': 'angular_proximity', # options are more_massive, angular_proximity or redshift_proximity\n",
    "    'catalog1': {'delta_z':.2,\n",
    "                'match_radius': '1 mpc'\n",
    "                },\n",
    "    'catalog2': {'delta_z':.2,\n",
    "                'match_radius': '10 arcsec'\n",
    "                }\n",
    "}\n",
    "match_config2 = {\n",
    "    'type': 'cross', # options are cross, cat1, cat2\n",
    "    'which_radius': 'max', # Case of radius to be used, can be: cat1, cat2, min, max\n",
    "    'preference': 'redshift_proximity', # options are more_massive, angular_proximity or redshift_proximity\n",
    "    'catalog1': {'delta_z':.2,\n",
    "                'match_radius': '1 mpc'\n",
    "                },\n",
    "    'catalog2': {'delta_z':.2,\n",
    "                'match_radius': '10 arcsec'\n",
    "                }\n",
    "}\n",
    "from clevar.cosmology import AstroPyCosmology\n",
    "cosmo = AstroPyCosmology()"
   ]
  },
  {
   "cell_type": "code",
   "execution_count": 9,
   "id": "577d0d89-2c8c-412c-8316-029f4f096a29",
   "metadata": {},
   "outputs": [
    {
     "name": "stdout",
     "output_type": "stream",
     "text": [
      "\n",
      "## ClCatalog 1\n",
      "## Prep mt_cols\n",
      "* zmin|zmax from config value\n",
      "* ang radius from set scale\n",
      "\n",
      "## ClCatalog 2\n",
      "## Prep mt_cols\n",
      "* zmin|zmax from config value\n",
      "* ang radius from set scale\n",
      "\n",
      "## Multiple match (catalog 1)\n",
      "Finding candidates (Cat1)\n",
      "* 4/5 objects matched.\n",
      "\n",
      "## Multiple match (catalog 2)\n",
      "Finding candidates (Cat2)\n",
      "* 4/4 objects matched.\n",
      "\n",
      "## Finding unique matches of catalog 1\n",
      "Unique Matches (Cat1)\n",
      "* 4/5 objects matched.\n",
      "\n",
      "## Finding unique matches of catalog 2\n",
      "Unique Matches (Cat2)\n",
      "* 4/4 objects matched.\n",
      "Cross Matches (Cat1)\n",
      "* 4/5 objects matched.\n",
      "Cross Matches (Cat2)\n",
      "* 4/4 objects matched.\n"
     ]
    }
   ],
   "source": [
    "mt.match_from_config(c1, c2, match_config, cosmo=cosmo)"
   ]
  },
  {
   "cell_type": "code",
   "execution_count": 10,
   "id": "1c81c1cc-29e5-451b-bcc1-7596b9ab86a1",
   "metadata": {},
   "outputs": [
    {
     "data": {
      "text/html": [
       "<b>Cat1</b><br></b><b>tags:</b> id(id), ra(ra), dec(dec), z(z), mass(mass)<br><b>Radius unit:</b> None<br><div><i>ClData length=5</i>\n",
       "<table id=\"table139930197644368\" class=\"table-striped table-bordered table-condensed\">\n",
       "<thead><tr><th colspan=10></th><th colspan=3 style='text-align:left; background-color:grey; color:white'>mt_input</th></tr></thread><thead><tr><th>id</th><th>ra</th><th>dec</th><th>z</th><th>mass</th><th>mt_self</th><th>mt_other</th><th>mt_multi_self</th><th>mt_multi_other</th><th>mt_cross</th><th>zmin</th><th>zmax</th><th>ang</th></tr></thead>\n",
       "<thead><tr><th>str3</th><th>float64</th><th>float64</th><th>float64</th><th>float64</th><th>object</th><th>object</th><th>object</th><th>object</th><th>object</th><th>float64</th><th>float64</th><th>float64</th></tr></thead>\n",
       "<tr><td>CL0</td><td>0.00</td><td>0.00</td><td>0.20</td><td>3.16e+13</td><td>CL0</td><td>CL0</td><td>[&apos;CL1&apos;, &apos;CL0&apos;, &apos;CL2&apos;]</td><td>[&apos;CL1&apos;, &apos;CL0&apos;, &apos;CL2&apos;]</td><td>CL0</td><td>-0.04</td><td>0.44</td><td>0.08418388522320427</td></tr>\n",
       "<tr><td>CL1</td><td>0.00</td><td>0.00</td><td>0.30</td><td>2.51e+13</td><td>CL1</td><td>CL1</td><td>[&apos;CL1&apos;, &apos;CL0&apos;, &apos;CL2&apos;]</td><td>[&apos;CL1&apos;, &apos;CL0&apos;, &apos;CL2&apos;]</td><td>CL1</td><td>0.04</td><td>0.56</td><td>0.062361611333396835</td></tr>\n",
       "<tr><td>CL2</td><td>0.00</td><td>0.00</td><td>0.25</td><td>2.00e+13</td><td>CL2</td><td>CL2</td><td>[&apos;CL1&apos;, &apos;CL0&apos;, &apos;CL2&apos;]</td><td>[&apos;CL1&apos;, &apos;CL0&apos;, &apos;CL2&apos;]</td><td>CL2</td><td>0.00</td><td>0.50</td><td>0.0710414327593546</td></tr>\n",
       "<tr><td>CL3</td><td>25.00</td><td>0.00</td><td>0.40</td><td>6.31e+13</td><td>CL3</td><td>CL3</td><td>[&apos;CL3&apos;]</td><td>[&apos;CL3&apos;]</td><td>CL3</td><td>0.12</td><td>0.68</td><td>0.05169945411341919</td></tr>\n",
       "<tr><td>CL4</td><td>20.00</td><td>0.00</td><td>0.35</td><td>1.00e+14</td><td>None</td><td>None</td><td>[]</td><td>[]</td><td>None</td><td>0.08</td><td>0.62</td><td>0.05623291641697765</td></tr>\n",
       "</table></div>"
      ],
      "text/plain": [
       "<clevar.catalog.ClCatalog at 0x7f4390133670>"
      ]
     },
     "metadata": {},
     "output_type": "display_data"
    },
    {
     "data": {
      "text/html": [
       "<b>Cat2</b><br></b><b>tags:</b> id(id), ra(ra), dec(dec), z(z), mass(mass)<br><b>Radius unit:</b> None<br><div><i>ClData length=4</i>\n",
       "<table id=\"table139930197645280\" class=\"table-striped table-bordered table-condensed\">\n",
       "<thead><tr><th colspan=10></th><th colspan=3 style='text-align:left; background-color:grey; color:white'>mt_input</th></tr></thread><thead><tr><th>id</th><th>ra</th><th>dec</th><th>z</th><th>mass</th><th>mt_self</th><th>mt_other</th><th>mt_multi_self</th><th>mt_multi_other</th><th>mt_cross</th><th>zmin</th><th>zmax</th><th>ang</th></tr></thead>\n",
       "<thead><tr><th>str3</th><th>float64</th><th>float64</th><th>float64</th><th>float64</th><th>object</th><th>object</th><th>object</th><th>object</th><th>object</th><th>float64</th><th>float64</th><th>float64</th></tr></thead>\n",
       "<tr><td>CL0</td><td>0.00</td><td>0.00</td><td>0.30</td><td>2.00e+13</td><td>CL0</td><td>CL0</td><td>[&apos;CL1&apos;, &apos;CL0&apos;, &apos;CL2&apos;]</td><td>[&apos;CL1&apos;, &apos;CL0&apos;, &apos;CL2&apos;]</td><td>CL0</td><td>0.04</td><td>0.56</td><td>0.002777777777777778</td></tr>\n",
       "<tr><td>CL1</td><td>0.00</td><td>0.00</td><td>0.20</td><td>2.51e+13</td><td>CL1</td><td>CL1</td><td>[&apos;CL1&apos;, &apos;CL0&apos;, &apos;CL2&apos;]</td><td>[&apos;CL1&apos;, &apos;CL0&apos;, &apos;CL2&apos;]</td><td>CL1</td><td>-0.04</td><td>0.44</td><td>0.002777777777777778</td></tr>\n",
       "<tr><td>CL2</td><td>0.00</td><td>0.00</td><td>0.25</td><td>3.16e+13</td><td>CL2</td><td>CL2</td><td>[&apos;CL1&apos;, &apos;CL0&apos;, &apos;CL2&apos;]</td><td>[&apos;CL1&apos;, &apos;CL0&apos;, &apos;CL2&apos;]</td><td>CL2</td><td>0.00</td><td>0.50</td><td>0.002777777777777778</td></tr>\n",
       "<tr><td>CL3</td><td>25.00</td><td>0.00</td><td>0.40</td><td>6.31e+13</td><td>CL3</td><td>CL3</td><td>[&apos;CL3&apos;]</td><td>[&apos;CL3&apos;]</td><td>CL3</td><td>0.12</td><td>0.68</td><td>0.002777777777777778</td></tr>\n",
       "</table></div>"
      ],
      "text/plain": [
       "<clevar.catalog.ClCatalog at 0x7f439d4641c0>"
      ]
     },
     "metadata": {},
     "output_type": "display_data"
    }
   ],
   "source": [
    "display(c1)\n",
    "display(c2)"
   ]
  },
  {
   "cell_type": "code",
   "execution_count": 11,
   "id": "9244a197-b69f-42f8-9dcb-e881a1736a0f",
   "metadata": {},
   "outputs": [],
   "source": [
    "from clevar.match import get_matched_pairs\n",
    "mt1, mt2 = get_matched_pairs(c1, c2, 'cross')"
   ]
  },
  {
   "cell_type": "code",
   "execution_count": 12,
   "id": "7efc893b-6887-49bb-bb73-8b7117fb62a3",
   "metadata": {},
   "outputs": [
    {
     "data": {
      "text/plain": [
       "<matplotlib.collections.PathCollection at 0x7f439001f0a0>"
      ]
     },
     "execution_count": 12,
     "metadata": {},
     "output_type": "execute_result"
    },
    {
     "data": {
      "image/png": "[encoded data removed]",
      "text/plain": [
       "<Figure size 640x480 with 1 Axes>"
      ]
     },
     "metadata": {},
     "output_type": "display_data"
    }
   ],
   "source": [
    "import pylab as plt\n",
    "plt.scatter(mt1['mass'], mt2['mass'])"
   ]
  },
  {
   "cell_type": "code",
   "execution_count": null,
   "id": "6eafa0ae-217b-4b16-af67-f3db81c9a901",
   "metadata": {},
   "outputs": [],
   "source": []
  }
 ],
 "metadata": {
  "kernelspec": {
   "display_name": "desc",
   "language": "python",
   "name": "desc"
  },
  "language_info": {
   "codemirror_mode": {
    "name": "ipython",
    "version": 3
   },
   "file_extension": ".py",
   "mimetype": "text/x-python",
   "name": "python",
   "nbconvert_exporter": "python",
   "pygments_lexer": "ipython3",
   "version": "3.10.8"
  }
 },
 "nbformat": 4,
 "nbformat_minor": 5
}
