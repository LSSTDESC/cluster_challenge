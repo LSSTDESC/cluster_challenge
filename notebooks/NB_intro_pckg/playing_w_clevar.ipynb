{
 "cells": [
  {
   "cell_type": "code",
   "execution_count": 13,
   "id": "f103c5e2-0930-4acb-83ea-a1cd1017e528",
   "metadata": {},
   "outputs": [],
   "source": [
    "import GCRCatalogs\n",
    "import clevar"
   ]
  },
  {
   "cell_type": "code",
   "execution_count": 1,
   "id": "417e1f61-a23c-4530-aaab-f5c40a9fa67b",
   "metadata": {},
   "outputs": [
    {
     "data": {
      "text/html": [
       "<div><i>Table length=5</i>\n",
       "<table id=\"table140627008842496\" class=\"table-striped table-bordered table-condensed\">\n",
       "<thead><tr><th>ID</th><th>RA</th><th>DEC</th><th>Z</th><th>MASS</th><th>RADIUS_ARCMIN</th></tr></thead>\n",
       "<thead><tr><th>str3</th><th>float64</th><th>float64</th><th>float64</th><th>float64</th><th>float64</th></tr></thead>\n",
       "<tr><td>CL0</td><td>0.0</td><td>0.0</td><td>0.2</td><td>31622776601683.793</td><td>1.0</td></tr>\n",
       "<tr><td>CL1</td><td>0.0001</td><td>0.0</td><td>0.3</td><td>25118864315095.82</td><td>1.0</td></tr>\n",
       "<tr><td>CL2</td><td>0.00011</td><td>0.0</td><td>0.25</td><td>19952623149688.83</td><td>1.0</td></tr>\n",
       "<tr><td>CL3</td><td>25.0</td><td>0.0</td><td>0.4</td><td>63095734448019.43</td><td>1.0</td></tr>\n",
       "<tr><td>CL4</td><td>20.0</td><td>0.0</td><td>0.35</td><td>100000000000000.0</td><td>1.0</td></tr>\n",
       "</table></div>"
      ],
      "text/plain": [
       "<Table length=5>\n",
       " ID     RA     DEC      Z           MASS        RADIUS_ARCMIN\n",
       "str3 float64 float64 float64      float64          float64   \n",
       "---- ------- ------- ------- ------------------ -------------\n",
       " CL0     0.0     0.0     0.2 31622776601683.793           1.0\n",
       " CL1  0.0001     0.0     0.3  25118864315095.82           1.0\n",
       " CL2 0.00011     0.0    0.25  19952623149688.83           1.0\n",
       " CL3    25.0     0.0     0.4  63095734448019.43           1.0\n",
       " CL4    20.0     0.0    0.35  100000000000000.0           1.0"
      ]
     },
     "metadata": {},
     "output_type": "display_data"
    },
    {
     "data": {
      "text/html": [
       "<div><i>Table length=4</i>\n",
       "<table id=\"table140628709231824\" class=\"table-striped table-bordered table-condensed\">\n",
       "<thead><tr><th>ID</th><th>RA</th><th>DEC</th><th>Z</th><th>MASS</th><th>RADIUS_ARCMIN</th></tr></thead>\n",
       "<thead><tr><th>str3</th><th>float64</th><th>float64</th><th>float64</th><th>float64</th><th>float64</th></tr></thead>\n",
       "<tr><td>CL0</td><td>0.0</td><td>0.0</td><td>0.3</td><td>19952623149688.83</td><td>1.0</td></tr>\n",
       "<tr><td>CL1</td><td>0.0001</td><td>0.0</td><td>0.2</td><td>25118864315095.82</td><td>1.0</td></tr>\n",
       "<tr><td>CL2</td><td>0.00011</td><td>0.0</td><td>0.25</td><td>31622776601683.793</td><td>1.0</td></tr>\n",
       "<tr><td>CL3</td><td>25.0</td><td>0.0</td><td>0.4</td><td>63095734448019.43</td><td>1.0</td></tr>\n",
       "</table></div>"
      ],
      "text/plain": [
       "<Table length=4>\n",
       " ID     RA     DEC      Z           MASS        RADIUS_ARCMIN\n",
       "str3 float64 float64 float64      float64          float64   \n",
       "---- ------- ------- ------- ------------------ -------------\n",
       " CL0     0.0     0.0     0.3  19952623149688.83           1.0\n",
       " CL1  0.0001     0.0     0.2  25118864315095.82           1.0\n",
       " CL2 0.00011     0.0    0.25 31622776601683.793           1.0\n",
       " CL3    25.0     0.0     0.4  63095734448019.43           1.0"
      ]
     },
     "metadata": {},
     "output_type": "display_data"
    }
   ],
   "source": [
    "import numpy as np\n",
    "from astropy.table import Table\n",
    "input1 = Table({\n",
    "    'ID': [f'CL{i}' for i in range(5)],\n",
    "    'RA': [0.0, 0.0001, 0.00011, 25, 20],\n",
    "    'DEC': [0.0, 0.0, 0.0, 0.0, 0.0],\n",
    "    'Z': [0.2, 0.3, 0.25, 0.4, 0.35],\n",
    "    'MASS': [10**13.5, 10**13.4, 10**13.3, 10**13.8, 10**14],\n",
    "    'RADIUS_ARCMIN': [1.0, 1.0, 1.0, 1.0, 1.0],\n",
    "})\n",
    "input2 = Table({\n",
    "    'ID': ['CL0', 'CL1', 'CL2', 'CL3'],\n",
    "    'RA': [0.0, 0.0001, 0.00011, 25],\n",
    "    'DEC': [0.0, 0, 0, 0],\n",
    "    'Z': [0.3, 0.2, 0.25, 0.4],\n",
    "    'MASS': [10**13.3, 10**13.4, 10**13.5, 10**13.8],\n",
    "    'RADIUS_ARCMIN': [1.0, 1.0, 1.0, 1.0],\n",
    "})\n",
    "display(input1)\n",
    "display(input2)"
   ]
  },
  {
   "cell_type": "code",
   "execution_count": 20,
   "id": "03bdd1da-adfa-4286-8d96-44cb22b36969",
   "metadata": {},
   "outputs": [
    {
     "data": {
      "text/html": [
       "<b>Cat1</b><br></b><b>tags:</b> id(id), ra(ra), dec(dec), z(z), mass(mass)<br><b>Radius unit:</b> None<br><div><i>ClData length=5</i>\n",
       "<table id=\"table140626791456416\" class=\"table-striped table-bordered table-condensed\">\n",
       "<thead><tr><th>id</th><th>ra</th><th>dec</th><th>z</th><th>mass</th><th>mt_self</th><th>mt_other</th><th>mt_multi_self</th><th>mt_multi_other</th></tr></thead>\n",
       "<thead><tr><th>str3</th><th>float64</th><th>float64</th><th>float64</th><th>float64</th><th>object</th><th>object</th><th>object</th><th>object</th></tr></thead>\n",
       "<tr><td>CL0</td><td>0.00</td><td>0.00</td><td>0.20</td><td>3.16e+13</td><td>None</td><td>None</td><td>[]</td><td>[]</td></tr>\n",
       "<tr><td>CL1</td><td>0.00</td><td>0.00</td><td>0.30</td><td>2.51e+13</td><td>None</td><td>None</td><td>[]</td><td>[]</td></tr>\n",
       "<tr><td>CL2</td><td>0.00</td><td>0.00</td><td>0.25</td><td>2.00e+13</td><td>None</td><td>None</td><td>[]</td><td>[]</td></tr>\n",
       "<tr><td>CL3</td><td>25.00</td><td>0.00</td><td>0.40</td><td>6.31e+13</td><td>None</td><td>None</td><td>[]</td><td>[]</td></tr>\n",
       "<tr><td>CL4</td><td>20.00</td><td>0.00</td><td>0.35</td><td>1.00e+14</td><td>None</td><td>None</td><td>[]</td><td>[]</td></tr>\n",
       "</table></div>"
      ],
      "text/plain": [
       "<clevar.catalog.ClCatalog at 0x7fe639df5e70>"
      ]
     },
     "metadata": {},
     "output_type": "display_data"
    },
    {
     "data": {
      "text/html": [
       "<b>Cat2</b><br></b><b>tags:</b> id(id), ra(ra), dec(dec), z(z), mass(mass)<br><b>Radius unit:</b> None<br><div><i>ClData length=4</i>\n",
       "<table id=\"table140626791569184\" class=\"table-striped table-bordered table-condensed\">\n",
       "<thead><tr><th>id</th><th>ra</th><th>dec</th><th>z</th><th>mass</th><th>mt_self</th><th>mt_other</th><th>mt_multi_self</th><th>mt_multi_other</th></tr></thead>\n",
       "<thead><tr><th>str3</th><th>float64</th><th>float64</th><th>float64</th><th>float64</th><th>object</th><th>object</th><th>object</th><th>object</th></tr></thead>\n",
       "<tr><td>CL0</td><td>0.00</td><td>0.00</td><td>0.30</td><td>2.00e+13</td><td>None</td><td>None</td><td>[]</td><td>[]</td></tr>\n",
       "<tr><td>CL1</td><td>0.00</td><td>0.00</td><td>0.20</td><td>2.51e+13</td><td>None</td><td>None</td><td>[]</td><td>[]</td></tr>\n",
       "<tr><td>CL2</td><td>0.00</td><td>0.00</td><td>0.25</td><td>3.16e+13</td><td>None</td><td>None</td><td>[]</td><td>[]</td></tr>\n",
       "<tr><td>CL3</td><td>25.00</td><td>0.00</td><td>0.40</td><td>6.31e+13</td><td>None</td><td>None</td><td>[]</td><td>[]</td></tr>\n",
       "</table></div>"
      ],
      "text/plain": [
       "<clevar.catalog.ClCatalog at 0x7fe63a0d4c10>"
      ]
     },
     "metadata": {},
     "output_type": "display_data"
    }
   ],
   "source": [
    "from clevar.catalog import ClCatalog\n",
    "def gen_clcat(cat1, cat2):\n",
    "    c1 = ClCatalog(cat1, id=input1['ID'], ra=input1['RA'], dec=input1['DEC'], z=input1['Z'], mass=input1['MASS'])\n",
    "    c2 = ClCatalog(cat2, id=input2['ID'], ra=input2['RA'], dec=input2['DEC'], z=input2['Z'], mass=input2['MASS'])\n",
    "    # Format for nice display\n",
    "    for c in ('ra', 'dec', 'z'):\n",
    "        c1[c].info.format = '.2f'\n",
    "        c2[c].info.format = '.2f'\n",
    "    for c in ('mass',):\n",
    "        c1[c].info.format = '.2e'\n",
    "        c2[c].info.format = '.2e'\n",
    "    return c1,c2\n",
    "c1, c2 = gen_clcat('Cat1', 'Cat2')\n",
    "display(c1)\n",
    "display(c2)"
   ]
  },
  {
   "cell_type": "code",
   "execution_count": 21,
   "id": "764a5227-2d4e-4aab-9b7a-5baf09e30c7e",
   "metadata": {},
   "outputs": [],
   "source": [
    "from clevar.match import ProximityMatch\n",
    "mt = ProximityMatch()"
   ]
  },
  {
   "cell_type": "code",
   "execution_count": 22,
   "id": "d44d4ec9-fdbb-4360-9494-3e98be7fa4e0",
   "metadata": {},
   "outputs": [
    {
     "name": "stdout",
     "output_type": "stream",
     "text": [
      "\n",
      "## ClCatalog 1\n",
      "## Prep mt_cols\n",
      "* zmin|zmax from config value\n",
      "* ang radius from set scale\n",
      "\n",
      "## ClCatalog 2\n",
      "## Prep mt_cols\n",
      "* zmin|zmax from config value\n",
      "* ang radius from set scale\n",
      "\n",
      "## Multiple match (catalog 1)\n",
      "Finding candidates (Cat1)\n",
      "* 4/5 objects matched.\n",
      "\n",
      "## Multiple match (catalog 2)\n",
      "Finding candidates (Cat2)\n",
      "* 4/4 objects matched.\n",
      "\n",
      "## Finding unique matches of catalog 1\n",
      "Unique Matches (Cat1)\n",
      "* 4/5 objects matched.\n",
      "\n",
      "## Finding unique matches of catalog 2\n",
      "Unique Matches (Cat2)\n",
      "* 4/4 objects matched.\n",
      "Cross Matches (Cat1)\n",
      "* 4/5 objects matched.\n",
      "Cross Matches (Cat2)\n",
      "* 4/4 objects matched.\n"
     ]
    }
   ],
   "source": [
    "match_config = {\n",
    "    'type': 'cross', # options are cross, cat1, cat2\n",
    "    'which_radius': 'max', # Case of radius to be used, can be: cat1, cat2, min, max\n",
    "    'preference': 'angular_proximity', # options are more_massive, angular_proximity or redshift_proximity\n",
    "    'catalog1': {'delta_z':.2, #Set z 'uncertainty'\n",
    "                'match_radius': '1 mpc'\n",
    "                },\n",
    "    'catalog2': {'delta_z':.2,\n",
    "                'match_radius': '1 arcsec'\n",
    "                }}\n",
    "from clevar.cosmology import AstroPyCosmology\n",
    "cosmo = AstroPyCosmology()\n",
    "mt.match_from_config(c1, c2, match_config, cosmo=cosmo) #its a match from various criterias"
   ]
  },
  {
   "cell_type": "code",
   "execution_count": 23,
   "id": "3b125bdf-1c9f-407b-82bc-99b6588f6595",
   "metadata": {},
   "outputs": [
    {
     "data": {
      "text/html": [
       "<b>Cat1</b><br></b><b>tags:</b> id(id), ra(ra), dec(dec), z(z), mass(mass)<br><b>Radius unit:</b> None<br><div><i>ClData length=5</i>\n",
       "<table id=\"table140626793157712\" class=\"table-striped table-bordered table-condensed\">\n",
       "<thead><tr><th colspan=10></th><th colspan=3 style='text-align:left; background-color:grey; color:white'>mt_input</th></tr></thread><thead><tr><th>id</th><th>ra</th><th>dec</th><th>z</th><th>mass</th><th>mt_self</th><th>mt_other</th><th>mt_multi_self</th><th>mt_multi_other</th><th>mt_cross</th><th>zmin</th><th>zmax</th><th>ang</th></tr></thead>\n",
       "<thead><tr><th>str3</th><th>float64</th><th>float64</th><th>float64</th><th>float64</th><th>object</th><th>object</th><th>object</th><th>object</th><th>object</th><th>float64</th><th>float64</th><th>float64</th></tr></thead>\n",
       "<tr><td>CL0</td><td>0.00</td><td>0.00</td><td>0.20</td><td>3.16e+13</td><td>CL0</td><td>CL0</td><td>[&apos;CL1&apos;, &apos;CL2&apos;, &apos;CL0&apos;]</td><td>[&apos;CL1&apos;, &apos;CL2&apos;, &apos;CL0&apos;]</td><td>CL0</td><td>-0.04</td><td>0.44</td><td>0.08418388522320427</td></tr>\n",
       "<tr><td>CL1</td><td>0.00</td><td>0.00</td><td>0.30</td><td>2.51e+13</td><td>CL1</td><td>CL1</td><td>[&apos;CL1&apos;, &apos;CL2&apos;, &apos;CL0&apos;]</td><td>[&apos;CL1&apos;, &apos;CL2&apos;, &apos;CL0&apos;]</td><td>CL1</td><td>0.04</td><td>0.56</td><td>0.062361611333396835</td></tr>\n",
       "<tr><td>CL2</td><td>0.00</td><td>0.00</td><td>0.25</td><td>2.00e+13</td><td>CL2</td><td>CL2</td><td>[&apos;CL1&apos;, &apos;CL2&apos;, &apos;CL0&apos;]</td><td>[&apos;CL1&apos;, &apos;CL2&apos;, &apos;CL0&apos;]</td><td>CL2</td><td>0.00</td><td>0.50</td><td>0.0710414327593546</td></tr>\n",
       "<tr><td>CL3</td><td>25.00</td><td>0.00</td><td>0.40</td><td>6.31e+13</td><td>CL3</td><td>CL3</td><td>[&apos;CL3&apos;]</td><td>[&apos;CL3&apos;]</td><td>CL3</td><td>0.12</td><td>0.68</td><td>0.05169945411341919</td></tr>\n",
       "<tr><td>CL4</td><td>20.00</td><td>0.00</td><td>0.35</td><td>1.00e+14</td><td>None</td><td>None</td><td>[]</td><td>[]</td><td>None</td><td>0.08</td><td>0.62</td><td>0.05623291641697765</td></tr>\n",
       "</table></div>"
      ],
      "text/plain": [
       "<clevar.catalog.ClCatalog at 0x7fe639df5e70>"
      ]
     },
     "metadata": {},
     "output_type": "display_data"
    },
    {
     "data": {
      "text/html": [
       "<b>Cat2</b><br></b><b>tags:</b> id(id), ra(ra), dec(dec), z(z), mass(mass)<br><b>Radius unit:</b> None<br><div><i>ClData length=4</i>\n",
       "<table id=\"table140628709240656\" class=\"table-striped table-bordered table-condensed\">\n",
       "<thead><tr><th colspan=10></th><th colspan=3 style='text-align:left; background-color:grey; color:white'>mt_input</th></tr></thread><thead><tr><th>id</th><th>ra</th><th>dec</th><th>z</th><th>mass</th><th>mt_self</th><th>mt_other</th><th>mt_multi_self</th><th>mt_multi_other</th><th>mt_cross</th><th>zmin</th><th>zmax</th><th>ang</th></tr></thead>\n",
       "<thead><tr><th>str3</th><th>float64</th><th>float64</th><th>float64</th><th>float64</th><th>object</th><th>object</th><th>object</th><th>object</th><th>object</th><th>float64</th><th>float64</th><th>float64</th></tr></thead>\n",
       "<tr><td>CL0</td><td>0.00</td><td>0.00</td><td>0.30</td><td>2.00e+13</td><td>CL0</td><td>CL0</td><td>[&apos;CL1&apos;, &apos;CL2&apos;, &apos;CL0&apos;]</td><td>[&apos;CL1&apos;, &apos;CL2&apos;, &apos;CL0&apos;]</td><td>CL0</td><td>0.04</td><td>0.56</td><td>0.0002777777777777778</td></tr>\n",
       "<tr><td>CL1</td><td>0.00</td><td>0.00</td><td>0.20</td><td>2.51e+13</td><td>CL1</td><td>CL1</td><td>[&apos;CL1&apos;, &apos;CL2&apos;, &apos;CL0&apos;]</td><td>[&apos;CL1&apos;, &apos;CL2&apos;, &apos;CL0&apos;]</td><td>CL1</td><td>-0.04</td><td>0.44</td><td>0.0002777777777777778</td></tr>\n",
       "<tr><td>CL2</td><td>0.00</td><td>0.00</td><td>0.25</td><td>3.16e+13</td><td>CL2</td><td>CL2</td><td>[&apos;CL1&apos;, &apos;CL2&apos;, &apos;CL0&apos;]</td><td>[&apos;CL1&apos;, &apos;CL2&apos;, &apos;CL0&apos;]</td><td>CL2</td><td>0.00</td><td>0.50</td><td>0.0002777777777777778</td></tr>\n",
       "<tr><td>CL3</td><td>25.00</td><td>0.00</td><td>0.40</td><td>6.31e+13</td><td>CL3</td><td>CL3</td><td>[&apos;CL3&apos;]</td><td>[&apos;CL3&apos;]</td><td>CL3</td><td>0.12</td><td>0.68</td><td>0.0002777777777777778</td></tr>\n",
       "</table></div>"
      ],
      "text/plain": [
       "<clevar.catalog.ClCatalog at 0x7fe63a0d4c10>"
      ]
     },
     "metadata": {},
     "output_type": "display_data"
    }
   ],
   "source": [
    "display(c1, c2)"
   ]
  },
  {
   "cell_type": "code",
   "execution_count": 32,
   "id": "9171cd5c-37f4-40d4-8836-16fffdaf11fb",
   "metadata": {},
   "outputs": [
    {
     "name": "stdout",
     "output_type": "stream",
     "text": [
      "\n",
      "## ClCatalog 1\n",
      "## Prep mt_cols\n",
      "* zmin|zmax from config value\n",
      "* ang radius from set scale\n",
      "\n",
      "## ClCatalog 2\n",
      "## Prep mt_cols\n",
      "* zmin|zmax from config value\n",
      "* ang radius from set scale\n",
      "\n",
      "## Multiple match (catalog 1)\n",
      "Finding candidates (Cata)\n",
      "* 4/5 objects matched.\n",
      "\n",
      "## Multiple match (catalog 2)\n",
      "Finding candidates (Catb)\n",
      "* 4/4 objects matched.\n",
      "\n",
      "## Finding unique matches of catalog 1\n",
      "Unique Matches (Cata)\n",
      "* 4/5 objects matched.\n",
      "\n",
      "## Finding unique matches of catalog 2\n",
      "Unique Matches (Catb)\n",
      "* 4/4 objects matched.\n",
      "Cross Matches (Cata)\n",
      "* 4/5 objects matched.\n",
      "Cross Matches (Catb)\n",
      "* 4/4 objects matched.\n"
     ]
    }
   ],
   "source": [
    "ca, cb = gen_clcat('Cata','Catb')\n",
    "match_configab = {\n",
    "    'type': 'cross', # options are cross, cat1, cat2\n",
    "    'which_radius': 'max', # Case of radius to be used, can be: cat1, cat2, min, max\n",
    "    'preference': 'more_massive', # options are more_massive, angular_proximity or redshift_proximity\n",
    "    'catalog1': {'delta_z':.2, #Set z 'uncertainty'\n",
    "                'match_radius': '1 mpc'\n",
    "                },\n",
    "    'catalog2': {'delta_z':.2,\n",
    "                'match_radius': '1 mpc'\n",
    "                }\n",
    "}\n",
    "mt.match_from_config(ca, cb, match_configab, cosmo=cosmo) #its a match from various criterias"
   ]
  },
  {
   "cell_type": "code",
   "execution_count": 33,
   "id": "577d0d89-2c8c-412c-8316-029f4f096a29",
   "metadata": {},
   "outputs": [
    {
     "data": {
      "text/html": [
       "<b>Cata</b><br></b><b>tags:</b> id(id), ra(ra), dec(dec), z(z), mass(mass)<br><b>Radius unit:</b> None<br><div><i>ClData length=5</i>\n",
       "<table id=\"table140626791456896\" class=\"table-striped table-bordered table-condensed\">\n",
       "<thead><tr><th colspan=10></th><th colspan=3 style='text-align:left; background-color:grey; color:white'>mt_input</th></tr></thread><thead><tr><th>id</th><th>ra</th><th>dec</th><th>z</th><th>mass</th><th>mt_self</th><th>mt_other</th><th>mt_multi_self</th><th>mt_multi_other</th><th>mt_cross</th><th>zmin</th><th>zmax</th><th>ang</th></tr></thead>\n",
       "<thead><tr><th>str3</th><th>float64</th><th>float64</th><th>float64</th><th>float64</th><th>object</th><th>object</th><th>object</th><th>object</th><th>object</th><th>float64</th><th>float64</th><th>float64</th></tr></thead>\n",
       "<tr><td>CL0</td><td>0.00</td><td>0.00</td><td>0.20</td><td>3.16e+13</td><td>CL2</td><td>CL2</td><td>[&apos;CL1&apos;, &apos;CL2&apos;, &apos;CL0&apos;]</td><td>[&apos;CL1&apos;, &apos;CL2&apos;, &apos;CL0&apos;]</td><td>CL2</td><td>-0.04</td><td>0.44</td><td>0.08418388522320427</td></tr>\n",
       "<tr><td>CL1</td><td>0.00</td><td>0.00</td><td>0.30</td><td>2.51e+13</td><td>CL1</td><td>CL1</td><td>[&apos;CL1&apos;, &apos;CL2&apos;, &apos;CL0&apos;]</td><td>[&apos;CL1&apos;, &apos;CL2&apos;, &apos;CL0&apos;]</td><td>CL1</td><td>0.04</td><td>0.56</td><td>0.062361611333396835</td></tr>\n",
       "<tr><td>CL2</td><td>0.00</td><td>0.00</td><td>0.25</td><td>2.00e+13</td><td>CL0</td><td>CL0</td><td>[&apos;CL1&apos;, &apos;CL2&apos;, &apos;CL0&apos;]</td><td>[&apos;CL1&apos;, &apos;CL2&apos;, &apos;CL0&apos;]</td><td>CL0</td><td>0.00</td><td>0.50</td><td>0.0710414327593546</td></tr>\n",
       "<tr><td>CL3</td><td>25.00</td><td>0.00</td><td>0.40</td><td>6.31e+13</td><td>CL3</td><td>CL3</td><td>[&apos;CL3&apos;]</td><td>[&apos;CL3&apos;]</td><td>CL3</td><td>0.12</td><td>0.68</td><td>0.05169945411341919</td></tr>\n",
       "<tr><td>CL4</td><td>20.00</td><td>0.00</td><td>0.35</td><td>1.00e+14</td><td>None</td><td>None</td><td>[]</td><td>[]</td><td>None</td><td>0.08</td><td>0.62</td><td>0.05623291641697765</td></tr>\n",
       "</table></div>"
      ],
      "text/plain": [
       "<clevar.catalog.ClCatalog at 0x7fe639f36890>"
      ]
     },
     "metadata": {},
     "output_type": "display_data"
    },
    {
     "data": {
      "text/html": [
       "<b>Catb</b><br></b><b>tags:</b> id(id), ra(ra), dec(dec), z(z), mass(mass)<br><b>Radius unit:</b> None<br><div><i>ClData length=4</i>\n",
       "<table id=\"table140626792713952\" class=\"table-striped table-bordered table-condensed\">\n",
       "<thead><tr><th colspan=10></th><th colspan=3 style='text-align:left; background-color:grey; color:white'>mt_input</th></tr></thread><thead><tr><th>id</th><th>ra</th><th>dec</th><th>z</th><th>mass</th><th>mt_self</th><th>mt_other</th><th>mt_multi_self</th><th>mt_multi_other</th><th>mt_cross</th><th>zmin</th><th>zmax</th><th>ang</th></tr></thead>\n",
       "<thead><tr><th>str3</th><th>float64</th><th>float64</th><th>float64</th><th>float64</th><th>object</th><th>object</th><th>object</th><th>object</th><th>object</th><th>float64</th><th>float64</th><th>float64</th></tr></thead>\n",
       "<tr><td>CL0</td><td>0.00</td><td>0.00</td><td>0.30</td><td>2.00e+13</td><td>CL2</td><td>CL2</td><td>[&apos;CL1&apos;, &apos;CL2&apos;, &apos;CL0&apos;]</td><td>[&apos;CL1&apos;, &apos;CL2&apos;, &apos;CL0&apos;]</td><td>CL2</td><td>0.04</td><td>0.56</td><td>0.062361611333396835</td></tr>\n",
       "<tr><td>CL1</td><td>0.00</td><td>0.00</td><td>0.20</td><td>2.51e+13</td><td>CL1</td><td>CL1</td><td>[&apos;CL1&apos;, &apos;CL2&apos;, &apos;CL0&apos;]</td><td>[&apos;CL1&apos;, &apos;CL2&apos;, &apos;CL0&apos;]</td><td>CL1</td><td>-0.04</td><td>0.44</td><td>0.08418388522320427</td></tr>\n",
       "<tr><td>CL2</td><td>0.00</td><td>0.00</td><td>0.25</td><td>3.16e+13</td><td>CL0</td><td>CL0</td><td>[&apos;CL1&apos;, &apos;CL2&apos;, &apos;CL0&apos;]</td><td>[&apos;CL1&apos;, &apos;CL2&apos;, &apos;CL0&apos;]</td><td>CL0</td><td>0.00</td><td>0.50</td><td>0.0710414327593546</td></tr>\n",
       "<tr><td>CL3</td><td>25.00</td><td>0.00</td><td>0.40</td><td>6.31e+13</td><td>CL3</td><td>CL3</td><td>[&apos;CL3&apos;]</td><td>[&apos;CL3&apos;]</td><td>CL3</td><td>0.12</td><td>0.68</td><td>0.05169945411341919</td></tr>\n",
       "</table></div>"
      ],
      "text/plain": [
       "<clevar.catalog.ClCatalog at 0x7fe639f362c0>"
      ]
     },
     "metadata": {},
     "output_type": "display_data"
    }
   ],
   "source": [
    "display(ca, cb)"
   ]
  },
  {
   "cell_type": "code",
   "execution_count": null,
   "id": "e4f989d2-ee43-42ea-be28-2d3dd06afbf5",
   "metadata": {},
   "outputs": [],
   "source": [
    "cc, cd = gen_clcat('Catc','Catd')\n",
    "#can also use \n",
    "mt.multiple(cc, cd)\n",
    "mt.multiple(cd, cc)"
   ]
  },
  {
   "cell_type": "code",
   "execution_count": 35,
   "id": "1c81c1cc-29e5-451b-bcc1-7596b9ab86a1",
   "metadata": {},
   "outputs": [
    {
     "data": {
      "text/html": [
       "<b>Cat1</b><br></b><b>tags:</b> id(id), ra(ra), dec(dec), z(z), mass(mass)<br><b>Radius unit:</b> None<br><div><i>ClData length=5</i>\n",
       "<table id=\"table140626793118496\" class=\"table-striped table-bordered table-condensed\">\n",
       "<thead><tr><th colspan=10></th><th colspan=3 style='text-align:left; background-color:grey; color:white'>mt_input</th></tr></thread><thead><tr><th>id</th><th>ra</th><th>dec</th><th>z</th><th>mass</th><th>mt_self</th><th>mt_other</th><th>mt_multi_self</th><th>mt_multi_other</th><th>mt_cross</th><th>zmin</th><th>zmax</th><th>ang</th></tr></thead>\n",
       "<thead><tr><th>str3</th><th>float64</th><th>float64</th><th>float64</th><th>float64</th><th>object</th><th>object</th><th>object</th><th>object</th><th>object</th><th>float64</th><th>float64</th><th>float64</th></tr></thead>\n",
       "<tr><td>CL0</td><td>0.00</td><td>0.00</td><td>0.20</td><td>3.16e+13</td><td>CL0</td><td>CL0</td><td>[&apos;CL1&apos;, &apos;CL2&apos;, &apos;CL0&apos;]</td><td>[&apos;CL1&apos;, &apos;CL2&apos;, &apos;CL0&apos;]</td><td>CL0</td><td>-0.04</td><td>0.44</td><td>0.08418388522320427</td></tr>\n",
       "<tr><td>CL1</td><td>0.00</td><td>0.00</td><td>0.30</td><td>2.51e+13</td><td>CL1</td><td>CL1</td><td>[&apos;CL1&apos;, &apos;CL2&apos;, &apos;CL0&apos;]</td><td>[&apos;CL1&apos;, &apos;CL2&apos;, &apos;CL0&apos;]</td><td>CL1</td><td>0.04</td><td>0.56</td><td>0.062361611333396835</td></tr>\n",
       "<tr><td>CL2</td><td>0.00</td><td>0.00</td><td>0.25</td><td>2.00e+13</td><td>CL2</td><td>CL2</td><td>[&apos;CL1&apos;, &apos;CL2&apos;, &apos;CL0&apos;]</td><td>[&apos;CL1&apos;, &apos;CL2&apos;, &apos;CL0&apos;]</td><td>CL2</td><td>0.00</td><td>0.50</td><td>0.0710414327593546</td></tr>\n",
       "<tr><td>CL3</td><td>25.00</td><td>0.00</td><td>0.40</td><td>6.31e+13</td><td>CL3</td><td>CL3</td><td>[&apos;CL3&apos;]</td><td>[&apos;CL3&apos;]</td><td>CL3</td><td>0.12</td><td>0.68</td><td>0.05169945411341919</td></tr>\n",
       "<tr><td>CL4</td><td>20.00</td><td>0.00</td><td>0.35</td><td>1.00e+14</td><td>None</td><td>None</td><td>[]</td><td>[]</td><td>None</td><td>0.08</td><td>0.62</td><td>0.05623291641697765</td></tr>\n",
       "</table></div>"
      ],
      "text/plain": [
       "<clevar.catalog.ClCatalog at 0x7fe639df5e70>"
      ]
     },
     "metadata": {},
     "output_type": "display_data"
    },
    {
     "data": {
      "text/html": [
       "<b>Cat2</b><br></b><b>tags:</b> id(id), ra(ra), dec(dec), z(z), mass(mass)<br><b>Radius unit:</b> None<br><div><i>ClData length=4</i>\n",
       "<table id=\"table140626793119264\" class=\"table-striped table-bordered table-condensed\">\n",
       "<thead><tr><th colspan=10></th><th colspan=3 style='text-align:left; background-color:grey; color:white'>mt_input</th></tr></thread><thead><tr><th>id</th><th>ra</th><th>dec</th><th>z</th><th>mass</th><th>mt_self</th><th>mt_other</th><th>mt_multi_self</th><th>mt_multi_other</th><th>mt_cross</th><th>zmin</th><th>zmax</th><th>ang</th></tr></thead>\n",
       "<thead><tr><th>str3</th><th>float64</th><th>float64</th><th>float64</th><th>float64</th><th>object</th><th>object</th><th>object</th><th>object</th><th>object</th><th>float64</th><th>float64</th><th>float64</th></tr></thead>\n",
       "<tr><td>CL0</td><td>0.00</td><td>0.00</td><td>0.30</td><td>2.00e+13</td><td>CL0</td><td>CL0</td><td>[&apos;CL1&apos;, &apos;CL2&apos;, &apos;CL0&apos;]</td><td>[&apos;CL1&apos;, &apos;CL2&apos;, &apos;CL0&apos;]</td><td>CL0</td><td>0.04</td><td>0.56</td><td>0.0002777777777777778</td></tr>\n",
       "<tr><td>CL1</td><td>0.00</td><td>0.00</td><td>0.20</td><td>2.51e+13</td><td>CL1</td><td>CL1</td><td>[&apos;CL1&apos;, &apos;CL2&apos;, &apos;CL0&apos;]</td><td>[&apos;CL1&apos;, &apos;CL2&apos;, &apos;CL0&apos;]</td><td>CL1</td><td>-0.04</td><td>0.44</td><td>0.0002777777777777778</td></tr>\n",
       "<tr><td>CL2</td><td>0.00</td><td>0.00</td><td>0.25</td><td>3.16e+13</td><td>CL2</td><td>CL2</td><td>[&apos;CL1&apos;, &apos;CL2&apos;, &apos;CL0&apos;]</td><td>[&apos;CL1&apos;, &apos;CL2&apos;, &apos;CL0&apos;]</td><td>CL2</td><td>0.00</td><td>0.50</td><td>0.0002777777777777778</td></tr>\n",
       "<tr><td>CL3</td><td>25.00</td><td>0.00</td><td>0.40</td><td>6.31e+13</td><td>CL3</td><td>CL3</td><td>[&apos;CL3&apos;]</td><td>[&apos;CL3&apos;]</td><td>CL3</td><td>0.12</td><td>0.68</td><td>0.0002777777777777778</td></tr>\n",
       "</table></div>"
      ],
      "text/plain": [
       "<clevar.catalog.ClCatalog at 0x7fe63a0d4c10>"
      ]
     },
     "metadata": {},
     "output_type": "display_data"
    }
   ],
   "source": [
    "display(c1)\n",
    "display(c2)"
   ]
  },
  {
   "cell_type": "code",
   "execution_count": 29,
   "id": "dedbeb7f-711d-451c-aa57-97dcf11f7576",
   "metadata": {},
   "outputs": [
    {
     "name": "stdout",
     "output_type": "stream",
     "text": [
      "Unique Matches (Cat1)\n",
      "* 4/5 objects matched.\n",
      "Unique Matches (Cat2)\n",
      "* 4/4 objects matched.\n"
     ]
    }
   ],
   "source": [
    "#case of unique param matching\n",
    "mt.unique(c1, c2, preference='more_massive')\n",
    "mt.unique(c2, c1, preference='more_massive')"
   ]
  },
  {
   "cell_type": "code",
   "execution_count": 30,
   "id": "e6c99d0a-11b7-43db-a667-b42bc92821e6",
   "metadata": {},
   "outputs": [
    {
     "data": {
      "text/html": [
       "<b>Cat1</b><br></b><b>tags:</b> id(id), ra(ra), dec(dec), z(z), mass(mass)<br><b>Radius unit:</b> None<br><div><i>ClData length=5</i>\n",
       "<table id=\"table139928137343488\" class=\"table-striped table-bordered table-condensed\">\n",
       "<thead><tr><th colspan=10></th><th colspan=3 style='text-align:left; background-color:grey; color:white'>mt_input</th></tr></thread><thead><tr><th>id</th><th>ra</th><th>dec</th><th>z</th><th>mass</th><th>mt_self</th><th>mt_other</th><th>mt_multi_self</th><th>mt_multi_other</th><th>mt_cross</th><th>zmin</th><th>zmax</th><th>ang</th></tr></thead>\n",
       "<thead><tr><th>str3</th><th>float64</th><th>float64</th><th>float64</th><th>float64</th><th>object</th><th>object</th><th>object</th><th>object</th><th>object</th><th>float64</th><th>float64</th><th>float64</th></tr></thead>\n",
       "<tr><td>CL0</td><td>0.00</td><td>0.00</td><td>0.20</td><td>3.16e+13</td><td>CL0</td><td>CL0</td><td>[&apos;CL1&apos;, &apos;CL0&apos;, &apos;CL2&apos;]</td><td>[&apos;CL1&apos;, &apos;CL0&apos;, &apos;CL2&apos;]</td><td>CL0</td><td>-0.04</td><td>0.44</td><td>0.08418388522320427</td></tr>\n",
       "<tr><td>CL1</td><td>0.00</td><td>0.00</td><td>0.30</td><td>2.51e+13</td><td>CL1</td><td>CL1</td><td>[&apos;CL1&apos;, &apos;CL0&apos;, &apos;CL2&apos;]</td><td>[&apos;CL1&apos;, &apos;CL0&apos;, &apos;CL2&apos;]</td><td>CL1</td><td>0.04</td><td>0.56</td><td>0.062361611333396835</td></tr>\n",
       "<tr><td>CL2</td><td>0.00</td><td>0.00</td><td>0.25</td><td>2.00e+13</td><td>CL2</td><td>CL2</td><td>[&apos;CL1&apos;, &apos;CL0&apos;, &apos;CL2&apos;]</td><td>[&apos;CL1&apos;, &apos;CL0&apos;, &apos;CL2&apos;]</td><td>CL2</td><td>0.00</td><td>0.50</td><td>0.0710414327593546</td></tr>\n",
       "<tr><td>CL3</td><td>25.00</td><td>0.00</td><td>0.40</td><td>6.31e+13</td><td>CL3</td><td>CL3</td><td>[&apos;CL3&apos;]</td><td>[&apos;CL3&apos;]</td><td>CL3</td><td>0.12</td><td>0.68</td><td>0.05169945411341919</td></tr>\n",
       "<tr><td>CL4</td><td>20.00</td><td>0.00</td><td>0.35</td><td>1.00e+14</td><td>None</td><td>None</td><td>[]</td><td>[]</td><td>None</td><td>0.08</td><td>0.62</td><td>0.05623291641697765</td></tr>\n",
       "</table></div>"
      ],
      "text/plain": [
       "<clevar.catalog.ClCatalog at 0x7f438fecb1f0>"
      ]
     },
     "metadata": {},
     "output_type": "display_data"
    },
    {
     "data": {
      "text/html": [
       "<b>Cat2</b><br></b><b>tags:</b> id(id), ra(ra), dec(dec), z(z), mass(mass)<br><b>Radius unit:</b> None<br><div><i>ClData length=4</i>\n",
       "<table id=\"table139928137345216\" class=\"table-striped table-bordered table-condensed\">\n",
       "<thead><tr><th colspan=10></th><th colspan=3 style='text-align:left; background-color:grey; color:white'>mt_input</th></tr></thread><thead><tr><th>id</th><th>ra</th><th>dec</th><th>z</th><th>mass</th><th>mt_self</th><th>mt_other</th><th>mt_multi_self</th><th>mt_multi_other</th><th>mt_cross</th><th>zmin</th><th>zmax</th><th>ang</th></tr></thead>\n",
       "<thead><tr><th>str3</th><th>float64</th><th>float64</th><th>float64</th><th>float64</th><th>object</th><th>object</th><th>object</th><th>object</th><th>object</th><th>float64</th><th>float64</th><th>float64</th></tr></thead>\n",
       "<tr><td>CL0</td><td>0.00</td><td>0.00</td><td>0.30</td><td>2.00e+13</td><td>CL0</td><td>CL0</td><td>[&apos;CL1&apos;, &apos;CL0&apos;, &apos;CL2&apos;]</td><td>[&apos;CL1&apos;, &apos;CL0&apos;, &apos;CL2&apos;]</td><td>CL0</td><td>0.04</td><td>0.56</td><td>0.0002777777777777778</td></tr>\n",
       "<tr><td>CL1</td><td>0.00</td><td>0.00</td><td>0.20</td><td>2.51e+13</td><td>CL1</td><td>CL1</td><td>[&apos;CL1&apos;, &apos;CL0&apos;, &apos;CL2&apos;]</td><td>[&apos;CL1&apos;, &apos;CL0&apos;, &apos;CL2&apos;]</td><td>CL1</td><td>-0.04</td><td>0.44</td><td>0.0002777777777777778</td></tr>\n",
       "<tr><td>CL2</td><td>0.00</td><td>0.00</td><td>0.25</td><td>3.16e+13</td><td>CL2</td><td>CL2</td><td>[&apos;CL1&apos;, &apos;CL0&apos;, &apos;CL2&apos;]</td><td>[&apos;CL1&apos;, &apos;CL0&apos;, &apos;CL2&apos;]</td><td>CL2</td><td>0.00</td><td>0.50</td><td>0.0002777777777777778</td></tr>\n",
       "<tr><td>CL3</td><td>25.00</td><td>0.00</td><td>0.40</td><td>6.31e+13</td><td>CL3</td><td>CL3</td><td>[&apos;CL3&apos;]</td><td>[&apos;CL3&apos;]</td><td>CL3</td><td>0.12</td><td>0.68</td><td>0.0002777777777777778</td></tr>\n",
       "</table></div>"
      ],
      "text/plain": [
       "<clevar.catalog.ClCatalog at 0x7f438fec9f00>"
      ]
     },
     "metadata": {},
     "output_type": "display_data"
    }
   ],
   "source": [
    "display(c1)\n",
    "display(c2)"
   ]
  },
  {
   "cell_type": "code",
   "execution_count": 31,
   "id": "3fdf4942-71f9-4e9c-94fb-d12df0fa87d6",
   "metadata": {},
   "outputs": [],
   "source": [
    "c1.cross_match()\n",
    "c2.cross_match()"
   ]
  },
  {
   "cell_type": "code",
   "execution_count": 32,
   "id": "647ab87e-a6c6-4696-a10d-17e8b3d4df5d",
   "metadata": {},
   "outputs": [
    {
     "data": {
      "text/html": [
       "<b>Cat1</b><br></b><b>tags:</b> id(id), ra(ra), dec(dec), z(z), mass(mass)<br><b>Radius unit:</b> None<br><div><i>ClData length=5</i>\n",
       "<table id=\"table139928137344016\" class=\"table-striped table-bordered table-condensed\">\n",
       "<thead><tr><th colspan=10></th><th colspan=3 style='text-align:left; background-color:grey; color:white'>mt_input</th></tr></thread><thead><tr><th>id</th><th>ra</th><th>dec</th><th>z</th><th>mass</th><th>mt_self</th><th>mt_other</th><th>mt_multi_self</th><th>mt_multi_other</th><th>mt_cross</th><th>zmin</th><th>zmax</th><th>ang</th></tr></thead>\n",
       "<thead><tr><th>str3</th><th>float64</th><th>float64</th><th>float64</th><th>float64</th><th>object</th><th>object</th><th>object</th><th>object</th><th>object</th><th>float64</th><th>float64</th><th>float64</th></tr></thead>\n",
       "<tr><td>CL0</td><td>0.00</td><td>0.00</td><td>0.20</td><td>3.16e+13</td><td>CL0</td><td>CL0</td><td>[&apos;CL1&apos;, &apos;CL0&apos;, &apos;CL2&apos;]</td><td>[&apos;CL1&apos;, &apos;CL0&apos;, &apos;CL2&apos;]</td><td>CL0</td><td>-0.04</td><td>0.44</td><td>0.08418388522320427</td></tr>\n",
       "<tr><td>CL1</td><td>0.00</td><td>0.00</td><td>0.30</td><td>2.51e+13</td><td>CL1</td><td>CL1</td><td>[&apos;CL1&apos;, &apos;CL0&apos;, &apos;CL2&apos;]</td><td>[&apos;CL1&apos;, &apos;CL0&apos;, &apos;CL2&apos;]</td><td>CL1</td><td>0.04</td><td>0.56</td><td>0.062361611333396835</td></tr>\n",
       "<tr><td>CL2</td><td>0.00</td><td>0.00</td><td>0.25</td><td>2.00e+13</td><td>CL2</td><td>CL2</td><td>[&apos;CL1&apos;, &apos;CL0&apos;, &apos;CL2&apos;]</td><td>[&apos;CL1&apos;, &apos;CL0&apos;, &apos;CL2&apos;]</td><td>CL2</td><td>0.00</td><td>0.50</td><td>0.0710414327593546</td></tr>\n",
       "<tr><td>CL3</td><td>25.00</td><td>0.00</td><td>0.40</td><td>6.31e+13</td><td>CL3</td><td>CL3</td><td>[&apos;CL3&apos;]</td><td>[&apos;CL3&apos;]</td><td>CL3</td><td>0.12</td><td>0.68</td><td>0.05169945411341919</td></tr>\n",
       "<tr><td>CL4</td><td>20.00</td><td>0.00</td><td>0.35</td><td>1.00e+14</td><td>None</td><td>None</td><td>[]</td><td>[]</td><td>None</td><td>0.08</td><td>0.62</td><td>0.05623291641697765</td></tr>\n",
       "</table></div>"
      ],
      "text/plain": [
       "<clevar.catalog.ClCatalog at 0x7f438fecb1f0>"
      ]
     },
     "metadata": {},
     "output_type": "display_data"
    },
    {
     "data": {
      "text/html": [
       "<b>Cat2</b><br></b><b>tags:</b> id(id), ra(ra), dec(dec), z(z), mass(mass)<br><b>Radius unit:</b> None<br><div><i>ClData length=4</i>\n",
       "<table id=\"table139928137346032\" class=\"table-striped table-bordered table-condensed\">\n",
       "<thead><tr><th colspan=10></th><th colspan=3 style='text-align:left; background-color:grey; color:white'>mt_input</th></tr></thread><thead><tr><th>id</th><th>ra</th><th>dec</th><th>z</th><th>mass</th><th>mt_self</th><th>mt_other</th><th>mt_multi_self</th><th>mt_multi_other</th><th>mt_cross</th><th>zmin</th><th>zmax</th><th>ang</th></tr></thead>\n",
       "<thead><tr><th>str3</th><th>float64</th><th>float64</th><th>float64</th><th>float64</th><th>object</th><th>object</th><th>object</th><th>object</th><th>object</th><th>float64</th><th>float64</th><th>float64</th></tr></thead>\n",
       "<tr><td>CL0</td><td>0.00</td><td>0.00</td><td>0.30</td><td>2.00e+13</td><td>CL0</td><td>CL0</td><td>[&apos;CL1&apos;, &apos;CL0&apos;, &apos;CL2&apos;]</td><td>[&apos;CL1&apos;, &apos;CL0&apos;, &apos;CL2&apos;]</td><td>CL0</td><td>0.04</td><td>0.56</td><td>0.0002777777777777778</td></tr>\n",
       "<tr><td>CL1</td><td>0.00</td><td>0.00</td><td>0.20</td><td>2.51e+13</td><td>CL1</td><td>CL1</td><td>[&apos;CL1&apos;, &apos;CL0&apos;, &apos;CL2&apos;]</td><td>[&apos;CL1&apos;, &apos;CL0&apos;, &apos;CL2&apos;]</td><td>CL1</td><td>-0.04</td><td>0.44</td><td>0.0002777777777777778</td></tr>\n",
       "<tr><td>CL2</td><td>0.00</td><td>0.00</td><td>0.25</td><td>3.16e+13</td><td>CL2</td><td>CL2</td><td>[&apos;CL1&apos;, &apos;CL0&apos;, &apos;CL2&apos;]</td><td>[&apos;CL1&apos;, &apos;CL0&apos;, &apos;CL2&apos;]</td><td>CL2</td><td>0.00</td><td>0.50</td><td>0.0002777777777777778</td></tr>\n",
       "<tr><td>CL3</td><td>25.00</td><td>0.00</td><td>0.40</td><td>6.31e+13</td><td>CL3</td><td>CL3</td><td>[&apos;CL3&apos;]</td><td>[&apos;CL3&apos;]</td><td>CL3</td><td>0.12</td><td>0.68</td><td>0.0002777777777777778</td></tr>\n",
       "</table></div>"
      ],
      "text/plain": [
       "<clevar.catalog.ClCatalog at 0x7f438fec9f00>"
      ]
     },
     "metadata": {},
     "output_type": "display_data"
    }
   ],
   "source": [
    "display(c1)\n",
    "display(c2)"
   ]
  },
  {
   "cell_type": "code",
   "execution_count": 11,
   "id": "9244a197-b69f-42f8-9dcb-e881a1736a0f",
   "metadata": {},
   "outputs": [],
   "source": [
    "from clevar.match import get_matched_pairs\n",
    "mt1, mt2 = get_matched_pairs(c1, c2, 'cross')"
   ]
  },
  {
   "cell_type": "code",
   "execution_count": 12,
   "id": "7efc893b-6887-49bb-bb73-8b7117fb62a3",
   "metadata": {},
   "outputs": [
    {
     "data": {
      "text/plain": [
       "<matplotlib.collections.PathCollection at 0x7f439001f0a0>"
      ]
     },
     "execution_count": 12,
     "metadata": {},
     "output_type": "execute_result"
    },
    {
     "data": {
      "image/png": "[encoded data removed]",
      "text/plain": [
       "<Figure size 640x480 with 1 Axes>"
      ]
     },
     "metadata": {},
     "output_type": "display_data"
    }
   ],
   "source": [
    "import pylab as plt\n",
    "plt.scatter(mt1['mass'], mt2['mass'])"
   ]
  },
  {
   "cell_type": "code",
   "execution_count": null,
   "id": "6eafa0ae-217b-4b16-af67-f3db81c9a901",
   "metadata": {},
   "outputs": [],
   "source": []
  }
 ],
 "metadata": {
  "kernelspec": {
   "display_name": "desc",
   "language": "python",
   "name": "desc"
  },
  "language_info": {
   "codemirror_mode": {
    "name": "ipython",
    "version": 3
   },
   "file_extension": ".py",
   "mimetype": "text/x-python",
   "name": "python",
   "nbconvert_exporter": "python",
   "pygments_lexer": "ipython3",
   "version": "3.10.8"
  }
 },
 "nbformat": 4,
 "nbformat_minor": 5
}
