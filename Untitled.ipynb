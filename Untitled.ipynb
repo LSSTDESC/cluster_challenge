{
 "cells": [
  {
   "cell_type": "code",
   "execution_count": null,
   "id": "2d8be56e-5d98-490c-84e6-442d1008ae5d",
   "metadata": {},
   "outputs": [],
   "source": [
    "import numpy as np\n",
    "import matplotlib.pyplot as plt\n",
    "import matplotlib\n",
    "%matplotlib inline\n",
    "import GCRCatalogs\n",
    "from GCRCatalogs.helpers.tract_catalogs import tract_filter, sample_filter\n",
    "from GCRCatalogs import GCRQuery\n",
    "import numpy as np\n",
    "from matplotlib.patches import Rectangle\n",
    "from astropy.table import Table\n",
    "from astropy.coordinates import SkyCoord\n",
    "from astropy import units as u\n",
    "from astropy.cosmology import FlatLambdaCDM\n",
    "from astropy.io import fits\n",
    "from astropy.io import ascii\n",
    "import sys\n",
    "import os\n",
    "import shutil\n",
    "import pickle\n",
    "import healpy as hp\n",
    "import h5py\n",
    "import pandas as pd\n",
    "\n",
    "###clevar\n",
    "import clevar\n",
    "from clevar import ClCatalog\n",
    "from clevar.match import ProximityMatch\n",
    "from clevar.match_metrics import scaling\n",
    "from clevar.match_metrics import recovery\n",
    "from clevar.match_metrics import distances\n",
    "from clevar.match import get_matched_pairs\n",
    "from clevar.match import output_matched_catalog"
   ]
  },
  {
   "cell_type": "code",
   "execution_count": null,
   "id": "993cadca-b9d2-4d90-8074-de4e54808d47",
   "metadata": {},
   "outputs": [],
   "source": []
  }
 ],
 "metadata": {
  "kernelspec": {
   "display_name": "desc",
   "language": "python",
   "name": "desc"
  },
  "language_info": {
   "codemirror_mode": {
    "name": "ipython",
    "version": 3
   },
   "file_extension": ".py",
   "mimetype": "text/x-python",
   "name": "python",
   "nbconvert_exporter": "python",
   "pygments_lexer": "ipython3",
   "version": "3.10.8"
  }
 },
 "nbformat": 4,
 "nbformat_minor": 5
}
